{
 "cells": [
  {
   "cell_type": "markdown",
   "metadata": {},
   "source": [
    "#Exploratory Analysis "
   ]
  },
  {
   "cell_type": "code",
   "execution_count": 5,
   "metadata": {
    "collapsed": false,
    "scrolled": true
   },
   "outputs": [],
   "source": [
    "import pandas as pd\n",
    "import numpy as np\n",
    "import matplotlib.pyplot as plt\n",
    "import seaborn as sns\n",
    "%matplotlib inline"
   ]
  },
  {
   "cell_type": "markdown",
   "metadata": {},
   "source": [
    "##Load transaction data into pandas dataframes"
   ]
  },
  {
   "cell_type": "markdown",
   "metadata": {},
   "source": [
    "The transaction data and block data are in separate json files"
   ]
  },
  {
   "cell_type": "code",
   "execution_count": 8,
   "metadata": {
    "collapsed": false
   },
   "outputs": [],
   "source": [
    "transactions1 = pd.read_json('./../data/transactions.json', lines=True)"
   ]
  },
  {
   "cell_type": "code",
   "execution_count": 9,
   "metadata": {
    "collapsed": true
   },
   "outputs": [],
   "source": [
    "transactions2 = pd.read_json('./../data/new_transactions.json', lines = True)"
   ]
  },
  {
   "cell_type": "code",
   "execution_count": 10,
   "metadata": {
    "collapsed": false
   },
   "outputs": [
    {
     "data": {
      "text/html": [
       "<div>\n",
       "<style>\n",
       "    .dataframe thead tr:only-child th {\n",
       "        text-align: right;\n",
       "    }\n",
       "\n",
       "    .dataframe thead th {\n",
       "        text-align: left;\n",
       "    }\n",
       "\n",
       "    .dataframe tbody tr th {\n",
       "        vertical-align: top;\n",
       "    }\n",
       "</style>\n",
       "<table border=\"1\" class=\"dataframe\">\n",
       "  <thead>\n",
       "    <tr style=\"text-align: right;\">\n",
       "      <th></th>\n",
       "      <th>_id</th>\n",
       "      <th>accountNonce</th>\n",
       "      <th>amount</th>\n",
       "      <th>blockHash</th>\n",
       "      <th>block_id</th>\n",
       "      <th>gasLimit</th>\n",
       "      <th>gasUsed</th>\n",
       "      <th>hash</th>\n",
       "      <th>isContractTx</th>\n",
       "      <th>newContract</th>\n",
       "      <th>parentHash</th>\n",
       "      <th>price</th>\n",
       "      <th>recipient</th>\n",
       "      <th>sender</th>\n",
       "      <th>time</th>\n",
       "      <th>txIndex</th>\n",
       "      <th>type</th>\n",
       "    </tr>\n",
       "  </thead>\n",
       "  <tbody>\n",
       "    <tr>\n",
       "      <th>0</th>\n",
       "      <td>{u'$oid': u'59c2ce9a66a1615156cf51e7'}</td>\n",
       "      <td>3324654</td>\n",
       "      <td>4.990932e+17</td>\n",
       "      <td>0xce9a4be92a53142c8e1962405342ded3472d5516bbc9...</td>\n",
       "      <td>4295887</td>\n",
       "      <td>50000</td>\n",
       "      <td>21000</td>\n",
       "      <td>0xfc505bf23efe13154192262c3f7b99e2517b133fe5f6...</td>\n",
       "      <td>NaN</td>\n",
       "      <td>0</td>\n",
       "      <td>0xfc505bf23efe13154192262c3f7b99e2517b133fe5f6...</td>\n",
       "      <td>2.100000e+10</td>\n",
       "      <td>0x656dd5d0020dc9047e7d9ec4eac344a7397200e8</td>\n",
       "      <td>0xea674fdde714fd979de3edf0f56aa9716b898ec8</td>\n",
       "      <td>2017-09-20T20:24:15.000Z</td>\n",
       "      <td>NaN</td>\n",
       "      <td>tx</td>\n",
       "    </tr>\n",
       "    <tr>\n",
       "      <th>1</th>\n",
       "      <td>{u'$oid': u'59c2ce9a66a1615156cf51e8'}</td>\n",
       "      <td>3324658</td>\n",
       "      <td>1.492221e+17</td>\n",
       "      <td>0xce9a4be92a53142c8e1962405342ded3472d5516bbc9...</td>\n",
       "      <td>4295887</td>\n",
       "      <td>20967</td>\n",
       "      <td>9416</td>\n",
       "      <td>0xfa0124a64e4cedc7d75dff3ee0fca13d32b2a368e0cb...</td>\n",
       "      <td>NaN</td>\n",
       "      <td>0</td>\n",
       "      <td>0xad177c193597850a4c7c95cb990233a1190bd6118d33...</td>\n",
       "      <td>2.100000e+10</td>\n",
       "      <td>0x209c4784ab1e8183cf58ca33cb740efbf3fc18ef</td>\n",
       "      <td>0x0a8de3650a8f331e85673fe71677d53a749e6de7</td>\n",
       "      <td>2017-09-20T20:24:15.000Z</td>\n",
       "      <td>1.0</td>\n",
       "      <td>call</td>\n",
       "    </tr>\n",
       "    <tr>\n",
       "      <th>2</th>\n",
       "      <td>{u'$oid': u'59c2ce9a66a1615156cf51e9'}</td>\n",
       "      <td>3324660</td>\n",
       "      <td>9.960846e+16</td>\n",
       "      <td>0xce9a4be92a53142c8e1962405342ded3472d5516bbc9...</td>\n",
       "      <td>4295887</td>\n",
       "      <td>50000</td>\n",
       "      <td>21000</td>\n",
       "      <td>0xe2a23b916903133728ab3dbfac55a56651508a971e89...</td>\n",
       "      <td>NaN</td>\n",
       "      <td>0</td>\n",
       "      <td>0xe2a23b916903133728ab3dbfac55a56651508a971e89...</td>\n",
       "      <td>2.100000e+10</td>\n",
       "      <td>0x951bec2b87e89a80ed785de7c9df1555cb8d4e05</td>\n",
       "      <td>0xea674fdde714fd979de3edf0f56aa9716b898ec8</td>\n",
       "      <td>2017-09-20T20:24:15.000Z</td>\n",
       "      <td>NaN</td>\n",
       "      <td>tx</td>\n",
       "    </tr>\n",
       "    <tr>\n",
       "      <th>3</th>\n",
       "      <td>{u'$oid': u'59c2ce9a66a1615156cf51ea'}</td>\n",
       "      <td>3324657</td>\n",
       "      <td>1.990048e+17</td>\n",
       "      <td>0xce9a4be92a53142c8e1962405342ded3472d5516bbc9...</td>\n",
       "      <td>4295887</td>\n",
       "      <td>50000</td>\n",
       "      <td>21000</td>\n",
       "      <td>0xc431fcd82ad55dc1aee932fa9965b55f8515981147a0...</td>\n",
       "      <td>NaN</td>\n",
       "      <td>0</td>\n",
       "      <td>0xc431fcd82ad55dc1aee932fa9965b55f8515981147a0...</td>\n",
       "      <td>2.100000e+10</td>\n",
       "      <td>0xfd094f940ab0d01592c21afb20b500406ed509f6</td>\n",
       "      <td>0xea674fdde714fd979de3edf0f56aa9716b898ec8</td>\n",
       "      <td>2017-09-20T20:24:15.000Z</td>\n",
       "      <td>NaN</td>\n",
       "      <td>tx</td>\n",
       "    </tr>\n",
       "    <tr>\n",
       "      <th>4</th>\n",
       "      <td>{u'$oid': u'59c2ce9a66a1615156cf51eb'}</td>\n",
       "      <td>3324662</td>\n",
       "      <td>1.000289e+18</td>\n",
       "      <td>0xce9a4be92a53142c8e1962405342ded3472d5516bbc9...</td>\n",
       "      <td>4295887</td>\n",
       "      <td>50000</td>\n",
       "      <td>21000</td>\n",
       "      <td>0xb759c34cb5b5af6f94f7002ef812b8482880d1f73d10...</td>\n",
       "      <td>NaN</td>\n",
       "      <td>0</td>\n",
       "      <td>0xb759c34cb5b5af6f94f7002ef812b8482880d1f73d10...</td>\n",
       "      <td>2.100000e+10</td>\n",
       "      <td>0x08dd9744e0dedef75f74357ca948485ea1d2d1f4</td>\n",
       "      <td>0xea674fdde714fd979de3edf0f56aa9716b898ec8</td>\n",
       "      <td>2017-09-20T20:24:15.000Z</td>\n",
       "      <td>NaN</td>\n",
       "      <td>tx</td>\n",
       "    </tr>\n",
       "  </tbody>\n",
       "</table>\n",
       "</div>"
      ],
      "text/plain": [
       "                                      _id  accountNonce        amount  \\\n",
       "0  {u'$oid': u'59c2ce9a66a1615156cf51e7'}       3324654  4.990932e+17   \n",
       "1  {u'$oid': u'59c2ce9a66a1615156cf51e8'}       3324658  1.492221e+17   \n",
       "2  {u'$oid': u'59c2ce9a66a1615156cf51e9'}       3324660  9.960846e+16   \n",
       "3  {u'$oid': u'59c2ce9a66a1615156cf51ea'}       3324657  1.990048e+17   \n",
       "4  {u'$oid': u'59c2ce9a66a1615156cf51eb'}       3324662  1.000289e+18   \n",
       "\n",
       "                                           blockHash  block_id  gasLimit  \\\n",
       "0  0xce9a4be92a53142c8e1962405342ded3472d5516bbc9...   4295887     50000   \n",
       "1  0xce9a4be92a53142c8e1962405342ded3472d5516bbc9...   4295887     20967   \n",
       "2  0xce9a4be92a53142c8e1962405342ded3472d5516bbc9...   4295887     50000   \n",
       "3  0xce9a4be92a53142c8e1962405342ded3472d5516bbc9...   4295887     50000   \n",
       "4  0xce9a4be92a53142c8e1962405342ded3472d5516bbc9...   4295887     50000   \n",
       "\n",
       "   gasUsed                                               hash  isContractTx  \\\n",
       "0    21000  0xfc505bf23efe13154192262c3f7b99e2517b133fe5f6...           NaN   \n",
       "1     9416  0xfa0124a64e4cedc7d75dff3ee0fca13d32b2a368e0cb...           NaN   \n",
       "2    21000  0xe2a23b916903133728ab3dbfac55a56651508a971e89...           NaN   \n",
       "3    21000  0xc431fcd82ad55dc1aee932fa9965b55f8515981147a0...           NaN   \n",
       "4    21000  0xb759c34cb5b5af6f94f7002ef812b8482880d1f73d10...           NaN   \n",
       "\n",
       "   newContract                                         parentHash  \\\n",
       "0            0  0xfc505bf23efe13154192262c3f7b99e2517b133fe5f6...   \n",
       "1            0  0xad177c193597850a4c7c95cb990233a1190bd6118d33...   \n",
       "2            0  0xe2a23b916903133728ab3dbfac55a56651508a971e89...   \n",
       "3            0  0xc431fcd82ad55dc1aee932fa9965b55f8515981147a0...   \n",
       "4            0  0xb759c34cb5b5af6f94f7002ef812b8482880d1f73d10...   \n",
       "\n",
       "          price                                   recipient  \\\n",
       "0  2.100000e+10  0x656dd5d0020dc9047e7d9ec4eac344a7397200e8   \n",
       "1  2.100000e+10  0x209c4784ab1e8183cf58ca33cb740efbf3fc18ef   \n",
       "2  2.100000e+10  0x951bec2b87e89a80ed785de7c9df1555cb8d4e05   \n",
       "3  2.100000e+10  0xfd094f940ab0d01592c21afb20b500406ed509f6   \n",
       "4  2.100000e+10  0x08dd9744e0dedef75f74357ca948485ea1d2d1f4   \n",
       "\n",
       "                                       sender                      time  \\\n",
       "0  0xea674fdde714fd979de3edf0f56aa9716b898ec8  2017-09-20T20:24:15.000Z   \n",
       "1  0x0a8de3650a8f331e85673fe71677d53a749e6de7  2017-09-20T20:24:15.000Z   \n",
       "2  0xea674fdde714fd979de3edf0f56aa9716b898ec8  2017-09-20T20:24:15.000Z   \n",
       "3  0xea674fdde714fd979de3edf0f56aa9716b898ec8  2017-09-20T20:24:15.000Z   \n",
       "4  0xea674fdde714fd979de3edf0f56aa9716b898ec8  2017-09-20T20:24:15.000Z   \n",
       "\n",
       "   txIndex  type  \n",
       "0      NaN    tx  \n",
       "1      1.0  call  \n",
       "2      NaN    tx  \n",
       "3      NaN    tx  \n",
       "4      NaN    tx  "
      ]
     },
     "execution_count": 10,
     "metadata": {},
     "output_type": "execute_result"
    }
   ],
   "source": [
    "transactions1.head()"
   ]
  },
  {
   "cell_type": "code",
   "execution_count": 11,
   "metadata": {
    "collapsed": false
   },
   "outputs": [
    {
     "data": {
      "text/html": [
       "<div>\n",
       "<style>\n",
       "    .dataframe thead tr:only-child th {\n",
       "        text-align: right;\n",
       "    }\n",
       "\n",
       "    .dataframe thead th {\n",
       "        text-align: left;\n",
       "    }\n",
       "\n",
       "    .dataframe tbody tr th {\n",
       "        vertical-align: top;\n",
       "    }\n",
       "</style>\n",
       "<table border=\"1\" class=\"dataframe\">\n",
       "  <thead>\n",
       "    <tr style=\"text-align: right;\">\n",
       "      <th></th>\n",
       "      <th>_id</th>\n",
       "      <th>accountNonce</th>\n",
       "      <th>amount</th>\n",
       "      <th>blockHash</th>\n",
       "      <th>block_id</th>\n",
       "      <th>gasLimit</th>\n",
       "      <th>gasUsed</th>\n",
       "      <th>hash</th>\n",
       "      <th>isContractTx</th>\n",
       "      <th>newContract</th>\n",
       "      <th>parentHash</th>\n",
       "      <th>price</th>\n",
       "      <th>recipient</th>\n",
       "      <th>sender</th>\n",
       "      <th>time</th>\n",
       "      <th>txIndex</th>\n",
       "      <th>type</th>\n",
       "    </tr>\n",
       "  </thead>\n",
       "  <tbody>\n",
       "    <tr>\n",
       "      <th>0</th>\n",
       "      <td>{u'$oid': u'59c75a7666a161e4251b3c90'}</td>\n",
       "      <td>0</td>\n",
       "      <td>5.000000e+17</td>\n",
       "      <td>0x21162a45e066f7179e2e0ad3ced6f9a2f7d1e5a29838...</td>\n",
       "      <td>4306830</td>\n",
       "      <td>2300</td>\n",
       "      <td>0</td>\n",
       "      <td>0xfd5dc38f4565a75a7d0f94408a6115e588c4ef46b45a...</td>\n",
       "      <td>NaN</td>\n",
       "      <td>0</td>\n",
       "      <td>0xd23f66df21168df1ed5cb1fa6ccc54ba9982ab7f75ff...</td>\n",
       "      <td>2.100000e+10</td>\n",
       "      <td>0x32be343b94f860124dc4fee278fdcbd38c102d88</td>\n",
       "      <td>0x209c4784ab1e8183cf58ca33cb740efbf3fc18ef</td>\n",
       "      <td>2017-09-24T07:08:15.000Z</td>\n",
       "      <td>2.0</td>\n",
       "      <td>call</td>\n",
       "    </tr>\n",
       "    <tr>\n",
       "      <th>1</th>\n",
       "      <td>{u'$oid': u'59c75a7666a161e4251b3c91'}</td>\n",
       "      <td>16</td>\n",
       "      <td>3.000000e+16</td>\n",
       "      <td>0x21162a45e066f7179e2e0ad3ced6f9a2f7d1e5a29838...</td>\n",
       "      <td>4306830</td>\n",
       "      <td>21000</td>\n",
       "      <td>21000</td>\n",
       "      <td>0xee6806c6cbd7cfc4ddcdb6be21fa3406dfa99ccbca11...</td>\n",
       "      <td>NaN</td>\n",
       "      <td>0</td>\n",
       "      <td>0xee6806c6cbd7cfc4ddcdb6be21fa3406dfa99ccbca11...</td>\n",
       "      <td>2.700000e+10</td>\n",
       "      <td>0x5550e18823a7f6bb9278137d83f7dd7107045854</td>\n",
       "      <td>0x18f0cde3425b1047cb7dd253d1c08c0ed27b783f</td>\n",
       "      <td>2017-09-24T07:08:15.000Z</td>\n",
       "      <td>NaN</td>\n",
       "      <td>tx</td>\n",
       "    </tr>\n",
       "    <tr>\n",
       "      <th>2</th>\n",
       "      <td>{u'$oid': u'59c75a7666a161e4251b3c92'}</td>\n",
       "      <td>0</td>\n",
       "      <td>5.000000e+17</td>\n",
       "      <td>0x21162a45e066f7179e2e0ad3ced6f9a2f7d1e5a29838...</td>\n",
       "      <td>4306830</td>\n",
       "      <td>39512</td>\n",
       "      <td>39512</td>\n",
       "      <td>0xd23f66df21168df1ed5cb1fa6ccc54ba9982ab7f75ff...</td>\n",
       "      <td>NaN</td>\n",
       "      <td>0</td>\n",
       "      <td>0xd23f66df21168df1ed5cb1fa6ccc54ba9982ab7f75ff...</td>\n",
       "      <td>2.100000e+10</td>\n",
       "      <td>0x0494448fc02a85355585eb5ce355c33cb7087905</td>\n",
       "      <td>0xf971282c0d9e679cb6cba4c80e49d2507a3d27c9</td>\n",
       "      <td>2017-09-24T07:08:15.000Z</td>\n",
       "      <td>NaN</td>\n",
       "      <td>tx</td>\n",
       "    </tr>\n",
       "    <tr>\n",
       "      <th>3</th>\n",
       "      <td>{u'$oid': u'59c75a7666a161e4251b3c93'}</td>\n",
       "      <td>517</td>\n",
       "      <td>1.197012e+17</td>\n",
       "      <td>0x21162a45e066f7179e2e0ad3ced6f9a2f7d1e5a29838...</td>\n",
       "      <td>4306830</td>\n",
       "      <td>35000</td>\n",
       "      <td>30981</td>\n",
       "      <td>0xaada72da8b31eb005f14fa968c56d6778d3d0815140e...</td>\n",
       "      <td>NaN</td>\n",
       "      <td>0</td>\n",
       "      <td>0xaada72da8b31eb005f14fa968c56d6778d3d0815140e...</td>\n",
       "      <td>2.500000e+10</td>\n",
       "      <td>0xfa52274dd61e1643d2205169732f29114bc240b3</td>\n",
       "      <td>0x5f3a0f7ec5ee06179ee89ea188c8f53ecc253257</td>\n",
       "      <td>2017-09-24T07:08:15.000Z</td>\n",
       "      <td>NaN</td>\n",
       "      <td>tx</td>\n",
       "    </tr>\n",
       "    <tr>\n",
       "      <th>4</th>\n",
       "      <td>{u'$oid': u'59c75a7666a161e4251b3c94'}</td>\n",
       "      <td>0</td>\n",
       "      <td>1.383644e+17</td>\n",
       "      <td>0x21162a45e066f7179e2e0ad3ced6f9a2f7d1e5a29838...</td>\n",
       "      <td>4306830</td>\n",
       "      <td>21000</td>\n",
       "      <td>21000</td>\n",
       "      <td>0xa88b481c0e481e54507aeee484517d750075ec6a700d...</td>\n",
       "      <td>NaN</td>\n",
       "      <td>0</td>\n",
       "      <td>0xa88b481c0e481e54507aeee484517d750075ec6a700d...</td>\n",
       "      <td>2.000000e+10</td>\n",
       "      <td>0x70faa28a6b8d6829a4b1e649d26ec9a2a39ba413</td>\n",
       "      <td>0xaf7f2ca0ef0e984b6c13443002291b7d86e479b7</td>\n",
       "      <td>2017-09-24T07:08:15.000Z</td>\n",
       "      <td>NaN</td>\n",
       "      <td>tx</td>\n",
       "    </tr>\n",
       "  </tbody>\n",
       "</table>\n",
       "</div>"
      ],
      "text/plain": [
       "                                      _id  accountNonce        amount  \\\n",
       "0  {u'$oid': u'59c75a7666a161e4251b3c90'}             0  5.000000e+17   \n",
       "1  {u'$oid': u'59c75a7666a161e4251b3c91'}            16  3.000000e+16   \n",
       "2  {u'$oid': u'59c75a7666a161e4251b3c92'}             0  5.000000e+17   \n",
       "3  {u'$oid': u'59c75a7666a161e4251b3c93'}           517  1.197012e+17   \n",
       "4  {u'$oid': u'59c75a7666a161e4251b3c94'}             0  1.383644e+17   \n",
       "\n",
       "                                           blockHash  block_id  gasLimit  \\\n",
       "0  0x21162a45e066f7179e2e0ad3ced6f9a2f7d1e5a29838...   4306830      2300   \n",
       "1  0x21162a45e066f7179e2e0ad3ced6f9a2f7d1e5a29838...   4306830     21000   \n",
       "2  0x21162a45e066f7179e2e0ad3ced6f9a2f7d1e5a29838...   4306830     39512   \n",
       "3  0x21162a45e066f7179e2e0ad3ced6f9a2f7d1e5a29838...   4306830     35000   \n",
       "4  0x21162a45e066f7179e2e0ad3ced6f9a2f7d1e5a29838...   4306830     21000   \n",
       "\n",
       "   gasUsed                                               hash  isContractTx  \\\n",
       "0        0  0xfd5dc38f4565a75a7d0f94408a6115e588c4ef46b45a...           NaN   \n",
       "1    21000  0xee6806c6cbd7cfc4ddcdb6be21fa3406dfa99ccbca11...           NaN   \n",
       "2    39512  0xd23f66df21168df1ed5cb1fa6ccc54ba9982ab7f75ff...           NaN   \n",
       "3    30981  0xaada72da8b31eb005f14fa968c56d6778d3d0815140e...           NaN   \n",
       "4    21000  0xa88b481c0e481e54507aeee484517d750075ec6a700d...           NaN   \n",
       "\n",
       "   newContract                                         parentHash  \\\n",
       "0            0  0xd23f66df21168df1ed5cb1fa6ccc54ba9982ab7f75ff...   \n",
       "1            0  0xee6806c6cbd7cfc4ddcdb6be21fa3406dfa99ccbca11...   \n",
       "2            0  0xd23f66df21168df1ed5cb1fa6ccc54ba9982ab7f75ff...   \n",
       "3            0  0xaada72da8b31eb005f14fa968c56d6778d3d0815140e...   \n",
       "4            0  0xa88b481c0e481e54507aeee484517d750075ec6a700d...   \n",
       "\n",
       "          price                                   recipient  \\\n",
       "0  2.100000e+10  0x32be343b94f860124dc4fee278fdcbd38c102d88   \n",
       "1  2.700000e+10  0x5550e18823a7f6bb9278137d83f7dd7107045854   \n",
       "2  2.100000e+10  0x0494448fc02a85355585eb5ce355c33cb7087905   \n",
       "3  2.500000e+10  0xfa52274dd61e1643d2205169732f29114bc240b3   \n",
       "4  2.000000e+10  0x70faa28a6b8d6829a4b1e649d26ec9a2a39ba413   \n",
       "\n",
       "                                       sender                      time  \\\n",
       "0  0x209c4784ab1e8183cf58ca33cb740efbf3fc18ef  2017-09-24T07:08:15.000Z   \n",
       "1  0x18f0cde3425b1047cb7dd253d1c08c0ed27b783f  2017-09-24T07:08:15.000Z   \n",
       "2  0xf971282c0d9e679cb6cba4c80e49d2507a3d27c9  2017-09-24T07:08:15.000Z   \n",
       "3  0x5f3a0f7ec5ee06179ee89ea188c8f53ecc253257  2017-09-24T07:08:15.000Z   \n",
       "4  0xaf7f2ca0ef0e984b6c13443002291b7d86e479b7  2017-09-24T07:08:15.000Z   \n",
       "\n",
       "   txIndex  type  \n",
       "0      2.0  call  \n",
       "1      NaN    tx  \n",
       "2      NaN    tx  \n",
       "3      NaN    tx  \n",
       "4      NaN    tx  "
      ]
     },
     "execution_count": 11,
     "metadata": {},
     "output_type": "execute_result"
    }
   ],
   "source": [
    "transactions2.head()"
   ]
  },
  {
   "cell_type": "code",
   "execution_count": 12,
   "metadata": {
    "collapsed": false
   },
   "outputs": [
    {
     "data": {
      "text/plain": [
       "((1000527, 17), (922031, 17))"
      ]
     },
     "execution_count": 12,
     "metadata": {},
     "output_type": "execute_result"
    }
   ],
   "source": [
    "transactions1.shape, transactions2.shape"
   ]
  },
  {
   "cell_type": "markdown",
   "metadata": {},
   "source": [
    "Append the transaction data into a single dataframe"
   ]
  },
  {
   "cell_type": "code",
   "execution_count": 13,
   "metadata": {
    "collapsed": true
   },
   "outputs": [],
   "source": [
    "transactions = transactions1.append(transactions2)"
   ]
  },
  {
   "cell_type": "code",
   "execution_count": 14,
   "metadata": {
    "collapsed": false
   },
   "outputs": [
    {
     "data": {
      "text/plain": [
       "(1922558, 17)"
      ]
     },
     "execution_count": 14,
     "metadata": {},
     "output_type": "execute_result"
    }
   ],
   "source": [
    "transactions.shape"
   ]
  },
  {
   "cell_type": "code",
   "execution_count": 15,
   "metadata": {
    "collapsed": false
   },
   "outputs": [
    {
     "data": {
      "text/plain": [
       "(1922558,)"
      ]
     },
     "execution_count": 15,
     "metadata": {},
     "output_type": "execute_result"
    }
   ],
   "source": [
    "transactions['hash'].values.shape"
   ]
  },
  {
   "cell_type": "code",
   "execution_count": 16,
   "metadata": {
    "collapsed": false
   },
   "outputs": [
    {
     "data": {
      "text/plain": [
       "(1922558,)"
      ]
     },
     "execution_count": 16,
     "metadata": {},
     "output_type": "execute_result"
    }
   ],
   "source": [
    "np.unique(transactions['hash'].values).shape"
   ]
  },
  {
   "cell_type": "code",
   "execution_count": 17,
   "metadata": {
    "collapsed": false
   },
   "outputs": [
    {
     "data": {
      "text/html": [
       "<div>\n",
       "<style>\n",
       "    .dataframe thead tr:only-child th {\n",
       "        text-align: right;\n",
       "    }\n",
       "\n",
       "    .dataframe thead th {\n",
       "        text-align: left;\n",
       "    }\n",
       "\n",
       "    .dataframe tbody tr th {\n",
       "        vertical-align: top;\n",
       "    }\n",
       "</style>\n",
       "<table border=\"1\" class=\"dataframe\">\n",
       "  <thead>\n",
       "    <tr style=\"text-align: right;\">\n",
       "      <th></th>\n",
       "      <th>_id</th>\n",
       "      <th>accountNonce</th>\n",
       "      <th>amount</th>\n",
       "      <th>blockHash</th>\n",
       "      <th>block_id</th>\n",
       "      <th>gasLimit</th>\n",
       "      <th>gasUsed</th>\n",
       "      <th>hash</th>\n",
       "      <th>isContractTx</th>\n",
       "      <th>newContract</th>\n",
       "      <th>parentHash</th>\n",
       "      <th>price</th>\n",
       "      <th>recipient</th>\n",
       "      <th>sender</th>\n",
       "      <th>time</th>\n",
       "      <th>txIndex</th>\n",
       "      <th>type</th>\n",
       "    </tr>\n",
       "  </thead>\n",
       "  <tbody>\n",
       "    <tr>\n",
       "      <th>0</th>\n",
       "      <td>{u'$oid': u'59c2ce9a66a1615156cf51e7'}</td>\n",
       "      <td>3324654</td>\n",
       "      <td>4.990932e+17</td>\n",
       "      <td>0xce9a4be92a53142c8e1962405342ded3472d5516bbc9...</td>\n",
       "      <td>4295887</td>\n",
       "      <td>50000</td>\n",
       "      <td>21000</td>\n",
       "      <td>0xfc505bf23efe13154192262c3f7b99e2517b133fe5f6...</td>\n",
       "      <td>NaN</td>\n",
       "      <td>0</td>\n",
       "      <td>0xfc505bf23efe13154192262c3f7b99e2517b133fe5f6...</td>\n",
       "      <td>2.100000e+10</td>\n",
       "      <td>0x656dd5d0020dc9047e7d9ec4eac344a7397200e8</td>\n",
       "      <td>0xea674fdde714fd979de3edf0f56aa9716b898ec8</td>\n",
       "      <td>2017-09-20T20:24:15.000Z</td>\n",
       "      <td>NaN</td>\n",
       "      <td>tx</td>\n",
       "    </tr>\n",
       "    <tr>\n",
       "      <th>1</th>\n",
       "      <td>{u'$oid': u'59c2ce9a66a1615156cf51e8'}</td>\n",
       "      <td>3324658</td>\n",
       "      <td>1.492221e+17</td>\n",
       "      <td>0xce9a4be92a53142c8e1962405342ded3472d5516bbc9...</td>\n",
       "      <td>4295887</td>\n",
       "      <td>20967</td>\n",
       "      <td>9416</td>\n",
       "      <td>0xfa0124a64e4cedc7d75dff3ee0fca13d32b2a368e0cb...</td>\n",
       "      <td>NaN</td>\n",
       "      <td>0</td>\n",
       "      <td>0xad177c193597850a4c7c95cb990233a1190bd6118d33...</td>\n",
       "      <td>2.100000e+10</td>\n",
       "      <td>0x209c4784ab1e8183cf58ca33cb740efbf3fc18ef</td>\n",
       "      <td>0x0a8de3650a8f331e85673fe71677d53a749e6de7</td>\n",
       "      <td>2017-09-20T20:24:15.000Z</td>\n",
       "      <td>1.0</td>\n",
       "      <td>call</td>\n",
       "    </tr>\n",
       "    <tr>\n",
       "      <th>2</th>\n",
       "      <td>{u'$oid': u'59c2ce9a66a1615156cf51e9'}</td>\n",
       "      <td>3324660</td>\n",
       "      <td>9.960846e+16</td>\n",
       "      <td>0xce9a4be92a53142c8e1962405342ded3472d5516bbc9...</td>\n",
       "      <td>4295887</td>\n",
       "      <td>50000</td>\n",
       "      <td>21000</td>\n",
       "      <td>0xe2a23b916903133728ab3dbfac55a56651508a971e89...</td>\n",
       "      <td>NaN</td>\n",
       "      <td>0</td>\n",
       "      <td>0xe2a23b916903133728ab3dbfac55a56651508a971e89...</td>\n",
       "      <td>2.100000e+10</td>\n",
       "      <td>0x951bec2b87e89a80ed785de7c9df1555cb8d4e05</td>\n",
       "      <td>0xea674fdde714fd979de3edf0f56aa9716b898ec8</td>\n",
       "      <td>2017-09-20T20:24:15.000Z</td>\n",
       "      <td>NaN</td>\n",
       "      <td>tx</td>\n",
       "    </tr>\n",
       "    <tr>\n",
       "      <th>3</th>\n",
       "      <td>{u'$oid': u'59c2ce9a66a1615156cf51ea'}</td>\n",
       "      <td>3324657</td>\n",
       "      <td>1.990048e+17</td>\n",
       "      <td>0xce9a4be92a53142c8e1962405342ded3472d5516bbc9...</td>\n",
       "      <td>4295887</td>\n",
       "      <td>50000</td>\n",
       "      <td>21000</td>\n",
       "      <td>0xc431fcd82ad55dc1aee932fa9965b55f8515981147a0...</td>\n",
       "      <td>NaN</td>\n",
       "      <td>0</td>\n",
       "      <td>0xc431fcd82ad55dc1aee932fa9965b55f8515981147a0...</td>\n",
       "      <td>2.100000e+10</td>\n",
       "      <td>0xfd094f940ab0d01592c21afb20b500406ed509f6</td>\n",
       "      <td>0xea674fdde714fd979de3edf0f56aa9716b898ec8</td>\n",
       "      <td>2017-09-20T20:24:15.000Z</td>\n",
       "      <td>NaN</td>\n",
       "      <td>tx</td>\n",
       "    </tr>\n",
       "    <tr>\n",
       "      <th>4</th>\n",
       "      <td>{u'$oid': u'59c2ce9a66a1615156cf51eb'}</td>\n",
       "      <td>3324662</td>\n",
       "      <td>1.000289e+18</td>\n",
       "      <td>0xce9a4be92a53142c8e1962405342ded3472d5516bbc9...</td>\n",
       "      <td>4295887</td>\n",
       "      <td>50000</td>\n",
       "      <td>21000</td>\n",
       "      <td>0xb759c34cb5b5af6f94f7002ef812b8482880d1f73d10...</td>\n",
       "      <td>NaN</td>\n",
       "      <td>0</td>\n",
       "      <td>0xb759c34cb5b5af6f94f7002ef812b8482880d1f73d10...</td>\n",
       "      <td>2.100000e+10</td>\n",
       "      <td>0x08dd9744e0dedef75f74357ca948485ea1d2d1f4</td>\n",
       "      <td>0xea674fdde714fd979de3edf0f56aa9716b898ec8</td>\n",
       "      <td>2017-09-20T20:24:15.000Z</td>\n",
       "      <td>NaN</td>\n",
       "      <td>tx</td>\n",
       "    </tr>\n",
       "  </tbody>\n",
       "</table>\n",
       "</div>"
      ],
      "text/plain": [
       "                                      _id  accountNonce        amount  \\\n",
       "0  {u'$oid': u'59c2ce9a66a1615156cf51e7'}       3324654  4.990932e+17   \n",
       "1  {u'$oid': u'59c2ce9a66a1615156cf51e8'}       3324658  1.492221e+17   \n",
       "2  {u'$oid': u'59c2ce9a66a1615156cf51e9'}       3324660  9.960846e+16   \n",
       "3  {u'$oid': u'59c2ce9a66a1615156cf51ea'}       3324657  1.990048e+17   \n",
       "4  {u'$oid': u'59c2ce9a66a1615156cf51eb'}       3324662  1.000289e+18   \n",
       "\n",
       "                                           blockHash  block_id  gasLimit  \\\n",
       "0  0xce9a4be92a53142c8e1962405342ded3472d5516bbc9...   4295887     50000   \n",
       "1  0xce9a4be92a53142c8e1962405342ded3472d5516bbc9...   4295887     20967   \n",
       "2  0xce9a4be92a53142c8e1962405342ded3472d5516bbc9...   4295887     50000   \n",
       "3  0xce9a4be92a53142c8e1962405342ded3472d5516bbc9...   4295887     50000   \n",
       "4  0xce9a4be92a53142c8e1962405342ded3472d5516bbc9...   4295887     50000   \n",
       "\n",
       "   gasUsed                                               hash  isContractTx  \\\n",
       "0    21000  0xfc505bf23efe13154192262c3f7b99e2517b133fe5f6...           NaN   \n",
       "1     9416  0xfa0124a64e4cedc7d75dff3ee0fca13d32b2a368e0cb...           NaN   \n",
       "2    21000  0xe2a23b916903133728ab3dbfac55a56651508a971e89...           NaN   \n",
       "3    21000  0xc431fcd82ad55dc1aee932fa9965b55f8515981147a0...           NaN   \n",
       "4    21000  0xb759c34cb5b5af6f94f7002ef812b8482880d1f73d10...           NaN   \n",
       "\n",
       "   newContract                                         parentHash  \\\n",
       "0            0  0xfc505bf23efe13154192262c3f7b99e2517b133fe5f6...   \n",
       "1            0  0xad177c193597850a4c7c95cb990233a1190bd6118d33...   \n",
       "2            0  0xe2a23b916903133728ab3dbfac55a56651508a971e89...   \n",
       "3            0  0xc431fcd82ad55dc1aee932fa9965b55f8515981147a0...   \n",
       "4            0  0xb759c34cb5b5af6f94f7002ef812b8482880d1f73d10...   \n",
       "\n",
       "          price                                   recipient  \\\n",
       "0  2.100000e+10  0x656dd5d0020dc9047e7d9ec4eac344a7397200e8   \n",
       "1  2.100000e+10  0x209c4784ab1e8183cf58ca33cb740efbf3fc18ef   \n",
       "2  2.100000e+10  0x951bec2b87e89a80ed785de7c9df1555cb8d4e05   \n",
       "3  2.100000e+10  0xfd094f940ab0d01592c21afb20b500406ed509f6   \n",
       "4  2.100000e+10  0x08dd9744e0dedef75f74357ca948485ea1d2d1f4   \n",
       "\n",
       "                                       sender                      time  \\\n",
       "0  0xea674fdde714fd979de3edf0f56aa9716b898ec8  2017-09-20T20:24:15.000Z   \n",
       "1  0x0a8de3650a8f331e85673fe71677d53a749e6de7  2017-09-20T20:24:15.000Z   \n",
       "2  0xea674fdde714fd979de3edf0f56aa9716b898ec8  2017-09-20T20:24:15.000Z   \n",
       "3  0xea674fdde714fd979de3edf0f56aa9716b898ec8  2017-09-20T20:24:15.000Z   \n",
       "4  0xea674fdde714fd979de3edf0f56aa9716b898ec8  2017-09-20T20:24:15.000Z   \n",
       "\n",
       "   txIndex  type  \n",
       "0      NaN    tx  \n",
       "1      1.0  call  \n",
       "2      NaN    tx  \n",
       "3      NaN    tx  \n",
       "4      NaN    tx  "
      ]
     },
     "execution_count": 17,
     "metadata": {},
     "output_type": "execute_result"
    }
   ],
   "source": [
    "transactions.head()"
   ]
  },
  {
   "cell_type": "markdown",
   "metadata": {},
   "source": [
    "Apparently there are no duplicate transaction blocks"
   ]
  },
  {
   "cell_type": "markdown",
   "metadata": {},
   "source": [
    "##Load block data into pandas dataframes"
   ]
  },
  {
   "cell_type": "code",
   "execution_count": 18,
   "metadata": {
    "collapsed": true
   },
   "outputs": [],
   "source": [
    "blocks1 = pd.read_json('./../data/blocks.json', lines=True)"
   ]
  },
  {
   "cell_type": "code",
   "execution_count": 19,
   "metadata": {
    "collapsed": true
   },
   "outputs": [],
   "source": [
    "blocks2 = pd.read_json('./../data/blocks_more.json', lines=True)"
   ]
  },
  {
   "cell_type": "code",
   "execution_count": 20,
   "metadata": {
    "collapsed": true
   },
   "outputs": [],
   "source": [
    "blocks3 = pd.read_json('./../data/blocks_2.json', lines=True)"
   ]
  },
  {
   "cell_type": "code",
   "execution_count": 21,
   "metadata": {
    "collapsed": false
   },
   "outputs": [
    {
     "data": {
      "text/plain": [
       "((9623, 21), (26, 21), (751223, 21))"
      ]
     },
     "execution_count": 21,
     "metadata": {},
     "output_type": "execute_result"
    }
   ],
   "source": [
    "blocks1.shape, blocks2.shape, blocks3.shape"
   ]
  },
  {
   "cell_type": "markdown",
   "metadata": {},
   "source": [
    "Append the block data into single dataframe"
   ]
  },
  {
   "cell_type": "code",
   "execution_count": 22,
   "metadata": {
    "collapsed": false
   },
   "outputs": [],
   "source": [
    "blocks = blocks1.append([blocks2, blocks3])"
   ]
  },
  {
   "cell_type": "code",
   "execution_count": 23,
   "metadata": {
    "collapsed": false
   },
   "outputs": [
    {
     "data": {
      "text/plain": [
       "(760872, 21)"
      ]
     },
     "execution_count": 23,
     "metadata": {},
     "output_type": "execute_result"
    }
   ],
   "source": [
    "blocks.shape"
   ]
  },
  {
   "cell_type": "code",
   "execution_count": 24,
   "metadata": {
    "collapsed": false
   },
   "outputs": [
    {
     "data": {
      "text/plain": [
       "0    4292608.0\n",
       "1    4292609.0\n",
       "2    4292610.0\n",
       "3    4292611.0\n",
       "4    4292612.0\n",
       "Name: number, dtype: float64"
      ]
     },
     "execution_count": 24,
     "metadata": {},
     "output_type": "execute_result"
    }
   ],
   "source": [
    "blocks['number'].head()"
   ]
  },
  {
   "cell_type": "code",
   "execution_count": 25,
   "metadata": {
    "collapsed": false
   },
   "outputs": [
    {
     "data": {
      "text/html": [
       "<div>\n",
       "<style>\n",
       "    .dataframe thead tr:only-child th {\n",
       "        text-align: right;\n",
       "    }\n",
       "\n",
       "    .dataframe thead th {\n",
       "        text-align: left;\n",
       "    }\n",
       "\n",
       "    .dataframe tbody tr th {\n",
       "        vertical-align: top;\n",
       "    }\n",
       "</style>\n",
       "<table border=\"1\" class=\"dataframe\">\n",
       "  <thead>\n",
       "    <tr style=\"text-align: right;\">\n",
       "      <th></th>\n",
       "      <th>_id</th>\n",
       "      <th>blockTime</th>\n",
       "      <th>coinbase</th>\n",
       "      <th>difficulty</th>\n",
       "      <th>extra</th>\n",
       "      <th>gasLimit</th>\n",
       "      <th>gasUsed</th>\n",
       "      <th>hash</th>\n",
       "      <th>mixDigest</th>\n",
       "      <th>nonce</th>\n",
       "      <th>...</th>\n",
       "      <th>parentHash</th>\n",
       "      <th>reward</th>\n",
       "      <th>root</th>\n",
       "      <th>size</th>\n",
       "      <th>time</th>\n",
       "      <th>totalFee</th>\n",
       "      <th>txHash</th>\n",
       "      <th>tx_count</th>\n",
       "      <th>uncleHash</th>\n",
       "      <th>uncle_count</th>\n",
       "    </tr>\n",
       "  </thead>\n",
       "  <tbody>\n",
       "    <tr>\n",
       "      <th>0</th>\n",
       "      <td>{u'$oid': u'59c5ce4166a161b6940c900f'}</td>\n",
       "      <td>22</td>\n",
       "      <td>0x829bd824b016326a401d083b33d092293333a830</td>\n",
       "      <td>{u'$numberLong': u'2415063514546603'}</td>\n",
       "      <td>0xe4b883e5bda9e7a59ee4bb99e9b1bc</td>\n",
       "      <td>6722221.0</td>\n",
       "      <td>1638699.0</td>\n",
       "      <td>0xed5a6d0ab1d8ebece462c60c5764013f8649fd2e340d...</td>\n",
       "      <td>NaN</td>\n",
       "      <td>0x88c3313c5808ea0b55</td>\n",
       "      <td>...</td>\n",
       "      <td>0x03ca1d1d9bc8976c871fe255ff8855b11408900c578b...</td>\n",
       "      <td>{u'$numberLong': u'5048829031919903000'}</td>\n",
       "      <td>0x11466e02b478876a595f6032b3e434c80e3cf89dcae9...</td>\n",
       "      <td>6331</td>\n",
       "      <td>2017-09-19T22:30:42.000Z</td>\n",
       "      <td>{u'$numberLong': u'48829031919903220'}</td>\n",
       "      <td>0x1a2f7f901498f820edd20d27a34ae46b4b766ff66ab1...</td>\n",
       "      <td>43</td>\n",
       "      <td>0x1dcc4de8dec75d7aab85b567b6ccd41ad312451b948a...</td>\n",
       "      <td>0</td>\n",
       "    </tr>\n",
       "    <tr>\n",
       "      <th>1</th>\n",
       "      <td>{u'$oid': u'59c5ce4666a161b6940c9010'}</td>\n",
       "      <td>13</td>\n",
       "      <td>0xea674fdde714fd979de3edf0f56aa9716b898ec8</td>\n",
       "      <td>{u'$numberLong': u'2416163026174379'}</td>\n",
       "      <td>0x65746865726d696e652d657535</td>\n",
       "      <td>6715685.0</td>\n",
       "      <td>147000.0</td>\n",
       "      <td>0xe28f0bdb771db682f50eb672f6250427358a551aff35...</td>\n",
       "      <td>NaN</td>\n",
       "      <td>0x8844b0481556efb1ba</td>\n",
       "      <td>...</td>\n",
       "      <td>0xed5a6d0ab1d8ebece462c60c5764013f8649fd2e340d...</td>\n",
       "      <td>{u'$numberLong': u'5003150000000000000'}</td>\n",
       "      <td>0x3d612737f50e54b4f81d0bf0df3ddc6c921590c83ef7...</td>\n",
       "      <td>1306</td>\n",
       "      <td>2017-09-19T22:30:55.000Z</td>\n",
       "      <td>{u'$numberLong': u'3150000000000000'}</td>\n",
       "      <td>0x45fa09c65004ef8381993a3b9aa2fd4c9b69c55cc0e9...</td>\n",
       "      <td>7</td>\n",
       "      <td>0x1dcc4de8dec75d7aab85b567b6ccd41ad312451b948a...</td>\n",
       "      <td>0</td>\n",
       "    </tr>\n",
       "    <tr>\n",
       "      <th>2</th>\n",
       "      <td>{u'$oid': u'59c5ce4c66a161b6940c9011'}</td>\n",
       "      <td>2</td>\n",
       "      <td>0xea674fdde714fd979de3edf0f56aa9716b898ec8</td>\n",
       "      <td>{u'$numberLong': u'2418442304904779'}</td>\n",
       "      <td>0x65746865726d696e652d6173696137</td>\n",
       "      <td>6709136.0</td>\n",
       "      <td>6467763.0</td>\n",
       "      <td>0x3677a004073c59fd13342b10ee9e4f78838e116d6b8e...</td>\n",
       "      <td>NaN</td>\n",
       "      <td>0x882bda7cc01380352b</td>\n",
       "      <td>...</td>\n",
       "      <td>0xe28f0bdb771db682f50eb672f6250427358a551aff35...</td>\n",
       "      <td>{u'$numberLong': u'5067934995026004000'}</td>\n",
       "      <td>0x3491fdd5fb13ff6445b4919dd771354a6e6b4b97cb2c...</td>\n",
       "      <td>21486</td>\n",
       "      <td>2017-09-19T22:30:57.000Z</td>\n",
       "      <td>{u'$numberLong': u'67934995026003860'}</td>\n",
       "      <td>0x33cf3315cf8d7fdfffaf8749b8f4365ab1d30f586901...</td>\n",
       "      <td>47</td>\n",
       "      <td>0x1dcc4de8dec75d7aab85b567b6ccd41ad312451b948a...</td>\n",
       "      <td>0</td>\n",
       "    </tr>\n",
       "    <tr>\n",
       "      <th>3</th>\n",
       "      <td>{u'$oid': u'59c5ce5166a161b6940c9012'}</td>\n",
       "      <td>24</td>\n",
       "      <td>0xb2930b35844a230f00e51431acae96fe543a0347</td>\n",
       "      <td>{u'$numberLong': u'2418360936500864'}</td>\n",
       "      <td>0x7439</td>\n",
       "      <td>6702587.0</td>\n",
       "      <td>6643541.0</td>\n",
       "      <td>0xaf013391d383533db3fd2ff9bfa58f17db9d64c1ff6f...</td>\n",
       "      <td>NaN</td>\n",
       "      <td>0x884334f56011dd99ff</td>\n",
       "      <td>...</td>\n",
       "      <td>0x3677a004073c59fd13342b10ee9e4f78838e116d6b8e...</td>\n",
       "      <td>{u'$numberLong': u'5062887994431406000'}</td>\n",
       "      <td>0xc4c2bd2ea2e93af93fe168cf1fa30e59f1c5394c39e3...</td>\n",
       "      <td>15432</td>\n",
       "      <td>2017-09-19T22:31:21.000Z</td>\n",
       "      <td>{u'$numberLong': u'62887994431406510'}</td>\n",
       "      <td>0xbc846d47e24ec42f482644489c90c4b516d626896dac...</td>\n",
       "      <td>86</td>\n",
       "      <td>0x1dcc4de8dec75d7aab85b567b6ccd41ad312451b948a...</td>\n",
       "      <td>0</td>\n",
       "    </tr>\n",
       "    <tr>\n",
       "      <th>4</th>\n",
       "      <td>{u'$oid': u'59c5ce5766a161b6940c9013'}</td>\n",
       "      <td>27</td>\n",
       "      <td>0xea674fdde714fd979de3edf0f56aa9716b898ec8</td>\n",
       "      <td>{u'$numberLong': u'2418279607827615'}</td>\n",
       "      <td>0x65746865726d696e652d657532</td>\n",
       "      <td>6709099.0</td>\n",
       "      <td>229962.0</td>\n",
       "      <td>0x7fd784d3a2ec316efa7e1dde6d53c5b4572fdeddbc83...</td>\n",
       "      <td>NaN</td>\n",
       "      <td>0x88a7da800018156043</td>\n",
       "      <td>...</td>\n",
       "      <td>0xaf013391d383533db3fd2ff9bfa58f17db9d64c1ff6f...</td>\n",
       "      <td>{u'$numberLong': u'5004893252000000000'}</td>\n",
       "      <td>0x4784e3313ad18136db83ef9f715858022c6e13ecbbed...</td>\n",
       "      <td>1649</td>\n",
       "      <td>2017-09-19T22:31:48.000Z</td>\n",
       "      <td>{u'$numberLong': u'4893252000000000'}</td>\n",
       "      <td>0xeda7239a129ba5ae52688bd7cbee9089b84d45fff09e...</td>\n",
       "      <td>10</td>\n",
       "      <td>0x1dcc4de8dec75d7aab85b567b6ccd41ad312451b948a...</td>\n",
       "      <td>0</td>\n",
       "    </tr>\n",
       "  </tbody>\n",
       "</table>\n",
       "<p>5 rows × 21 columns</p>\n",
       "</div>"
      ],
      "text/plain": [
       "                                      _id  blockTime  \\\n",
       "0  {u'$oid': u'59c5ce4166a161b6940c900f'}         22   \n",
       "1  {u'$oid': u'59c5ce4666a161b6940c9010'}         13   \n",
       "2  {u'$oid': u'59c5ce4c66a161b6940c9011'}          2   \n",
       "3  {u'$oid': u'59c5ce5166a161b6940c9012'}         24   \n",
       "4  {u'$oid': u'59c5ce5766a161b6940c9013'}         27   \n",
       "\n",
       "                                     coinbase  \\\n",
       "0  0x829bd824b016326a401d083b33d092293333a830   \n",
       "1  0xea674fdde714fd979de3edf0f56aa9716b898ec8   \n",
       "2  0xea674fdde714fd979de3edf0f56aa9716b898ec8   \n",
       "3  0xb2930b35844a230f00e51431acae96fe543a0347   \n",
       "4  0xea674fdde714fd979de3edf0f56aa9716b898ec8   \n",
       "\n",
       "                              difficulty                             extra  \\\n",
       "0  {u'$numberLong': u'2415063514546603'}  0xe4b883e5bda9e7a59ee4bb99e9b1bc   \n",
       "1  {u'$numberLong': u'2416163026174379'}      0x65746865726d696e652d657535   \n",
       "2  {u'$numberLong': u'2418442304904779'}  0x65746865726d696e652d6173696137   \n",
       "3  {u'$numberLong': u'2418360936500864'}                            0x7439   \n",
       "4  {u'$numberLong': u'2418279607827615'}      0x65746865726d696e652d657532   \n",
       "\n",
       "    gasLimit    gasUsed                                               hash  \\\n",
       "0  6722221.0  1638699.0  0xed5a6d0ab1d8ebece462c60c5764013f8649fd2e340d...   \n",
       "1  6715685.0   147000.0  0xe28f0bdb771db682f50eb672f6250427358a551aff35...   \n",
       "2  6709136.0  6467763.0  0x3677a004073c59fd13342b10ee9e4f78838e116d6b8e...   \n",
       "3  6702587.0  6643541.0  0xaf013391d383533db3fd2ff9bfa58f17db9d64c1ff6f...   \n",
       "4  6709099.0   229962.0  0x7fd784d3a2ec316efa7e1dde6d53c5b4572fdeddbc83...   \n",
       "\n",
       "   mixDigest                 nonce     ...      \\\n",
       "0        NaN  0x88c3313c5808ea0b55     ...       \n",
       "1        NaN  0x8844b0481556efb1ba     ...       \n",
       "2        NaN  0x882bda7cc01380352b     ...       \n",
       "3        NaN  0x884334f56011dd99ff     ...       \n",
       "4        NaN  0x88a7da800018156043     ...       \n",
       "\n",
       "                                          parentHash  \\\n",
       "0  0x03ca1d1d9bc8976c871fe255ff8855b11408900c578b...   \n",
       "1  0xed5a6d0ab1d8ebece462c60c5764013f8649fd2e340d...   \n",
       "2  0xe28f0bdb771db682f50eb672f6250427358a551aff35...   \n",
       "3  0x3677a004073c59fd13342b10ee9e4f78838e116d6b8e...   \n",
       "4  0xaf013391d383533db3fd2ff9bfa58f17db9d64c1ff6f...   \n",
       "\n",
       "                                     reward  \\\n",
       "0  {u'$numberLong': u'5048829031919903000'}   \n",
       "1  {u'$numberLong': u'5003150000000000000'}   \n",
       "2  {u'$numberLong': u'5067934995026004000'}   \n",
       "3  {u'$numberLong': u'5062887994431406000'}   \n",
       "4  {u'$numberLong': u'5004893252000000000'}   \n",
       "\n",
       "                                                root   size  \\\n",
       "0  0x11466e02b478876a595f6032b3e434c80e3cf89dcae9...   6331   \n",
       "1  0x3d612737f50e54b4f81d0bf0df3ddc6c921590c83ef7...   1306   \n",
       "2  0x3491fdd5fb13ff6445b4919dd771354a6e6b4b97cb2c...  21486   \n",
       "3  0xc4c2bd2ea2e93af93fe168cf1fa30e59f1c5394c39e3...  15432   \n",
       "4  0x4784e3313ad18136db83ef9f715858022c6e13ecbbed...   1649   \n",
       "\n",
       "                       time                                totalFee  \\\n",
       "0  2017-09-19T22:30:42.000Z  {u'$numberLong': u'48829031919903220'}   \n",
       "1  2017-09-19T22:30:55.000Z   {u'$numberLong': u'3150000000000000'}   \n",
       "2  2017-09-19T22:30:57.000Z  {u'$numberLong': u'67934995026003860'}   \n",
       "3  2017-09-19T22:31:21.000Z  {u'$numberLong': u'62887994431406510'}   \n",
       "4  2017-09-19T22:31:48.000Z   {u'$numberLong': u'4893252000000000'}   \n",
       "\n",
       "                                              txHash tx_count  \\\n",
       "0  0x1a2f7f901498f820edd20d27a34ae46b4b766ff66ab1...       43   \n",
       "1  0x45fa09c65004ef8381993a3b9aa2fd4c9b69c55cc0e9...        7   \n",
       "2  0x33cf3315cf8d7fdfffaf8749b8f4365ab1d30f586901...       47   \n",
       "3  0xbc846d47e24ec42f482644489c90c4b516d626896dac...       86   \n",
       "4  0xeda7239a129ba5ae52688bd7cbee9089b84d45fff09e...       10   \n",
       "\n",
       "                                           uncleHash uncle_count  \n",
       "0  0x1dcc4de8dec75d7aab85b567b6ccd41ad312451b948a...           0  \n",
       "1  0x1dcc4de8dec75d7aab85b567b6ccd41ad312451b948a...           0  \n",
       "2  0x1dcc4de8dec75d7aab85b567b6ccd41ad312451b948a...           0  \n",
       "3  0x1dcc4de8dec75d7aab85b567b6ccd41ad312451b948a...           0  \n",
       "4  0x1dcc4de8dec75d7aab85b567b6ccd41ad312451b948a...           0  \n",
       "\n",
       "[5 rows x 21 columns]"
      ]
     },
     "execution_count": 25,
     "metadata": {},
     "output_type": "execute_result"
    }
   ],
   "source": [
    "blocks.head()"
   ]
  },
  {
   "cell_type": "code",
   "execution_count": 26,
   "metadata": {
    "collapsed": false
   },
   "outputs": [
    {
     "data": {
      "text/plain": [
       "Index([u'_id', u'blockTime', u'coinbase', u'difficulty', u'extra', u'gasLimit',\n",
       "       u'gasUsed', u'hash', u'mixDigest', u'nonce', u'number', u'parentHash',\n",
       "       u'reward', u'root', u'size', u'time', u'totalFee', u'txHash',\n",
       "       u'tx_count', u'uncleHash', u'uncle_count'],\n",
       "      dtype='object')"
      ]
     },
     "execution_count": 26,
     "metadata": {},
     "output_type": "execute_result"
    }
   ],
   "source": [
    "blocks.columns"
   ]
  },
  {
   "cell_type": "markdown",
   "metadata": {},
   "source": [
    "Create new block_id column converting floats into integers"
   ]
  },
  {
   "cell_type": "code",
   "execution_count": 27,
   "metadata": {
    "collapsed": true
   },
   "outputs": [],
   "source": [
    "blocks['block_id'] = blocks['number'].apply(lambda x: int(round(x)))"
   ]
  },
  {
   "cell_type": "code",
   "execution_count": 28,
   "metadata": {
    "collapsed": false
   },
   "outputs": [
    {
     "data": {
      "text/plain": [
       "(760872,)"
      ]
     },
     "execution_count": 28,
     "metadata": {},
     "output_type": "execute_result"
    }
   ],
   "source": [
    "blocks['number'].values.shape"
   ]
  },
  {
   "cell_type": "code",
   "execution_count": 29,
   "metadata": {
    "collapsed": false
   },
   "outputs": [
    {
     "data": {
      "text/plain": [
       "(756010,)"
      ]
     },
     "execution_count": 29,
     "metadata": {},
     "output_type": "execute_result"
    }
   ],
   "source": [
    "np.unique(blocks['number'].values).shape"
   ]
  },
  {
   "cell_type": "code",
   "execution_count": 30,
   "metadata": {
    "collapsed": false
   },
   "outputs": [
    {
     "data": {
      "text/plain": [
       "(756009,)"
      ]
     },
     "execution_count": 30,
     "metadata": {},
     "output_type": "execute_result"
    }
   ],
   "source": [
    "blocks['block_id'].unique().shape"
   ]
  },
  {
   "cell_type": "code",
   "execution_count": 31,
   "metadata": {
    "collapsed": false
   },
   "outputs": [
    {
     "data": {
      "text/html": [
       "<div>\n",
       "<style>\n",
       "    .dataframe thead tr:only-child th {\n",
       "        text-align: right;\n",
       "    }\n",
       "\n",
       "    .dataframe thead th {\n",
       "        text-align: left;\n",
       "    }\n",
       "\n",
       "    .dataframe tbody tr th {\n",
       "        vertical-align: top;\n",
       "    }\n",
       "</style>\n",
       "<table border=\"1\" class=\"dataframe\">\n",
       "  <thead>\n",
       "    <tr style=\"text-align: right;\">\n",
       "      <th></th>\n",
       "      <th>number</th>\n",
       "      <th>block_id</th>\n",
       "    </tr>\n",
       "  </thead>\n",
       "  <tbody>\n",
       "    <tr>\n",
       "      <th>0</th>\n",
       "      <td>4292608.0</td>\n",
       "      <td>4292608</td>\n",
       "    </tr>\n",
       "    <tr>\n",
       "      <th>1</th>\n",
       "      <td>4292609.0</td>\n",
       "      <td>4292609</td>\n",
       "    </tr>\n",
       "    <tr>\n",
       "      <th>2</th>\n",
       "      <td>4292610.0</td>\n",
       "      <td>4292610</td>\n",
       "    </tr>\n",
       "    <tr>\n",
       "      <th>3</th>\n",
       "      <td>4292611.0</td>\n",
       "      <td>4292611</td>\n",
       "    </tr>\n",
       "    <tr>\n",
       "      <th>4</th>\n",
       "      <td>4292612.0</td>\n",
       "      <td>4292612</td>\n",
       "    </tr>\n",
       "  </tbody>\n",
       "</table>\n",
       "</div>"
      ],
      "text/plain": [
       "      number  block_id\n",
       "0  4292608.0   4292608\n",
       "1  4292609.0   4292609\n",
       "2  4292610.0   4292610\n",
       "3  4292611.0   4292611\n",
       "4  4292612.0   4292612"
      ]
     },
     "execution_count": 31,
     "metadata": {},
     "output_type": "execute_result"
    }
   ],
   "source": [
    "blocks[['number', 'block_id']].head()"
   ]
  },
  {
   "cell_type": "markdown",
   "metadata": {},
   "source": [
    "Drop duplicate blocks"
   ]
  },
  {
   "cell_type": "code",
   "execution_count": 32,
   "metadata": {
    "collapsed": false
   },
   "outputs": [],
   "source": [
    "blocks.drop_duplicates(subset='block_id', inplace=True)"
   ]
  },
  {
   "cell_type": "code",
   "execution_count": 33,
   "metadata": {
    "collapsed": false
   },
   "outputs": [
    {
     "data": {
      "text/plain": [
       "(756009, 22)"
      ]
     },
     "execution_count": 33,
     "metadata": {},
     "output_type": "execute_result"
    }
   ],
   "source": [
    "blocks.shape"
   ]
  },
  {
   "cell_type": "code",
   "execution_count": 34,
   "metadata": {
    "collapsed": false
   },
   "outputs": [
    {
     "data": {
      "text/plain": [
       "(756009,)"
      ]
     },
     "execution_count": 34,
     "metadata": {},
     "output_type": "execute_result"
    }
   ],
   "source": [
    "blocks['number'].values.shape"
   ]
  },
  {
   "cell_type": "code",
   "execution_count": 35,
   "metadata": {
    "collapsed": false
   },
   "outputs": [
    {
     "data": {
      "text/plain": [
       "(756009,)"
      ]
     },
     "execution_count": 35,
     "metadata": {},
     "output_type": "execute_result"
    }
   ],
   "source": [
    "np.unique(blocks['number'].values).shape"
   ]
  },
  {
   "cell_type": "code",
   "execution_count": 36,
   "metadata": {
    "collapsed": false
   },
   "outputs": [
    {
     "data": {
      "text/html": [
       "<div>\n",
       "<style>\n",
       "    .dataframe thead tr:only-child th {\n",
       "        text-align: right;\n",
       "    }\n",
       "\n",
       "    .dataframe thead th {\n",
       "        text-align: left;\n",
       "    }\n",
       "\n",
       "    .dataframe tbody tr th {\n",
       "        vertical-align: top;\n",
       "    }\n",
       "</style>\n",
       "<table border=\"1\" class=\"dataframe\">\n",
       "  <thead>\n",
       "    <tr style=\"text-align: right;\">\n",
       "      <th></th>\n",
       "      <th>_id</th>\n",
       "      <th>blockTime</th>\n",
       "      <th>coinbase</th>\n",
       "      <th>difficulty</th>\n",
       "      <th>extra</th>\n",
       "      <th>gasLimit</th>\n",
       "      <th>gasUsed</th>\n",
       "      <th>hash</th>\n",
       "      <th>mixDigest</th>\n",
       "      <th>nonce</th>\n",
       "      <th>...</th>\n",
       "      <th>reward</th>\n",
       "      <th>root</th>\n",
       "      <th>size</th>\n",
       "      <th>time</th>\n",
       "      <th>totalFee</th>\n",
       "      <th>txHash</th>\n",
       "      <th>tx_count</th>\n",
       "      <th>uncleHash</th>\n",
       "      <th>uncle_count</th>\n",
       "      <th>block_id</th>\n",
       "    </tr>\n",
       "  </thead>\n",
       "  <tbody>\n",
       "    <tr>\n",
       "      <th>0</th>\n",
       "      <td>{u'$oid': u'59c5ce4166a161b6940c900f'}</td>\n",
       "      <td>22</td>\n",
       "      <td>0x829bd824b016326a401d083b33d092293333a830</td>\n",
       "      <td>{u'$numberLong': u'2415063514546603'}</td>\n",
       "      <td>0xe4b883e5bda9e7a59ee4bb99e9b1bc</td>\n",
       "      <td>6722221.0</td>\n",
       "      <td>1638699.0</td>\n",
       "      <td>0xed5a6d0ab1d8ebece462c60c5764013f8649fd2e340d...</td>\n",
       "      <td>NaN</td>\n",
       "      <td>0x88c3313c5808ea0b55</td>\n",
       "      <td>...</td>\n",
       "      <td>{u'$numberLong': u'5048829031919903000'}</td>\n",
       "      <td>0x11466e02b478876a595f6032b3e434c80e3cf89dcae9...</td>\n",
       "      <td>6331</td>\n",
       "      <td>2017-09-19T22:30:42.000Z</td>\n",
       "      <td>{u'$numberLong': u'48829031919903220'}</td>\n",
       "      <td>0x1a2f7f901498f820edd20d27a34ae46b4b766ff66ab1...</td>\n",
       "      <td>43</td>\n",
       "      <td>0x1dcc4de8dec75d7aab85b567b6ccd41ad312451b948a...</td>\n",
       "      <td>0</td>\n",
       "      <td>4292608</td>\n",
       "    </tr>\n",
       "    <tr>\n",
       "      <th>1</th>\n",
       "      <td>{u'$oid': u'59c5ce4666a161b6940c9010'}</td>\n",
       "      <td>13</td>\n",
       "      <td>0xea674fdde714fd979de3edf0f56aa9716b898ec8</td>\n",
       "      <td>{u'$numberLong': u'2416163026174379'}</td>\n",
       "      <td>0x65746865726d696e652d657535</td>\n",
       "      <td>6715685.0</td>\n",
       "      <td>147000.0</td>\n",
       "      <td>0xe28f0bdb771db682f50eb672f6250427358a551aff35...</td>\n",
       "      <td>NaN</td>\n",
       "      <td>0x8844b0481556efb1ba</td>\n",
       "      <td>...</td>\n",
       "      <td>{u'$numberLong': u'5003150000000000000'}</td>\n",
       "      <td>0x3d612737f50e54b4f81d0bf0df3ddc6c921590c83ef7...</td>\n",
       "      <td>1306</td>\n",
       "      <td>2017-09-19T22:30:55.000Z</td>\n",
       "      <td>{u'$numberLong': u'3150000000000000'}</td>\n",
       "      <td>0x45fa09c65004ef8381993a3b9aa2fd4c9b69c55cc0e9...</td>\n",
       "      <td>7</td>\n",
       "      <td>0x1dcc4de8dec75d7aab85b567b6ccd41ad312451b948a...</td>\n",
       "      <td>0</td>\n",
       "      <td>4292609</td>\n",
       "    </tr>\n",
       "    <tr>\n",
       "      <th>2</th>\n",
       "      <td>{u'$oid': u'59c5ce4c66a161b6940c9011'}</td>\n",
       "      <td>2</td>\n",
       "      <td>0xea674fdde714fd979de3edf0f56aa9716b898ec8</td>\n",
       "      <td>{u'$numberLong': u'2418442304904779'}</td>\n",
       "      <td>0x65746865726d696e652d6173696137</td>\n",
       "      <td>6709136.0</td>\n",
       "      <td>6467763.0</td>\n",
       "      <td>0x3677a004073c59fd13342b10ee9e4f78838e116d6b8e...</td>\n",
       "      <td>NaN</td>\n",
       "      <td>0x882bda7cc01380352b</td>\n",
       "      <td>...</td>\n",
       "      <td>{u'$numberLong': u'5067934995026004000'}</td>\n",
       "      <td>0x3491fdd5fb13ff6445b4919dd771354a6e6b4b97cb2c...</td>\n",
       "      <td>21486</td>\n",
       "      <td>2017-09-19T22:30:57.000Z</td>\n",
       "      <td>{u'$numberLong': u'67934995026003860'}</td>\n",
       "      <td>0x33cf3315cf8d7fdfffaf8749b8f4365ab1d30f586901...</td>\n",
       "      <td>47</td>\n",
       "      <td>0x1dcc4de8dec75d7aab85b567b6ccd41ad312451b948a...</td>\n",
       "      <td>0</td>\n",
       "      <td>4292610</td>\n",
       "    </tr>\n",
       "    <tr>\n",
       "      <th>3</th>\n",
       "      <td>{u'$oid': u'59c5ce5166a161b6940c9012'}</td>\n",
       "      <td>24</td>\n",
       "      <td>0xb2930b35844a230f00e51431acae96fe543a0347</td>\n",
       "      <td>{u'$numberLong': u'2418360936500864'}</td>\n",
       "      <td>0x7439</td>\n",
       "      <td>6702587.0</td>\n",
       "      <td>6643541.0</td>\n",
       "      <td>0xaf013391d383533db3fd2ff9bfa58f17db9d64c1ff6f...</td>\n",
       "      <td>NaN</td>\n",
       "      <td>0x884334f56011dd99ff</td>\n",
       "      <td>...</td>\n",
       "      <td>{u'$numberLong': u'5062887994431406000'}</td>\n",
       "      <td>0xc4c2bd2ea2e93af93fe168cf1fa30e59f1c5394c39e3...</td>\n",
       "      <td>15432</td>\n",
       "      <td>2017-09-19T22:31:21.000Z</td>\n",
       "      <td>{u'$numberLong': u'62887994431406510'}</td>\n",
       "      <td>0xbc846d47e24ec42f482644489c90c4b516d626896dac...</td>\n",
       "      <td>86</td>\n",
       "      <td>0x1dcc4de8dec75d7aab85b567b6ccd41ad312451b948a...</td>\n",
       "      <td>0</td>\n",
       "      <td>4292611</td>\n",
       "    </tr>\n",
       "    <tr>\n",
       "      <th>4</th>\n",
       "      <td>{u'$oid': u'59c5ce5766a161b6940c9013'}</td>\n",
       "      <td>27</td>\n",
       "      <td>0xea674fdde714fd979de3edf0f56aa9716b898ec8</td>\n",
       "      <td>{u'$numberLong': u'2418279607827615'}</td>\n",
       "      <td>0x65746865726d696e652d657532</td>\n",
       "      <td>6709099.0</td>\n",
       "      <td>229962.0</td>\n",
       "      <td>0x7fd784d3a2ec316efa7e1dde6d53c5b4572fdeddbc83...</td>\n",
       "      <td>NaN</td>\n",
       "      <td>0x88a7da800018156043</td>\n",
       "      <td>...</td>\n",
       "      <td>{u'$numberLong': u'5004893252000000000'}</td>\n",
       "      <td>0x4784e3313ad18136db83ef9f715858022c6e13ecbbed...</td>\n",
       "      <td>1649</td>\n",
       "      <td>2017-09-19T22:31:48.000Z</td>\n",
       "      <td>{u'$numberLong': u'4893252000000000'}</td>\n",
       "      <td>0xeda7239a129ba5ae52688bd7cbee9089b84d45fff09e...</td>\n",
       "      <td>10</td>\n",
       "      <td>0x1dcc4de8dec75d7aab85b567b6ccd41ad312451b948a...</td>\n",
       "      <td>0</td>\n",
       "      <td>4292612</td>\n",
       "    </tr>\n",
       "  </tbody>\n",
       "</table>\n",
       "<p>5 rows × 22 columns</p>\n",
       "</div>"
      ],
      "text/plain": [
       "                                      _id  blockTime  \\\n",
       "0  {u'$oid': u'59c5ce4166a161b6940c900f'}         22   \n",
       "1  {u'$oid': u'59c5ce4666a161b6940c9010'}         13   \n",
       "2  {u'$oid': u'59c5ce4c66a161b6940c9011'}          2   \n",
       "3  {u'$oid': u'59c5ce5166a161b6940c9012'}         24   \n",
       "4  {u'$oid': u'59c5ce5766a161b6940c9013'}         27   \n",
       "\n",
       "                                     coinbase  \\\n",
       "0  0x829bd824b016326a401d083b33d092293333a830   \n",
       "1  0xea674fdde714fd979de3edf0f56aa9716b898ec8   \n",
       "2  0xea674fdde714fd979de3edf0f56aa9716b898ec8   \n",
       "3  0xb2930b35844a230f00e51431acae96fe543a0347   \n",
       "4  0xea674fdde714fd979de3edf0f56aa9716b898ec8   \n",
       "\n",
       "                              difficulty                             extra  \\\n",
       "0  {u'$numberLong': u'2415063514546603'}  0xe4b883e5bda9e7a59ee4bb99e9b1bc   \n",
       "1  {u'$numberLong': u'2416163026174379'}      0x65746865726d696e652d657535   \n",
       "2  {u'$numberLong': u'2418442304904779'}  0x65746865726d696e652d6173696137   \n",
       "3  {u'$numberLong': u'2418360936500864'}                            0x7439   \n",
       "4  {u'$numberLong': u'2418279607827615'}      0x65746865726d696e652d657532   \n",
       "\n",
       "    gasLimit    gasUsed                                               hash  \\\n",
       "0  6722221.0  1638699.0  0xed5a6d0ab1d8ebece462c60c5764013f8649fd2e340d...   \n",
       "1  6715685.0   147000.0  0xe28f0bdb771db682f50eb672f6250427358a551aff35...   \n",
       "2  6709136.0  6467763.0  0x3677a004073c59fd13342b10ee9e4f78838e116d6b8e...   \n",
       "3  6702587.0  6643541.0  0xaf013391d383533db3fd2ff9bfa58f17db9d64c1ff6f...   \n",
       "4  6709099.0   229962.0  0x7fd784d3a2ec316efa7e1dde6d53c5b4572fdeddbc83...   \n",
       "\n",
       "   mixDigest                 nonce   ...     \\\n",
       "0        NaN  0x88c3313c5808ea0b55   ...      \n",
       "1        NaN  0x8844b0481556efb1ba   ...      \n",
       "2        NaN  0x882bda7cc01380352b   ...      \n",
       "3        NaN  0x884334f56011dd99ff   ...      \n",
       "4        NaN  0x88a7da800018156043   ...      \n",
       "\n",
       "                                     reward  \\\n",
       "0  {u'$numberLong': u'5048829031919903000'}   \n",
       "1  {u'$numberLong': u'5003150000000000000'}   \n",
       "2  {u'$numberLong': u'5067934995026004000'}   \n",
       "3  {u'$numberLong': u'5062887994431406000'}   \n",
       "4  {u'$numberLong': u'5004893252000000000'}   \n",
       "\n",
       "                                                root   size  \\\n",
       "0  0x11466e02b478876a595f6032b3e434c80e3cf89dcae9...   6331   \n",
       "1  0x3d612737f50e54b4f81d0bf0df3ddc6c921590c83ef7...   1306   \n",
       "2  0x3491fdd5fb13ff6445b4919dd771354a6e6b4b97cb2c...  21486   \n",
       "3  0xc4c2bd2ea2e93af93fe168cf1fa30e59f1c5394c39e3...  15432   \n",
       "4  0x4784e3313ad18136db83ef9f715858022c6e13ecbbed...   1649   \n",
       "\n",
       "                       time                                totalFee  \\\n",
       "0  2017-09-19T22:30:42.000Z  {u'$numberLong': u'48829031919903220'}   \n",
       "1  2017-09-19T22:30:55.000Z   {u'$numberLong': u'3150000000000000'}   \n",
       "2  2017-09-19T22:30:57.000Z  {u'$numberLong': u'67934995026003860'}   \n",
       "3  2017-09-19T22:31:21.000Z  {u'$numberLong': u'62887994431406510'}   \n",
       "4  2017-09-19T22:31:48.000Z   {u'$numberLong': u'4893252000000000'}   \n",
       "\n",
       "                                              txHash tx_count  \\\n",
       "0  0x1a2f7f901498f820edd20d27a34ae46b4b766ff66ab1...       43   \n",
       "1  0x45fa09c65004ef8381993a3b9aa2fd4c9b69c55cc0e9...        7   \n",
       "2  0x33cf3315cf8d7fdfffaf8749b8f4365ab1d30f586901...       47   \n",
       "3  0xbc846d47e24ec42f482644489c90c4b516d626896dac...       86   \n",
       "4  0xeda7239a129ba5ae52688bd7cbee9089b84d45fff09e...       10   \n",
       "\n",
       "                                           uncleHash  uncle_count block_id  \n",
       "0  0x1dcc4de8dec75d7aab85b567b6ccd41ad312451b948a...            0  4292608  \n",
       "1  0x1dcc4de8dec75d7aab85b567b6ccd41ad312451b948a...            0  4292609  \n",
       "2  0x1dcc4de8dec75d7aab85b567b6ccd41ad312451b948a...            0  4292610  \n",
       "3  0x1dcc4de8dec75d7aab85b567b6ccd41ad312451b948a...            0  4292611  \n",
       "4  0x1dcc4de8dec75d7aab85b567b6ccd41ad312451b948a...            0  4292612  \n",
       "\n",
       "[5 rows x 22 columns]"
      ]
     },
     "execution_count": 36,
     "metadata": {},
     "output_type": "execute_result"
    }
   ],
   "source": [
    "blocks.head()"
   ]
  },
  {
   "cell_type": "markdown",
   "metadata": {},
   "source": [
    "Now we have a unique block set"
   ]
  },
  {
   "cell_type": "markdown",
   "metadata": {},
   "source": [
    "##Merge transaction and block data"
   ]
  },
  {
   "cell_type": "code",
   "execution_count": 37,
   "metadata": {
    "collapsed": false
   },
   "outputs": [
    {
     "data": {
      "text/plain": [
       "Index([u'_id', u'accountNonce', u'amount', u'blockHash', u'block_id',\n",
       "       u'gasLimit', u'gasUsed', u'hash', u'isContractTx', u'newContract',\n",
       "       u'parentHash', u'price', u'recipient', u'sender', u'time', u'txIndex',\n",
       "       u'type'],\n",
       "      dtype='object')"
      ]
     },
     "execution_count": 37,
     "metadata": {},
     "output_type": "execute_result"
    }
   ],
   "source": [
    "transactions.columns"
   ]
  },
  {
   "cell_type": "code",
   "execution_count": 38,
   "metadata": {
    "collapsed": false
   },
   "outputs": [
    {
     "data": {
      "text/plain": [
       "Index([        u'_id',   u'blockTime',    u'coinbase',  u'difficulty',\n",
       "             u'extra',    u'gasLimit',     u'gasUsed',        u'hash',\n",
       "         u'mixDigest',       u'nonce',      u'number',  u'parentHash',\n",
       "            u'reward',        u'root',        u'size',        u'time',\n",
       "          u'totalFee',      u'txHash',    u'tx_count',   u'uncleHash',\n",
       "       u'uncle_count',    u'block_id'],\n",
       "      dtype='object')"
      ]
     },
     "execution_count": 38,
     "metadata": {},
     "output_type": "execute_result"
    }
   ],
   "source": [
    "blocks.columns"
   ]
  },
  {
   "cell_type": "markdown",
   "metadata": {},
   "source": [
    "Merge the dataframes on block_id"
   ]
  },
  {
   "cell_type": "code",
   "execution_count": 39,
   "metadata": {
    "collapsed": true
   },
   "outputs": [],
   "source": [
    "merged_df = transactions.merge(blocks, left_on='block_id', right_on='block_id', \n",
    "                               suffixes=('_t', '_b'))"
   ]
  },
  {
   "cell_type": "code",
   "execution_count": 40,
   "metadata": {
    "collapsed": false
   },
   "outputs": [
    {
     "data": {
      "text/plain": [
       "(1922558, 17)"
      ]
     },
     "execution_count": 40,
     "metadata": {},
     "output_type": "execute_result"
    }
   ],
   "source": [
    "transactions.shape"
   ]
  },
  {
   "cell_type": "code",
   "execution_count": 41,
   "metadata": {
    "collapsed": false
   },
   "outputs": [
    {
     "data": {
      "text/plain": [
       "(756009, 22)"
      ]
     },
     "execution_count": 41,
     "metadata": {},
     "output_type": "execute_result"
    }
   ],
   "source": [
    "blocks.shape"
   ]
  },
  {
   "cell_type": "code",
   "execution_count": 42,
   "metadata": {
    "collapsed": false
   },
   "outputs": [
    {
     "data": {
      "text/plain": [
       "(1494279, 38)"
      ]
     },
     "execution_count": 42,
     "metadata": {},
     "output_type": "execute_result"
    }
   ],
   "source": [
    "merged_df.shape"
   ]
  },
  {
   "cell_type": "code",
   "execution_count": 43,
   "metadata": {
    "collapsed": false
   },
   "outputs": [
    {
     "data": {
      "text/plain": [
       "(1494279,)"
      ]
     },
     "execution_count": 43,
     "metadata": {},
     "output_type": "execute_result"
    }
   ],
   "source": [
    "merged_df['hash_t'].unique().shape"
   ]
  },
  {
   "cell_type": "code",
   "execution_count": 44,
   "metadata": {
    "collapsed": false
   },
   "outputs": [
    {
     "data": {
      "text/plain": [
       "Index([u'_id_t', u'accountNonce', u'amount', u'blockHash', u'block_id',\n",
       "       u'gasLimit_t', u'gasUsed_t', u'hash_t', u'isContractTx', u'newContract',\n",
       "       u'parentHash_t', u'price', u'recipient', u'sender', u'time_t',\n",
       "       u'txIndex', u'type', u'_id_b', u'blockTime', u'coinbase', u'difficulty',\n",
       "       u'extra', u'gasLimit_b', u'gasUsed_b', u'hash_b', u'mixDigest',\n",
       "       u'nonce', u'number', u'parentHash_b', u'reward', u'root', u'size',\n",
       "       u'time_b', u'totalFee', u'txHash', u'tx_count', u'uncleHash',\n",
       "       u'uncle_count'],\n",
       "      dtype='object')"
      ]
     },
     "execution_count": 44,
     "metadata": {},
     "output_type": "execute_result"
    }
   ],
   "source": [
    "merged_df.columns"
   ]
  },
  {
   "cell_type": "markdown",
   "metadata": {},
   "source": [
    "##Data cleaning"
   ]
  },
  {
   "cell_type": "code",
   "execution_count": 45,
   "metadata": {
    "collapsed": false
   },
   "outputs": [
    {
     "data": {
      "text/plain": [
       "Index([u'_id_t', u'accountNonce', u'amount', u'blockHash', u'block_id',\n",
       "       u'gasLimit_t', u'gasUsed_t', u'hash_t', u'isContractTx', u'newContract',\n",
       "       u'parentHash_t', u'price', u'recipient', u'sender', u'time_t',\n",
       "       u'txIndex', u'type', u'_id_b', u'blockTime', u'coinbase', u'difficulty',\n",
       "       u'extra', u'gasLimit_b', u'gasUsed_b', u'hash_b', u'mixDigest',\n",
       "       u'nonce', u'number', u'parentHash_b', u'reward', u'root', u'size',\n",
       "       u'time_b', u'totalFee', u'txHash', u'tx_count', u'uncleHash',\n",
       "       u'uncle_count'],\n",
       "      dtype='object')"
      ]
     },
     "execution_count": 45,
     "metadata": {},
     "output_type": "execute_result"
    }
   ],
   "source": [
    "merged_df.columns"
   ]
  },
  {
   "cell_type": "markdown",
   "metadata": {},
   "source": [
    "Select subset of columns to work with"
   ]
  },
  {
   "cell_type": "code",
   "execution_count": 46,
   "metadata": {
    "collapsed": true
   },
   "outputs": [],
   "source": [
    "sel_cols = ['hash_t',\n",
    "            'accountNonce', \n",
    "            'amount', \n",
    "            'block_id', \n",
    "            'gasLimit_t', \n",
    "            'gasUsed_t',\n",
    "            'isContractTx',\n",
    "            'newContract',\n",
    "            'price',\n",
    "            'time_t',\n",
    "            'txIndex', \n",
    "            'type', \n",
    "            'blockTime',\n",
    "            'difficulty',\n",
    "            'gasLimit_b',\n",
    "            'gasUsed_b',\n",
    "            'reward',\n",
    "            'size',\n",
    "            'time_b',\n",
    "            'totalFee',\n",
    "            'tx_count',\n",
    "            'uncle_count']"
   ]
  },
  {
   "cell_type": "code",
   "execution_count": 47,
   "metadata": {
    "collapsed": false
   },
   "outputs": [],
   "source": [
    "df = merged_df[sel_cols]"
   ]
  },
  {
   "cell_type": "code",
   "execution_count": 48,
   "metadata": {
    "collapsed": false
   },
   "outputs": [
    {
     "name": "stdout",
     "output_type": "stream",
     "text": [
      "no. transactions: 1494279, no. blocks: 14583\n"
     ]
    }
   ],
   "source": [
    "print('no. transactions: {}, no. blocks: {}'.format(np.unique(df['hash_t'].values).shape[0],\n",
    "                                                    np.unique(df['block_id'].values).shape[0]))"
   ]
  },
  {
   "cell_type": "markdown",
   "metadata": {},
   "source": [
    "Convert dates to datetime "
   ]
  },
  {
   "cell_type": "code",
   "execution_count": 49,
   "metadata": {
    "collapsed": false
   },
   "outputs": [
    {
     "name": "stderr",
     "output_type": "stream",
     "text": [
      "//anaconda/lib/python2.7/site-packages/pandas/core/indexing.py:517: SettingWithCopyWarning: \n",
      "A value is trying to be set on a copy of a slice from a DataFrame.\n",
      "Try using .loc[row_indexer,col_indexer] = value instead\n",
      "\n",
      "See the caveats in the documentation: http://pandas.pydata.org/pandas-docs/stable/indexing.html#indexing-view-versus-copy\n",
      "  self.obj[item] = s\n"
     ]
    }
   ],
   "source": [
    "df.loc[:,'time_t'] = pd.to_datetime(df.time_t, yearfirst=True)"
   ]
  },
  {
   "cell_type": "code",
   "execution_count": 50,
   "metadata": {
    "collapsed": false
   },
   "outputs": [],
   "source": [
    "df.loc[:,'time_b'] = pd.to_datetime(df.time_b, yearfirst=True)"
   ]
  },
  {
   "cell_type": "code",
   "execution_count": 51,
   "metadata": {
    "collapsed": false
   },
   "outputs": [],
   "source": [
    "dates = df['time_t'].values.astype('datetime64[D]')"
   ]
  },
  {
   "cell_type": "code",
   "execution_count": 52,
   "metadata": {
    "collapsed": false
   },
   "outputs": [
    {
     "data": {
      "text/plain": [
       "array(['2017-09-18', '2017-09-19', '2017-09-20', '2017-09-21',\n",
       "       '2017-09-22', '2017-09-23', '2017-09-24'], dtype='datetime64[D]')"
      ]
     },
     "execution_count": 52,
     "metadata": {},
     "output_type": "execute_result"
    }
   ],
   "source": [
    "np.unique(dates)"
   ]
  },
  {
   "cell_type": "markdown",
   "metadata": {},
   "source": [
    "The dates of blockchain data span from 9/18/17 to 9/24/17"
   ]
  },
  {
   "cell_type": "code",
   "execution_count": 58,
   "metadata": {
    "collapsed": false
   },
   "outputs": [
    {
     "data": {
      "text/plain": [
       "0   2017-09-20 20:24:15\n",
       "1   2017-09-20 20:24:15\n",
       "2   2017-09-20 20:24:15\n",
       "3   2017-09-20 20:24:15\n",
       "4   2017-09-20 20:24:15\n",
       "Name: time_t, dtype: datetime64[ns]"
      ]
     },
     "execution_count": 58,
     "metadata": {},
     "output_type": "execute_result"
    }
   ],
   "source": [
    "df['time_t'].head()"
   ]
  },
  {
   "cell_type": "code",
   "execution_count": 53,
   "metadata": {
    "collapsed": false
   },
   "outputs": [
    {
     "data": {
      "text/plain": [
       "(1494279,)"
      ]
     },
     "execution_count": 53,
     "metadata": {},
     "output_type": "execute_result"
    }
   ],
   "source": [
    "np.unique(df['hash_t'].values).shape"
   ]
  },
  {
   "cell_type": "code",
   "execution_count": 54,
   "metadata": {
    "collapsed": false
   },
   "outputs": [
    {
     "data": {
      "text/plain": [
       "(1494279, 22)"
      ]
     },
     "execution_count": 54,
     "metadata": {},
     "output_type": "execute_result"
    }
   ],
   "source": [
    "df.shape"
   ]
  },
  {
   "cell_type": "markdown",
   "metadata": {},
   "source": [
    "Check for duplicate rows"
   ]
  },
  {
   "cell_type": "code",
   "execution_count": 55,
   "metadata": {
    "collapsed": false
   },
   "outputs": [
    {
     "data": {
      "text/plain": [
       "False    1494279\n",
       "dtype: int64"
      ]
     },
     "execution_count": 55,
     "metadata": {},
     "output_type": "execute_result"
    }
   ],
   "source": [
    "df.duplicated(subset='hash_t').value_counts()"
   ]
  },
  {
   "cell_type": "markdown",
   "metadata": {},
   "source": [
    "No duplicates found"
   ]
  },
  {
   "cell_type": "markdown",
   "metadata": {},
   "source": [
    "Creat CSV file of final dataset"
   ]
  },
  {
   "cell_type": "code",
   "execution_count": 57,
   "metadata": {
    "collapsed": false
   },
   "outputs": [],
   "source": [
    "df.to_csv('./../data/data.csv')"
   ]
  },
  {
   "cell_type": "code",
   "execution_count": null,
   "metadata": {
    "collapsed": true
   },
   "outputs": [],
   "source": []
  }
 ],
 "metadata": {
  "kernelspec": {
   "display_name": "Python 2",
   "language": "python",
   "name": "python2"
  }
 },
 "nbformat": 4,
 "nbformat_minor": 0
}
