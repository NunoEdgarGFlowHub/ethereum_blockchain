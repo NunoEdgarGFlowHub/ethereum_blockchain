{
 "cells": [
  {
   "cell_type": "code",
   "execution_count": 1,
   "metadata": {
    "collapsed": false
   },
   "outputs": [
    {
     "name": "stderr",
     "output_type": "stream",
     "text": [
      "//anaconda/lib/python2.7/site-packages/pandas/core/computation/__init__.py:18: UserWarning: The installed version of numexpr 2.4.3 is not supported in pandas and will be not be used\n",
      "The minimum supported version is 2.4.6\n",
      "\n",
      "  ver=ver, min_ver=_MIN_NUMEXPR_VERSION), UserWarning)\n",
      "//anaconda/lib/python2.7/site-packages/matplotlib/font_manager.py:273: UserWarning: Matplotlib is building the font cache using fc-list. This may take a moment.\n",
      "  warnings.warn('Matplotlib is building the font cache using fc-list. This may take a moment.')\n",
      "//anaconda/lib/python2.7/site-packages/matplotlib/__init__.py:878: UserWarning: axes.color_cycle is deprecated and replaced with axes.prop_cycle; please use the latter.\n",
      "  warnings.warn(self.msg_depr % (key, alt_key))\n",
      "//anaconda/lib/python2.7/site-packages/sklearn/cross_validation.py:41: DeprecationWarning: This module was deprecated in version 0.18 in favor of the model_selection module into which all the refactored classes and functions are moved. Also note that the interface of the new CV iterators are different from that of this module. This module will be removed in 0.20.\n",
      "  \"This module will be removed in 0.20.\", DeprecationWarning)\n"
     ]
    }
   ],
   "source": [
    "import pandas as pd\n",
    "import numpy as np\n",
    "import matplotlib.pyplot as plt\n",
    "import seaborn as sns\n",
    "from sklearn.linear_model import LinearRegression\n",
    "from sklearn.discriminant_analysis import LinearDiscriminantAnalysis\n",
    "from sklearn.cross_validation import train_test_split, cross_val_score\n",
    "from sklearn.metrics import mean_squared_error, r2_score\n",
    "from sklearn.ensemble import RandomForestRegressor, AdaBoostRegressor\n",
    "from sklearn.neighbors import KNeighborsRegressor\n",
    "from sklearn.preprocessing import QuantileTransformer, Normalizer\n",
    "import statsmodels.api as sm\n",
    "%matplotlib inline"
   ]
  },
  {
   "cell_type": "markdown",
   "metadata": {},
   "source": [
    "##Load data"
   ]
  },
  {
   "cell_type": "code",
   "execution_count": 2,
   "metadata": {
    "collapsed": true
   },
   "outputs": [],
   "source": [
    "num_prev_blocks = 50"
   ]
  },
  {
   "cell_type": "code",
   "execution_count": 3,
   "metadata": {
    "collapsed": true
   },
   "outputs": [],
   "source": [
    "df = pd.read_csv('./../data/data_filtered.csv')"
   ]
  },
  {
   "cell_type": "code",
   "execution_count": 4,
   "metadata": {
    "collapsed": true
   },
   "outputs": [],
   "source": [
    "df_avg = pd.read_csv('./../data/block_avg_{}.csv'.format(num_prev_blocks))"
   ]
  },
  {
   "cell_type": "code",
   "execution_count": 5,
   "metadata": {
    "collapsed": false
   },
   "outputs": [
    {
     "data": {
      "text/plain": [
       "(14470,)"
      ]
     },
     "execution_count": 5,
     "metadata": {},
     "output_type": "execute_result"
    }
   ],
   "source": [
    "np.unique(df['block_id'].values).shape"
   ]
  },
  {
   "cell_type": "markdown",
   "metadata": {},
   "source": [
    "##Merge data"
   ]
  },
  {
   "cell_type": "code",
   "execution_count": 6,
   "metadata": {
    "collapsed": false
   },
   "outputs": [
    {
     "data": {
      "text/plain": [
       "Index([u'Unnamed: 0', u'hash_t', u'accountNonce', u'amount', u'block_id',\n",
       "       u'gasLimit_t', u'gasUsed_t', u'newContract', u'price', u'time_t',\n",
       "       u'txIndex', u'type', u'blockTime', u'difficulty', u'gasLimit_b',\n",
       "       u'gasUsed_b', u'reward', u'size', u'time_b', u'totalFee', u'tx_count',\n",
       "       u'uncle_count', u'amount_binary', u'price_gwei', u'day', u'hour',\n",
       "       u'minute', u'second', u'dayofweek', u'amount_eth', u'type_enc',\n",
       "       u'txcnt_second', u'avg_gasUsed_t_perblock', u'avg_price_perblock'],\n",
       "      dtype='object')"
      ]
     },
     "execution_count": 6,
     "metadata": {},
     "output_type": "execute_result"
    }
   ],
   "source": [
    "df.columns"
   ]
  },
  {
   "cell_type": "code",
   "execution_count": 7,
   "metadata": {
    "collapsed": false
   },
   "outputs": [
    {
     "data": {
      "text/plain": [
       "Index([u'Unnamed: 0', u'avg_blocktime', u'avg_gasUsed_b', u'avg_tx_count',\n",
       "       u'avg_uncle_count', u'avg_difficulty', u'avg_txcnt_second',\n",
       "       u'avg_gasUsed_t', u'avg_price', u'blockids'],\n",
       "      dtype='object')"
      ]
     },
     "execution_count": 7,
     "metadata": {},
     "output_type": "execute_result"
    }
   ],
   "source": [
    "df_avg.columns"
   ]
  },
  {
   "cell_type": "code",
   "execution_count": 8,
   "metadata": {
    "collapsed": true
   },
   "outputs": [],
   "source": [
    "df.drop('Unnamed: 0', axis=1, inplace=True)"
   ]
  },
  {
   "cell_type": "code",
   "execution_count": 9,
   "metadata": {
    "collapsed": true
   },
   "outputs": [],
   "source": [
    "df_avg.drop('Unnamed: 0', axis=1, inplace=True)"
   ]
  },
  {
   "cell_type": "code",
   "execution_count": 10,
   "metadata": {
    "collapsed": false
   },
   "outputs": [
    {
     "data": {
      "text/plain": [
       "(14470, 9)"
      ]
     },
     "execution_count": 10,
     "metadata": {},
     "output_type": "execute_result"
    }
   ],
   "source": [
    "df_avg.shape"
   ]
  },
  {
   "cell_type": "code",
   "execution_count": 11,
   "metadata": {
    "collapsed": false
   },
   "outputs": [
    {
     "data": {
      "text/plain": [
       "42"
      ]
     },
     "execution_count": 11,
     "metadata": {},
     "output_type": "execute_result"
    }
   ],
   "source": [
    "df.shape[1] + df_avg.shape[1]"
   ]
  },
  {
   "cell_type": "code",
   "execution_count": 12,
   "metadata": {
    "collapsed": false
   },
   "outputs": [
    {
     "data": {
      "text/html": [
       "<div>\n",
       "<style>\n",
       "    .dataframe thead tr:only-child th {\n",
       "        text-align: right;\n",
       "    }\n",
       "\n",
       "    .dataframe thead th {\n",
       "        text-align: left;\n",
       "    }\n",
       "\n",
       "    .dataframe tbody tr th {\n",
       "        vertical-align: top;\n",
       "    }\n",
       "</style>\n",
       "<table border=\"1\" class=\"dataframe\">\n",
       "  <thead>\n",
       "    <tr style=\"text-align: right;\">\n",
       "      <th></th>\n",
       "      <th>avg_blocktime</th>\n",
       "      <th>avg_gasUsed_b</th>\n",
       "      <th>avg_tx_count</th>\n",
       "      <th>avg_uncle_count</th>\n",
       "      <th>avg_difficulty</th>\n",
       "      <th>avg_txcnt_second</th>\n",
       "      <th>avg_gasUsed_t</th>\n",
       "      <th>avg_price</th>\n",
       "      <th>blockids</th>\n",
       "    </tr>\n",
       "  </thead>\n",
       "  <tbody>\n",
       "    <tr>\n",
       "      <th>0</th>\n",
       "      <td>NaN</td>\n",
       "      <td>NaN</td>\n",
       "      <td>NaN</td>\n",
       "      <td>NaN</td>\n",
       "      <td>NaN</td>\n",
       "      <td>NaN</td>\n",
       "      <td>NaN</td>\n",
       "      <td>NaN</td>\n",
       "      <td>4286251</td>\n",
       "    </tr>\n",
       "    <tr>\n",
       "      <th>1</th>\n",
       "      <td>NaN</td>\n",
       "      <td>NaN</td>\n",
       "      <td>NaN</td>\n",
       "      <td>NaN</td>\n",
       "      <td>NaN</td>\n",
       "      <td>NaN</td>\n",
       "      <td>NaN</td>\n",
       "      <td>NaN</td>\n",
       "      <td>4286252</td>\n",
       "    </tr>\n",
       "    <tr>\n",
       "      <th>2</th>\n",
       "      <td>NaN</td>\n",
       "      <td>NaN</td>\n",
       "      <td>NaN</td>\n",
       "      <td>NaN</td>\n",
       "      <td>NaN</td>\n",
       "      <td>NaN</td>\n",
       "      <td>NaN</td>\n",
       "      <td>NaN</td>\n",
       "      <td>4286253</td>\n",
       "    </tr>\n",
       "    <tr>\n",
       "      <th>3</th>\n",
       "      <td>NaN</td>\n",
       "      <td>NaN</td>\n",
       "      <td>NaN</td>\n",
       "      <td>NaN</td>\n",
       "      <td>NaN</td>\n",
       "      <td>NaN</td>\n",
       "      <td>NaN</td>\n",
       "      <td>NaN</td>\n",
       "      <td>4286254</td>\n",
       "    </tr>\n",
       "    <tr>\n",
       "      <th>4</th>\n",
       "      <td>NaN</td>\n",
       "      <td>NaN</td>\n",
       "      <td>NaN</td>\n",
       "      <td>NaN</td>\n",
       "      <td>NaN</td>\n",
       "      <td>NaN</td>\n",
       "      <td>NaN</td>\n",
       "      <td>NaN</td>\n",
       "      <td>4286255</td>\n",
       "    </tr>\n",
       "  </tbody>\n",
       "</table>\n",
       "</div>"
      ],
      "text/plain": [
       "   avg_blocktime  avg_gasUsed_b  avg_tx_count  avg_uncle_count  \\\n",
       "0            NaN            NaN           NaN              NaN   \n",
       "1            NaN            NaN           NaN              NaN   \n",
       "2            NaN            NaN           NaN              NaN   \n",
       "3            NaN            NaN           NaN              NaN   \n",
       "4            NaN            NaN           NaN              NaN   \n",
       "\n",
       "   avg_difficulty  avg_txcnt_second  avg_gasUsed_t  avg_price  blockids  \n",
       "0             NaN               NaN            NaN        NaN   4286251  \n",
       "1             NaN               NaN            NaN        NaN   4286252  \n",
       "2             NaN               NaN            NaN        NaN   4286253  \n",
       "3             NaN               NaN            NaN        NaN   4286254  \n",
       "4             NaN               NaN            NaN        NaN   4286255  "
      ]
     },
     "execution_count": 12,
     "metadata": {},
     "output_type": "execute_result"
    }
   ],
   "source": [
    "df_avg.head()"
   ]
  },
  {
   "cell_type": "code",
   "execution_count": 13,
   "metadata": {
    "collapsed": false
   },
   "outputs": [],
   "source": [
    "merged = pd.merge(df, df_avg, left_on='block_id', right_on='blockids')"
   ]
  },
  {
   "cell_type": "code",
   "execution_count": 14,
   "metadata": {
    "collapsed": false
   },
   "outputs": [
    {
     "data": {
      "text/plain": [
       "Index([u'hash_t', u'accountNonce', u'amount', u'block_id', u'gasLimit_t',\n",
       "       u'gasUsed_t', u'newContract', u'price', u'time_t', u'txIndex', u'type',\n",
       "       u'blockTime', u'difficulty', u'gasLimit_b', u'gasUsed_b', u'reward',\n",
       "       u'size', u'time_b', u'totalFee', u'tx_count', u'uncle_count',\n",
       "       u'amount_binary', u'price_gwei', u'day', u'hour', u'minute', u'second',\n",
       "       u'dayofweek', u'amount_eth', u'type_enc', u'txcnt_second',\n",
       "       u'avg_gasUsed_t_perblock', u'avg_price_perblock', u'avg_blocktime',\n",
       "       u'avg_gasUsed_b', u'avg_tx_count', u'avg_uncle_count',\n",
       "       u'avg_difficulty', u'avg_txcnt_second', u'avg_gasUsed_t', u'avg_price',\n",
       "       u'blockids'],\n",
       "      dtype='object')"
      ]
     },
     "execution_count": 14,
     "metadata": {},
     "output_type": "execute_result"
    }
   ],
   "source": [
    "merged.columns"
   ]
  },
  {
   "cell_type": "code",
   "execution_count": 15,
   "metadata": {
    "collapsed": false
   },
   "outputs": [
    {
     "data": {
      "text/plain": [
       "(629224, 42)"
      ]
     },
     "execution_count": 15,
     "metadata": {},
     "output_type": "execute_result"
    }
   ],
   "source": [
    "merged.shape"
   ]
  },
  {
   "cell_type": "code",
   "execution_count": 16,
   "metadata": {
    "collapsed": false
   },
   "outputs": [
    {
     "name": "stdout",
     "output_type": "stream",
     "text": [
      "('hash_t', 0)\n",
      "('accountNonce', 0)\n",
      "('amount', 0)\n",
      "('block_id', 0)\n",
      "('gasLimit_t', 0)\n",
      "('gasUsed_t', 0)\n",
      "('newContract', 0)\n",
      "('price', 0)\n",
      "('time_t', 0)\n",
      "('txIndex', 534929)\n",
      "('type', 0)\n",
      "('blockTime', 0)\n",
      "('difficulty', 0)\n",
      "('gasLimit_b', 0)\n",
      "('gasUsed_b', 0)\n",
      "('reward', 0)\n",
      "('size', 0)\n",
      "('time_b', 0)\n",
      "('totalFee', 0)\n",
      "('tx_count', 0)\n",
      "('uncle_count', 0)\n",
      "('amount_binary', 0)\n",
      "('price_gwei', 0)\n",
      "('day', 0)\n",
      "('hour', 0)\n",
      "('minute', 0)\n",
      "('second', 0)\n",
      "('dayofweek', 0)\n",
      "('amount_eth', 0)\n",
      "('type_enc', 0)\n",
      "('txcnt_second', 0)\n",
      "('avg_gasUsed_t_perblock', 0)\n",
      "('avg_price_perblock', 0)\n",
      "('avg_blocktime', 4587)\n",
      "('avg_gasUsed_b', 4587)\n",
      "('avg_tx_count', 4587)\n",
      "('avg_uncle_count', 4587)\n",
      "('avg_difficulty', 4587)\n",
      "('avg_txcnt_second', 4587)\n",
      "('avg_gasUsed_t', 4587)\n",
      "('avg_price', 4587)\n",
      "('blockids', 0)\n"
     ]
    }
   ],
   "source": [
    "#find null values\n",
    "for col in merged.columns:\n",
    "    print(col, merged[col].isnull().sum())"
   ]
  },
  {
   "cell_type": "code",
   "execution_count": 17,
   "metadata": {
    "collapsed": true
   },
   "outputs": [],
   "source": [
    "merged.drop('txIndex', axis=1, inplace=True)"
   ]
  },
  {
   "cell_type": "code",
   "execution_count": 18,
   "metadata": {
    "collapsed": true
   },
   "outputs": [],
   "source": [
    "merged.dropna(inplace=True)"
   ]
  },
  {
   "cell_type": "code",
   "execution_count": 19,
   "metadata": {
    "collapsed": false
   },
   "outputs": [
    {
     "name": "stdout",
     "output_type": "stream",
     "text": [
      "('hash_t', 0)\n",
      "('accountNonce', 0)\n",
      "('amount', 0)\n",
      "('block_id', 0)\n",
      "('gasLimit_t', 0)\n",
      "('gasUsed_t', 0)\n",
      "('newContract', 0)\n",
      "('price', 0)\n",
      "('time_t', 0)\n",
      "('type', 0)\n",
      "('blockTime', 0)\n",
      "('difficulty', 0)\n",
      "('gasLimit_b', 0)\n",
      "('gasUsed_b', 0)\n",
      "('reward', 0)\n",
      "('size', 0)\n",
      "('time_b', 0)\n",
      "('totalFee', 0)\n",
      "('tx_count', 0)\n",
      "('uncle_count', 0)\n",
      "('amount_binary', 0)\n",
      "('price_gwei', 0)\n",
      "('day', 0)\n",
      "('hour', 0)\n",
      "('minute', 0)\n",
      "('second', 0)\n",
      "('dayofweek', 0)\n",
      "('amount_eth', 0)\n",
      "('type_enc', 0)\n",
      "('txcnt_second', 0)\n",
      "('avg_gasUsed_t_perblock', 0)\n",
      "('avg_price_perblock', 0)\n",
      "('avg_blocktime', 0)\n",
      "('avg_gasUsed_b', 0)\n",
      "('avg_tx_count', 0)\n",
      "('avg_uncle_count', 0)\n",
      "('avg_difficulty', 0)\n",
      "('avg_txcnt_second', 0)\n",
      "('avg_gasUsed_t', 0)\n",
      "('avg_price', 0)\n",
      "('blockids', 0)\n"
     ]
    }
   ],
   "source": [
    "#find null values\n",
    "for col in merged.columns:\n",
    "    print(col, merged[col].isnull().sum())"
   ]
  },
  {
   "cell_type": "code",
   "execution_count": 20,
   "metadata": {
    "collapsed": false
   },
   "outputs": [
    {
     "data": {
      "text/plain": [
       "(0, 100)"
      ]
     },
     "execution_count": 20,
     "metadata": {},
     "output_type": "execute_result"
    },
    {
     "data": {
      "image/png": "[encoded data removed]",
      "text/plain": [
       "<matplotlib.figure.Figure at 0x11a8387d0>"
      ]
     },
     "metadata": {},
     "output_type": "display_data"
    }
   ],
   "source": [
    "merged['price_gwei'].hist(bins=2000)\n",
    "plt.xlim(0,100)"
   ]
  },
  {
   "cell_type": "code",
   "execution_count": 21,
   "metadata": {
    "collapsed": false
   },
   "outputs": [
    {
     "data": {
      "text/plain": [
       "array([ 3.04452244,  3.04452244,  3.04452244, ...,  3.04452244,\n",
       "        3.04452244,  3.40119738])"
      ]
     },
     "execution_count": 21,
     "metadata": {},
     "output_type": "execute_result"
    }
   ],
   "source": [
    "np.log(merged['price_gwei'].values)"
   ]
  },
  {
   "cell_type": "code",
   "execution_count": 22,
   "metadata": {
    "collapsed": false
   },
   "outputs": [
    {
     "data": {
      "text/plain": [
       "<matplotlib.collections.PathCollection at 0x10a9a62d0>"
      ]
     },
     "execution_count": 22,
     "metadata": {},
     "output_type": "execute_result"
    },
    {
     "data": {
      "image/png": "[encoded data removed]",
      "text/plain": [
       "<matplotlib.figure.Figure at 0x10e515d50>"
      ]
     },
     "metadata": {},
     "output_type": "display_data"
    }
   ],
   "source": [
    "plt.scatter(np.log(merged['amount_eth'].values), np.log(merged['price_gwei'].values))"
   ]
  },
  {
   "cell_type": "code",
   "execution_count": 23,
   "metadata": {
    "collapsed": false
   },
   "outputs": [
    {
     "data": {
      "text/plain": [
       "<matplotlib.axes._subplots.AxesSubplot at 0x10a97f090>"
      ]
     },
     "execution_count": 23,
     "metadata": {},
     "output_type": "execute_result"
    },
    {
     "data": {
      "image/png": "[encoded data removed]",
      "text/plain": [
       "<matplotlib.figure.Figure at 0x10a41cc50>"
      ]
     },
     "metadata": {},
     "output_type": "display_data"
    }
   ],
   "source": [
    "merged['avg_blocktime'].hist()"
   ]
  },
  {
   "cell_type": "code",
   "execution_count": 24,
   "metadata": {
    "collapsed": false
   },
   "outputs": [
    {
     "data": {
      "text/plain": [
       "<matplotlib.collections.PathCollection at 0x10aa72790>"
      ]
     },
     "execution_count": 24,
     "metadata": {},
     "output_type": "execute_result"
    },
    {
     "data": {
      "image/png": "[encoded data removed]",
      "text/plain": [
       "<matplotlib.figure.Figure at 0x10e53c450>"
      ]
     },
     "metadata": {},
     "output_type": "display_data"
    }
   ],
   "source": [
    "plt.scatter(merged['avg_blocktime'], merged['price_gwei'])"
   ]
  },
  {
   "cell_type": "markdown",
   "metadata": {},
   "source": [
    "#Select features for modeling"
   ]
  },
  {
   "cell_type": "code",
   "execution_count": 25,
   "metadata": {
    "collapsed": false
   },
   "outputs": [],
   "source": [
    "features = [\n",
    "        'newContract',\n",
    "        'day',\n",
    "        'hour',\n",
    "        'dayofweek',\n",
    "        'amount_eth',\n",
    "        'type_enc',\n",
    "        'avg_price',\n",
    "        'avg_blocktime',\n",
    "        'avg_gasUsed_b',\n",
    "        'avg_tx_count',\n",
    "        'avg_uncle_count',\n",
    "        'avg_difficulty',\n",
    "        'avg_txcnt_second',\n",
    "        'avg_gasUsed_t'\n",
    "        ]\n",
    "X = merged[features].values\n",
    "y = merged['price_gwei'].values\n",
    "X_train, X_test, y_train, y_test = train_test_split(X, y)"
   ]
  },
  {
   "cell_type": "markdown",
   "metadata": {},
   "source": [
    "###Scale features"
   ]
  },
  {
   "cell_type": "code",
   "execution_count": 26,
   "metadata": {
    "collapsed": false
   },
   "outputs": [],
   "source": [
    "#sklearn quantile transformer\n",
    "quantile_transformer = QuantileTransformer(output_distribution='normal', random_state=0)\n",
    "X_train_trans = quantile_transformer.fit_transform(X_train)\n",
    "X_test_trans = quantile_transformer.transform(X_test)"
   ]
  },
  {
   "cell_type": "code",
   "execution_count": 27,
   "metadata": {
    "collapsed": false
   },
   "outputs": [],
   "source": [
    "#normalize\n",
    "normalizer = Normalizer().fit(X_train)\n",
    "X_train_norm = normalizer.transform(X_train) \n",
    "normalizer = Normalizer().fit(X_test)\n",
    "X_test_norm = normalizer.transform(X_test) "
   ]
  },
  {
   "cell_type": "markdown",
   "metadata": {},
   "source": [
    "##Linear regression"
   ]
  },
  {
   "cell_type": "code",
   "execution_count": 28,
   "metadata": {
    "collapsed": true
   },
   "outputs": [],
   "source": [
    "def linear_regression(X_train, X_test, y_train, y_test):\n",
    "    lr = LinearRegression()\n",
    "    lr.fit(X_train, y_train)\n",
    "    y_pred = lr.predict(X_test)\n",
    "    scores = cross_val_score(lr, X_train, y_train, scoring='r2', cv=5)\n",
    "    print('MSE: {}'.format(mean_squared_error(y_test, y_pred)))\n",
    "    print('R2_score: {}'.format(r2_score(y_test, y_pred)))\n",
    "    print('avg_CV_score: {}'.format(np.mean(scores)))\n",
    "    return lr"
   ]
  },
  {
   "cell_type": "code",
   "execution_count": 29,
   "metadata": {
    "collapsed": false
   },
   "outputs": [
    {
     "name": "stdout",
     "output_type": "stream",
     "text": [
      "MSE: 7588.98821218\n",
      "R2_score: 0.0101372193301\n",
      "avg_CV_score: 0.0103448109223\n"
     ]
    },
    {
     "name": "stderr",
     "output_type": "stream",
     "text": [
      "//anaconda/lib/python2.7/site-packages/scipy/linalg/basic.py:1018: RuntimeWarning: internal gelsd driver lwork query error, required iwork dimension not returned. This is likely the result of LAPACK bug 0038, fixed in LAPACK 3.2.2 (released July 21, 2010). Falling back to 'gelss' driver.\n",
      "  warnings.warn(mesg, RuntimeWarning)\n"
     ]
    },
    {
     "data": {
      "text/plain": [
       "LinearRegression(copy_X=True, fit_intercept=True, n_jobs=1, normalize=False)"
      ]
     },
     "execution_count": 29,
     "metadata": {},
     "output_type": "execute_result"
    }
   ],
   "source": [
    "linear_regression(X_train, X_test, y_train, y_test)"
   ]
  },
  {
   "cell_type": "code",
   "execution_count": 30,
   "metadata": {
    "collapsed": false
   },
   "outputs": [
    {
     "data": {
      "text/html": [
       "<table class=\"simpletable\">\n",
       "<caption>OLS Regression Results</caption>\n",
       "<tr>\n",
       "  <th>Dep. Variable:</th>            <td>y</td>        <th>  R-squared:         </th>  <td>   0.008</td>  \n",
       "</tr>\n",
       "<tr>\n",
       "  <th>Model:</th>                   <td>OLS</td>       <th>  Adj. R-squared:    </th>  <td>   0.008</td>  \n",
       "</tr>\n",
       "<tr>\n",
       "  <th>Method:</th>             <td>Least Squares</td>  <th>  F-statistic:       </th>  <td>   963.5</td>  \n",
       "</tr>\n",
       "<tr>\n",
       "  <th>Date:</th>             <td>Sat, 30 Sep 2017</td> <th>  Prob (F-statistic):</th>   <td>  0.00</td>   \n",
       "</tr>\n",
       "<tr>\n",
       "  <th>Time:</th>                 <td>11:48:11</td>     <th>  Log-Likelihood:    </th> <td>-2.7416e+06</td>\n",
       "</tr>\n",
       "<tr>\n",
       "  <th>No. Observations:</th>      <td>468477</td>      <th>  AIC:               </th>  <td>5.483e+06</td> \n",
       "</tr>\n",
       "<tr>\n",
       "  <th>Df Residuals:</th>          <td>468472</td>      <th>  BIC:               </th>  <td>5.483e+06</td> \n",
       "</tr>\n",
       "<tr>\n",
       "  <th>Df Model:</th>              <td>     4</td>      <th>                     </th>      <td> </td>     \n",
       "</tr>\n",
       "<tr>\n",
       "  <th>Covariance Type:</th>      <td>nonrobust</td>    <th>                     </th>      <td> </td>     \n",
       "</tr>\n",
       "</table>\n",
       "<table class=\"simpletable\">\n",
       "<tr>\n",
       "   <td></td>      <th>coef</th>     <th>std err</th>      <th>t</th>      <th>P>|t|</th>  <th>[0.025</th>    <th>0.975]</th>  \n",
       "</tr>\n",
       "<tr>\n",
       "  <th>x1</th>  <td>-1.916e-07</td> <td> 2.81e-08</td> <td>   -6.820</td> <td> 0.000</td> <td>-2.47e-07</td> <td>-1.37e-07</td>\n",
       "</tr>\n",
       "<tr>\n",
       "  <th>x2</th>  <td>    0.0437</td> <td>    0.006</td> <td>    7.579</td> <td> 0.000</td> <td>    0.032</td> <td>    0.055</td>\n",
       "</tr>\n",
       "<tr>\n",
       "  <th>x3</th>  <td>    0.1148</td> <td>    0.019</td> <td>    6.118</td> <td> 0.000</td> <td>    0.078</td> <td>    0.152</td>\n",
       "</tr>\n",
       "<tr>\n",
       "  <th>x4</th>  <td>   -0.0187</td> <td>    0.003</td> <td>   -7.245</td> <td> 0.000</td> <td>   -0.024</td> <td>   -0.014</td>\n",
       "</tr>\n",
       "<tr>\n",
       "  <th>x5</th>  <td>    0.0422</td> <td>    0.001</td> <td>   43.343</td> <td> 0.000</td> <td>    0.040</td> <td>    0.044</td>\n",
       "</tr>\n",
       "<tr>\n",
       "  <th>x6</th>  <td>    0.0127</td> <td>    0.001</td> <td>   16.646</td> <td> 0.000</td> <td>    0.011</td> <td>    0.014</td>\n",
       "</tr>\n",
       "<tr>\n",
       "  <th>x7</th>  <td>    0.8724</td> <td>    0.015</td> <td>   59.623</td> <td> 0.000</td> <td>    0.844</td> <td>    0.901</td>\n",
       "</tr>\n",
       "<tr>\n",
       "  <th>x8</th>  <td>    0.2656</td> <td>    0.029</td> <td>    9.280</td> <td> 0.000</td> <td>    0.209</td> <td>    0.322</td>\n",
       "</tr>\n",
       "<tr>\n",
       "  <th>x9</th>  <td> 7.307e-07</td> <td> 2.11e-07</td> <td>    3.471</td> <td> 0.001</td> <td> 3.18e-07</td> <td> 1.14e-06</td>\n",
       "</tr>\n",
       "<tr>\n",
       "  <th>x10</th> <td>    0.0043</td> <td>    0.006</td> <td>    0.674</td> <td> 0.500</td> <td>   -0.008</td> <td>    0.017</td>\n",
       "</tr>\n",
       "<tr>\n",
       "  <th>x11</th> <td>-8.441e-05</td> <td>  2.7e-05</td> <td>   -3.126</td> <td> 0.002</td> <td>   -0.000</td> <td>-3.15e-05</td>\n",
       "</tr>\n",
       "<tr>\n",
       "  <th>x12</th> <td>-2.924e-15</td> <td> 2.96e-16</td> <td>   -9.870</td> <td> 0.000</td> <td> -3.5e-15</td> <td>-2.34e-15</td>\n",
       "</tr>\n",
       "<tr>\n",
       "  <th>x13</th> <td>   -0.1318</td> <td>    0.009</td> <td>  -14.199</td> <td> 0.000</td> <td>   -0.150</td> <td>   -0.114</td>\n",
       "</tr>\n",
       "<tr>\n",
       "  <th>x14</th> <td>-5.309e-05</td> <td> 7.38e-06</td> <td>   -7.191</td> <td> 0.000</td> <td>-6.76e-05</td> <td>-3.86e-05</td>\n",
       "</tr>\n",
       "</table>\n",
       "<table class=\"simpletable\">\n",
       "<tr>\n",
       "  <th>Omnibus:</th>       <td>1799321.142</td> <th>  Durbin-Watson:     </th>     <td>   2.002</td>     \n",
       "</tr>\n",
       "<tr>\n",
       "  <th>Prob(Omnibus):</th>   <td> 0.000</td>    <th>  Jarque-Bera (JB):  </th> <td>1798231402406.238</td>\n",
       "</tr>\n",
       "<tr>\n",
       "  <th>Skew:</th>            <td>90.467</td>    <th>  Prob(JB):          </th>     <td>    0.00</td>     \n",
       "</tr>\n",
       "<tr>\n",
       "  <th>Kurtosis:</th>       <td>9599.372</td>   <th>  Cond. No.          </th>     <td>1.05e+18</td>     \n",
       "</tr>\n",
       "</table>"
      ],
      "text/plain": [
       "<class 'statsmodels.iolib.summary.Summary'>\n",
       "\"\"\"\n",
       "                            OLS Regression Results                            \n",
       "==============================================================================\n",
       "Dep. Variable:                      y   R-squared:                       0.008\n",
       "Model:                            OLS   Adj. R-squared:                  0.008\n",
       "Method:                 Least Squares   F-statistic:                     963.5\n",
       "Date:                Sat, 30 Sep 2017   Prob (F-statistic):               0.00\n",
       "Time:                        11:48:11   Log-Likelihood:            -2.7416e+06\n",
       "No. Observations:              468477   AIC:                         5.483e+06\n",
       "Df Residuals:                  468472   BIC:                         5.483e+06\n",
       "Df Model:                           4                                         \n",
       "Covariance Type:            nonrobust                                         \n",
       "==============================================================================\n",
       "                 coef    std err          t      P>|t|      [0.025      0.975]\n",
       "------------------------------------------------------------------------------\n",
       "x1         -1.916e-07   2.81e-08     -6.820      0.000   -2.47e-07   -1.37e-07\n",
       "x2             0.0437      0.006      7.579      0.000       0.032       0.055\n",
       "x3             0.1148      0.019      6.118      0.000       0.078       0.152\n",
       "x4            -0.0187      0.003     -7.245      0.000      -0.024      -0.014\n",
       "x5             0.0422      0.001     43.343      0.000       0.040       0.044\n",
       "x6             0.0127      0.001     16.646      0.000       0.011       0.014\n",
       "x7             0.8724      0.015     59.623      0.000       0.844       0.901\n",
       "x8             0.2656      0.029      9.280      0.000       0.209       0.322\n",
       "x9          7.307e-07   2.11e-07      3.471      0.001    3.18e-07    1.14e-06\n",
       "x10            0.0043      0.006      0.674      0.500      -0.008       0.017\n",
       "x11        -8.441e-05    2.7e-05     -3.126      0.002      -0.000   -3.15e-05\n",
       "x12        -2.924e-15   2.96e-16     -9.870      0.000    -3.5e-15   -2.34e-15\n",
       "x13           -0.1318      0.009    -14.199      0.000      -0.150      -0.114\n",
       "x14        -5.309e-05   7.38e-06     -7.191      0.000   -6.76e-05   -3.86e-05\n",
       "==============================================================================\n",
       "Omnibus:                  1799321.142   Durbin-Watson:                   2.002\n",
       "Prob(Omnibus):                  0.000   Jarque-Bera (JB):    1798231402406.238\n",
       "Skew:                          90.467   Prob(JB):                         0.00\n",
       "Kurtosis:                    9599.372   Cond. No.                     1.05e+18\n",
       "==============================================================================\n",
       "\n",
       "Warnings:\n",
       "[1] Standard Errors assume that the covariance matrix of the errors is correctly specified.\n",
       "[2] The condition number is large, 1.05e+18. This might indicate that there are\n",
       "strong multicollinearity or other numerical problems.\n",
       "\"\"\""
      ]
     },
     "execution_count": 30,
     "metadata": {},
     "output_type": "execute_result"
    }
   ],
   "source": [
    "# get summary statistics from statsmodels\n",
    "model = sm.OLS(y_train, X_train)\n",
    "result = model.fit()\n",
    "result.summary()"
   ]
  },
  {
   "cell_type": "code",
   "execution_count": 31,
   "metadata": {
    "collapsed": false
   },
   "outputs": [
    {
     "name": "stdout",
     "output_type": "stream",
     "text": [
      "(1, 'newContract')\n",
      "(2, 'day')\n",
      "(3, 'hour')\n",
      "(4, 'dayofweek')\n",
      "(5, 'amount_eth')\n",
      "(6, 'type_enc')\n",
      "(7, 'avg_price')\n",
      "(8, 'avg_blocktime')\n",
      "(9, 'avg_gasUsed_b')\n",
      "(10, 'avg_tx_count')\n",
      "(11, 'avg_uncle_count')\n",
      "(12, 'avg_difficulty')\n",
      "(13, 'avg_txcnt_second')\n",
      "(14, 'avg_gasUsed_t')\n"
     ]
    }
   ],
   "source": [
    "for num, col in enumerate(merged[features].columns):\n",
    "    print(num+1, col)"
   ]
  },
  {
   "cell_type": "markdown",
   "metadata": {},
   "source": [
    "###Plot the avg MSE with respect to the number of blocks used\n",
    "- Need to determine how many previous blocks to look at in order to get predictive features"
   ]
  },
  {
   "cell_type": "code",
   "execution_count": 32,
   "metadata": {
    "collapsed": false
   },
   "outputs": [
    {
     "data": {
      "image/png": "[encoded data removed]",
      "text/plain": [
       "<matplotlib.figure.Figure at 0x10a82ea10>"
      ]
     },
     "metadata": {},
     "output_type": "display_data"
    }
   ],
   "source": [
    "mse=[9906, 5689.59, 3902.42, 4946.9, 6474.36, 9032.47, 16197.49]\n",
    "num_prev = [10, 25, 50, 100, 2000, 3000, 4000]\n",
    "results = pd.DataFrame({'num_prev_blocks': num_prev, 'mse': mse})\n",
    "sns.pointplot(x=\"num_prev_blocks\", y=\"mse\", data=results, color='r')\n",
    "plt.title('Error with respect to number of previous blocks used')\n",
    "plt.savefig('./../images/mse_prev_blocks.png')"
   ]
  },
  {
   "cell_type": "markdown",
   "metadata": {},
   "source": [
    "The MSE seems to be minimal when using 50 previous blocks"
   ]
  },
  {
   "cell_type": "markdown",
   "metadata": {},
   "source": [
    "##KNN regression"
   ]
  },
  {
   "cell_type": "code",
   "execution_count": 33,
   "metadata": {
    "collapsed": true
   },
   "outputs": [],
   "source": [
    "def knn_regressor(X_train, X_test, y_train, y_test):\n",
    "    model = KNeighborsRegressor(n_neighbors=5, metric='cosine', weights='uniform')\n",
    "    model.fit(X_train, y_train)\n",
    "    y_pred = model.predict(X_test)\n",
    "    print('CV score: {} | MSE: {} | R^2: {}'.format(np.mean(cross_val_score(model, X_train, y_train)), \n",
    "                                                    mean_squared_error(y_test, y_pred), \n",
    "                                                    r2_score(y_test, y_pred)))"
   ]
  },
  {
   "cell_type": "markdown",
   "metadata": {},
   "source": [
    "##Random forest regressor"
   ]
  },
  {
   "cell_type": "code",
   "execution_count": 34,
   "metadata": {
    "collapsed": true
   },
   "outputs": [],
   "source": [
    "def rf_regressor(X_train, X_test, y_train, y_test):\n",
    "    rf = RandomForestRegressor()\n",
    "    rf.fit(X_train, y_train)\n",
    "    y_pred = rf.predict(X_test)\n",
    "    scores = cross_val_score(rf, X_train, y_train, scoring='r2', cv=5)\n",
    "    print('MSE: {}'.format(mean_squared_error(y_test, y_pred)))\n",
    "    print('R2_score: {}'.format(r2_score(y_test, y_pred)))\n",
    "    print('avg_CV_score: {}'.format(np.mean(scores)))\n",
    "    return rf"
   ]
  },
  {
   "cell_type": "code",
   "execution_count": 35,
   "metadata": {
    "collapsed": false
   },
   "outputs": [
    {
     "name": "stdout",
     "output_type": "stream",
     "text": [
      "MSE: 7175.33647945\n",
      "R2_score: 0.064091507167\n",
      "avg_CV_score: 0.0494707596852\n"
     ]
    }
   ],
   "source": [
    "model = rf_regressor(X_train, X_test, y_train, y_test)"
   ]
  },
  {
   "cell_type": "code",
   "execution_count": 36,
   "metadata": {
    "collapsed": true
   },
   "outputs": [],
   "source": [
    "def plot_feature_importance(rf, feature_df):\n",
    "    cols = []\n",
    "    for col in feature_df.columns:\n",
    "        cols.append(col)\n",
    "\n",
    "    feat_scores = pd.DataFrame({'Fraction of Samples Affected' : rf.feature_importances_},\n",
    "                           index=cols)\n",
    "    feat_scores = feat_scores.sort_values(by='Fraction of Samples Affected')\n",
    "    feat_scores.plot(kind='barh', color='r', figsize=(6,6))\n",
    "    plt.xlabel('Importance', fontsize=18)\n",
    "    plt.title('Feature Importance', fontsize=18)\n",
    "    plt.savefig('./../images/feat_import_50.png')"
   ]
  },
  {
   "cell_type": "code",
   "execution_count": 37,
   "metadata": {
    "collapsed": false
   },
   "outputs": [
    {
     "data": {
      "image/png": "[encoded data removed]",
      "text/plain": [
       "<matplotlib.figure.Figure at 0x10e542f50>"
      ]
     },
     "metadata": {},
     "output_type": "display_data"
    }
   ],
   "source": [
    "plot_feature_importance(model, merged[features])"
   ]
  },
  {
   "cell_type": "code",
   "execution_count": null,
   "metadata": {
    "collapsed": true
   },
   "outputs": [],
   "source": []
  },
  {
   "cell_type": "code",
   "execution_count": null,
   "metadata": {
    "collapsed": true
   },
   "outputs": [],
   "source": []
  }
 ],
 "metadata": {
  "kernelspec": {
   "display_name": "Python 2",
   "language": "python",
   "name": "python2"
  },
  "language_info": {
   "codemirror_mode": {
    "name": "ipython",
    "version": 2
   },
   "file_extension": ".py",
   "mimetype": "text/x-python",
   "name": "python",
   "nbconvert_exporter": "python",
   "pygments_lexer": "ipython2",
   "version": "2.7.13"
  }
 },
 "nbformat": 4,
 "nbformat_minor": 0
}
