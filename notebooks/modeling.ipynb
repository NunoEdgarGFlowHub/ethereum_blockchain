{
 "cells": [
  {
   "cell_type": "code",
   "execution_count": 96,
   "metadata": {
    "collapsed": false
   },
   "outputs": [],
   "source": [
    "import pandas as pd\n",
    "import numpy as np\n",
    "import matplotlib.pyplot as plt\n",
    "import seaborn as sns\n",
    "from sklearn.linear_model import LinearRegression\n",
    "from sklearn.discriminant_analysis import LinearDiscriminantAnalysis\n",
    "from sklearn.cross_validation import train_test_split, cross_val_score\n",
    "from sklearn.metrics import mean_squared_error, r2_score\n",
    "from sklearn.ensemble import RandomForestRegressor, AdaBoostRegressor\n",
    "from sklearn.neighbors import KNeighborsRegressor\n",
    "from sklearn.preprocessing import QuantileTransformer, Normalizer\n",
    "import statsmodels.api as sm\n",
    "%matplotlib inline"
   ]
  },
  {
   "cell_type": "markdown",
   "metadata": {},
   "source": [
    "##Load data"
   ]
  },
  {
   "cell_type": "code",
   "execution_count": 97,
   "metadata": {
    "collapsed": true
   },
   "outputs": [],
   "source": [
    "num_prev_blocks = 50"
   ]
  },
  {
   "cell_type": "code",
   "execution_count": 98,
   "metadata": {
    "collapsed": true
   },
   "outputs": [],
   "source": [
    "df = pd.read_csv('./../data/data_filtered.csv')"
   ]
  },
  {
   "cell_type": "code",
   "execution_count": 99,
   "metadata": {
    "collapsed": true
   },
   "outputs": [],
   "source": [
    "df_avg = pd.read_csv('./../data/block_avg_{}.csv'.format(num_prev_blocks))"
   ]
  },
  {
   "cell_type": "code",
   "execution_count": 130,
   "metadata": {
    "collapsed": false
   },
   "outputs": [
    {
     "data": {
      "text/plain": [
       "(14473,)"
      ]
     },
     "execution_count": 130,
     "metadata": {},
     "output_type": "execute_result"
    }
   ],
   "source": [
    "np.unique(df['block_id'].values).shape"
   ]
  },
  {
   "cell_type": "markdown",
   "metadata": {},
   "source": [
    "##Merge data"
   ]
  },
  {
   "cell_type": "code",
   "execution_count": 100,
   "metadata": {
    "collapsed": false
   },
   "outputs": [
    {
     "data": {
      "text/plain": [
       "Index([u'Unnamed: 0', u'hash_t', u'accountNonce', u'amount', u'block_id',\n",
       "       u'gasLimit_t', u'gasUsed_t', u'newContract', u'price', u'time_t',\n",
       "       u'txIndex', u'type', u'blockTime', u'difficulty', u'gasLimit_b',\n",
       "       u'gasUsed_b', u'reward', u'size', u'time_b', u'totalFee', u'tx_count',\n",
       "       u'uncle_count', u'amount_binary', u'price_gwei', u'day', u'hour',\n",
       "       u'minute', u'second', u'dayofweek', u'amount_eth', u'type_enc',\n",
       "       u'txcnt_second', u'avg_gasUsed_t_perblock', u'avg_price_perblock'],\n",
       "      dtype='object')"
      ]
     },
     "execution_count": 100,
     "metadata": {},
     "output_type": "execute_result"
    }
   ],
   "source": [
    "df.columns"
   ]
  },
  {
   "cell_type": "code",
   "execution_count": 101,
   "metadata": {
    "collapsed": false
   },
   "outputs": [
    {
     "data": {
      "text/plain": [
       "Index([u'Unnamed: 0', u'avg_blocktime', u'avg_gasUsed_b', u'avg_tx_count',\n",
       "       u'avg_uncle_count', u'avg_difficulty', u'avg_txcnt_second',\n",
       "       u'avg_gasUsed_t', u'avg_price', u'blockids'],\n",
       "      dtype='object')"
      ]
     },
     "execution_count": 101,
     "metadata": {},
     "output_type": "execute_result"
    }
   ],
   "source": [
    "df_avg.columns"
   ]
  },
  {
   "cell_type": "code",
   "execution_count": 102,
   "metadata": {
    "collapsed": true
   },
   "outputs": [],
   "source": [
    "df.drop('Unnamed: 0', axis=1, inplace=True)"
   ]
  },
  {
   "cell_type": "code",
   "execution_count": 103,
   "metadata": {
    "collapsed": true
   },
   "outputs": [],
   "source": [
    "df_avg.drop('Unnamed: 0', axis=1, inplace=True)"
   ]
  },
  {
   "cell_type": "code",
   "execution_count": 104,
   "metadata": {
    "collapsed": false
   },
   "outputs": [
    {
     "data": {
      "text/plain": [
       "(14473, 9)"
      ]
     },
     "execution_count": 104,
     "metadata": {},
     "output_type": "execute_result"
    }
   ],
   "source": [
    "df_avg.shape"
   ]
  },
  {
   "cell_type": "code",
   "execution_count": 105,
   "metadata": {
    "collapsed": false
   },
   "outputs": [
    {
     "data": {
      "text/plain": [
       "42"
      ]
     },
     "execution_count": 105,
     "metadata": {},
     "output_type": "execute_result"
    }
   ],
   "source": [
    "df.shape[1] + df_avg.shape[1]"
   ]
  },
  {
   "cell_type": "code",
   "execution_count": 106,
   "metadata": {
    "collapsed": false
   },
   "outputs": [
    {
     "data": {
      "text/html": [
       "<div>\n",
       "<style>\n",
       "    .dataframe thead tr:only-child th {\n",
       "        text-align: right;\n",
       "    }\n",
       "\n",
       "    .dataframe thead th {\n",
       "        text-align: left;\n",
       "    }\n",
       "\n",
       "    .dataframe tbody tr th {\n",
       "        vertical-align: top;\n",
       "    }\n",
       "</style>\n",
       "<table border=\"1\" class=\"dataframe\">\n",
       "  <thead>\n",
       "    <tr style=\"text-align: right;\">\n",
       "      <th></th>\n",
       "      <th>avg_blocktime</th>\n",
       "      <th>avg_gasUsed_b</th>\n",
       "      <th>avg_tx_count</th>\n",
       "      <th>avg_uncle_count</th>\n",
       "      <th>avg_difficulty</th>\n",
       "      <th>avg_txcnt_second</th>\n",
       "      <th>avg_gasUsed_t</th>\n",
       "      <th>avg_price</th>\n",
       "      <th>blockids</th>\n",
       "    </tr>\n",
       "  </thead>\n",
       "  <tbody>\n",
       "    <tr>\n",
       "      <th>0</th>\n",
       "      <td>NaN</td>\n",
       "      <td>NaN</td>\n",
       "      <td>NaN</td>\n",
       "      <td>NaN</td>\n",
       "      <td>NaN</td>\n",
       "      <td>NaN</td>\n",
       "      <td>NaN</td>\n",
       "      <td>NaN</td>\n",
       "      <td>4286251</td>\n",
       "    </tr>\n",
       "    <tr>\n",
       "      <th>1</th>\n",
       "      <td>NaN</td>\n",
       "      <td>NaN</td>\n",
       "      <td>NaN</td>\n",
       "      <td>NaN</td>\n",
       "      <td>NaN</td>\n",
       "      <td>NaN</td>\n",
       "      <td>NaN</td>\n",
       "      <td>NaN</td>\n",
       "      <td>4286252</td>\n",
       "    </tr>\n",
       "    <tr>\n",
       "      <th>2</th>\n",
       "      <td>NaN</td>\n",
       "      <td>NaN</td>\n",
       "      <td>NaN</td>\n",
       "      <td>NaN</td>\n",
       "      <td>NaN</td>\n",
       "      <td>NaN</td>\n",
       "      <td>NaN</td>\n",
       "      <td>NaN</td>\n",
       "      <td>4286253</td>\n",
       "    </tr>\n",
       "    <tr>\n",
       "      <th>3</th>\n",
       "      <td>NaN</td>\n",
       "      <td>NaN</td>\n",
       "      <td>NaN</td>\n",
       "      <td>NaN</td>\n",
       "      <td>NaN</td>\n",
       "      <td>NaN</td>\n",
       "      <td>NaN</td>\n",
       "      <td>NaN</td>\n",
       "      <td>4286254</td>\n",
       "    </tr>\n",
       "    <tr>\n",
       "      <th>4</th>\n",
       "      <td>NaN</td>\n",
       "      <td>NaN</td>\n",
       "      <td>NaN</td>\n",
       "      <td>NaN</td>\n",
       "      <td>NaN</td>\n",
       "      <td>NaN</td>\n",
       "      <td>NaN</td>\n",
       "      <td>NaN</td>\n",
       "      <td>4286255</td>\n",
       "    </tr>\n",
       "  </tbody>\n",
       "</table>\n",
       "</div>"
      ],
      "text/plain": [
       "   avg_blocktime  avg_gasUsed_b  avg_tx_count  avg_uncle_count  \\\n",
       "0            NaN            NaN           NaN              NaN   \n",
       "1            NaN            NaN           NaN              NaN   \n",
       "2            NaN            NaN           NaN              NaN   \n",
       "3            NaN            NaN           NaN              NaN   \n",
       "4            NaN            NaN           NaN              NaN   \n",
       "\n",
       "   avg_difficulty  avg_txcnt_second  avg_gasUsed_t  avg_price  blockids  \n",
       "0             NaN               NaN            NaN        NaN   4286251  \n",
       "1             NaN               NaN            NaN        NaN   4286252  \n",
       "2             NaN               NaN            NaN        NaN   4286253  \n",
       "3             NaN               NaN            NaN        NaN   4286254  \n",
       "4             NaN               NaN            NaN        NaN   4286255  "
      ]
     },
     "execution_count": 106,
     "metadata": {},
     "output_type": "execute_result"
    }
   ],
   "source": [
    "df_avg.head()"
   ]
  },
  {
   "cell_type": "code",
   "execution_count": 107,
   "metadata": {
    "collapsed": false
   },
   "outputs": [],
   "source": [
    "merged = pd.merge(df, df_avg, left_on='block_id', right_on='blockids')"
   ]
  },
  {
   "cell_type": "code",
   "execution_count": 108,
   "metadata": {
    "collapsed": false
   },
   "outputs": [
    {
     "data": {
      "text/plain": [
       "Index([u'hash_t', u'accountNonce', u'amount', u'block_id', u'gasLimit_t',\n",
       "       u'gasUsed_t', u'newContract', u'price', u'time_t', u'txIndex', u'type',\n",
       "       u'blockTime', u'difficulty', u'gasLimit_b', u'gasUsed_b', u'reward',\n",
       "       u'size', u'time_b', u'totalFee', u'tx_count', u'uncle_count',\n",
       "       u'amount_binary', u'price_gwei', u'day', u'hour', u'minute', u'second',\n",
       "       u'dayofweek', u'amount_eth', u'type_enc', u'txcnt_second',\n",
       "       u'avg_gasUsed_t_perblock', u'avg_price_perblock', u'avg_blocktime',\n",
       "       u'avg_gasUsed_b', u'avg_tx_count', u'avg_uncle_count',\n",
       "       u'avg_difficulty', u'avg_txcnt_second', u'avg_gasUsed_t', u'avg_price',\n",
       "       u'blockids'],\n",
       "      dtype='object')"
      ]
     },
     "execution_count": 108,
     "metadata": {},
     "output_type": "execute_result"
    }
   ],
   "source": [
    "merged.columns"
   ]
  },
  {
   "cell_type": "code",
   "execution_count": 109,
   "metadata": {
    "collapsed": false
   },
   "outputs": [
    {
     "data": {
      "text/plain": [
       "(631783, 42)"
      ]
     },
     "execution_count": 109,
     "metadata": {},
     "output_type": "execute_result"
    }
   ],
   "source": [
    "merged.shape"
   ]
  },
  {
   "cell_type": "code",
   "execution_count": 110,
   "metadata": {
    "collapsed": false
   },
   "outputs": [
    {
     "name": "stdout",
     "output_type": "stream",
     "text": [
      "('hash_t', 0)\n",
      "('accountNonce', 0)\n",
      "('amount', 0)\n",
      "('block_id', 0)\n",
      "('gasLimit_t', 0)\n",
      "('gasUsed_t', 0)\n",
      "('newContract', 0)\n",
      "('price', 0)\n",
      "('time_t', 0)\n",
      "('txIndex', 535592)\n",
      "('type', 0)\n",
      "('blockTime', 0)\n",
      "('difficulty', 0)\n",
      "('gasLimit_b', 0)\n",
      "('gasUsed_b', 0)\n",
      "('reward', 0)\n",
      "('size', 0)\n",
      "('time_b', 0)\n",
      "('totalFee', 0)\n",
      "('tx_count', 0)\n",
      "('uncle_count', 0)\n",
      "('amount_binary', 0)\n",
      "('price_gwei', 0)\n",
      "('day', 0)\n",
      "('hour', 0)\n",
      "('minute', 0)\n",
      "('second', 0)\n",
      "('dayofweek', 0)\n",
      "('amount_eth', 0)\n",
      "('type_enc', 0)\n",
      "('txcnt_second', 0)\n",
      "('avg_gasUsed_t_perblock', 0)\n",
      "('avg_price_perblock', 0)\n",
      "('avg_blocktime', 4592)\n",
      "('avg_gasUsed_b', 4592)\n",
      "('avg_tx_count', 4592)\n",
      "('avg_uncle_count', 4592)\n",
      "('avg_difficulty', 4592)\n",
      "('avg_txcnt_second', 4592)\n",
      "('avg_gasUsed_t', 4592)\n",
      "('avg_price', 4592)\n",
      "('blockids', 0)\n"
     ]
    }
   ],
   "source": [
    "#find null values\n",
    "for col in merged.columns:\n",
    "    print(col, merged[col].isnull().sum())"
   ]
  },
  {
   "cell_type": "code",
   "execution_count": 111,
   "metadata": {
    "collapsed": true
   },
   "outputs": [],
   "source": [
    "merged.drop('txIndex', axis=1, inplace=True)"
   ]
  },
  {
   "cell_type": "code",
   "execution_count": 112,
   "metadata": {
    "collapsed": true
   },
   "outputs": [],
   "source": [
    "merged.dropna(inplace=True)"
   ]
  },
  {
   "cell_type": "code",
   "execution_count": 113,
   "metadata": {
    "collapsed": false
   },
   "outputs": [
    {
     "name": "stdout",
     "output_type": "stream",
     "text": [
      "('hash_t', 0)\n",
      "('accountNonce', 0)\n",
      "('amount', 0)\n",
      "('block_id', 0)\n",
      "('gasLimit_t', 0)\n",
      "('gasUsed_t', 0)\n",
      "('newContract', 0)\n",
      "('price', 0)\n",
      "('time_t', 0)\n",
      "('type', 0)\n",
      "('blockTime', 0)\n",
      "('difficulty', 0)\n",
      "('gasLimit_b', 0)\n",
      "('gasUsed_b', 0)\n",
      "('reward', 0)\n",
      "('size', 0)\n",
      "('time_b', 0)\n",
      "('totalFee', 0)\n",
      "('tx_count', 0)\n",
      "('uncle_count', 0)\n",
      "('amount_binary', 0)\n",
      "('price_gwei', 0)\n",
      "('day', 0)\n",
      "('hour', 0)\n",
      "('minute', 0)\n",
      "('second', 0)\n",
      "('dayofweek', 0)\n",
      "('amount_eth', 0)\n",
      "('type_enc', 0)\n",
      "('txcnt_second', 0)\n",
      "('avg_gasUsed_t_perblock', 0)\n",
      "('avg_price_perblock', 0)\n",
      "('avg_blocktime', 0)\n",
      "('avg_gasUsed_b', 0)\n",
      "('avg_tx_count', 0)\n",
      "('avg_uncle_count', 0)\n",
      "('avg_difficulty', 0)\n",
      "('avg_txcnt_second', 0)\n",
      "('avg_gasUsed_t', 0)\n",
      "('avg_price', 0)\n",
      "('blockids', 0)\n"
     ]
    }
   ],
   "source": [
    "#find null values\n",
    "for col in merged.columns:\n",
    "    print(col, merged[col].isnull().sum())"
   ]
  },
  {
   "cell_type": "code",
   "execution_count": 114,
   "metadata": {
    "collapsed": false
   },
   "outputs": [
    {
     "data": {
      "text/plain": [
       "(0, 100)"
      ]
     },
     "execution_count": 114,
     "metadata": {},
     "output_type": "execute_result"
    },
    {
     "data": {
      "image/png": "[encoded data removed]",
      "text/plain": [
       "<matplotlib.figure.Figure at 0x119041fd0>"
      ]
     },
     "metadata": {},
     "output_type": "display_data"
    }
   ],
   "source": [
    "merged['price_gwei'].hist(bins=2000)\n",
    "plt.xlim(0,100)"
   ]
  },
  {
   "cell_type": "code",
   "execution_count": 115,
   "metadata": {
    "collapsed": false
   },
   "outputs": [
    {
     "data": {
      "text/plain": [
       "array([ 3.04452244,  3.04452244,  3.04452244, ...,  3.04452244,\n",
       "        3.04452244,  3.40119738])"
      ]
     },
     "execution_count": 115,
     "metadata": {},
     "output_type": "execute_result"
    }
   ],
   "source": [
    "np.log(merged['price_gwei'].values)"
   ]
  },
  {
   "cell_type": "code",
   "execution_count": 116,
   "metadata": {
    "collapsed": false
   },
   "outputs": [
    {
     "data": {
      "text/plain": [
       "<matplotlib.collections.PathCollection at 0x11cd3d790>"
      ]
     },
     "execution_count": 116,
     "metadata": {},
     "output_type": "execute_result"
    },
    {
     "data": {
      "image/png": "[encoded data removed]",
      "text/plain": [
       "<matplotlib.figure.Figure at 0x1225ca5d0>"
      ]
     },
     "metadata": {},
     "output_type": "display_data"
    }
   ],
   "source": [
    "plt.scatter(np.log(merged['amount_eth'].values), np.log(merged['price_gwei'].values))"
   ]
  },
  {
   "cell_type": "code",
   "execution_count": 117,
   "metadata": {
    "collapsed": false
   },
   "outputs": [
    {
     "data": {
      "text/plain": [
       "<matplotlib.axes._subplots.AxesSubplot at 0x11ce0b1d0>"
      ]
     },
     "execution_count": 117,
     "metadata": {},
     "output_type": "execute_result"
    },
    {
     "data": {
      "image/png": "[encoded data removed]",
      "text/plain": [
       "<matplotlib.figure.Figure at 0x11ce16bd0>"
      ]
     },
     "metadata": {},
     "output_type": "display_data"
    }
   ],
   "source": [
    "merged['avg_blocktime'].hist()"
   ]
  },
  {
   "cell_type": "code",
   "execution_count": 118,
   "metadata": {
    "collapsed": false
   },
   "outputs": [
    {
     "data": {
      "text/plain": [
       "<matplotlib.collections.PathCollection at 0x118ea1e50>"
      ]
     },
     "execution_count": 118,
     "metadata": {},
     "output_type": "execute_result"
    },
    {
     "data": {
      "image/png": "[encoded data removed]",
      "text/plain": [
       "<matplotlib.figure.Figure at 0x119055c50>"
      ]
     },
     "metadata": {},
     "output_type": "display_data"
    }
   ],
   "source": [
    "plt.scatter(merged['avg_blocktime'], merged['price_gwei'])"
   ]
  },
  {
   "cell_type": "markdown",
   "metadata": {},
   "source": [
    "#Select features for modeling"
   ]
  },
  {
   "cell_type": "code",
   "execution_count": 119,
   "metadata": {
    "collapsed": false
   },
   "outputs": [],
   "source": [
    "features = [\n",
    "        'newContract',\n",
    "        'day',\n",
    "        'hour',\n",
    "        'dayofweek',\n",
    "        'amount_eth',\n",
    "        'type_enc',\n",
    "        'avg_price',\n",
    "        'avg_blocktime',\n",
    "        'avg_gasUsed_b',\n",
    "        'avg_tx_count',\n",
    "        'avg_uncle_count',\n",
    "        'avg_difficulty',\n",
    "        'avg_txcnt_second',\n",
    "        'avg_gasUsed_t'\n",
    "        ]\n",
    "X = merged[features].values\n",
    "y = merged['price_gwei'].values\n",
    "X_train, X_test, y_train, y_test = train_test_split(X, y)"
   ]
  },
  {
   "cell_type": "markdown",
   "metadata": {},
   "source": [
    "###Scale features"
   ]
  },
  {
   "cell_type": "code",
   "execution_count": 120,
   "metadata": {
    "collapsed": false
   },
   "outputs": [],
   "source": [
    "#sklearn quantile transformer\n",
    "quantile_transformer = QuantileTransformer(output_distribution='normal', random_state=0)\n",
    "X_train_trans = quantile_transformer.fit_transform(X_train)\n",
    "X_test_trans = quantile_transformer.transform(X_test)"
   ]
  },
  {
   "cell_type": "code",
   "execution_count": 121,
   "metadata": {
    "collapsed": false
   },
   "outputs": [],
   "source": [
    "#normalize\n",
    "normalizer = Normalizer().fit(X_train)\n",
    "X_train_norm = normalizer.transform(X_train) \n",
    "normalizer = Normalizer().fit(X_test)\n",
    "X_test_norm = normalizer.transform(X_test) "
   ]
  },
  {
   "cell_type": "markdown",
   "metadata": {},
   "source": [
    "##Linear regression"
   ]
  },
  {
   "cell_type": "code",
   "execution_count": 122,
   "metadata": {
    "collapsed": true
   },
   "outputs": [],
   "source": [
    "def linear_regression(X_train, X_test, y_train, y_test):\n",
    "    lr = LinearRegression()\n",
    "    lr.fit(X_train, y_train)\n",
    "    y_pred = lr.predict(X_test)\n",
    "    scores = cross_val_score(lr, X_train, y_train, scoring='r2', cv=5)\n",
    "    print('MSE: {}'.format(mean_squared_error(y_test, y_pred)))\n",
    "    print('R2_score: {}'.format(r2_score(y_test, y_pred)))\n",
    "    print('avg_CV_score: {}'.format(np.mean(scores)))\n",
    "    return lr"
   ]
  },
  {
   "cell_type": "code",
   "execution_count": 123,
   "metadata": {
    "collapsed": false
   },
   "outputs": [
    {
     "name": "stdout",
     "output_type": "stream",
     "text": [
      "MSE: 4377.97056813\n",
      "R2_score: 0.0153912517529\n",
      "avg_CV_score: 0.0108264076429\n"
     ]
    },
    {
     "data": {
      "text/plain": [
       "LinearRegression(copy_X=True, fit_intercept=True, n_jobs=1, normalize=False)"
      ]
     },
     "execution_count": 123,
     "metadata": {},
     "output_type": "execute_result"
    }
   ],
   "source": [
    "linear_regression(X_train, X_test, y_train, y_test)"
   ]
  },
  {
   "cell_type": "code",
   "execution_count": 124,
   "metadata": {
    "collapsed": false
   },
   "outputs": [
    {
     "data": {
      "text/html": [
       "<table class=\"simpletable\">\n",
       "<caption>OLS Regression Results</caption>\n",
       "<tr>\n",
       "  <th>Dep. Variable:</th>            <td>y</td>        <th>  R-squared:         </th>  <td>   0.007</td>  \n",
       "</tr>\n",
       "<tr>\n",
       "  <th>Model:</th>                   <td>OLS</td>       <th>  Adj. R-squared:    </th>  <td>   0.007</td>  \n",
       "</tr>\n",
       "<tr>\n",
       "  <th>Method:</th>             <td>Least Squares</td>  <th>  F-statistic:       </th>  <td>   860.2</td>  \n",
       "</tr>\n",
       "<tr>\n",
       "  <th>Date:</th>             <td>Fri, 29 Sep 2017</td> <th>  Prob (F-statistic):</th>   <td>  0.00</td>   \n",
       "</tr>\n",
       "<tr>\n",
       "  <th>Time:</th>                 <td>12:36:42</td>     <th>  Log-Likelihood:    </th> <td>-2.7850e+06</td>\n",
       "</tr>\n",
       "<tr>\n",
       "  <th>No. Observations:</th>      <td>470393</td>      <th>  AIC:               </th>  <td>5.570e+06</td> \n",
       "</tr>\n",
       "<tr>\n",
       "  <th>Df Residuals:</th>          <td>470388</td>      <th>  BIC:               </th>  <td>5.570e+06</td> \n",
       "</tr>\n",
       "<tr>\n",
       "  <th>Df Model:</th>              <td>     4</td>      <th>                     </th>      <td> </td>     \n",
       "</tr>\n",
       "<tr>\n",
       "  <th>Covariance Type:</th>      <td>nonrobust</td>    <th>                     </th>      <td> </td>     \n",
       "</tr>\n",
       "</table>\n",
       "<table class=\"simpletable\">\n",
       "<tr>\n",
       "   <td></td>      <th>coef</th>     <th>std err</th>      <th>t</th>      <th>P>|t|</th>  <th>[0.025</th>    <th>0.975]</th>  \n",
       "</tr>\n",
       "<tr>\n",
       "  <th>x1</th>  <td> 4.454e-07</td> <td> 2.38e-08</td> <td>   18.753</td> <td> 0.000</td> <td> 3.99e-07</td> <td> 4.92e-07</td>\n",
       "</tr>\n",
       "<tr>\n",
       "  <th>x2</th>  <td>    0.0432</td> <td>    0.006</td> <td>    6.984</td> <td> 0.000</td> <td>    0.031</td> <td>    0.055</td>\n",
       "</tr>\n",
       "<tr>\n",
       "  <th>x3</th>  <td>    0.1114</td> <td>    0.020</td> <td>    5.553</td> <td> 0.000</td> <td>    0.072</td> <td>    0.151</td>\n",
       "</tr>\n",
       "<tr>\n",
       "  <th>x4</th>  <td>   -0.0191</td> <td>    0.003</td> <td>   -6.954</td> <td> 0.000</td> <td>   -0.024</td> <td>   -0.014</td>\n",
       "</tr>\n",
       "<tr>\n",
       "  <th>x5</th>  <td>    0.0414</td> <td>    0.001</td> <td>   40.245</td> <td> 0.000</td> <td>    0.039</td> <td>    0.043</td>\n",
       "</tr>\n",
       "<tr>\n",
       "  <th>x6</th>  <td>    0.0123</td> <td>    0.001</td> <td>   15.328</td> <td> 0.000</td> <td>    0.011</td> <td>    0.014</td>\n",
       "</tr>\n",
       "<tr>\n",
       "  <th>x7</th>  <td>    0.8765</td> <td>    0.016</td> <td>   56.383</td> <td> 0.000</td> <td>    0.846</td> <td>    0.907</td>\n",
       "</tr>\n",
       "<tr>\n",
       "  <th>x8</th>  <td>    0.2553</td> <td>    0.031</td> <td>    8.345</td> <td> 0.000</td> <td>    0.195</td> <td>    0.315</td>\n",
       "</tr>\n",
       "<tr>\n",
       "  <th>x9</th>  <td> 6.007e-07</td> <td> 2.25e-07</td> <td>    2.675</td> <td> 0.007</td> <td> 1.61e-07</td> <td> 1.04e-06</td>\n",
       "</tr>\n",
       "<tr>\n",
       "  <th>x10</th> <td>    0.0057</td> <td>    0.007</td> <td>    0.825</td> <td> 0.409</td> <td>   -0.008</td> <td>    0.019</td>\n",
       "</tr>\n",
       "<tr>\n",
       "  <th>x11</th> <td>-8.148e-05</td> <td> 2.86e-05</td> <td>   -2.848</td> <td> 0.004</td> <td>   -0.000</td> <td>-2.54e-05</td>\n",
       "</tr>\n",
       "<tr>\n",
       "  <th>x12</th> <td>-2.592e-15</td> <td> 3.16e-16</td> <td>   -8.202</td> <td> 0.000</td> <td>-3.21e-15</td> <td>-1.97e-15</td>\n",
       "</tr>\n",
       "<tr>\n",
       "  <th>x13</th> <td>   -0.1280</td> <td>    0.010</td> <td>  -12.954</td> <td> 0.000</td> <td>   -0.147</td> <td>   -0.109</td>\n",
       "</tr>\n",
       "<tr>\n",
       "  <th>x14</th> <td>-5.374e-05</td> <td> 7.87e-06</td> <td>   -6.828</td> <td> 0.000</td> <td>-6.92e-05</td> <td>-3.83e-05</td>\n",
       "</tr>\n",
       "</table>\n",
       "<table class=\"simpletable\">\n",
       "<tr>\n",
       "  <th>Omnibus:</th>       <td>1876667.712</td> <th>  Durbin-Watson:     </th>     <td>   2.002</td>     \n",
       "</tr>\n",
       "<tr>\n",
       "  <th>Prob(Omnibus):</th>   <td> 0.000</td>    <th>  Jarque-Bera (JB):  </th> <td>3664244044152.601</td>\n",
       "</tr>\n",
       "<tr>\n",
       "  <th>Skew:</th>            <td>101.656</td>   <th>  Prob(JB):          </th>     <td>    0.00</td>     \n",
       "</tr>\n",
       "<tr>\n",
       "  <th>Kurtosis:</th>       <td>13674.601</td>  <th>  Cond. No.          </th>     <td>8.11e+17</td>     \n",
       "</tr>\n",
       "</table>"
      ],
      "text/plain": [
       "<class 'statsmodels.iolib.summary.Summary'>\n",
       "\"\"\"\n",
       "                            OLS Regression Results                            \n",
       "==============================================================================\n",
       "Dep. Variable:                      y   R-squared:                       0.007\n",
       "Model:                            OLS   Adj. R-squared:                  0.007\n",
       "Method:                 Least Squares   F-statistic:                     860.2\n",
       "Date:                Fri, 29 Sep 2017   Prob (F-statistic):               0.00\n",
       "Time:                        12:36:42   Log-Likelihood:            -2.7850e+06\n",
       "No. Observations:              470393   AIC:                         5.570e+06\n",
       "Df Residuals:                  470388   BIC:                         5.570e+06\n",
       "Df Model:                           4                                         \n",
       "Covariance Type:            nonrobust                                         \n",
       "==============================================================================\n",
       "                 coef    std err          t      P>|t|      [0.025      0.975]\n",
       "------------------------------------------------------------------------------\n",
       "x1          4.454e-07   2.38e-08     18.753      0.000    3.99e-07    4.92e-07\n",
       "x2             0.0432      0.006      6.984      0.000       0.031       0.055\n",
       "x3             0.1114      0.020      5.553      0.000       0.072       0.151\n",
       "x4            -0.0191      0.003     -6.954      0.000      -0.024      -0.014\n",
       "x5             0.0414      0.001     40.245      0.000       0.039       0.043\n",
       "x6             0.0123      0.001     15.328      0.000       0.011       0.014\n",
       "x7             0.8765      0.016     56.383      0.000       0.846       0.907\n",
       "x8             0.2553      0.031      8.345      0.000       0.195       0.315\n",
       "x9          6.007e-07   2.25e-07      2.675      0.007    1.61e-07    1.04e-06\n",
       "x10            0.0057      0.007      0.825      0.409      -0.008       0.019\n",
       "x11        -8.148e-05   2.86e-05     -2.848      0.004      -0.000   -2.54e-05\n",
       "x12        -2.592e-15   3.16e-16     -8.202      0.000   -3.21e-15   -1.97e-15\n",
       "x13           -0.1280      0.010    -12.954      0.000      -0.147      -0.109\n",
       "x14        -5.374e-05   7.87e-06     -6.828      0.000   -6.92e-05   -3.83e-05\n",
       "==============================================================================\n",
       "Omnibus:                  1876667.712   Durbin-Watson:                   2.002\n",
       "Prob(Omnibus):                  0.000   Jarque-Bera (JB):    3664244044152.601\n",
       "Skew:                         101.656   Prob(JB):                         0.00\n",
       "Kurtosis:                   13674.601   Cond. No.                     8.11e+17\n",
       "==============================================================================\n",
       "\n",
       "Warnings:\n",
       "[1] Standard Errors assume that the covariance matrix of the errors is correctly specified.\n",
       "[2] The condition number is large, 8.11e+17. This might indicate that there are\n",
       "strong multicollinearity or other numerical problems.\n",
       "\"\"\""
      ]
     },
     "execution_count": 124,
     "metadata": {},
     "output_type": "execute_result"
    }
   ],
   "source": [
    "# get summary statistics from statsmodels\n",
    "model = sm.OLS(y_train, X_train)\n",
    "result = model.fit()\n",
    "result.summary()"
   ]
  },
  {
   "cell_type": "code",
   "execution_count": 125,
   "metadata": {
    "collapsed": false
   },
   "outputs": [
    {
     "name": "stdout",
     "output_type": "stream",
     "text": [
      "(1, 'newContract')\n",
      "(2, 'day')\n",
      "(3, 'hour')\n",
      "(4, 'dayofweek')\n",
      "(5, 'amount_eth')\n",
      "(6, 'type_enc')\n",
      "(7, 'avg_price')\n",
      "(8, 'avg_blocktime')\n",
      "(9, 'avg_gasUsed_b')\n",
      "(10, 'avg_tx_count')\n",
      "(11, 'avg_uncle_count')\n",
      "(12, 'avg_difficulty')\n",
      "(13, 'avg_txcnt_second')\n",
      "(14, 'avg_gasUsed_t')\n"
     ]
    }
   ],
   "source": [
    "for num, col in enumerate(merged[features].columns):\n",
    "    print(num+1, col)"
   ]
  },
  {
   "cell_type": "markdown",
   "metadata": {},
   "source": [
    "###Plot the avg MSE with respect to the number of blocks used\n",
    "- Need to determine how many previous blocks to look at in order to get predictive features"
   ]
  },
  {
   "cell_type": "code",
   "execution_count": 131,
   "metadata": {
    "collapsed": false
   },
   "outputs": [
    {
     "data": {
      "image/png": "[encoded data removed]",
      "text/plain": [
       "<matplotlib.figure.Figure at 0x1197629d0>"
      ]
     },
     "metadata": {},
     "output_type": "display_data"
    }
   ],
   "source": [
    "mse=[9906, 5689.59, 3902.42, 4946.9, 9560.67, 6474.36, 9032.47, 16197.49]\n",
    "num_prev = [10, 25, 50, 100, 1000, 2000, 3000, 4000]\n",
    "results = pd.DataFrame({'num_prev_blocks': num_prev, 'mse': mse})\n",
    "sns.pointplot(x=\"num_prev_blocks\", y=\"mse\", data=results, color='r')\n",
    "plt.title('Error with respect to number of previous blocks used')\n",
    "plt.savefig('mse_prev_blocks.png')"
   ]
  },
  {
   "cell_type": "markdown",
   "metadata": {},
   "source": [
    "The MSE seems to be minimal when using 50 previous blocks"
   ]
  },
  {
   "cell_type": "markdown",
   "metadata": {},
   "source": [
    "##KNN regression"
   ]
  },
  {
   "cell_type": "code",
   "execution_count": 359,
   "metadata": {
    "collapsed": true
   },
   "outputs": [],
   "source": [
    "def knn_regressor(X_train, X_test, y_train, y_test):\n",
    "    model = KNeighborsRegressor(n_neighbors=5, metric='cosine', weights='uniform')\n",
    "    model.fit(X_train, y_train)\n",
    "    y_pred = model.predict(X_test)\n",
    "    print('CV score: {} | MSE: {} | R^2: {}'.format(np.mean(cross_val_score(model, X_train, y_train)), \n",
    "                                                    mean_squared_error(y_test, y_pred), \n",
    "                                                    r2_score(y_test, y_pred)))"
   ]
  },
  {
   "cell_type": "code",
   "execution_count": null,
   "metadata": {
    "collapsed": true
   },
   "outputs": [],
   "source": [
    "knn_regressor(X_train, X_test, y_train, y_test)"
   ]
  },
  {
   "cell_type": "markdown",
   "metadata": {},
   "source": [
    "##Random forest regressor"
   ]
  },
  {
   "cell_type": "code",
   "execution_count": 305,
   "metadata": {
    "collapsed": true
   },
   "outputs": [],
   "source": [
    "def rf_regressor(X_train, X_test, y_train, y_test):\n",
    "    rf = RandomForestRegressor()\n",
    "    rf.fit(X_train, y_train)\n",
    "    y_pred = rf.predict(X_test)\n",
    "    scores = cross_val_score(rf, X_train, y_train, scoring='r2', cv=5)\n",
    "    print('MSE: {}'.format(mean_squared_error(y_test, y_pred)))\n",
    "    print('R2_score: {}'.format(r2_score(y_test, y_pred)))\n",
    "    print('avg_CV_score: {}'.format(np.mean(scores)))\n",
    "    return rf"
   ]
  },
  {
   "cell_type": "code",
   "execution_count": 306,
   "metadata": {
    "collapsed": false
   },
   "outputs": [
    {
     "name": "stdout",
     "output_type": "stream",
     "text": [
      "MSE: 4983.90094258\n",
      "R2_score: 0.195149541928\n",
      "avg_CV_score: -0.0423348531275\n"
     ]
    }
   ],
   "source": [
    "model = rf_regressor(X_train, X_test, y_train, y_test)"
   ]
  },
  {
   "cell_type": "code",
   "execution_count": 309,
   "metadata": {
    "collapsed": true
   },
   "outputs": [],
   "source": [
    "def plot_feature_importance(rf, feature_df):\n",
    "    cols = []\n",
    "    for col in feature_df.columns:\n",
    "        cols.append(col)\n",
    "\n",
    "    feat_scores = pd.DataFrame({'Fraction of Samples Affected' : rf.feature_importances_},\n",
    "                           index=cols)\n",
    "    feat_scores = feat_scores.sort_values(by='Fraction of Samples Affected')\n",
    "    feat_scores.plot(kind='barh', color='r', figsize=(6,6))\n",
    "    plt.xlabel('Importance', fontsize=18)\n",
    "    plt.title('Feature Importance', fontsize=18)\n",
    "    plt.savefig('feat_import_50.png')"
   ]
  },
  {
   "cell_type": "code",
   "execution_count": 310,
   "metadata": {
    "collapsed": false
   },
   "outputs": [
    {
     "data": {
      "image/png": "[encoded data removed]",
      "text/plain": [
       "<matplotlib.figure.Figure at 0x126594750>"
      ]
     },
     "metadata": {},
     "output_type": "display_data"
    }
   ],
   "source": [
    "plot_feature_importance(model, merged[features])"
   ]
  },
  {
   "cell_type": "code",
   "execution_count": null,
   "metadata": {
    "collapsed": true
   },
   "outputs": [],
   "source": []
  },
  {
   "cell_type": "code",
   "execution_count": null,
   "metadata": {
    "collapsed": true
   },
   "outputs": [],
   "source": []
  }
 ],
 "metadata": {
  "kernelspec": {
   "display_name": "Python 2",
   "language": "python",
   "name": "python2"
  },
  "language_info": {
   "codemirror_mode": {
    "name": "ipython",
    "version": 2
   },
   "file_extension": ".py",
   "mimetype": "text/x-python",
   "name": "python",
   "nbconvert_exporter": "python",
   "pygments_lexer": "ipython2",
   "version": "2.7.13"
  }
 },
 "nbformat": 4,
 "nbformat_minor": 0
}
