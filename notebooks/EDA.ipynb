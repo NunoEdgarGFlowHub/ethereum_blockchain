{
 "cells": [
  {
   "cell_type": "markdown",
   "metadata": {},
   "source": [
    "#Exploratory Data Analysis"
   ]
  },
  {
   "cell_type": "code",
   "execution_count": 3,
   "metadata": {
    "collapsed": false
   },
   "outputs": [],
   "source": [
    "import pandas as pd\n",
    "import numpy as np\n",
    "import matplotlib.pyplot as plt\n",
    "import seaborn as sns\n",
    "from sklearn.linear_model import LinearRegression\n",
    "from sklearn.cross_validation import train_test_split, cross_val_score\n",
    "from sklearn.metrics import mean_squared_error, r2_score\n",
    "from sklearn.ensemble import RandomForestRegressor, AdaBoostRegressor\n",
    "import statsmodels.api as sm\n",
    "%matplotlib inline"
   ]
  },
  {
   "cell_type": "markdown",
   "metadata": {},
   "source": [
    "##Load transaction data in pandas dataframe"
   ]
  },
  {
   "cell_type": "code",
   "execution_count": 5,
   "metadata": {
    "collapsed": false
   },
   "outputs": [],
   "source": [
    "df = pd.read_json('./../ethereum_blockchain/data/transactions.json', lines=True)"
   ]
  },
  {
   "cell_type": "code",
   "execution_count": 6,
   "metadata": {
    "collapsed": false
   },
   "outputs": [
    {
     "data": {
      "text/html": [
       "<div>\n",
       "<style>\n",
       "    .dataframe thead tr:only-child th {\n",
       "        text-align: right;\n",
       "    }\n",
       "\n",
       "    .dataframe thead th {\n",
       "        text-align: left;\n",
       "    }\n",
       "\n",
       "    .dataframe tbody tr th {\n",
       "        vertical-align: top;\n",
       "    }\n",
       "</style>\n",
       "<table border=\"1\" class=\"dataframe\">\n",
       "  <thead>\n",
       "    <tr style=\"text-align: right;\">\n",
       "      <th></th>\n",
       "      <th>_id</th>\n",
       "      <th>accountNonce</th>\n",
       "      <th>amount</th>\n",
       "      <th>blockHash</th>\n",
       "      <th>block_id</th>\n",
       "      <th>gasLimit</th>\n",
       "      <th>gasUsed</th>\n",
       "      <th>hash</th>\n",
       "      <th>isContractTx</th>\n",
       "      <th>newContract</th>\n",
       "      <th>parentHash</th>\n",
       "      <th>price</th>\n",
       "      <th>recipient</th>\n",
       "      <th>sender</th>\n",
       "      <th>time</th>\n",
       "      <th>txIndex</th>\n",
       "      <th>type</th>\n",
       "    </tr>\n",
       "  </thead>\n",
       "  <tbody>\n",
       "    <tr>\n",
       "      <th>0</th>\n",
       "      <td>{u'$oid': u'59c2ce9a66a1615156cf51e7'}</td>\n",
       "      <td>3324654</td>\n",
       "      <td>4.990932e+17</td>\n",
       "      <td>0xce9a4be92a53142c8e1962405342ded3472d5516bbc9...</td>\n",
       "      <td>4295887</td>\n",
       "      <td>50000</td>\n",
       "      <td>21000</td>\n",
       "      <td>0xfc505bf23efe13154192262c3f7b99e2517b133fe5f6...</td>\n",
       "      <td>NaN</td>\n",
       "      <td>0</td>\n",
       "      <td>0xfc505bf23efe13154192262c3f7b99e2517b133fe5f6...</td>\n",
       "      <td>2.100000e+10</td>\n",
       "      <td>0x656dd5d0020dc9047e7d9ec4eac344a7397200e8</td>\n",
       "      <td>0xea674fdde714fd979de3edf0f56aa9716b898ec8</td>\n",
       "      <td>2017-09-20T20:24:15.000Z</td>\n",
       "      <td>NaN</td>\n",
       "      <td>tx</td>\n",
       "    </tr>\n",
       "    <tr>\n",
       "      <th>1</th>\n",
       "      <td>{u'$oid': u'59c2ce9a66a1615156cf51e8'}</td>\n",
       "      <td>3324658</td>\n",
       "      <td>1.492221e+17</td>\n",
       "      <td>0xce9a4be92a53142c8e1962405342ded3472d5516bbc9...</td>\n",
       "      <td>4295887</td>\n",
       "      <td>20967</td>\n",
       "      <td>9416</td>\n",
       "      <td>0xfa0124a64e4cedc7d75dff3ee0fca13d32b2a368e0cb...</td>\n",
       "      <td>NaN</td>\n",
       "      <td>0</td>\n",
       "      <td>0xad177c193597850a4c7c95cb990233a1190bd6118d33...</td>\n",
       "      <td>2.100000e+10</td>\n",
       "      <td>0x209c4784ab1e8183cf58ca33cb740efbf3fc18ef</td>\n",
       "      <td>0x0a8de3650a8f331e85673fe71677d53a749e6de7</td>\n",
       "      <td>2017-09-20T20:24:15.000Z</td>\n",
       "      <td>1.0</td>\n",
       "      <td>call</td>\n",
       "    </tr>\n",
       "    <tr>\n",
       "      <th>2</th>\n",
       "      <td>{u'$oid': u'59c2ce9a66a1615156cf51e9'}</td>\n",
       "      <td>3324660</td>\n",
       "      <td>9.960846e+16</td>\n",
       "      <td>0xce9a4be92a53142c8e1962405342ded3472d5516bbc9...</td>\n",
       "      <td>4295887</td>\n",
       "      <td>50000</td>\n",
       "      <td>21000</td>\n",
       "      <td>0xe2a23b916903133728ab3dbfac55a56651508a971e89...</td>\n",
       "      <td>NaN</td>\n",
       "      <td>0</td>\n",
       "      <td>0xe2a23b916903133728ab3dbfac55a56651508a971e89...</td>\n",
       "      <td>2.100000e+10</td>\n",
       "      <td>0x951bec2b87e89a80ed785de7c9df1555cb8d4e05</td>\n",
       "      <td>0xea674fdde714fd979de3edf0f56aa9716b898ec8</td>\n",
       "      <td>2017-09-20T20:24:15.000Z</td>\n",
       "      <td>NaN</td>\n",
       "      <td>tx</td>\n",
       "    </tr>\n",
       "    <tr>\n",
       "      <th>3</th>\n",
       "      <td>{u'$oid': u'59c2ce9a66a1615156cf51ea'}</td>\n",
       "      <td>3324657</td>\n",
       "      <td>1.990048e+17</td>\n",
       "      <td>0xce9a4be92a53142c8e1962405342ded3472d5516bbc9...</td>\n",
       "      <td>4295887</td>\n",
       "      <td>50000</td>\n",
       "      <td>21000</td>\n",
       "      <td>0xc431fcd82ad55dc1aee932fa9965b55f8515981147a0...</td>\n",
       "      <td>NaN</td>\n",
       "      <td>0</td>\n",
       "      <td>0xc431fcd82ad55dc1aee932fa9965b55f8515981147a0...</td>\n",
       "      <td>2.100000e+10</td>\n",
       "      <td>0xfd094f940ab0d01592c21afb20b500406ed509f6</td>\n",
       "      <td>0xea674fdde714fd979de3edf0f56aa9716b898ec8</td>\n",
       "      <td>2017-09-20T20:24:15.000Z</td>\n",
       "      <td>NaN</td>\n",
       "      <td>tx</td>\n",
       "    </tr>\n",
       "    <tr>\n",
       "      <th>4</th>\n",
       "      <td>{u'$oid': u'59c2ce9a66a1615156cf51eb'}</td>\n",
       "      <td>3324662</td>\n",
       "      <td>1.000289e+18</td>\n",
       "      <td>0xce9a4be92a53142c8e1962405342ded3472d5516bbc9...</td>\n",
       "      <td>4295887</td>\n",
       "      <td>50000</td>\n",
       "      <td>21000</td>\n",
       "      <td>0xb759c34cb5b5af6f94f7002ef812b8482880d1f73d10...</td>\n",
       "      <td>NaN</td>\n",
       "      <td>0</td>\n",
       "      <td>0xb759c34cb5b5af6f94f7002ef812b8482880d1f73d10...</td>\n",
       "      <td>2.100000e+10</td>\n",
       "      <td>0x08dd9744e0dedef75f74357ca948485ea1d2d1f4</td>\n",
       "      <td>0xea674fdde714fd979de3edf0f56aa9716b898ec8</td>\n",
       "      <td>2017-09-20T20:24:15.000Z</td>\n",
       "      <td>NaN</td>\n",
       "      <td>tx</td>\n",
       "    </tr>\n",
       "  </tbody>\n",
       "</table>\n",
       "</div>"
      ],
      "text/plain": [
       "                                      _id  accountNonce        amount  \\\n",
       "0  {u'$oid': u'59c2ce9a66a1615156cf51e7'}       3324654  4.990932e+17   \n",
       "1  {u'$oid': u'59c2ce9a66a1615156cf51e8'}       3324658  1.492221e+17   \n",
       "2  {u'$oid': u'59c2ce9a66a1615156cf51e9'}       3324660  9.960846e+16   \n",
       "3  {u'$oid': u'59c2ce9a66a1615156cf51ea'}       3324657  1.990048e+17   \n",
       "4  {u'$oid': u'59c2ce9a66a1615156cf51eb'}       3324662  1.000289e+18   \n",
       "\n",
       "                                           blockHash  block_id  gasLimit  \\\n",
       "0  0xce9a4be92a53142c8e1962405342ded3472d5516bbc9...   4295887     50000   \n",
       "1  0xce9a4be92a53142c8e1962405342ded3472d5516bbc9...   4295887     20967   \n",
       "2  0xce9a4be92a53142c8e1962405342ded3472d5516bbc9...   4295887     50000   \n",
       "3  0xce9a4be92a53142c8e1962405342ded3472d5516bbc9...   4295887     50000   \n",
       "4  0xce9a4be92a53142c8e1962405342ded3472d5516bbc9...   4295887     50000   \n",
       "\n",
       "   gasUsed                                               hash  isContractTx  \\\n",
       "0    21000  0xfc505bf23efe13154192262c3f7b99e2517b133fe5f6...           NaN   \n",
       "1     9416  0xfa0124a64e4cedc7d75dff3ee0fca13d32b2a368e0cb...           NaN   \n",
       "2    21000  0xe2a23b916903133728ab3dbfac55a56651508a971e89...           NaN   \n",
       "3    21000  0xc431fcd82ad55dc1aee932fa9965b55f8515981147a0...           NaN   \n",
       "4    21000  0xb759c34cb5b5af6f94f7002ef812b8482880d1f73d10...           NaN   \n",
       "\n",
       "   newContract                                         parentHash  \\\n",
       "0            0  0xfc505bf23efe13154192262c3f7b99e2517b133fe5f6...   \n",
       "1            0  0xad177c193597850a4c7c95cb990233a1190bd6118d33...   \n",
       "2            0  0xe2a23b916903133728ab3dbfac55a56651508a971e89...   \n",
       "3            0  0xc431fcd82ad55dc1aee932fa9965b55f8515981147a0...   \n",
       "4            0  0xb759c34cb5b5af6f94f7002ef812b8482880d1f73d10...   \n",
       "\n",
       "          price                                   recipient  \\\n",
       "0  2.100000e+10  0x656dd5d0020dc9047e7d9ec4eac344a7397200e8   \n",
       "1  2.100000e+10  0x209c4784ab1e8183cf58ca33cb740efbf3fc18ef   \n",
       "2  2.100000e+10  0x951bec2b87e89a80ed785de7c9df1555cb8d4e05   \n",
       "3  2.100000e+10  0xfd094f940ab0d01592c21afb20b500406ed509f6   \n",
       "4  2.100000e+10  0x08dd9744e0dedef75f74357ca948485ea1d2d1f4   \n",
       "\n",
       "                                       sender                      time  \\\n",
       "0  0xea674fdde714fd979de3edf0f56aa9716b898ec8  2017-09-20T20:24:15.000Z   \n",
       "1  0x0a8de3650a8f331e85673fe71677d53a749e6de7  2017-09-20T20:24:15.000Z   \n",
       "2  0xea674fdde714fd979de3edf0f56aa9716b898ec8  2017-09-20T20:24:15.000Z   \n",
       "3  0xea674fdde714fd979de3edf0f56aa9716b898ec8  2017-09-20T20:24:15.000Z   \n",
       "4  0xea674fdde714fd979de3edf0f56aa9716b898ec8  2017-09-20T20:24:15.000Z   \n",
       "\n",
       "   txIndex  type  \n",
       "0      NaN    tx  \n",
       "1      1.0  call  \n",
       "2      NaN    tx  \n",
       "3      NaN    tx  \n",
       "4      NaN    tx  "
      ]
     },
     "execution_count": 6,
     "metadata": {},
     "output_type": "execute_result"
    }
   ],
   "source": [
    "df.head(5)"
   ]
  },
  {
   "cell_type": "code",
   "execution_count": 7,
   "metadata": {
    "collapsed": false
   },
   "outputs": [
    {
     "name": "stdout",
     "output_type": "stream",
     "text": [
      "<class 'pandas.core.frame.DataFrame'>\n",
      "Int64Index: 1000527 entries, 0 to 1000526\n",
      "Data columns (total 17 columns):\n",
      "_id             1000527 non-null object\n",
      "accountNonce    1000527 non-null int64\n",
      "amount          1000527 non-null float64\n",
      "blockHash       1000527 non-null object\n",
      "block_id        1000527 non-null int64\n",
      "gasLimit        1000527 non-null int64\n",
      "gasUsed         1000527 non-null int64\n",
      "hash            1000527 non-null object\n",
      "isContractTx    0 non-null float64\n",
      "newContract     1000527 non-null int64\n",
      "parentHash      1000527 non-null object\n",
      "price           1000527 non-null float64\n",
      "recipient       1000527 non-null object\n",
      "sender          1000527 non-null object\n",
      "time            1000527 non-null object\n",
      "txIndex         340234 non-null float64\n",
      "type            1000527 non-null object\n",
      "dtypes: float64(4), int64(5), object(8)\n",
      "memory usage: 137.4+ MB\n"
     ]
    }
   ],
   "source": [
    "df.info()"
   ]
  },
  {
   "cell_type": "code",
   "execution_count": 8,
   "metadata": {
    "collapsed": false
   },
   "outputs": [
    {
     "data": {
      "text/plain": [
       "(1000527, 17)"
      ]
     },
     "execution_count": 8,
     "metadata": {},
     "output_type": "execute_result"
    }
   ],
   "source": [
    "df.shape"
   ]
  },
  {
   "cell_type": "markdown",
   "metadata": {},
   "source": [
    "##Count the number of unique block ids"
   ]
  },
  {
   "cell_type": "code",
   "execution_count": 9,
   "metadata": {
    "collapsed": false
   },
   "outputs": [
    {
     "data": {
      "text/plain": [
       "(9297,)"
      ]
     },
     "execution_count": 9,
     "metadata": {},
     "output_type": "execute_result"
    }
   ],
   "source": [
    "np.unique(df['block_id'].values).shape"
   ]
  },
  {
   "cell_type": "markdown",
   "metadata": {},
   "source": [
    "##Are the block ids contiguous?"
   ]
  },
  {
   "cell_type": "code",
   "execution_count": 10,
   "metadata": {
    "collapsed": false
   },
   "outputs": [],
   "source": [
    "blockids = np.sort(np.unique(df['block_id'].values))"
   ]
  },
  {
   "cell_type": "code",
   "execution_count": 11,
   "metadata": {
    "collapsed": false
   },
   "outputs": [
    {
     "data": {
      "text/plain": [
       "(9297,)"
      ]
     },
     "execution_count": 11,
     "metadata": {},
     "output_type": "execute_result"
    }
   ],
   "source": [
    "blockids.shape"
   ]
  },
  {
   "cell_type": "code",
   "execution_count": 12,
   "metadata": {
    "collapsed": true
   },
   "outputs": [],
   "source": [
    "x = np.array([1,2,3,4,5,6,7,8,9,12])"
   ]
  },
  {
   "cell_type": "code",
   "execution_count": 13,
   "metadata": {
    "collapsed": false
   },
   "outputs": [
    {
     "name": "stdout",
     "output_type": "stream",
     "text": [
      "(12, 9, False)\n"
     ]
    }
   ],
   "source": [
    "for i in xrange(0, x.shape[0]-1):\n",
    "    if (x[i+1] - x[i]) == 1:\n",
    "        continue\n",
    "    else:\n",
    "        print(x[i+1], x[i], False)"
   ]
  },
  {
   "cell_type": "code",
   "execution_count": 14,
   "metadata": {
    "collapsed": false
   },
   "outputs": [
    {
     "name": "stdout",
     "output_type": "stream",
     "text": [
      "(4286342, 4286340, 2, False)\n",
      "(4286353, 4286351, 2, False)\n",
      "(4286360, 4286358, 2, False)\n",
      "(4286387, 4286385, 2, False)\n",
      "(4286393, 4286391, 2, False)\n",
      "(4286418, 4286416, 2, False)\n",
      "(4286452, 4286450, 2, False)\n",
      "(4286466, 4286464, 2, False)\n",
      "(4286478, 4286476, 2, False)\n",
      "(4286488, 4286486, 2, False)\n",
      "(4286519, 4286517, 2, False)\n",
      "(4286548, 4286546, 2, False)\n",
      "(4286558, 4286556, 2, False)\n",
      "(4286567, 4286565, 2, False)\n",
      "(4286586, 4286584, 2, False)\n",
      "(4286588, 4286586, 2, False)\n",
      "(4286590, 4286588, 2, False)\n",
      "(4286619, 4286617, 2, False)\n",
      "(4286622, 4286620, 2, False)\n",
      "(4286626, 4286624, 2, False)\n",
      "(4286639, 4286637, 2, False)\n",
      "(4286667, 4286665, 2, False)\n",
      "(4286670, 4286668, 2, False)\n",
      "(4286697, 4286695, 2, False)\n",
      "(4286734, 4286732, 2, False)\n",
      "(4286738, 4286736, 2, False)\n",
      "(4286769, 4286767, 2, False)\n",
      "(4286823, 4286821, 2, False)\n",
      "(4286828, 4286826, 2, False)\n",
      "(4286843, 4286841, 2, False)\n",
      "(4286850, 4286848, 2, False)\n",
      "(4286854, 4286852, 2, False)\n",
      "(4286864, 4286862, 2, False)\n",
      "(4286876, 4286874, 2, False)\n",
      "(4286878, 4286876, 2, False)\n",
      "(4286898, 4286896, 2, False)\n",
      "(4286923, 4286921, 2, False)\n",
      "(4286935, 4286933, 2, False)\n",
      "(4286939, 4286937, 2, False)\n",
      "(4286965, 4286963, 2, False)\n",
      "(4286972, 4286970, 2, False)\n",
      "(4286978, 4286976, 2, False)\n",
      "(4287021, 4287018, 3, False)\n",
      "(4287027, 4287024, 3, False)\n",
      "(4287034, 4287032, 2, False)\n",
      "(4287048, 4287046, 2, False)\n",
      "(4287052, 4287050, 2, False)\n",
      "(4287077, 4287074, 3, False)\n",
      "(4287139, 4287137, 2, False)\n",
      "(4287179, 4287177, 2, False)\n",
      "(4287185, 4287183, 2, False)\n",
      "(4287187, 4287185, 2, False)\n",
      "(4287201, 4287199, 2, False)\n",
      "(4287244, 4287242, 2, False)\n",
      "(4287247, 4287244, 3, False)\n",
      "(4287251, 4287248, 3, False)\n",
      "(4287265, 4287263, 2, False)\n",
      "(4287292, 4287290, 2, False)\n",
      "(4287295, 4287292, 3, False)\n",
      "(4287306, 4287304, 2, False)\n",
      "(4287310, 4287308, 2, False)\n",
      "(4287334, 4287332, 2, False)\n",
      "(4287336, 4287334, 2, False)\n",
      "(4287343, 4287341, 2, False)\n",
      "(4287377, 4287375, 2, False)\n",
      "(4287379, 4287377, 2, False)\n",
      "(4287388, 4287385, 3, False)\n",
      "(4287397, 4287395, 2, False)\n",
      "(4287402, 4287400, 2, False)\n",
      "(4287425, 4287423, 2, False)\n",
      "(4287462, 4287460, 2, False)\n",
      "(4287504, 4287502, 2, False)\n",
      "(4287516, 4287514, 2, False)\n",
      "(4287520, 4287518, 2, False)\n",
      "(4287542, 4287539, 3, False)\n",
      "(4287556, 4287554, 2, False)\n",
      "(4287577, 4287575, 2, False)\n",
      "(4287642, 4287640, 2, False)\n",
      "(4287689, 4287687, 2, False)\n",
      "(4287692, 4287690, 2, False)\n",
      "(4287777, 4287775, 2, False)\n",
      "(4287789, 4287787, 2, False)\n",
      "(4287796, 4287794, 2, False)\n",
      "(4287801, 4287799, 2, False)\n",
      "(4287851, 4287849, 2, False)\n",
      "(4287913, 4287911, 2, False)\n",
      "(4287916, 4287914, 2, False)\n",
      "(4287996, 4287994, 2, False)\n",
      "(4288035, 4288033, 2, False)\n",
      "(4288046, 4288044, 2, False)\n",
      "(4288056, 4288054, 2, False)\n",
      "(4288082, 4288080, 2, False)\n",
      "(4288093, 4288091, 2, False)\n",
      "(4288175, 4288173, 2, False)\n",
      "(4288337, 4288333, 4, False)\n",
      "(4288340, 4288338, 2, False)\n",
      "(4288343, 4288341, 2, False)\n",
      "(4288357, 4288355, 2, False)\n",
      "(4288421, 4288419, 2, False)\n",
      "(4288425, 4288423, 2, False)\n",
      "(4288432, 4288430, 2, False)\n",
      "(4288467, 4288465, 2, False)\n",
      "(4288471, 4288469, 2, False)\n",
      "(4288492, 4288489, 3, False)\n",
      "(4288544, 4288541, 3, False)\n",
      "(4288559, 4288557, 2, False)\n",
      "(4288602, 4288600, 2, False)\n",
      "(4288612, 4288610, 2, False)\n",
      "(4288634, 4288632, 2, False)\n",
      "(4288655, 4288653, 2, False)\n",
      "(4288687, 4288684, 3, False)\n",
      "(4288700, 4288698, 2, False)\n",
      "(4288750, 4288747, 3, False)\n",
      "(4288764, 4288762, 2, False)\n",
      "(4288775, 4288773, 2, False)\n",
      "(4288827, 4288825, 2, False)\n",
      "(4288842, 4288839, 3, False)\n",
      "(4288911, 4288908, 3, False)\n",
      "(4288966, 4288964, 2, False)\n",
      "(4288969, 4288967, 2, False)\n",
      "(4289028, 4289026, 2, False)\n",
      "(4289032, 4289030, 2, False)\n",
      "(4289111, 4289109, 2, False)\n",
      "(4289114, 4289112, 2, False)\n",
      "(4289148, 4289146, 2, False)\n",
      "(4289252, 4289250, 2, False)\n",
      "(4289286, 4289284, 2, False)\n",
      "(4289308, 4289306, 2, False)\n",
      "(4289334, 4289332, 2, False)\n",
      "(4289355, 4289353, 2, False)\n",
      "(4289357, 4289355, 2, False)\n",
      "(4289456, 4289454, 2, False)\n",
      "(4289476, 4289474, 2, False)\n",
      "(4289481, 4289479, 2, False)\n",
      "(4289502, 4289500, 2, False)\n",
      "(4289603, 4289601, 2, False)\n",
      "(4289684, 4289682, 2, False)\n",
      "(4289730, 4289728, 2, False)\n",
      "(4289927, 4289925, 2, False)\n",
      "(4290172, 4290170, 2, False)\n",
      "(4290273, 4290271, 2, False)\n",
      "(4290475, 4290473, 2, False)\n",
      "(4290478, 4290476, 2, False)\n",
      "(4290535, 4290533, 2, False)\n",
      "(4290555, 4290552, 3, False)\n",
      "(4290562, 4290560, 2, False)\n",
      "(4290585, 4290583, 2, False)\n",
      "(4290719, 4290717, 2, False)\n",
      "(4290744, 4290742, 2, False)\n",
      "(4290813, 4290811, 2, False)\n",
      "(4290884, 4290882, 2, False)\n",
      "(4290896, 4290894, 2, False)\n",
      "(4291133, 4291131, 2, False)\n",
      "(4291280, 4291278, 2, False)\n",
      "(4291297, 4291295, 2, False)\n",
      "(4291322, 4291320, 2, False)\n",
      "(4291427, 4291425, 2, False)\n",
      "(4291429, 4291427, 2, False)\n",
      "(4291529, 4291526, 3, False)\n",
      "(4291565, 4291563, 2, False)\n",
      "(4291619, 4291617, 2, False)\n",
      "(4291681, 4291679, 2, False)\n",
      "(4291805, 4291803, 2, False)\n",
      "(4291829, 4291827, 2, False)\n",
      "(4291838, 4291836, 2, False)\n",
      "(4291957, 4291955, 2, False)\n",
      "(4291995, 4291993, 2, False)\n",
      "(4292015, 4292013, 2, False)\n",
      "(4292035, 4292033, 2, False)\n",
      "(4292118, 4292115, 3, False)\n",
      "(4292176, 4292174, 2, False)\n",
      "(4292220, 4292218, 2, False)\n",
      "(4292233, 4292231, 2, False)\n",
      "(4292275, 4292273, 2, False)\n",
      "(4292288, 4292286, 2, False)\n",
      "(4292303, 4292301, 2, False)\n",
      "(4292414, 4292412, 2, False)\n",
      "(4292453, 4292451, 2, False)\n",
      "(4292475, 4292473, 2, False)\n",
      "(4292490, 4292488, 2, False)\n",
      "(4292503, 4292501, 2, False)\n",
      "(4292543, 4292541, 2, False)\n",
      "(4292642, 4292640, 2, False)\n",
      "(4292653, 4292651, 2, False)\n",
      "(4292692, 4292690, 2, False)\n",
      "(4292709, 4292707, 2, False)\n",
      "(4292718, 4292716, 2, False)\n",
      "(4292751, 4292749, 2, False)\n",
      "(4292794, 4292791, 3, False)\n",
      "(4292838, 4292836, 2, False)\n",
      "(4292842, 4292840, 2, False)\n",
      "(4292863, 4292861, 2, False)\n",
      "(4292911, 4292909, 2, False)\n",
      "(4292925, 4292923, 2, False)\n",
      "(4292954, 4292952, 2, False)\n",
      "(4292970, 4292968, 2, False)\n",
      "(4292982, 4292979, 3, False)\n",
      "(4292990, 4292988, 2, False)\n",
      "(4293063, 4293061, 2, False)\n",
      "(4293134, 4293132, 2, False)\n",
      "(4293161, 4293159, 2, False)\n",
      "(4293211, 4293209, 2, False)\n",
      "(4293318, 4293316, 2, False)\n",
      "(4293391, 4293389, 2, False)\n",
      "(4293416, 4293414, 2, False)\n",
      "(4293542, 4293540, 2, False)\n",
      "(4293588, 4293586, 2, False)\n",
      "(4293597, 4293595, 2, False)\n",
      "(4293611, 4293609, 2, False)\n",
      "(4293806, 4293804, 2, False)\n",
      "(4293866, 4293864, 2, False)\n",
      "(4293878, 4293876, 2, False)\n",
      "(4293901, 4293899, 2, False)\n",
      "(4293904, 4293902, 2, False)\n",
      "(4293941, 4293939, 2, False)\n",
      "(4293947, 4293945, 2, False)\n",
      "(4293999, 4293997, 2, False)\n",
      "(4294036, 4294033, 3, False)\n",
      "(4294044, 4294042, 2, False)\n",
      "(4294050, 4294048, 2, False)\n",
      "(4294106, 4294104, 2, False)\n",
      "(4294145, 4294143, 2, False)\n",
      "(4294159, 4294157, 2, False)\n",
      "(4294165, 4294163, 2, False)\n",
      "(4294212, 4294210, 2, False)\n",
      "(4294228, 4294226, 2, False)\n",
      "(4294233, 4294230, 3, False)\n",
      "(4294247, 4294245, 2, False)\n",
      "(4294254, 4294252, 2, False)\n",
      "(4294269, 4294267, 2, False)\n",
      "(4294285, 4294282, 3, False)\n",
      "(4294324, 4294322, 2, False)\n",
      "(4294351, 4294349, 2, False)\n",
      "(4294398, 4294396, 2, False)\n",
      "(4294455, 4294453, 2, False)\n",
      "(4294459, 4294457, 2, False)\n",
      "(4294468, 4294465, 3, False)\n",
      "(4294485, 4294482, 3, False)\n",
      "(4294513, 4294511, 2, False)\n",
      "(4294554, 4294552, 2, False)\n",
      "(4294559, 4294557, 2, False)\n",
      "(4294564, 4294562, 2, False)\n",
      "(4294574, 4294572, 2, False)\n",
      "(4294582, 4294580, 2, False)\n",
      "(4294615, 4294613, 2, False)\n",
      "(4294661, 4294659, 2, False)\n",
      "(4294666, 4294663, 3, False)\n",
      "(4294669, 4294667, 2, False)\n",
      "(4294707, 4294705, 2, False)\n",
      "(4294725, 4294723, 2, False)\n",
      "(4294742, 4294740, 2, False)\n",
      "(4294761, 4294759, 2, False)\n",
      "(4294787, 4294785, 2, False)\n",
      "(4294812, 4294810, 2, False)\n",
      "(4294935, 4294933, 2, False)\n",
      "(4294938, 4294936, 2, False)\n",
      "(4294970, 4294968, 2, False)\n",
      "(4294985, 4294983, 2, False)\n",
      "(4295062, 4295060, 2, False)\n",
      "(4295066, 4295064, 2, False)\n",
      "(4295071, 4295069, 2, False)\n",
      "(4295118, 4295116, 2, False)\n",
      "(4295161, 4295159, 2, False)\n",
      "(4295177, 4295175, 2, False)\n",
      "(4295220, 4295217, 3, False)\n",
      "(4295225, 4295223, 2, False)\n",
      "(4295234, 4295232, 2, False)\n",
      "(4295240, 4295237, 3, False)\n",
      "(4295248, 4295246, 2, False)\n",
      "(4295255, 4295253, 2, False)\n",
      "(4295260, 4295258, 2, False)\n",
      "(4295269, 4295267, 2, False)\n",
      "(4295291, 4295289, 2, False)\n",
      "(4295303, 4295301, 2, False)\n",
      "(4295356, 4295354, 2, False)\n",
      "(4295370, 4295368, 2, False)\n",
      "(4295376, 4295374, 2, False)\n",
      "(4295398, 4295396, 2, False)\n",
      "(4295434, 4295431, 3, False)\n",
      "(4295454, 4295452, 2, False)\n",
      "(4295476, 4295474, 2, False)\n",
      "(4295490, 4295488, 2, False)\n",
      "(4295499, 4295497, 2, False)\n",
      "(4295501, 4295499, 2, False)\n",
      "(4295525, 4295522, 3, False)\n",
      "(4295541, 4295539, 2, False)\n",
      "(4295559, 4295557, 2, False)\n",
      "(4295606, 4295604, 2, False)\n",
      "(4295615, 4295613, 2, False)\n",
      "(4295618, 4295616, 2, False)\n",
      "(4295649, 4295647, 2, False)\n",
      "(4295675, 4295673, 2, False)\n",
      "(4295723, 4295721, 2, False)\n",
      "(4295729, 4295727, 2, False)\n",
      "(4295740, 4295738, 2, False)\n",
      "(4295742, 4295740, 2, False)\n",
      "(4295747, 4295745, 2, False)\n",
      "(4295756, 4295754, 2, False)\n",
      "(4295765, 4295763, 2, False)\n",
      "(4295770, 4295768, 2, False)\n",
      "(4295774, 4295772, 2, False)\n",
      "(4295782, 4295780, 2, False)\n",
      "(4295805, 4295802, 3, False)\n",
      "(4295814, 4295812, 2, False)\n",
      "(4295846, 4295843, 3, False)\n",
      "(4295886, 4295883, 3, False)\n"
     ]
    }
   ],
   "source": [
    "for i in xrange(0, blockids.shape[0]-1):\n",
    "    if (blockids[i+1] - blockids[i]) == 1:\n",
    "        continue\n",
    "    else:\n",
    "        print(blockids[i+1], blockids[i], (blockids[i+1] - blockids[i]), False)"
   ]
  },
  {
   "cell_type": "markdown",
   "metadata": {},
   "source": [
    "Need to retreive missing block ids so that we have continuous time\n",
    "- check which ids are missing\n",
    "- retrieve those ids from etherchain api "
   ]
  },
  {
   "cell_type": "code",
   "execution_count": 15,
   "metadata": {
    "collapsed": false
   },
   "outputs": [
    {
     "data": {
      "text/plain": [
       "(4286251, 4295887)"
      ]
     },
     "execution_count": 15,
     "metadata": {},
     "output_type": "execute_result"
    }
   ],
   "source": [
    "blockids[0], blockids[9296]"
   ]
  },
  {
   "cell_type": "code",
   "execution_count": 16,
   "metadata": {
    "collapsed": true
   },
   "outputs": [],
   "source": [
    "a = np.arange(4286251, 4295888, 1)"
   ]
  },
  {
   "cell_type": "code",
   "execution_count": 17,
   "metadata": {
    "collapsed": false
   },
   "outputs": [
    {
     "data": {
      "text/plain": [
       "(9637,)"
      ]
     },
     "execution_count": 17,
     "metadata": {},
     "output_type": "execute_result"
    }
   ],
   "source": [
    "a.shape"
   ]
  },
  {
   "cell_type": "code",
   "execution_count": 18,
   "metadata": {
    "collapsed": false
   },
   "outputs": [
    {
     "data": {
      "text/plain": [
       "False"
      ]
     },
     "execution_count": 18,
     "metadata": {},
     "output_type": "execute_result"
    }
   ],
   "source": [
    "np.array_equal(a, blockids)"
   ]
  },
  {
   "cell_type": "code",
   "execution_count": 19,
   "metadata": {
    "collapsed": false
   },
   "outputs": [],
   "source": [
    "missing = list(set(a) - set(blockids))"
   ]
  },
  {
   "cell_type": "code",
   "execution_count": 20,
   "metadata": {
    "collapsed": false
   },
   "outputs": [
    {
     "data": {
      "text/plain": [
       "340"
      ]
     },
     "execution_count": 20,
     "metadata": {},
     "output_type": "execute_result"
    }
   ],
   "source": [
    "len(missing)"
   ]
  },
  {
   "cell_type": "code",
   "execution_count": 21,
   "metadata": {
    "collapsed": false
   },
   "outputs": [],
   "source": [
    "df = pd.DataFrame({'missing': missing})"
   ]
  },
  {
   "cell_type": "code",
   "execution_count": 22,
   "metadata": {
    "collapsed": false
   },
   "outputs": [],
   "source": [
    "df.to_csv('missing')"
   ]
  },
  {
   "cell_type": "markdown",
   "metadata": {},
   "source": [
    "##Load block data into pandas dataframe"
   ]
  },
  {
   "cell_type": "code",
   "execution_count": 25,
   "metadata": {
    "collapsed": true
   },
   "outputs": [],
   "source": [
    "blocks = pd.read_json('./../ethereum_blockchain/data/blocks.json', lines=True)"
   ]
  },
  {
   "cell_type": "code",
   "execution_count": 26,
   "metadata": {
    "collapsed": true
   },
   "outputs": [],
   "source": [
    "more_blocks = pd.read_json('./../ethereum_blockchain/data/blocks_more.json', lines=True)"
   ]
  },
  {
   "cell_type": "code",
   "execution_count": 27,
   "metadata": {
    "collapsed": false
   },
   "outputs": [
    {
     "data": {
      "text/plain": [
       "0    4287747.0\n",
       "1    4292233.0\n",
       "2    4293390.0\n",
       "3    4295323.0\n",
       "4    4293421.0\n",
       "Name: number, dtype: float64"
      ]
     },
     "execution_count": 27,
     "metadata": {},
     "output_type": "execute_result"
    }
   ],
   "source": [
    "more_blocks['number'].head()"
   ]
  },
  {
   "cell_type": "code",
   "execution_count": 28,
   "metadata": {
    "collapsed": false
   },
   "outputs": [
    {
     "data": {
      "text/plain": [
       "Index([u'_id', u'blockTime', u'coinbase', u'difficulty', u'extra', u'gasLimit',\n",
       "       u'gasUsed', u'hash', u'mixDigest', u'nonce', u'number', u'parentHash',\n",
       "       u'reward', u'root', u'size', u'time', u'totalFee', u'txHash',\n",
       "       u'tx_count', u'uncleHash', u'uncle_count'],\n",
       "      dtype='object')"
      ]
     },
     "execution_count": 28,
     "metadata": {},
     "output_type": "execute_result"
    }
   ],
   "source": [
    "blocks.columns"
   ]
  },
  {
   "cell_type": "code",
   "execution_count": 29,
   "metadata": {
    "collapsed": false
   },
   "outputs": [
    {
     "data": {
      "text/plain": [
       "(9623,)"
      ]
     },
     "execution_count": 29,
     "metadata": {},
     "output_type": "execute_result"
    }
   ],
   "source": [
    "blocks['number'].values.shape"
   ]
  },
  {
   "cell_type": "code",
   "execution_count": 30,
   "metadata": {
    "collapsed": false
   },
   "outputs": [
    {
     "data": {
      "text/plain": [
       "(9623,)"
      ]
     },
     "execution_count": 30,
     "metadata": {},
     "output_type": "execute_result"
    }
   ],
   "source": [
    "np.unique(blocks['number'].values).shape"
   ]
  },
  {
   "cell_type": "code",
   "execution_count": 31,
   "metadata": {
    "collapsed": false
   },
   "outputs": [
    {
     "data": {
      "text/plain": [
       "(26,)"
      ]
     },
     "execution_count": 31,
     "metadata": {},
     "output_type": "execute_result"
    }
   ],
   "source": [
    "more_blocks['number'].values.shape"
   ]
  },
  {
   "cell_type": "code",
   "execution_count": 32,
   "metadata": {
    "collapsed": false
   },
   "outputs": [],
   "source": [
    "block_ids = blocks['number'].values"
   ]
  },
  {
   "cell_type": "code",
   "execution_count": 33,
   "metadata": {
    "collapsed": false
   },
   "outputs": [],
   "source": [
    "block_ids = block_ids.astype(int)"
   ]
  },
  {
   "cell_type": "code",
   "execution_count": 34,
   "metadata": {
    "collapsed": false
   },
   "outputs": [
    {
     "data": {
      "text/plain": [
       "dtype('int64')"
      ]
     },
     "execution_count": 34,
     "metadata": {},
     "output_type": "execute_result"
    }
   ],
   "source": [
    "block_ids.dtype"
   ]
  },
  {
   "cell_type": "code",
   "execution_count": 35,
   "metadata": {
    "collapsed": false
   },
   "outputs": [],
   "source": [
    "#round floats to nearest integer\n",
    "mb = np.rint(more_blocks['number'].values)"
   ]
  },
  {
   "cell_type": "code",
   "execution_count": 36,
   "metadata": {
    "collapsed": true
   },
   "outputs": [],
   "source": [
    "#Convert floats to int\n",
    "mb = mb.astype(int)"
   ]
  },
  {
   "cell_type": "code",
   "execution_count": 37,
   "metadata": {
    "collapsed": false
   },
   "outputs": [],
   "source": [
    "all_block_ids = np.concatenate([block_ids, mb])"
   ]
  },
  {
   "cell_type": "code",
   "execution_count": 38,
   "metadata": {
    "collapsed": false
   },
   "outputs": [
    {
     "data": {
      "text/plain": [
       "4293426"
      ]
     },
     "execution_count": 38,
     "metadata": {},
     "output_type": "execute_result"
    }
   ],
   "source": [
    "all_block_ids[-1]"
   ]
  },
  {
   "cell_type": "code",
   "execution_count": 39,
   "metadata": {
    "collapsed": false
   },
   "outputs": [
    {
     "data": {
      "text/plain": [
       "(9637,)"
      ]
     },
     "execution_count": 39,
     "metadata": {},
     "output_type": "execute_result"
    }
   ],
   "source": [
    "a.shape"
   ]
  },
  {
   "cell_type": "code",
   "execution_count": 40,
   "metadata": {
    "collapsed": false
   },
   "outputs": [],
   "source": [
    "remaining = list(set(a) - set(all_block_ids))"
   ]
  },
  {
   "cell_type": "code",
   "execution_count": 41,
   "metadata": {
    "collapsed": false
   },
   "outputs": [
    {
     "data": {
      "text/plain": [
       "0"
      ]
     },
     "execution_count": 41,
     "metadata": {},
     "output_type": "execute_result"
    }
   ],
   "source": [
    "len(remaining)"
   ]
  },
  {
   "cell_type": "code",
   "execution_count": 42,
   "metadata": {
    "collapsed": false
   },
   "outputs": [
    {
     "data": {
      "text/plain": [
       "[]"
      ]
     },
     "execution_count": 42,
     "metadata": {},
     "output_type": "execute_result"
    }
   ],
   "source": [
    "remaining"
   ]
  },
  {
   "cell_type": "code",
   "execution_count": 43,
   "metadata": {
    "collapsed": false
   },
   "outputs": [
    {
     "name": "stdout",
     "output_type": "stream",
     "text": [
      "(4291426, True)\n"
     ]
    }
   ],
   "source": [
    "val = 4291426\n",
    "if val in mb:\n",
    "    print(val, True)\n",
    "else:\n",
    "    print(val, False)"
   ]
  },
  {
   "cell_type": "code",
   "execution_count": 44,
   "metadata": {
    "collapsed": false
   },
   "outputs": [
    {
     "name": "stdout",
     "output_type": "stream",
     "text": [
      "(4287747, True)\n",
      "(4292233, True)\n",
      "(4293390, True)\n",
      "(4295323, True)\n",
      "(4293421, True)\n",
      "(4293422, True)\n",
      "(4293424, True)\n",
      "(4293425, True)\n",
      "(4290994, True)\n",
      "(4293427, True)\n",
      "(4293428, True)\n",
      "(4293430, True)\n",
      "(4293432, True)\n",
      "(4293434, True)\n",
      "(4292411, True)\n",
      "(4293437, True)\n",
      "(4293186, True)\n",
      "(4295493, True)\n",
      "(4292170, True)\n",
      "(4291407, True)\n",
      "(4287569, True)\n",
      "(4288986, True)\n",
      "(4291426, True)\n",
      "(4289774, True)\n",
      "(4292214, True)\n",
      "(4293426, True)\n"
     ]
    }
   ],
   "source": [
    "for val in mb:\n",
    "    if val in all_block_ids:\n",
    "        print(val, True)\n",
    "    else:\n",
    "        print(val, False)"
   ]
  },
  {
   "cell_type": "code",
   "execution_count": 45,
   "metadata": {
    "collapsed": false
   },
   "outputs": [],
   "source": [
    "remain_to_calc = pd.DataFrame({\"block_id\": remaining})"
   ]
  },
  {
   "cell_type": "code",
   "execution_count": 46,
   "metadata": {
    "collapsed": false
   },
   "outputs": [],
   "source": [
    "remain_to_calc.to_csv(\"./tocalc.csv\")"
   ]
  },
  {
   "cell_type": "code",
   "execution_count": 47,
   "metadata": {
    "collapsed": false
   },
   "outputs": [
    {
     "name": "stdout",
     "output_type": "stream",
     "text": [
      "<class 'pandas.core.frame.DataFrame'>\n",
      "Int64Index: 9623 entries, 0 to 9622\n",
      "Data columns (total 21 columns):\n",
      "_id            9623 non-null object\n",
      "blockTime      9623 non-null int64\n",
      "coinbase       9623 non-null object\n",
      "difficulty     9623 non-null object\n",
      "extra          9623 non-null object\n",
      "gasLimit       9623 non-null float64\n",
      "gasUsed        9623 non-null float64\n",
      "hash           9623 non-null object\n",
      "mixDigest      0 non-null float64\n",
      "nonce          9623 non-null object\n",
      "number         9623 non-null float64\n",
      "parentHash     9623 non-null object\n",
      "reward         9623 non-null object\n",
      "root           9623 non-null object\n",
      "size           9623 non-null int64\n",
      "time           9623 non-null object\n",
      "totalFee       9623 non-null object\n",
      "txHash         9623 non-null object\n",
      "tx_count       9623 non-null int64\n",
      "uncleHash      9623 non-null object\n",
      "uncle_count    9623 non-null int64\n",
      "dtypes: float64(4), int64(4), object(13)\n",
      "memory usage: 1.6+ MB\n"
     ]
    }
   ],
   "source": [
    "blocks.info()"
   ]
  },
  {
   "cell_type": "markdown",
   "metadata": {},
   "source": [
    "##Convert dtypes \n",
    "- Treat long integer types"
   ]
  },
  {
   "cell_type": "code",
   "execution_count": 71,
   "metadata": {
    "collapsed": false
   },
   "outputs": [
    {
     "ename": "AttributeError",
     "evalue": "'int' object has no attribute 'iteritems'",
     "output_type": "error",
     "traceback": [
      "\u001b[0;31m---------------------------------------------------------------------------\u001b[0m",
      "\u001b[0;31mAttributeError\u001b[0m                            Traceback (most recent call last)",
      "\u001b[0;32m<ipython-input-71-da4411418c38>\u001b[0m in \u001b[0;36m<module>\u001b[0;34m()\u001b[0m\n\u001b[1;32m      1\u001b[0m \u001b[0mints\u001b[0m \u001b[0;34m=\u001b[0m \u001b[0;34m[\u001b[0m\u001b[0;34m]\u001b[0m\u001b[0;34m\u001b[0m\u001b[0m\n\u001b[1;32m      2\u001b[0m \u001b[0;32mfor\u001b[0m \u001b[0mrow\u001b[0m \u001b[0;32min\u001b[0m \u001b[0mblocks\u001b[0m\u001b[0;34m.\u001b[0m\u001b[0mtotalFee\u001b[0m\u001b[0;34m.\u001b[0m\u001b[0mvalues\u001b[0m\u001b[0;34m:\u001b[0m\u001b[0;34m\u001b[0m\u001b[0m\n\u001b[0;32m----> 3\u001b[0;31m     \u001b[0;32mfor\u001b[0m \u001b[0mk\u001b[0m\u001b[0;34m,\u001b[0m\u001b[0mv\u001b[0m \u001b[0;32min\u001b[0m \u001b[0mrow\u001b[0m\u001b[0;34m.\u001b[0m\u001b[0miteritems\u001b[0m\u001b[0;34m(\u001b[0m\u001b[0;34m)\u001b[0m\u001b[0;34m:\u001b[0m\u001b[0;34m\u001b[0m\u001b[0m\n\u001b[0m\u001b[1;32m      4\u001b[0m         \u001b[0mints\u001b[0m\u001b[0;34m.\u001b[0m\u001b[0mappend\u001b[0m\u001b[0;34m(\u001b[0m\u001b[0mv\u001b[0m\u001b[0;34m)\u001b[0m\u001b[0;34m\u001b[0m\u001b[0m\n",
      "\u001b[0;31mAttributeError\u001b[0m: 'int' object has no attribute 'iteritems'"
     ]
    }
   ],
   "source": [
    "ints = []\n",
    "for row in blocks.totalFee.values:\n",
    "    for k,v in row.iteritems():\n",
    "        ints.append(v)"
   ]
  },
  {
   "cell_type": "code",
   "execution_count": 72,
   "metadata": {
    "collapsed": false
   },
   "outputs": [
    {
     "data": {
      "text/html": [
       "<div>\n",
       "<style>\n",
       "    .dataframe thead tr:only-child th {\n",
       "        text-align: right;\n",
       "    }\n",
       "\n",
       "    .dataframe thead th {\n",
       "        text-align: left;\n",
       "    }\n",
       "\n",
       "    .dataframe tbody tr th {\n",
       "        vertical-align: top;\n",
       "    }\n",
       "</style>\n",
       "<table border=\"1\" class=\"dataframe\">\n",
       "  <thead>\n",
       "    <tr style=\"text-align: right;\">\n",
       "      <th></th>\n",
       "      <th>_id</th>\n",
       "      <th>blockTime</th>\n",
       "      <th>coinbase</th>\n",
       "      <th>difficulty</th>\n",
       "      <th>extra</th>\n",
       "      <th>gasLimit</th>\n",
       "      <th>gasUsed</th>\n",
       "      <th>hash</th>\n",
       "      <th>mixDigest</th>\n",
       "      <th>nonce</th>\n",
       "      <th>...</th>\n",
       "      <th>parentHash</th>\n",
       "      <th>reward</th>\n",
       "      <th>root</th>\n",
       "      <th>size</th>\n",
       "      <th>time</th>\n",
       "      <th>totalFee</th>\n",
       "      <th>txHash</th>\n",
       "      <th>tx_count</th>\n",
       "      <th>uncleHash</th>\n",
       "      <th>uncle_count</th>\n",
       "    </tr>\n",
       "  </thead>\n",
       "  <tbody>\n",
       "    <tr>\n",
       "      <th>0</th>\n",
       "      <td>{u'$oid': u'59c5ce4166a161b6940c900f'}</td>\n",
       "      <td>22</td>\n",
       "      <td>0x829bd824b016326a401d083b33d092293333a830</td>\n",
       "      <td>{u'$numberLong': u'2415063514546603'}</td>\n",
       "      <td>0xe4b883e5bda9e7a59ee4bb99e9b1bc</td>\n",
       "      <td>6722221.0</td>\n",
       "      <td>1638699.0</td>\n",
       "      <td>0xed5a6d0ab1d8ebece462c60c5764013f8649fd2e340d...</td>\n",
       "      <td>NaN</td>\n",
       "      <td>0x88c3313c5808ea0b55</td>\n",
       "      <td>...</td>\n",
       "      <td>0x03ca1d1d9bc8976c871fe255ff8855b11408900c578b...</td>\n",
       "      <td>{u'$numberLong': u'5048829031919903000'}</td>\n",
       "      <td>0x11466e02b478876a595f6032b3e434c80e3cf89dcae9...</td>\n",
       "      <td>6331</td>\n",
       "      <td>2017-09-19T22:30:42.000Z</td>\n",
       "      <td>{u'$numberLong': u'48829031919903220'}</td>\n",
       "      <td>0x1a2f7f901498f820edd20d27a34ae46b4b766ff66ab1...</td>\n",
       "      <td>43</td>\n",
       "      <td>0x1dcc4de8dec75d7aab85b567b6ccd41ad312451b948a...</td>\n",
       "      <td>0</td>\n",
       "    </tr>\n",
       "    <tr>\n",
       "      <th>1</th>\n",
       "      <td>{u'$oid': u'59c5ce4666a161b6940c9010'}</td>\n",
       "      <td>13</td>\n",
       "      <td>0xea674fdde714fd979de3edf0f56aa9716b898ec8</td>\n",
       "      <td>{u'$numberLong': u'2416163026174379'}</td>\n",
       "      <td>0x65746865726d696e652d657535</td>\n",
       "      <td>6715685.0</td>\n",
       "      <td>147000.0</td>\n",
       "      <td>0xe28f0bdb771db682f50eb672f6250427358a551aff35...</td>\n",
       "      <td>NaN</td>\n",
       "      <td>0x8844b0481556efb1ba</td>\n",
       "      <td>...</td>\n",
       "      <td>0xed5a6d0ab1d8ebece462c60c5764013f8649fd2e340d...</td>\n",
       "      <td>{u'$numberLong': u'5003150000000000000'}</td>\n",
       "      <td>0x3d612737f50e54b4f81d0bf0df3ddc6c921590c83ef7...</td>\n",
       "      <td>1306</td>\n",
       "      <td>2017-09-19T22:30:55.000Z</td>\n",
       "      <td>{u'$numberLong': u'3150000000000000'}</td>\n",
       "      <td>0x45fa09c65004ef8381993a3b9aa2fd4c9b69c55cc0e9...</td>\n",
       "      <td>7</td>\n",
       "      <td>0x1dcc4de8dec75d7aab85b567b6ccd41ad312451b948a...</td>\n",
       "      <td>0</td>\n",
       "    </tr>\n",
       "    <tr>\n",
       "      <th>2</th>\n",
       "      <td>{u'$oid': u'59c5ce4c66a161b6940c9011'}</td>\n",
       "      <td>2</td>\n",
       "      <td>0xea674fdde714fd979de3edf0f56aa9716b898ec8</td>\n",
       "      <td>{u'$numberLong': u'2418442304904779'}</td>\n",
       "      <td>0x65746865726d696e652d6173696137</td>\n",
       "      <td>6709136.0</td>\n",
       "      <td>6467763.0</td>\n",
       "      <td>0x3677a004073c59fd13342b10ee9e4f78838e116d6b8e...</td>\n",
       "      <td>NaN</td>\n",
       "      <td>0x882bda7cc01380352b</td>\n",
       "      <td>...</td>\n",
       "      <td>0xe28f0bdb771db682f50eb672f6250427358a551aff35...</td>\n",
       "      <td>{u'$numberLong': u'5067934995026004000'}</td>\n",
       "      <td>0x3491fdd5fb13ff6445b4919dd771354a6e6b4b97cb2c...</td>\n",
       "      <td>21486</td>\n",
       "      <td>2017-09-19T22:30:57.000Z</td>\n",
       "      <td>{u'$numberLong': u'67934995026003860'}</td>\n",
       "      <td>0x33cf3315cf8d7fdfffaf8749b8f4365ab1d30f586901...</td>\n",
       "      <td>47</td>\n",
       "      <td>0x1dcc4de8dec75d7aab85b567b6ccd41ad312451b948a...</td>\n",
       "      <td>0</td>\n",
       "    </tr>\n",
       "    <tr>\n",
       "      <th>3</th>\n",
       "      <td>{u'$oid': u'59c5ce5166a161b6940c9012'}</td>\n",
       "      <td>24</td>\n",
       "      <td>0xb2930b35844a230f00e51431acae96fe543a0347</td>\n",
       "      <td>{u'$numberLong': u'2418360936500864'}</td>\n",
       "      <td>0x7439</td>\n",
       "      <td>6702587.0</td>\n",
       "      <td>6643541.0</td>\n",
       "      <td>0xaf013391d383533db3fd2ff9bfa58f17db9d64c1ff6f...</td>\n",
       "      <td>NaN</td>\n",
       "      <td>0x884334f56011dd99ff</td>\n",
       "      <td>...</td>\n",
       "      <td>0x3677a004073c59fd13342b10ee9e4f78838e116d6b8e...</td>\n",
       "      <td>{u'$numberLong': u'5062887994431406000'}</td>\n",
       "      <td>0xc4c2bd2ea2e93af93fe168cf1fa30e59f1c5394c39e3...</td>\n",
       "      <td>15432</td>\n",
       "      <td>2017-09-19T22:31:21.000Z</td>\n",
       "      <td>{u'$numberLong': u'62887994431406510'}</td>\n",
       "      <td>0xbc846d47e24ec42f482644489c90c4b516d626896dac...</td>\n",
       "      <td>86</td>\n",
       "      <td>0x1dcc4de8dec75d7aab85b567b6ccd41ad312451b948a...</td>\n",
       "      <td>0</td>\n",
       "    </tr>\n",
       "    <tr>\n",
       "      <th>4</th>\n",
       "      <td>{u'$oid': u'59c5ce5766a161b6940c9013'}</td>\n",
       "      <td>27</td>\n",
       "      <td>0xea674fdde714fd979de3edf0f56aa9716b898ec8</td>\n",
       "      <td>{u'$numberLong': u'2418279607827615'}</td>\n",
       "      <td>0x65746865726d696e652d657532</td>\n",
       "      <td>6709099.0</td>\n",
       "      <td>229962.0</td>\n",
       "      <td>0x7fd784d3a2ec316efa7e1dde6d53c5b4572fdeddbc83...</td>\n",
       "      <td>NaN</td>\n",
       "      <td>0x88a7da800018156043</td>\n",
       "      <td>...</td>\n",
       "      <td>0xaf013391d383533db3fd2ff9bfa58f17db9d64c1ff6f...</td>\n",
       "      <td>{u'$numberLong': u'5004893252000000000'}</td>\n",
       "      <td>0x4784e3313ad18136db83ef9f715858022c6e13ecbbed...</td>\n",
       "      <td>1649</td>\n",
       "      <td>2017-09-19T22:31:48.000Z</td>\n",
       "      <td>{u'$numberLong': u'4893252000000000'}</td>\n",
       "      <td>0xeda7239a129ba5ae52688bd7cbee9089b84d45fff09e...</td>\n",
       "      <td>10</td>\n",
       "      <td>0x1dcc4de8dec75d7aab85b567b6ccd41ad312451b948a...</td>\n",
       "      <td>0</td>\n",
       "    </tr>\n",
       "  </tbody>\n",
       "</table>\n",
       "<p>5 rows × 21 columns</p>\n",
       "</div>"
      ],
      "text/plain": [
       "                                      _id  blockTime  \\\n",
       "0  {u'$oid': u'59c5ce4166a161b6940c900f'}         22   \n",
       "1  {u'$oid': u'59c5ce4666a161b6940c9010'}         13   \n",
       "2  {u'$oid': u'59c5ce4c66a161b6940c9011'}          2   \n",
       "3  {u'$oid': u'59c5ce5166a161b6940c9012'}         24   \n",
       "4  {u'$oid': u'59c5ce5766a161b6940c9013'}         27   \n",
       "\n",
       "                                     coinbase  \\\n",
       "0  0x829bd824b016326a401d083b33d092293333a830   \n",
       "1  0xea674fdde714fd979de3edf0f56aa9716b898ec8   \n",
       "2  0xea674fdde714fd979de3edf0f56aa9716b898ec8   \n",
       "3  0xb2930b35844a230f00e51431acae96fe543a0347   \n",
       "4  0xea674fdde714fd979de3edf0f56aa9716b898ec8   \n",
       "\n",
       "                              difficulty                             extra  \\\n",
       "0  {u'$numberLong': u'2415063514546603'}  0xe4b883e5bda9e7a59ee4bb99e9b1bc   \n",
       "1  {u'$numberLong': u'2416163026174379'}      0x65746865726d696e652d657535   \n",
       "2  {u'$numberLong': u'2418442304904779'}  0x65746865726d696e652d6173696137   \n",
       "3  {u'$numberLong': u'2418360936500864'}                            0x7439   \n",
       "4  {u'$numberLong': u'2418279607827615'}      0x65746865726d696e652d657532   \n",
       "\n",
       "    gasLimit    gasUsed                                               hash  \\\n",
       "0  6722221.0  1638699.0  0xed5a6d0ab1d8ebece462c60c5764013f8649fd2e340d...   \n",
       "1  6715685.0   147000.0  0xe28f0bdb771db682f50eb672f6250427358a551aff35...   \n",
       "2  6709136.0  6467763.0  0x3677a004073c59fd13342b10ee9e4f78838e116d6b8e...   \n",
       "3  6702587.0  6643541.0  0xaf013391d383533db3fd2ff9bfa58f17db9d64c1ff6f...   \n",
       "4  6709099.0   229962.0  0x7fd784d3a2ec316efa7e1dde6d53c5b4572fdeddbc83...   \n",
       "\n",
       "   mixDigest                 nonce     ...      \\\n",
       "0        NaN  0x88c3313c5808ea0b55     ...       \n",
       "1        NaN  0x8844b0481556efb1ba     ...       \n",
       "2        NaN  0x882bda7cc01380352b     ...       \n",
       "3        NaN  0x884334f56011dd99ff     ...       \n",
       "4        NaN  0x88a7da800018156043     ...       \n",
       "\n",
       "                                          parentHash  \\\n",
       "0  0x03ca1d1d9bc8976c871fe255ff8855b11408900c578b...   \n",
       "1  0xed5a6d0ab1d8ebece462c60c5764013f8649fd2e340d...   \n",
       "2  0xe28f0bdb771db682f50eb672f6250427358a551aff35...   \n",
       "3  0x3677a004073c59fd13342b10ee9e4f78838e116d6b8e...   \n",
       "4  0xaf013391d383533db3fd2ff9bfa58f17db9d64c1ff6f...   \n",
       "\n",
       "                                     reward  \\\n",
       "0  {u'$numberLong': u'5048829031919903000'}   \n",
       "1  {u'$numberLong': u'5003150000000000000'}   \n",
       "2  {u'$numberLong': u'5067934995026004000'}   \n",
       "3  {u'$numberLong': u'5062887994431406000'}   \n",
       "4  {u'$numberLong': u'5004893252000000000'}   \n",
       "\n",
       "                                                root   size  \\\n",
       "0  0x11466e02b478876a595f6032b3e434c80e3cf89dcae9...   6331   \n",
       "1  0x3d612737f50e54b4f81d0bf0df3ddc6c921590c83ef7...   1306   \n",
       "2  0x3491fdd5fb13ff6445b4919dd771354a6e6b4b97cb2c...  21486   \n",
       "3  0xc4c2bd2ea2e93af93fe168cf1fa30e59f1c5394c39e3...  15432   \n",
       "4  0x4784e3313ad18136db83ef9f715858022c6e13ecbbed...   1649   \n",
       "\n",
       "                       time                                totalFee  \\\n",
       "0  2017-09-19T22:30:42.000Z  {u'$numberLong': u'48829031919903220'}   \n",
       "1  2017-09-19T22:30:55.000Z   {u'$numberLong': u'3150000000000000'}   \n",
       "2  2017-09-19T22:30:57.000Z  {u'$numberLong': u'67934995026003860'}   \n",
       "3  2017-09-19T22:31:21.000Z  {u'$numberLong': u'62887994431406510'}   \n",
       "4  2017-09-19T22:31:48.000Z   {u'$numberLong': u'4893252000000000'}   \n",
       "\n",
       "                                              txHash tx_count  \\\n",
       "0  0x1a2f7f901498f820edd20d27a34ae46b4b766ff66ab1...       43   \n",
       "1  0x45fa09c65004ef8381993a3b9aa2fd4c9b69c55cc0e9...        7   \n",
       "2  0x33cf3315cf8d7fdfffaf8749b8f4365ab1d30f586901...       47   \n",
       "3  0xbc846d47e24ec42f482644489c90c4b516d626896dac...       86   \n",
       "4  0xeda7239a129ba5ae52688bd7cbee9089b84d45fff09e...       10   \n",
       "\n",
       "                                           uncleHash uncle_count  \n",
       "0  0x1dcc4de8dec75d7aab85b567b6ccd41ad312451b948a...           0  \n",
       "1  0x1dcc4de8dec75d7aab85b567b6ccd41ad312451b948a...           0  \n",
       "2  0x1dcc4de8dec75d7aab85b567b6ccd41ad312451b948a...           0  \n",
       "3  0x1dcc4de8dec75d7aab85b567b6ccd41ad312451b948a...           0  \n",
       "4  0x1dcc4de8dec75d7aab85b567b6ccd41ad312451b948a...           0  \n",
       "\n",
       "[5 rows x 21 columns]"
      ]
     },
     "execution_count": 72,
     "metadata": {},
     "output_type": "execute_result"
    }
   ],
   "source": [
    "blocks.head()"
   ]
  },
  {
   "cell_type": "code",
   "execution_count": 50,
   "metadata": {
    "collapsed": false
   },
   "outputs": [
    {
     "data": {
      "text/plain": [
       "dtype('float64')"
      ]
     },
     "execution_count": 50,
     "metadata": {},
     "output_type": "execute_result"
    }
   ],
   "source": [
    "blocks['number'].values.dtype"
   ]
  },
  {
   "cell_type": "code",
   "execution_count": 51,
   "metadata": {
    "collapsed": false
   },
   "outputs": [
    {
     "name": "stdout",
     "output_type": "stream",
     "text": [
      "(u'_id', dtype('O'))\n",
      "(u'blockTime', dtype('int64'))\n",
      "(u'coinbase', dtype('O'))\n",
      "(u'difficulty', dtype('O'))\n",
      "(u'extra', dtype('O'))\n",
      "(u'gasLimit', dtype('float64'))\n",
      "(u'gasUsed', dtype('float64'))\n",
      "(u'hash', dtype('O'))\n",
      "(u'mixDigest', dtype('float64'))\n",
      "(u'nonce', dtype('O'))\n",
      "(u'number', dtype('float64'))\n",
      "(u'parentHash', dtype('O'))\n",
      "(u'reward', dtype('O'))\n",
      "(u'root', dtype('O'))\n",
      "(u'size', dtype('int64'))\n",
      "(u'time', dtype('O'))\n",
      "(u'totalFee', dtype('O'))\n",
      "(u'txHash', dtype('O'))\n",
      "(u'tx_count', dtype('int64'))\n",
      "(u'uncleHash', dtype('O'))\n",
      "(u'uncle_count', dtype('int64'))\n"
     ]
    }
   ],
   "source": [
    "for col in blocks.columns:\n",
    "    print(col, blocks[col].values.dtype)\n",
    "    if blocks[col].values.dtype == 'float64'"
   ]
  },
  {
   "cell_type": "markdown",
   "metadata": {},
   "source": [
    "##Check NaN values"
   ]
  },
  {
   "cell_type": "code",
   "execution_count": 108,
   "metadata": {
    "collapsed": false
   },
   "outputs": [
    {
     "name": "stdout",
     "output_type": "stream",
     "text": [
      "(u'_id', 0)\n",
      "(u'accountNonce', 0)\n",
      "(u'amount', 0)\n",
      "(u'blockHash', 0)\n",
      "(u'block_id', 0)\n",
      "(u'gasLimit', 0)\n",
      "(u'gasUsed', 0)\n",
      "(u'hash', 0)\n",
      "(u'isContractTx', 1000527)\n",
      "(u'newContract', 0)\n",
      "(u'parentHash', 0)\n",
      "(u'price', 0)\n",
      "(u'recipient', 0)\n",
      "(u'sender', 0)\n",
      "(u'time', 0)\n",
      "(u'txIndex', 660293)\n",
      "(u'type', 0)\n"
     ]
    }
   ],
   "source": [
    "for col in df.columns:\n",
    "    print(col, df[col].isnull().sum())"
   ]
  },
  {
   "cell_type": "code",
   "execution_count": 109,
   "metadata": {
    "collapsed": false
   },
   "outputs": [
    {
     "data": {
      "text/plain": [
       "0    997356\n",
       "1      3171\n",
       "Name: newContract, dtype: int64"
      ]
     },
     "execution_count": 109,
     "metadata": {},
     "output_type": "execute_result"
    }
   ],
   "source": [
    "df['newContract'].value_counts()"
   ]
  },
  {
   "cell_type": "code",
   "execution_count": 110,
   "metadata": {
    "collapsed": false
   },
   "outputs": [
    {
     "data": {
      "text/plain": [
       "tx         657122\n",
       "call       325682\n",
       "create      17479\n",
       "suicide       244\n",
       "Name: type, dtype: int64"
      ]
     },
     "execution_count": 110,
     "metadata": {},
     "output_type": "execute_result"
    }
   ],
   "source": [
    "df['type'].value_counts()"
   ]
  },
  {
   "cell_type": "code",
   "execution_count": 9,
   "metadata": {
    "collapsed": false
   },
   "outputs": [
    {
     "data": {
      "text/plain": [
       "1.0     79194\n",
       "2.0     39201\n",
       "3.0     21742\n",
       "4.0     17740\n",
       "5.0     16379\n",
       "6.0     14164\n",
       "7.0     12921\n",
       "8.0      5075\n",
       "9.0      2288\n",
       "11.0     1951\n",
       "10.0     1950\n",
       "12.0     1942\n",
       "13.0     1672\n",
       "14.0     1121\n",
       "15.0      613\n",
       "16.0      566\n",
       "17.0       98\n",
       "18.0       41\n",
       "19.0        6\n",
       "20.0        4\n",
       "Name: txIndex, dtype: int64"
      ]
     },
     "execution_count": 9,
     "metadata": {},
     "output_type": "execute_result"
    }
   ],
   "source": [
    "df['txIndex'].value_counts()"
   ]
  },
  {
   "cell_type": "code",
   "execution_count": 111,
   "metadata": {
    "collapsed": false
   },
   "outputs": [
    {
     "data": {
      "text/plain": [
       "(490581, 17)"
      ]
     },
     "execution_count": 111,
     "metadata": {},
     "output_type": "execute_result"
    }
   ],
   "source": [
    "df[df['amount'] == 0].shape"
   ]
  },
  {
   "cell_type": "code",
   "execution_count": 112,
   "metadata": {
    "collapsed": false
   },
   "outputs": [
    {
     "data": {
      "text/plain": [
       "(509946, 17)"
      ]
     },
     "execution_count": 112,
     "metadata": {},
     "output_type": "execute_result"
    }
   ],
   "source": [
    "df[df['amount'] != 0].shape"
   ]
  },
  {
   "cell_type": "code",
   "execution_count": 113,
   "metadata": {
    "collapsed": false
   },
   "outputs": [
    {
     "data": {
      "text/plain": [
       "30716005102.199036"
      ]
     },
     "execution_count": 113,
     "metadata": {},
     "output_type": "execute_result"
    }
   ],
   "source": [
    "# average gas price\n",
    "np.mean(df['price'].values)"
   ]
  },
  {
   "cell_type": "markdown",
   "metadata": {},
   "source": [
    "##Binarize the amount column"
   ]
  },
  {
   "cell_type": "code",
   "execution_count": 13,
   "metadata": {
    "collapsed": false
   },
   "outputs": [],
   "source": [
    "df['amount_binary'] = df['amount'].map(lambda x: 0 if x == 0 else 1)"
   ]
  },
  {
   "cell_type": "code",
   "execution_count": 14,
   "metadata": {
    "collapsed": false
   },
   "outputs": [
    {
     "data": {
      "text/html": [
       "<div>\n",
       "<style>\n",
       "    .dataframe thead tr:only-child th {\n",
       "        text-align: right;\n",
       "    }\n",
       "\n",
       "    .dataframe thead th {\n",
       "        text-align: left;\n",
       "    }\n",
       "\n",
       "    .dataframe tbody tr th {\n",
       "        vertical-align: top;\n",
       "    }\n",
       "</style>\n",
       "<table border=\"1\" class=\"dataframe\">\n",
       "  <thead>\n",
       "    <tr style=\"text-align: right;\">\n",
       "      <th></th>\n",
       "      <th>_id</th>\n",
       "      <th>accountNonce</th>\n",
       "      <th>amount</th>\n",
       "      <th>blockHash</th>\n",
       "      <th>block_id</th>\n",
       "      <th>gasLimit</th>\n",
       "      <th>gasUsed</th>\n",
       "      <th>hash</th>\n",
       "      <th>isContractTx</th>\n",
       "      <th>newContract</th>\n",
       "      <th>parentHash</th>\n",
       "      <th>price</th>\n",
       "      <th>recipient</th>\n",
       "      <th>sender</th>\n",
       "      <th>time</th>\n",
       "      <th>txIndex</th>\n",
       "      <th>type</th>\n",
       "      <th>amount_binary</th>\n",
       "    </tr>\n",
       "  </thead>\n",
       "  <tbody>\n",
       "    <tr>\n",
       "      <th>0</th>\n",
       "      <td>{u'$oid': u'59c2ce9a66a1615156cf51e7'}</td>\n",
       "      <td>3324654</td>\n",
       "      <td>4.990932e+17</td>\n",
       "      <td>0xce9a4be92a53142c8e1962405342ded3472d5516bbc9...</td>\n",
       "      <td>4295887</td>\n",
       "      <td>50000</td>\n",
       "      <td>21000</td>\n",
       "      <td>0xfc505bf23efe13154192262c3f7b99e2517b133fe5f6...</td>\n",
       "      <td>NaN</td>\n",
       "      <td>0</td>\n",
       "      <td>0xfc505bf23efe13154192262c3f7b99e2517b133fe5f6...</td>\n",
       "      <td>2.100000e+10</td>\n",
       "      <td>0x656dd5d0020dc9047e7d9ec4eac344a7397200e8</td>\n",
       "      <td>0xea674fdde714fd979de3edf0f56aa9716b898ec8</td>\n",
       "      <td>2017-09-20T20:24:15.000Z</td>\n",
       "      <td>NaN</td>\n",
       "      <td>tx</td>\n",
       "      <td>1</td>\n",
       "    </tr>\n",
       "    <tr>\n",
       "      <th>1</th>\n",
       "      <td>{u'$oid': u'59c2ce9a66a1615156cf51e8'}</td>\n",
       "      <td>3324658</td>\n",
       "      <td>1.492221e+17</td>\n",
       "      <td>0xce9a4be92a53142c8e1962405342ded3472d5516bbc9...</td>\n",
       "      <td>4295887</td>\n",
       "      <td>20967</td>\n",
       "      <td>9416</td>\n",
       "      <td>0xfa0124a64e4cedc7d75dff3ee0fca13d32b2a368e0cb...</td>\n",
       "      <td>NaN</td>\n",
       "      <td>0</td>\n",
       "      <td>0xad177c193597850a4c7c95cb990233a1190bd6118d33...</td>\n",
       "      <td>2.100000e+10</td>\n",
       "      <td>0x209c4784ab1e8183cf58ca33cb740efbf3fc18ef</td>\n",
       "      <td>0x0a8de3650a8f331e85673fe71677d53a749e6de7</td>\n",
       "      <td>2017-09-20T20:24:15.000Z</td>\n",
       "      <td>1.0</td>\n",
       "      <td>call</td>\n",
       "      <td>1</td>\n",
       "    </tr>\n",
       "    <tr>\n",
       "      <th>2</th>\n",
       "      <td>{u'$oid': u'59c2ce9a66a1615156cf51e9'}</td>\n",
       "      <td>3324660</td>\n",
       "      <td>9.960846e+16</td>\n",
       "      <td>0xce9a4be92a53142c8e1962405342ded3472d5516bbc9...</td>\n",
       "      <td>4295887</td>\n",
       "      <td>50000</td>\n",
       "      <td>21000</td>\n",
       "      <td>0xe2a23b916903133728ab3dbfac55a56651508a971e89...</td>\n",
       "      <td>NaN</td>\n",
       "      <td>0</td>\n",
       "      <td>0xe2a23b916903133728ab3dbfac55a56651508a971e89...</td>\n",
       "      <td>2.100000e+10</td>\n",
       "      <td>0x951bec2b87e89a80ed785de7c9df1555cb8d4e05</td>\n",
       "      <td>0xea674fdde714fd979de3edf0f56aa9716b898ec8</td>\n",
       "      <td>2017-09-20T20:24:15.000Z</td>\n",
       "      <td>NaN</td>\n",
       "      <td>tx</td>\n",
       "      <td>1</td>\n",
       "    </tr>\n",
       "    <tr>\n",
       "      <th>3</th>\n",
       "      <td>{u'$oid': u'59c2ce9a66a1615156cf51ea'}</td>\n",
       "      <td>3324657</td>\n",
       "      <td>1.990048e+17</td>\n",
       "      <td>0xce9a4be92a53142c8e1962405342ded3472d5516bbc9...</td>\n",
       "      <td>4295887</td>\n",
       "      <td>50000</td>\n",
       "      <td>21000</td>\n",
       "      <td>0xc431fcd82ad55dc1aee932fa9965b55f8515981147a0...</td>\n",
       "      <td>NaN</td>\n",
       "      <td>0</td>\n",
       "      <td>0xc431fcd82ad55dc1aee932fa9965b55f8515981147a0...</td>\n",
       "      <td>2.100000e+10</td>\n",
       "      <td>0xfd094f940ab0d01592c21afb20b500406ed509f6</td>\n",
       "      <td>0xea674fdde714fd979de3edf0f56aa9716b898ec8</td>\n",
       "      <td>2017-09-20T20:24:15.000Z</td>\n",
       "      <td>NaN</td>\n",
       "      <td>tx</td>\n",
       "      <td>1</td>\n",
       "    </tr>\n",
       "    <tr>\n",
       "      <th>4</th>\n",
       "      <td>{u'$oid': u'59c2ce9a66a1615156cf51eb'}</td>\n",
       "      <td>3324662</td>\n",
       "      <td>1.000289e+18</td>\n",
       "      <td>0xce9a4be92a53142c8e1962405342ded3472d5516bbc9...</td>\n",
       "      <td>4295887</td>\n",
       "      <td>50000</td>\n",
       "      <td>21000</td>\n",
       "      <td>0xb759c34cb5b5af6f94f7002ef812b8482880d1f73d10...</td>\n",
       "      <td>NaN</td>\n",
       "      <td>0</td>\n",
       "      <td>0xb759c34cb5b5af6f94f7002ef812b8482880d1f73d10...</td>\n",
       "      <td>2.100000e+10</td>\n",
       "      <td>0x08dd9744e0dedef75f74357ca948485ea1d2d1f4</td>\n",
       "      <td>0xea674fdde714fd979de3edf0f56aa9716b898ec8</td>\n",
       "      <td>2017-09-20T20:24:15.000Z</td>\n",
       "      <td>NaN</td>\n",
       "      <td>tx</td>\n",
       "      <td>1</td>\n",
       "    </tr>\n",
       "  </tbody>\n",
       "</table>\n",
       "</div>"
      ],
      "text/plain": [
       "                                      _id  accountNonce        amount  \\\n",
       "0  {u'$oid': u'59c2ce9a66a1615156cf51e7'}       3324654  4.990932e+17   \n",
       "1  {u'$oid': u'59c2ce9a66a1615156cf51e8'}       3324658  1.492221e+17   \n",
       "2  {u'$oid': u'59c2ce9a66a1615156cf51e9'}       3324660  9.960846e+16   \n",
       "3  {u'$oid': u'59c2ce9a66a1615156cf51ea'}       3324657  1.990048e+17   \n",
       "4  {u'$oid': u'59c2ce9a66a1615156cf51eb'}       3324662  1.000289e+18   \n",
       "\n",
       "                                           blockHash  block_id  gasLimit  \\\n",
       "0  0xce9a4be92a53142c8e1962405342ded3472d5516bbc9...   4295887     50000   \n",
       "1  0xce9a4be92a53142c8e1962405342ded3472d5516bbc9...   4295887     20967   \n",
       "2  0xce9a4be92a53142c8e1962405342ded3472d5516bbc9...   4295887     50000   \n",
       "3  0xce9a4be92a53142c8e1962405342ded3472d5516bbc9...   4295887     50000   \n",
       "4  0xce9a4be92a53142c8e1962405342ded3472d5516bbc9...   4295887     50000   \n",
       "\n",
       "   gasUsed                                               hash  isContractTx  \\\n",
       "0    21000  0xfc505bf23efe13154192262c3f7b99e2517b133fe5f6...           NaN   \n",
       "1     9416  0xfa0124a64e4cedc7d75dff3ee0fca13d32b2a368e0cb...           NaN   \n",
       "2    21000  0xe2a23b916903133728ab3dbfac55a56651508a971e89...           NaN   \n",
       "3    21000  0xc431fcd82ad55dc1aee932fa9965b55f8515981147a0...           NaN   \n",
       "4    21000  0xb759c34cb5b5af6f94f7002ef812b8482880d1f73d10...           NaN   \n",
       "\n",
       "   newContract                                         parentHash  \\\n",
       "0            0  0xfc505bf23efe13154192262c3f7b99e2517b133fe5f6...   \n",
       "1            0  0xad177c193597850a4c7c95cb990233a1190bd6118d33...   \n",
       "2            0  0xe2a23b916903133728ab3dbfac55a56651508a971e89...   \n",
       "3            0  0xc431fcd82ad55dc1aee932fa9965b55f8515981147a0...   \n",
       "4            0  0xb759c34cb5b5af6f94f7002ef812b8482880d1f73d10...   \n",
       "\n",
       "          price                                   recipient  \\\n",
       "0  2.100000e+10  0x656dd5d0020dc9047e7d9ec4eac344a7397200e8   \n",
       "1  2.100000e+10  0x209c4784ab1e8183cf58ca33cb740efbf3fc18ef   \n",
       "2  2.100000e+10  0x951bec2b87e89a80ed785de7c9df1555cb8d4e05   \n",
       "3  2.100000e+10  0xfd094f940ab0d01592c21afb20b500406ed509f6   \n",
       "4  2.100000e+10  0x08dd9744e0dedef75f74357ca948485ea1d2d1f4   \n",
       "\n",
       "                                       sender                      time  \\\n",
       "0  0xea674fdde714fd979de3edf0f56aa9716b898ec8  2017-09-20T20:24:15.000Z   \n",
       "1  0x0a8de3650a8f331e85673fe71677d53a749e6de7  2017-09-20T20:24:15.000Z   \n",
       "2  0xea674fdde714fd979de3edf0f56aa9716b898ec8  2017-09-20T20:24:15.000Z   \n",
       "3  0xea674fdde714fd979de3edf0f56aa9716b898ec8  2017-09-20T20:24:15.000Z   \n",
       "4  0xea674fdde714fd979de3edf0f56aa9716b898ec8  2017-09-20T20:24:15.000Z   \n",
       "\n",
       "   txIndex  type  amount_binary  \n",
       "0      NaN    tx              1  \n",
       "1      1.0  call              1  \n",
       "2      NaN    tx              1  \n",
       "3      NaN    tx              1  \n",
       "4      NaN    tx              1  "
      ]
     },
     "execution_count": 14,
     "metadata": {},
     "output_type": "execute_result"
    }
   ],
   "source": [
    "df.head()"
   ]
  },
  {
   "cell_type": "markdown",
   "metadata": {},
   "source": [
    "##Convert time to date time object"
   ]
  },
  {
   "cell_type": "code",
   "execution_count": 129,
   "metadata": {
    "collapsed": false
   },
   "outputs": [],
   "source": [
    "date['time'] = pd.to_datetime(df.time, yearfirst=True)"
   ]
  },
  {
   "cell_type": "code",
   "execution_count": 135,
   "metadata": {
    "collapsed": false
   },
   "outputs": [],
   "source": [
    "dates = date['time'].values.astype('datetime64[D]')"
   ]
  },
  {
   "cell_type": "code",
   "execution_count": 137,
   "metadata": {
    "collapsed": false
   },
   "outputs": [
    {
     "data": {
      "text/plain": [
       "array(['2017-09-18', '2017-09-19', '2017-09-20'], dtype='datetime64[D]')"
      ]
     },
     "execution_count": 137,
     "metadata": {},
     "output_type": "execute_result"
    }
   ],
   "source": [
    "np.unique(dates)"
   ]
  },
  {
   "cell_type": "markdown",
   "metadata": {},
   "source": [
    "The data spans over 3 days: 2017-09-18 –> 2017-09-20"
   ]
  },
  {
   "cell_type": "markdown",
   "metadata": {},
   "source": [
    "##Create some plots"
   ]
  },
  {
   "cell_type": "code",
   "execution_count": 17,
   "metadata": {
    "collapsed": false
   },
   "outputs": [
    {
     "data": {
      "text/plain": [
       "<matplotlib.text.Text at 0x10d65e550>"
      ]
     },
     "execution_count": 17,
     "metadata": {},
     "output_type": "execute_result"
    },
    {
     "data": {
      "image/png": "[encoded data removed]",
      "text/plain": [
       "<matplotlib.figure.Figure at 0x10cdfd250>"
      ]
     },
     "metadata": {},
     "output_type": "display_data"
    }
   ],
   "source": [
    "plt.scatter(df['amount'], df['gasLimit'])\n",
    "plt.xlabel('Amount')\n",
    "plt.ylabel('Gas Limit')"
   ]
  },
  {
   "cell_type": "code",
   "execution_count": 18,
   "metadata": {
    "collapsed": false
   },
   "outputs": [
    {
     "data": {
      "text/plain": [
       "<matplotlib.text.Text at 0x10cdfdbd0>"
      ]
     },
     "execution_count": 18,
     "metadata": {},
     "output_type": "execute_result"
    },
    {
     "data": {
      "image/png": "[encoded data removed]",
      "text/plain": [
       "<matplotlib.figure.Figure at 0x10e37fb50>"
      ]
     },
     "metadata": {},
     "output_type": "display_data"
    }
   ],
   "source": [
    "plt.scatter(df['price'], df['gasLimit'])\n",
    "plt.xlabel('Price')\n",
    "plt.ylabel('Gas Limit')"
   ]
  },
  {
   "cell_type": "code",
   "execution_count": 19,
   "metadata": {
    "collapsed": false
   },
   "outputs": [
    {
     "data": {
      "text/plain": [
       "<matplotlib.text.Text at 0x10e416a90>"
      ]
     },
     "execution_count": 19,
     "metadata": {},
     "output_type": "execute_result"
    },
    {
     "data": {
      "image/png": "[encoded data removed]",
      "text/plain": [
       "<matplotlib.figure.Figure at 0x10f294450>"
      ]
     },
     "metadata": {},
     "output_type": "display_data"
    }
   ],
   "source": [
    "plt.scatter(df['gasUsed'], df['gasLimit'])\n",
    "plt.xlabel('Gas Used')\n",
    "plt.ylabel('Gas Limit')"
   ]
  },
  {
   "cell_type": "code",
   "execution_count": 20,
   "metadata": {
    "collapsed": false
   },
   "outputs": [
    {
     "data": {
      "text/plain": [
       "<matplotlib.text.Text at 0x10faecc90>"
      ]
     },
     "execution_count": 20,
     "metadata": {},
     "output_type": "execute_result"
    },
    {
     "data": {
      "image/png": "[encoded data removed]",
      "text/plain": [
       "<matplotlib.figure.Figure at 0x10fe0f290>"
      ]
     },
     "metadata": {},
     "output_type": "display_data"
    }
   ],
   "source": [
    "plt.scatter(df['accountNonce'], df['gasLimit'])\n",
    "plt.xlabel('Account Nonce')\n",
    "plt.ylabel('Gas Limit')"
   ]
  },
  {
   "cell_type": "code",
   "execution_count": 21,
   "metadata": {
    "collapsed": false
   },
   "outputs": [
    {
     "data": {
      "text/plain": [
       "<matplotlib.axes._subplots.AxesSubplot at 0x11088e790>"
      ]
     },
     "execution_count": 21,
     "metadata": {},
     "output_type": "execute_result"
    },
    {
     "data": {
      "image/png": "[encoded data removed]",
      "text/plain": [
       "<matplotlib.figure.Figure at 0x10f310310>"
      ]
     },
     "metadata": {},
     "output_type": "display_data"
    }
   ],
   "source": [
    "df['accountNonce'].hist()"
   ]
  },
  {
   "cell_type": "code",
   "execution_count": 22,
   "metadata": {
    "collapsed": false
   },
   "outputs": [
    {
     "data": {
      "text/plain": [
       "<matplotlib.axes._subplots.AxesSubplot at 0x1116d3910>"
      ]
     },
     "execution_count": 22,
     "metadata": {},
     "output_type": "execute_result"
    },
    {
     "data": {
      "image/png": "[encoded data removed]",
      "text/plain": [
       "<matplotlib.figure.Figure at 0x1116d3690>"
      ]
     },
     "metadata": {},
     "output_type": "display_data"
    }
   ],
   "source": [
    "df['txIndex'].hist()"
   ]
  },
  {
   "cell_type": "code",
   "execution_count": 23,
   "metadata": {
    "collapsed": false
   },
   "outputs": [
    {
     "data": {
      "text/plain": [
       "(0, 2500000)"
      ]
     },
     "execution_count": 23,
     "metadata": {},
     "output_type": "execute_result"
    },
    {
     "data": {
      "image/png": "[encoded data removed]",
      "text/plain": [
       "<matplotlib.figure.Figure at 0x10fa48fd0>"
      ]
     },
     "metadata": {},
     "output_type": "display_data"
    }
   ],
   "source": [
    "df['gasLimit'].hist(bins=75)\n",
    "plt.xlim(0, 2500000)"
   ]
  },
  {
   "cell_type": "code",
   "execution_count": 24,
   "metadata": {
    "collapsed": false
   },
   "outputs": [
    {
     "data": {
      "text/plain": [
       "(0, 400000)"
      ]
     },
     "execution_count": 24,
     "metadata": {},
     "output_type": "execute_result"
    },
    {
     "data": {
      "image/png": "[encoded data removed]",
      "text/plain": [
       "<matplotlib.figure.Figure at 0x1146f6e50>"
      ]
     },
     "metadata": {},
     "output_type": "display_data"
    }
   ],
   "source": [
    "df['gasUsed'].hist(bins=300)\n",
    "plt.xlim(0, 400000)"
   ]
  },
  {
   "cell_type": "markdown",
   "metadata": {},
   "source": [
    "##Candidate features to predict gasLimit\n",
    "\n",
    "- gasUsed\n",
    "- accountNonce\n",
    "- newContract\n",
    "- type\n",
    "- price\n",
    "- amount\n",
    "- binary amount\n",
    "\n",
    "##Questions: \n",
    "- which of these can actually be employed as a predictor variable? \n",
    "- which variables do we know a priori such that we can factor them into our model"
   ]
  },
  {
   "cell_type": "code",
   "execution_count": 25,
   "metadata": {
    "collapsed": false
   },
   "outputs": [],
   "source": [
    "feature_df = df[['gasUsed', \n",
    "           'accountNonce', \n",
    "           'newContract', \n",
    "           'type', \n",
    "           'price', \n",
    "           'amount', \n",
    "           'amount_binary']]"
   ]
  },
  {
   "cell_type": "code",
   "execution_count": 26,
   "metadata": {
    "collapsed": false
   },
   "outputs": [
    {
     "data": {
      "text/html": [
       "<div>\n",
       "<style>\n",
       "    .dataframe thead tr:only-child th {\n",
       "        text-align: right;\n",
       "    }\n",
       "\n",
       "    .dataframe thead th {\n",
       "        text-align: left;\n",
       "    }\n",
       "\n",
       "    .dataframe tbody tr th {\n",
       "        vertical-align: top;\n",
       "    }\n",
       "</style>\n",
       "<table border=\"1\" class=\"dataframe\">\n",
       "  <thead>\n",
       "    <tr style=\"text-align: right;\">\n",
       "      <th></th>\n",
       "      <th>gasUsed</th>\n",
       "      <th>accountNonce</th>\n",
       "      <th>newContract</th>\n",
       "      <th>type</th>\n",
       "      <th>price</th>\n",
       "      <th>amount</th>\n",
       "      <th>amount_binary</th>\n",
       "    </tr>\n",
       "  </thead>\n",
       "  <tbody>\n",
       "    <tr>\n",
       "      <th>0</th>\n",
       "      <td>21000</td>\n",
       "      <td>3324654</td>\n",
       "      <td>0</td>\n",
       "      <td>tx</td>\n",
       "      <td>2.100000e+10</td>\n",
       "      <td>4.990932e+17</td>\n",
       "      <td>1</td>\n",
       "    </tr>\n",
       "    <tr>\n",
       "      <th>1</th>\n",
       "      <td>9416</td>\n",
       "      <td>3324658</td>\n",
       "      <td>0</td>\n",
       "      <td>call</td>\n",
       "      <td>2.100000e+10</td>\n",
       "      <td>1.492221e+17</td>\n",
       "      <td>1</td>\n",
       "    </tr>\n",
       "    <tr>\n",
       "      <th>2</th>\n",
       "      <td>21000</td>\n",
       "      <td>3324660</td>\n",
       "      <td>0</td>\n",
       "      <td>tx</td>\n",
       "      <td>2.100000e+10</td>\n",
       "      <td>9.960846e+16</td>\n",
       "      <td>1</td>\n",
       "    </tr>\n",
       "    <tr>\n",
       "      <th>3</th>\n",
       "      <td>21000</td>\n",
       "      <td>3324657</td>\n",
       "      <td>0</td>\n",
       "      <td>tx</td>\n",
       "      <td>2.100000e+10</td>\n",
       "      <td>1.990048e+17</td>\n",
       "      <td>1</td>\n",
       "    </tr>\n",
       "    <tr>\n",
       "      <th>4</th>\n",
       "      <td>21000</td>\n",
       "      <td>3324662</td>\n",
       "      <td>0</td>\n",
       "      <td>tx</td>\n",
       "      <td>2.100000e+10</td>\n",
       "      <td>1.000289e+18</td>\n",
       "      <td>1</td>\n",
       "    </tr>\n",
       "  </tbody>\n",
       "</table>\n",
       "</div>"
      ],
      "text/plain": [
       "   gasUsed  accountNonce  newContract  type         price        amount  \\\n",
       "0    21000       3324654            0    tx  2.100000e+10  4.990932e+17   \n",
       "1     9416       3324658            0  call  2.100000e+10  1.492221e+17   \n",
       "2    21000       3324660            0    tx  2.100000e+10  9.960846e+16   \n",
       "3    21000       3324657            0    tx  2.100000e+10  1.990048e+17   \n",
       "4    21000       3324662            0    tx  2.100000e+10  1.000289e+18   \n",
       "\n",
       "   amount_binary  \n",
       "0              1  \n",
       "1              1  \n",
       "2              1  \n",
       "3              1  \n",
       "4              1  "
      ]
     },
     "execution_count": 26,
     "metadata": {},
     "output_type": "execute_result"
    }
   ],
   "source": [
    "feature_df.head()"
   ]
  },
  {
   "cell_type": "markdown",
   "metadata": {},
   "source": [
    "##One-hot encode the type column"
   ]
  },
  {
   "cell_type": "code",
   "execution_count": 27,
   "metadata": {
    "collapsed": false
   },
   "outputs": [
    {
     "name": "stderr",
     "output_type": "stream",
     "text": [
      "/anaconda/lib/python2.7/site-packages/IPython/kernel/__main__.py:3: SettingWithCopyWarning: \n",
      "A value is trying to be set on a copy of a slice from a DataFrame.\n",
      "Try using .loc[row_indexer,col_indexer] = value instead\n",
      "\n",
      "See the caveats in the documentation: http://pandas.pydata.org/pandas-docs/stable/indexing.html#indexing-view-versus-copy\n",
      "  app.launch_new_instance()\n",
      "/anaconda/lib/python2.7/site-packages/IPython/kernel/__main__.py:4: SettingWithCopyWarning: \n",
      "A value is trying to be set on a copy of a slice from a DataFrame\n",
      "\n",
      "See the caveats in the documentation: http://pandas.pydata.org/pandas-docs/stable/indexing.html#indexing-view-versus-copy\n"
     ]
    }
   ],
   "source": [
    "from sklearn import preprocessing\n",
    "le = preprocessing.LabelEncoder()\n",
    "feature_df['type_encoded'] = le.fit_transform(feature_df['type'])\n",
    "feature_df.drop('type', axis=1, inplace=True)"
   ]
  },
  {
   "cell_type": "code",
   "execution_count": 28,
   "metadata": {
    "collapsed": false
   },
   "outputs": [],
   "source": [
    "X = feature_df.values"
   ]
  },
  {
   "cell_type": "code",
   "execution_count": 29,
   "metadata": {
    "collapsed": false
   },
   "outputs": [
    {
     "data": {
      "text/plain": [
       "(636595, 7)"
      ]
     },
     "execution_count": 29,
     "metadata": {},
     "output_type": "execute_result"
    }
   ],
   "source": [
    "X.shape"
   ]
  },
  {
   "cell_type": "code",
   "execution_count": 30,
   "metadata": {
    "collapsed": false
   },
   "outputs": [],
   "source": [
    "y = df['gasLimit'].values"
   ]
  },
  {
   "cell_type": "code",
   "execution_count": 31,
   "metadata": {
    "collapsed": false
   },
   "outputs": [
    {
     "data": {
      "text/plain": [
       "(636595,)"
      ]
     },
     "execution_count": 31,
     "metadata": {},
     "output_type": "execute_result"
    }
   ],
   "source": [
    "y.shape"
   ]
  },
  {
   "cell_type": "code",
   "execution_count": 32,
   "metadata": {
    "collapsed": false
   },
   "outputs": [],
   "source": [
    "X_train, X_test, y_train, y_test = train_test_split(X, y)"
   ]
  },
  {
   "cell_type": "markdown",
   "metadata": {},
   "source": [
    "##Linear regression"
   ]
  },
  {
   "cell_type": "code",
   "execution_count": 33,
   "metadata": {
    "collapsed": true
   },
   "outputs": [],
   "source": [
    "def linear_regression(X_train, X_test, y_train, y_test):\n",
    "    lr = LinearRegression()\n",
    "    lr.fit(X_train, y_train)\n",
    "    y_pred = lr.predict(X_test)\n",
    "    scores = cross_val_score(lr, X_train, y_train, scoring='r2', cv=5)\n",
    "    print('MSE: {}'.format(mean_squared_error(y_test, y_pred)))\n",
    "    print('R2_score: {}'.format(r2_score(y_test, y_pred)))\n",
    "    print('avg_CV_score: {}'.format(np.mean(scores)))\n",
    "    return lr"
   ]
  },
  {
   "cell_type": "code",
   "execution_count": 34,
   "metadata": {
    "collapsed": false
   },
   "outputs": [
    {
     "name": "stdout",
     "output_type": "stream",
     "text": [
      "MSE: 1.38869319463e+11\n",
      "R2_score: 0.193471429489\n",
      "avg_CV_score: 0.191722867738\n"
     ]
    },
    {
     "name": "stderr",
     "output_type": "stream",
     "text": [
      "//anaconda/lib/python2.7/site-packages/scipy/linalg/basic.py:1018: RuntimeWarning: internal gelsd driver lwork query error, required iwork dimension not returned. This is likely the result of LAPACK bug 0038, fixed in LAPACK 3.2.2 (released July 21, 2010). Falling back to 'gelss' driver.\n",
      "  warnings.warn(mesg, RuntimeWarning)\n"
     ]
    },
    {
     "data": {
      "text/plain": [
       "LinearRegression(copy_X=True, fit_intercept=True, n_jobs=1, normalize=False)"
      ]
     },
     "execution_count": 34,
     "metadata": {},
     "output_type": "execute_result"
    }
   ],
   "source": [
    "linear_regression(X_train, X_test, y_train, y_test)"
   ]
  },
  {
   "cell_type": "code",
   "execution_count": 35,
   "metadata": {
    "collapsed": false
   },
   "outputs": [
    {
     "data": {
      "text/html": [
       "<table class=\"simpletable\">\n",
       "<caption>OLS Regression Results</caption>\n",
       "<tr>\n",
       "  <th>Dep. Variable:</th>            <td>y</td>        <th>  R-squared:         </th>  <td>  -0.236</td>  \n",
       "</tr>\n",
       "<tr>\n",
       "  <th>Model:</th>                   <td>OLS</td>       <th>  Adj. R-squared:    </th>  <td>  -0.236</td>  \n",
       "</tr>\n",
       "<tr>\n",
       "  <th>Method:</th>             <td>Least Squares</td>  <th>  F-statistic:       </th> <td>-4.561e+04</td> \n",
       "</tr>\n",
       "<tr>\n",
       "  <th>Date:</th>             <td>Fri, 22 Sep 2017</td> <th>  Prob (F-statistic):</th>   <td>  1.00</td>   \n",
       "</tr>\n",
       "<tr>\n",
       "  <th>Time:</th>                 <td>11:07:02</td>     <th>  Log-Likelihood:    </th> <td>-6.8987e+06</td>\n",
       "</tr>\n",
       "<tr>\n",
       "  <th>No. Observations:</th>      <td>477446</td>      <th>  AIC:               </th>  <td>1.380e+07</td> \n",
       "</tr>\n",
       "<tr>\n",
       "  <th>Df Residuals:</th>          <td>477443</td>      <th>  BIC:               </th>  <td>1.380e+07</td> \n",
       "</tr>\n",
       "<tr>\n",
       "  <th>Df Model:</th>              <td>     2</td>      <th>                     </th>      <td> </td>     \n",
       "</tr>\n",
       "<tr>\n",
       "  <th>Covariance Type:</th>      <td>nonrobust</td>    <th>                     </th>      <td> </td>     \n",
       "</tr>\n",
       "</table>\n",
       "<table class=\"simpletable\">\n",
       "<tr>\n",
       "   <td></td>     <th>coef</th>     <th>std err</th>      <th>t</th>      <th>P>|t|</th>  <th>[0.025</th>    <th>0.975]</th>  \n",
       "</tr>\n",
       "<tr>\n",
       "  <th>x1</th> <td>    0.0004</td> <td>  5.2e-06</td> <td>   75.515</td> <td> 0.000</td> <td>    0.000</td> <td>    0.000</td>\n",
       "</tr>\n",
       "<tr>\n",
       "  <th>x2</th> <td>    0.0491</td> <td>    0.001</td> <td>   75.515</td> <td> 0.000</td> <td>    0.048</td> <td>    0.050</td>\n",
       "</tr>\n",
       "<tr>\n",
       "  <th>x3</th> <td> 7.799e-12</td> <td> 1.03e-13</td> <td>   75.515</td> <td> 0.000</td> <td>  7.6e-12</td> <td>    8e-12</td>\n",
       "</tr>\n",
       "<tr>\n",
       "  <th>x4</th> <td> 1.819e-07</td> <td> 4.19e-09</td> <td>   43.361</td> <td> 0.000</td> <td> 1.74e-07</td> <td>  1.9e-07</td>\n",
       "</tr>\n",
       "<tr>\n",
       "  <th>x5</th> <td> 1.618e-17</td> <td> 3.07e-18</td> <td>    5.264</td> <td> 0.000</td> <td> 1.02e-17</td> <td> 2.22e-17</td>\n",
       "</tr>\n",
       "<tr>\n",
       "  <th>x6</th> <td> 1.287e-08</td> <td>  1.7e-10</td> <td>   75.515</td> <td> 0.000</td> <td> 1.25e-08</td> <td> 1.32e-08</td>\n",
       "</tr>\n",
       "<tr>\n",
       "  <th>x7</th> <td> 3.904e-08</td> <td> 5.17e-10</td> <td>   75.515</td> <td> 0.000</td> <td>  3.8e-08</td> <td> 4.01e-08</td>\n",
       "</tr>\n",
       "</table>\n",
       "<table class=\"simpletable\">\n",
       "<tr>\n",
       "  <th>Omnibus:</th>       <td>472730.697</td> <th>  Durbin-Watson:     </th>   <td>   1.692</td>  \n",
       "</tr>\n",
       "<tr>\n",
       "  <th>Prob(Omnibus):</th>   <td> 0.000</td>   <th>  Jarque-Bera (JB):  </th> <td>27926324.007</td>\n",
       "</tr>\n",
       "<tr>\n",
       "  <th>Skew:</th>            <td> 4.898</td>   <th>  Prob(JB):          </th>   <td>    0.00</td>  \n",
       "</tr>\n",
       "<tr>\n",
       "  <th>Kurtosis:</th>        <td>39.164</td>   <th>  Cond. No.          </th>   <td>3.92e+21</td>  \n",
       "</tr>\n",
       "</table>"
      ],
      "text/plain": [
       "<class 'statsmodels.iolib.summary.Summary'>\n",
       "\"\"\"\n",
       "                            OLS Regression Results                            \n",
       "==============================================================================\n",
       "Dep. Variable:                      y   R-squared:                      -0.236\n",
       "Model:                            OLS   Adj. R-squared:                 -0.236\n",
       "Method:                 Least Squares   F-statistic:                -4.561e+04\n",
       "Date:                Fri, 22 Sep 2017   Prob (F-statistic):               1.00\n",
       "Time:                        11:07:02   Log-Likelihood:            -6.8987e+06\n",
       "No. Observations:              477446   AIC:                         1.380e+07\n",
       "Df Residuals:                  477443   BIC:                         1.380e+07\n",
       "Df Model:                           2                                         \n",
       "Covariance Type:            nonrobust                                         \n",
       "==============================================================================\n",
       "                 coef    std err          t      P>|t|      [0.025      0.975]\n",
       "------------------------------------------------------------------------------\n",
       "x1             0.0004    5.2e-06     75.515      0.000       0.000       0.000\n",
       "x2             0.0491      0.001     75.515      0.000       0.048       0.050\n",
       "x3          7.799e-12   1.03e-13     75.515      0.000     7.6e-12       8e-12\n",
       "x4          1.819e-07   4.19e-09     43.361      0.000    1.74e-07     1.9e-07\n",
       "x5          1.618e-17   3.07e-18      5.264      0.000    1.02e-17    2.22e-17\n",
       "x6          1.287e-08    1.7e-10     75.515      0.000    1.25e-08    1.32e-08\n",
       "x7          3.904e-08   5.17e-10     75.515      0.000     3.8e-08    4.01e-08\n",
       "==============================================================================\n",
       "Omnibus:                   472730.697   Durbin-Watson:                   1.692\n",
       "Prob(Omnibus):                  0.000   Jarque-Bera (JB):         27926324.007\n",
       "Skew:                           4.898   Prob(JB):                         0.00\n",
       "Kurtosis:                      39.164   Cond. No.                     3.92e+21\n",
       "==============================================================================\n",
       "\n",
       "Warnings:\n",
       "[1] Standard Errors assume that the covariance matrix of the errors is correctly specified.\n",
       "[2] The condition number is large, 3.92e+21. This might indicate that there are\n",
       "strong multicollinearity or other numerical problems.\n",
       "\"\"\""
      ]
     },
     "execution_count": 35,
     "metadata": {},
     "output_type": "execute_result"
    }
   ],
   "source": [
    "# get summary statistics from statsmodels\n",
    "model = sm.OLS(y_train, X_train)\n",
    "result = model.fit()\n",
    "result.summary()"
   ]
  },
  {
   "cell_type": "markdown",
   "metadata": {},
   "source": [
    "##Random forest regressor"
   ]
  },
  {
   "cell_type": "code",
   "execution_count": 36,
   "metadata": {
    "collapsed": false
   },
   "outputs": [],
   "source": [
    "def rf_regressor(X_train, X_test, y_train, y_test):\n",
    "    rf = RandomForestRegressor()\n",
    "    rf.fit(X_train, y_train)\n",
    "    y_pred = rf.predict(X_test)\n",
    "    scores = cross_val_score(rf, X_train, y_train, scoring='r2', cv=5)\n",
    "    print('MSE: {}'.format(mean_squared_error(y_test, y_pred)))\n",
    "    print('R2_score: {}'.format(r2_score(y_test, y_pred)))\n",
    "    print('avg_CV_score: {}'.format(np.mean(scores)))\n",
    "    return rf"
   ]
  },
  {
   "cell_type": "code",
   "execution_count": 37,
   "metadata": {
    "collapsed": false
   },
   "outputs": [
    {
     "name": "stdout",
     "output_type": "stream",
     "text": [
      "MSE: 17290779718.0\n",
      "R2_score: 0.899578194068\n",
      "avg_CV_score: 0.899075813416\n"
     ]
    }
   ],
   "source": [
    "model = rf_regressor(X_train, X_test, y_train, y_test)"
   ]
  },
  {
   "cell_type": "markdown",
   "metadata": {},
   "source": [
    "The average gas price is: 30575988051.298569"
   ]
  },
  {
   "cell_type": "code",
   "execution_count": 38,
   "metadata": {
    "collapsed": false
   },
   "outputs": [
    {
     "data": {
      "text/plain": [
       "14326754571.99857"
      ]
     },
     "execution_count": 38,
     "metadata": {},
     "output_type": "execute_result"
    }
   ],
   "source": [
    "30575988051.298569 - 16249233479.3"
   ]
  },
  {
   "cell_type": "code",
   "execution_count": 39,
   "metadata": {
    "collapsed": false
   },
   "outputs": [],
   "source": [
    "def plot_feature_importance(rf, feature_df):\n",
    "    cols = []\n",
    "    for col in feature_df.columns:\n",
    "        cols.append(col)\n",
    "\n",
    "    feat_scores = pd.DataFrame({'Fraction of Samples Affected' : rf.feature_importances_},\n",
    "                           index=cols)\n",
    "    feat_scores = feat_scores.sort_values(by='Fraction of Samples Affected')\n",
    "    feat_scores.plot(kind='barh', color='r', figsize=(6,6))\n",
    "    plt.xlabel('Importance', fontsize=18)\n",
    "    plt.title('Feature Importance', fontsize=18)"
   ]
  },
  {
   "cell_type": "code",
   "execution_count": 40,
   "metadata": {
    "collapsed": false
   },
   "outputs": [
    {
     "data": {
      "image/png": "[encoded data removed]",
      "text/plain": [
       "<matplotlib.figure.Figure at 0x114e28890>"
      ]
     },
     "metadata": {},
     "output_type": "display_data"
    }
   ],
   "source": [
    "plot_feature_importance(model, feature_df)"
   ]
  },
  {
   "cell_type": "markdown",
   "metadata": {},
   "source": [
    "##AdaBoost"
   ]
  },
  {
   "cell_type": "code",
   "execution_count": 41,
   "metadata": {
    "collapsed": true
   },
   "outputs": [],
   "source": [
    "ada = AdaBoostRegressor()"
   ]
  },
  {
   "cell_type": "code",
   "execution_count": 42,
   "metadata": {
    "collapsed": false
   },
   "outputs": [
    {
     "data": {
      "text/plain": [
       "AdaBoostRegressor(base_estimator=None, learning_rate=1.0, loss='linear',\n",
       "         n_estimators=50, random_state=None)"
      ]
     },
     "execution_count": 42,
     "metadata": {},
     "output_type": "execute_result"
    }
   ],
   "source": [
    "ada.fit(X_train, y_train)"
   ]
  },
  {
   "cell_type": "code",
   "execution_count": 43,
   "metadata": {
    "collapsed": false
   },
   "outputs": [],
   "source": [
    "y_pred_ada = ada.predict(X_test)"
   ]
  },
  {
   "cell_type": "code",
   "execution_count": 44,
   "metadata": {
    "collapsed": false
   },
   "outputs": [
    {
     "data": {
      "text/plain": [
       "-0.28443743142110289"
      ]
     },
     "execution_count": 44,
     "metadata": {},
     "output_type": "execute_result"
    }
   ],
   "source": [
    "r2_score(y_test, y_pred_ada)"
   ]
  },
  {
   "cell_type": "markdown",
   "metadata": {},
   "source": [
    "##Separate based on amount\n",
    "- amounts with a zero value have input data\n",
    "- non-zero amounts do not have input data\n",
    "- input data seems to be reflected in the gas used"
   ]
  },
  {
   "cell_type": "markdown",
   "metadata": {},
   "source": [
    "##Amount is zero"
   ]
  },
  {
   "cell_type": "code",
   "execution_count": 45,
   "metadata": {
    "collapsed": false
   },
   "outputs": [
    {
     "name": "stderr",
     "output_type": "stream",
     "text": [
      "/anaconda/lib/python2.7/site-packages/IPython/kernel/__main__.py:3: SettingWithCopyWarning: \n",
      "A value is trying to be set on a copy of a slice from a DataFrame.\n",
      "Try using .loc[row_indexer,col_indexer] = value instead\n",
      "\n",
      "See the caveats in the documentation: http://pandas.pydata.org/pandas-docs/stable/indexing.html#indexing-view-versus-copy\n",
      "  app.launch_new_instance()\n",
      "/anaconda/lib/python2.7/site-packages/IPython/kernel/__main__.py:4: SettingWithCopyWarning: \n",
      "A value is trying to be set on a copy of a slice from a DataFrame\n",
      "\n",
      "See the caveats in the documentation: http://pandas.pydata.org/pandas-docs/stable/indexing.html#indexing-view-versus-copy\n"
     ]
    },
    {
     "name": "stdout",
     "output_type": "stream",
     "text": [
      "MSE: 24050968423.4\n",
      "R2_score: 0.913175799911\n",
      "avg_CV_score: 0.904780792978\n"
     ]
    },
    {
     "data": {
      "image/png": "[encoded data removed]",
      "text/plain": [
       "<matplotlib.figure.Figure at 0x111113910>"
      ]
     },
     "metadata": {},
     "output_type": "display_data"
    }
   ],
   "source": [
    "amt_zero = df[(df['amount'] == 0)]\n",
    "le = preprocessing.LabelEncoder()\n",
    "amt_zero['type_encoded'] = le.fit_transform(amt_zero['type'])\n",
    "amt_zero.drop('type', axis=1, inplace=True)\n",
    "#plt.scatter(amt_zero['amount'], amt_zero['gasLimit'])\n",
    "#plt.ylabel('Gas Limit')\n",
    "#plt.xlabel('Amount')\n",
    "feat_zero = amt_zero[['gasUsed', \n",
    "                      'accountNonce', \n",
    "                      'newContract', \n",
    "                      'type_encoded', \n",
    "                      'price', \n",
    "                      'amount']]\n",
    "X0 = feat_zero.values\n",
    "y0 = amt_zero['gasLimit'].values\n",
    "X0_train, X0_test, y0_train, y0_test = train_test_split(X0, y0)\n",
    "##Random forest regressor for zero amounts\n",
    "rf0 = rf_regressor(X0_train, X0_test, y0_train, y0_test)\n",
    "plot_feature_importance(rf0, feat_zero)"
   ]
  },
  {
   "cell_type": "markdown",
   "metadata": {
    "collapsed": true
   },
   "source": [
    "##Amount greater than zero"
   ]
  },
  {
   "cell_type": "code",
   "execution_count": 46,
   "metadata": {
    "collapsed": false
   },
   "outputs": [
    {
     "name": "stderr",
     "output_type": "stream",
     "text": [
      "/anaconda/lib/python2.7/site-packages/IPython/kernel/__main__.py:3: SettingWithCopyWarning: \n",
      "A value is trying to be set on a copy of a slice from a DataFrame.\n",
      "Try using .loc[row_indexer,col_indexer] = value instead\n",
      "\n",
      "See the caveats in the documentation: http://pandas.pydata.org/pandas-docs/stable/indexing.html#indexing-view-versus-copy\n",
      "  app.launch_new_instance()\n",
      "/anaconda/lib/python2.7/site-packages/IPython/kernel/__main__.py:4: SettingWithCopyWarning: \n",
      "A value is trying to be set on a copy of a slice from a DataFrame\n",
      "\n",
      "See the caveats in the documentation: http://pandas.pydata.org/pandas-docs/stable/indexing.html#indexing-view-versus-copy\n"
     ]
    },
    {
     "name": "stdout",
     "output_type": "stream",
     "text": [
      "MSE: 7267040098.89\n",
      "R2_score: 0.734986701413\n",
      "avg_CV_score: 0.689898330232\n"
     ]
    },
    {
     "data": {
      "image/png": "[encoded data removed]",
      "text/plain": [
       "<matplotlib.figure.Figure at 0x10fe0fa10>"
      ]
     },
     "metadata": {},
     "output_type": "display_data"
    }
   ],
   "source": [
    "amt_zero = df[(df['amount'] > 0)]\n",
    "le = preprocessing.LabelEncoder()\n",
    "amt_zero['type_encoded'] = le.fit_transform(amt_zero['type'])\n",
    "amt_zero.drop('type', axis=1, inplace=True)\n",
    "#plt.scatter(amt_zero['amount'], amt_zero['gasLimit'])\n",
    "#plt.ylabel('Gas Limit')\n",
    "#plt.xlabel('Amount')\n",
    "feat_zero = amt_zero[['gasUsed', \n",
    "                      'accountNonce', \n",
    "                      'newContract', \n",
    "                      'type_encoded', \n",
    "                      'price', \n",
    "                      'amount']]\n",
    "X0 = feat_zero.values\n",
    "y0 = amt_zero['gasLimit'].values\n",
    "X0_train, X0_test, y0_train, y0_test = train_test_split(X0, y0)\n",
    "##Random forest regressor for zero amounts\n",
    "rf0 = rf_regressor(X0_train, X0_test, y0_train, y0_test)\n",
    "plot_feature_importance(rf0, feat_zero)"
   ]
  },
  {
   "cell_type": "markdown",
   "metadata": {},
   "source": [
    "#Clustering"
   ]
  },
  {
   "cell_type": "code",
   "execution_count": 68,
   "metadata": {
    "collapsed": true
   },
   "outputs": [],
   "source": [
    "from sklearn.cluster import KMeans\n",
    "from sklearn.decomposition import PCA"
   ]
  },
  {
   "cell_type": "code",
   "execution_count": 48,
   "metadata": {
    "collapsed": true
   },
   "outputs": [],
   "source": [
    "sel_cols = ['block_id', 'price', 'amount']"
   ]
  },
  {
   "cell_type": "code",
   "execution_count": 49,
   "metadata": {
    "collapsed": false
   },
   "outputs": [
    {
     "data": {
      "text/html": [
       "<div>\n",
       "<style>\n",
       "    .dataframe thead tr:only-child th {\n",
       "        text-align: right;\n",
       "    }\n",
       "\n",
       "    .dataframe thead th {\n",
       "        text-align: left;\n",
       "    }\n",
       "\n",
       "    .dataframe tbody tr th {\n",
       "        vertical-align: top;\n",
       "    }\n",
       "</style>\n",
       "<table border=\"1\" class=\"dataframe\">\n",
       "  <thead>\n",
       "    <tr style=\"text-align: right;\">\n",
       "      <th></th>\n",
       "      <th>block_id</th>\n",
       "      <th>price</th>\n",
       "      <th>amount</th>\n",
       "    </tr>\n",
       "  </thead>\n",
       "  <tbody>\n",
       "    <tr>\n",
       "      <th>0</th>\n",
       "      <td>4295887</td>\n",
       "      <td>2.100000e+10</td>\n",
       "      <td>4.990932e+17</td>\n",
       "    </tr>\n",
       "    <tr>\n",
       "      <th>1</th>\n",
       "      <td>4295887</td>\n",
       "      <td>2.100000e+10</td>\n",
       "      <td>1.492221e+17</td>\n",
       "    </tr>\n",
       "    <tr>\n",
       "      <th>2</th>\n",
       "      <td>4295887</td>\n",
       "      <td>2.100000e+10</td>\n",
       "      <td>9.960846e+16</td>\n",
       "    </tr>\n",
       "    <tr>\n",
       "      <th>3</th>\n",
       "      <td>4295887</td>\n",
       "      <td>2.100000e+10</td>\n",
       "      <td>1.990048e+17</td>\n",
       "    </tr>\n",
       "    <tr>\n",
       "      <th>4</th>\n",
       "      <td>4295887</td>\n",
       "      <td>2.100000e+10</td>\n",
       "      <td>1.000289e+18</td>\n",
       "    </tr>\n",
       "  </tbody>\n",
       "</table>\n",
       "</div>"
      ],
      "text/plain": [
       "   block_id         price        amount\n",
       "0   4295887  2.100000e+10  4.990932e+17\n",
       "1   4295887  2.100000e+10  1.492221e+17\n",
       "2   4295887  2.100000e+10  9.960846e+16\n",
       "3   4295887  2.100000e+10  1.990048e+17\n",
       "4   4295887  2.100000e+10  1.000289e+18"
      ]
     },
     "execution_count": 49,
     "metadata": {},
     "output_type": "execute_result"
    }
   ],
   "source": [
    "df[sel_cols].head()"
   ]
  },
  {
   "cell_type": "code",
   "execution_count": 50,
   "metadata": {
    "collapsed": false
   },
   "outputs": [],
   "source": [
    "X_km = df[sel_cols].values"
   ]
  },
  {
   "cell_type": "code",
   "execution_count": 51,
   "metadata": {
    "collapsed": true
   },
   "outputs": [],
   "source": [
    "y_km = df['gasLimit'].values"
   ]
  },
  {
   "cell_type": "code",
   "execution_count": 52,
   "metadata": {
    "collapsed": true
   },
   "outputs": [],
   "source": [
    "X_train_km, X_test_km, y_train_km, y_test_km = train_test_split(X_km, y_km)"
   ]
  },
  {
   "cell_type": "code",
   "execution_count": 72,
   "metadata": {
    "collapsed": true
   },
   "outputs": [],
   "source": [
    "km = KMeans(n_clusters=4)"
   ]
  },
  {
   "cell_type": "code",
   "execution_count": 73,
   "metadata": {
    "collapsed": false
   },
   "outputs": [
    {
     "data": {
      "text/plain": [
       "KMeans(algorithm='auto', copy_x=True, init='k-means++', max_iter=300,\n",
       "    n_clusters=4, n_init=10, n_jobs=1, precompute_distances='auto',\n",
       "    random_state=None, tol=0.0001, verbose=0)"
      ]
     },
     "execution_count": 73,
     "metadata": {},
     "output_type": "execute_result"
    }
   ],
   "source": [
    "km.fit(X_train_km)"
   ]
  },
  {
   "cell_type": "code",
   "execution_count": 74,
   "metadata": {
    "collapsed": true
   },
   "outputs": [],
   "source": [
    "labels = km.labels_\n",
    "centroids = km.cluster_centers_"
   ]
  },
  {
   "cell_type": "code",
   "execution_count": 75,
   "metadata": {
    "collapsed": false
   },
   "outputs": [
    {
     "data": {
      "text/plain": [
       "array([  3.08470593e+10,   2.17342849e+10,   3.61161988e+10,\n",
       "         2.32890338e+10])"
      ]
     },
     "execution_count": 75,
     "metadata": {},
     "output_type": "execute_result"
    }
   ],
   "source": [
    "centroids[:,1]"
   ]
  },
  {
   "cell_type": "markdown",
   "metadata": {},
   "source": [
    "##Elbow method to determine n_clusters"
   ]
  },
  {
   "cell_type": "code",
   "execution_count": 61,
   "metadata": {
    "collapsed": true
   },
   "outputs": [],
   "source": [
    "Nc = range(1, 20)"
   ]
  },
  {
   "cell_type": "code",
   "execution_count": 62,
   "metadata": {
    "collapsed": true
   },
   "outputs": [],
   "source": [
    "km = [KMeans(n_clusters=i) for i in Nc]"
   ]
  },
  {
   "cell_type": "code",
   "execution_count": 66,
   "metadata": {
    "collapsed": false
   },
   "outputs": [],
   "source": [
    "score = [km[i].fit(X_train_km).score(X_train_km) for i in range(len(km))]"
   ]
  },
  {
   "cell_type": "code",
   "execution_count": 67,
   "metadata": {
    "collapsed": false
   },
   "outputs": [
    {
     "data": {
      "text/plain": [
       "<matplotlib.text.Text at 0x118c34f90>"
      ]
     },
     "execution_count": 67,
     "metadata": {},
     "output_type": "execute_result"
    },
    {
     "data": {
      "image/png": "[encoded data removed]",
      "text/plain": [
       "<matplotlib.figure.Figure at 0x117e44250>"
      ]
     },
     "metadata": {},
     "output_type": "display_data"
    }
   ],
   "source": [
    "plt.plot(Nc,score)\n",
    "plt.xlabel('Number of Clusters')\n",
    "plt.ylabel('Score')\n",
    "plt.title('Elbow Curve')"
   ]
  },
  {
   "cell_type": "markdown",
   "metadata": {},
   "source": [
    "4 clusters seems appropriate"
   ]
  },
  {
   "cell_type": "code",
   "execution_count": 76,
   "metadata": {
    "collapsed": true
   },
   "outputs": [],
   "source": [
    "def ClusterIndicesNumpy(clustNum, labels_array): \n",
    "    return np.where(labels_array == clustNum)[0]"
   ]
  },
  {
   "cell_type": "code",
   "execution_count": 85,
   "metadata": {
    "collapsed": false
   },
   "outputs": [
    {
     "data": {
      "text/plain": [
       "array([    14,    296,    333, ..., 477276, 477325, 477345])"
      ]
     },
     "execution_count": 85,
     "metadata": {},
     "output_type": "execute_result"
    }
   ],
   "source": [
    "ClusterIndicesNumpy(3, labels)"
   ]
  },
  {
   "cell_type": "code",
   "execution_count": 86,
   "metadata": {
    "collapsed": false
   },
   "outputs": [
    {
     "data": {
      "text/plain": [
       "array([[  4.29308700e+06,   2.10000000e+10,   8.31789876e+20],\n",
       "       [  4.29577100e+06,   2.10000000e+10,   5.78139765e+20],\n",
       "       [  4.29573100e+06,   2.10000000e+10,   5.64574708e+20],\n",
       "       ..., \n",
       "       [  4.29484700e+06,   4.95000000e+10,   3.89557356e+20],\n",
       "       [  4.29550800e+06,   2.20000000e+10,   8.38019938e+20],\n",
       "       [  4.29512800e+06,   2.20000013e+10,   7.94500812e+20]])"
      ]
     },
     "execution_count": 86,
     "metadata": {},
     "output_type": "execute_result"
    }
   ],
   "source": [
    "X_train_km[ClusterIndicesNumpy(3, labels)]"
   ]
  },
  {
   "cell_type": "code",
   "execution_count": 84,
   "metadata": {
    "collapsed": false
   },
   "outputs": [
    {
     "data": {
      "text/plain": [
       "{0: array([[  4.29210500e+06,   5.10000000e+10,   0.00000000e+00],\n",
       "        [  4.29043800e+06,   5.10000000e+10,   0.00000000e+00],\n",
       "        [  4.28850600e+06,   4.00000000e+09,   7.00000000e+18],\n",
       "        ..., \n",
       "        [  4.28928100e+06,   4.00000000e+09,   2.00051395e+17],\n",
       "        [  4.29379300e+06,   1.00000000e+10,   3.69768000e+15],\n",
       "        [  4.29576200e+06,   5.01400000e+09,   0.00000000e+00]]),\n",
       " 1: array([[  4.29055100e+06,   2.17593955e+10,   1.96989685e+21],\n",
       "        [  4.29180600e+06,   2.25596963e+10,   1.98991306e+21],\n",
       "        [  4.29069000e+06,   2.17593955e+10,   1.78254242e+21],\n",
       "        ..., \n",
       "        [  4.29093500e+06,   2.10000000e+10,   1.32975757e+21],\n",
       "        [  4.29127800e+06,   2.10000000e+10,   1.62276746e+21],\n",
       "        [  4.29136400e+06,   2.10000000e+10,   1.69195412e+21]]),\n",
       " 2: array([[  4.29193200e+06,   5.20000000e+10,   3.70000000e+22],\n",
       "        [  4.29255900e+06,   6.00000000e+10,   4.12156665e+22],\n",
       "        [  4.28968500e+06,   2.10000000e+10,   3.80000000e+22],\n",
       "        [  4.29517100e+06,   2.20000000e+10,   2.41130105e+22],\n",
       "        [  4.29060600e+06,   2.17593955e+10,   1.76490900e+22],\n",
       "        [  4.29159800e+06,   2.10000000e+10,   2.00000000e+22],\n",
       "        [  4.29190000e+06,   5.20000000e+10,   4.00000000e+22],\n",
       "        [  4.29190000e+06,   5.20000000e+10,   4.00000000e+22],\n",
       "        [  4.29059600e+06,   2.17593955e+10,   1.76490900e+22],\n",
       "        [  4.29060100e+06,   2.17593955e+10,   1.76490900e+22],\n",
       "        [  4.29191400e+06,   5.20000000e+10,   2.00000000e+22]]),\n",
       " 3: array([[  4.29308700e+06,   2.10000000e+10,   8.31789876e+20],\n",
       "        [  4.29577100e+06,   2.10000000e+10,   5.78139765e+20],\n",
       "        [  4.29573100e+06,   2.10000000e+10,   5.64574708e+20],\n",
       "        ..., \n",
       "        [  4.29484700e+06,   4.95000000e+10,   3.89557356e+20],\n",
       "        [  4.29550800e+06,   2.20000000e+10,   8.38019938e+20],\n",
       "        [  4.29512800e+06,   2.20000013e+10,   7.94500812e+20]])}"
      ]
     },
     "execution_count": 84,
     "metadata": {},
     "output_type": "execute_result"
    }
   ],
   "source": [
    "{i: X_train_km[np.where(km.labels_ == i)] for i in range(km.n_clusters)}"
   ]
  },
  {
   "cell_type": "code",
   "execution_count": 93,
   "metadata": {
    "collapsed": false
   },
   "outputs": [
    {
     "ename": "ValueError",
     "evalue": "cannot convert float NaN to integer",
     "output_type": "error",
     "traceback": [
      "\u001b[0;31m---------------------------------------------------------------------------\u001b[0m",
      "\u001b[0;31mValueError\u001b[0m                                Traceback (most recent call last)",
      "\u001b[0;32m<ipython-input-93-a8cd69c1abf2>\u001b[0m in \u001b[0;36m<module>\u001b[0;34m()\u001b[0m\n\u001b[1;32m      1\u001b[0m \u001b[0mfig\u001b[0m\u001b[0;34m,\u001b[0m \u001b[0max\u001b[0m \u001b[0;34m=\u001b[0m \u001b[0mplt\u001b[0m\u001b[0;34m.\u001b[0m\u001b[0msubplots\u001b[0m\u001b[0;34m(\u001b[0m\u001b[0;34m)\u001b[0m\u001b[0;34m\u001b[0m\u001b[0m\n\u001b[1;32m      2\u001b[0m \u001b[0;32mfor\u001b[0m \u001b[0mi\u001b[0m \u001b[0;32min\u001b[0m \u001b[0mrange\u001b[0m\u001b[0;34m(\u001b[0m\u001b[0mlen\u001b[0m\u001b[0;34m(\u001b[0m\u001b[0mX\u001b[0m\u001b[0;34m)\u001b[0m\u001b[0;34m)\u001b[0m\u001b[0;34m:\u001b[0m\u001b[0;34m\u001b[0m\u001b[0m\n\u001b[0;32m----> 3\u001b[0;31m     \u001b[0max\u001b[0m\u001b[0;34m.\u001b[0m\u001b[0mscatter\u001b[0m\u001b[0;34m(\u001b[0m\u001b[0mX_train_km\u001b[0m\u001b[0;34m[\u001b[0m\u001b[0mi\u001b[0m\u001b[0;34m]\u001b[0m\u001b[0;34m[\u001b[0m\u001b[0;36m0\u001b[0m\u001b[0;34m]\u001b[0m\u001b[0;34m,\u001b[0m \u001b[0mX_train_km\u001b[0m\u001b[0;34m[\u001b[0m\u001b[0mi\u001b[0m\u001b[0;34m]\u001b[0m\u001b[0;34m[\u001b[0m\u001b[0;36m1\u001b[0m\u001b[0;34m]\u001b[0m\u001b[0;34m,\u001b[0m \u001b[0mX_train_km\u001b[0m\u001b[0;34m[\u001b[0m\u001b[0mi\u001b[0m\u001b[0;34m]\u001b[0m\u001b[0;34m[\u001b[0m\u001b[0;36m2\u001b[0m\u001b[0;34m]\u001b[0m\u001b[0;34m)\u001b[0m\u001b[0;34m\u001b[0m\u001b[0m\n\u001b[0m\u001b[1;32m      4\u001b[0m \u001b[0;34m\u001b[0m\u001b[0m\n\u001b[1;32m      5\u001b[0m \u001b[0max\u001b[0m\u001b[0;34m.\u001b[0m\u001b[0mscatter\u001b[0m\u001b[0;34m(\u001b[0m\u001b[0mcentroids\u001b[0m\u001b[0;34m[\u001b[0m\u001b[0;34m:\u001b[0m\u001b[0;34m,\u001b[0m \u001b[0;36m0\u001b[0m\u001b[0;34m]\u001b[0m\u001b[0;34m,\u001b[0m\u001b[0mcentroids\u001b[0m\u001b[0;34m[\u001b[0m\u001b[0;34m:\u001b[0m\u001b[0;34m,\u001b[0m \u001b[0;36m1\u001b[0m\u001b[0;34m]\u001b[0m\u001b[0;34m,\u001b[0m \u001b[0mmarker\u001b[0m \u001b[0;34m=\u001b[0m \u001b[0;34m\"x\"\u001b[0m\u001b[0;34m,\u001b[0m \u001b[0ms\u001b[0m\u001b[0;34m=\u001b[0m\u001b[0;36m150\u001b[0m\u001b[0;34m)\u001b[0m\u001b[0;34m\u001b[0m\u001b[0m\n",
      "\u001b[0;32m//anaconda/lib/python2.7/site-packages/matplotlib/__init__.pyc\u001b[0m in \u001b[0;36minner\u001b[0;34m(ax, *args, **kwargs)\u001b[0m\n\u001b[1;32m   1817\u001b[0m                     warnings.warn(msg % (label_namer, func.__name__),\n\u001b[1;32m   1818\u001b[0m                                   RuntimeWarning, stacklevel=2)\n\u001b[0;32m-> 1819\u001b[0;31m             \u001b[0;32mreturn\u001b[0m \u001b[0mfunc\u001b[0m\u001b[0;34m(\u001b[0m\u001b[0max\u001b[0m\u001b[0;34m,\u001b[0m \u001b[0;34m*\u001b[0m\u001b[0margs\u001b[0m\u001b[0;34m,\u001b[0m \u001b[0;34m**\u001b[0m\u001b[0mkwargs\u001b[0m\u001b[0;34m)\u001b[0m\u001b[0;34m\u001b[0m\u001b[0m\n\u001b[0m\u001b[1;32m   1820\u001b[0m         \u001b[0mpre_doc\u001b[0m \u001b[0;34m=\u001b[0m \u001b[0minner\u001b[0m\u001b[0;34m.\u001b[0m\u001b[0m__doc__\u001b[0m\u001b[0;34m\u001b[0m\u001b[0m\n\u001b[1;32m   1821\u001b[0m         \u001b[0;32mif\u001b[0m \u001b[0mpre_doc\u001b[0m \u001b[0;32mis\u001b[0m \u001b[0mNone\u001b[0m\u001b[0;34m:\u001b[0m\u001b[0;34m\u001b[0m\u001b[0m\n",
      "\u001b[0;32m//anaconda/lib/python2.7/site-packages/matplotlib/axes/_axes.pyc\u001b[0m in \u001b[0;36mscatter\u001b[0;34m(self, x, y, s, c, marker, cmap, norm, vmin, vmax, alpha, linewidths, verts, edgecolors, **kwargs)\u001b[0m\n\u001b[1;32m   3894\u001b[0m \u001b[0;34m\u001b[0m\u001b[0m\n\u001b[1;32m   3895\u001b[0m         \u001b[0mself\u001b[0m\u001b[0;34m.\u001b[0m\u001b[0madd_collection\u001b[0m\u001b[0;34m(\u001b[0m\u001b[0mcollection\u001b[0m\u001b[0;34m)\u001b[0m\u001b[0;34m\u001b[0m\u001b[0m\n\u001b[0;32m-> 3896\u001b[0;31m         \u001b[0mself\u001b[0m\u001b[0;34m.\u001b[0m\u001b[0mautoscale_view\u001b[0m\u001b[0;34m(\u001b[0m\u001b[0;34m)\u001b[0m\u001b[0;34m\u001b[0m\u001b[0m\n\u001b[0m\u001b[1;32m   3897\u001b[0m \u001b[0;34m\u001b[0m\u001b[0m\n\u001b[1;32m   3898\u001b[0m         \u001b[0;32mreturn\u001b[0m \u001b[0mcollection\u001b[0m\u001b[0;34m\u001b[0m\u001b[0m\n",
      "\u001b[0;32m//anaconda/lib/python2.7/site-packages/matplotlib/axes/_base.pyc\u001b[0m in \u001b[0;36mautoscale_view\u001b[0;34m(self, tight, scalex, scaley)\u001b[0m\n\u001b[1;32m   2190\u001b[0m                 \u001b[0my1\u001b[0m \u001b[0;34m+=\u001b[0m \u001b[0mdelta\u001b[0m\u001b[0;34m\u001b[0m\u001b[0m\n\u001b[1;32m   2191\u001b[0m             \u001b[0;32mif\u001b[0m \u001b[0;32mnot\u001b[0m \u001b[0m_tight\u001b[0m\u001b[0;34m:\u001b[0m\u001b[0;34m\u001b[0m\u001b[0m\n\u001b[0;32m-> 2192\u001b[0;31m                 \u001b[0my0\u001b[0m\u001b[0;34m,\u001b[0m \u001b[0my1\u001b[0m \u001b[0;34m=\u001b[0m \u001b[0mylocator\u001b[0m\u001b[0;34m.\u001b[0m\u001b[0mview_limits\u001b[0m\u001b[0;34m(\u001b[0m\u001b[0my0\u001b[0m\u001b[0;34m,\u001b[0m \u001b[0my1\u001b[0m\u001b[0;34m)\u001b[0m\u001b[0;34m\u001b[0m\u001b[0m\n\u001b[0m\u001b[1;32m   2193\u001b[0m             \u001b[0mself\u001b[0m\u001b[0;34m.\u001b[0m\u001b[0mset_ybound\u001b[0m\u001b[0;34m(\u001b[0m\u001b[0my0\u001b[0m\u001b[0;34m,\u001b[0m \u001b[0my1\u001b[0m\u001b[0;34m)\u001b[0m\u001b[0;34m\u001b[0m\u001b[0m\n\u001b[1;32m   2194\u001b[0m \u001b[0;34m\u001b[0m\u001b[0m\n",
      "\u001b[0;32m//anaconda/lib/python2.7/site-packages/matplotlib/ticker.pyc\u001b[0m in \u001b[0;36mview_limits\u001b[0;34m(self, dmin, dmax)\u001b[0m\n\u001b[1;32m   1450\u001b[0m         dmin, dmax = mtransforms.nonsingular(dmin, dmax, expander=1e-12,\n\u001b[1;32m   1451\u001b[0m                                                         tiny=1.e-13)\n\u001b[0;32m-> 1452\u001b[0;31m         \u001b[0;32mreturn\u001b[0m \u001b[0mnp\u001b[0m\u001b[0;34m.\u001b[0m\u001b[0mtake\u001b[0m\u001b[0;34m(\u001b[0m\u001b[0mself\u001b[0m\u001b[0;34m.\u001b[0m\u001b[0mbin_boundaries\u001b[0m\u001b[0;34m(\u001b[0m\u001b[0mdmin\u001b[0m\u001b[0;34m,\u001b[0m \u001b[0mdmax\u001b[0m\u001b[0;34m)\u001b[0m\u001b[0;34m,\u001b[0m \u001b[0;34m[\u001b[0m\u001b[0;36m0\u001b[0m\u001b[0;34m,\u001b[0m \u001b[0;34m-\u001b[0m\u001b[0;36m1\u001b[0m\u001b[0;34m]\u001b[0m\u001b[0;34m)\u001b[0m\u001b[0;34m\u001b[0m\u001b[0m\n\u001b[0m\u001b[1;32m   1453\u001b[0m \u001b[0;34m\u001b[0m\u001b[0m\n\u001b[1;32m   1454\u001b[0m \u001b[0;34m\u001b[0m\u001b[0m\n",
      "\u001b[0;32m//anaconda/lib/python2.7/site-packages/matplotlib/ticker.pyc\u001b[0m in \u001b[0;36mbin_boundaries\u001b[0;34m(self, vmin, vmax)\u001b[0m\n\u001b[1;32m   1422\u001b[0m                 \u001b[0;32mbreak\u001b[0m\u001b[0;34m\u001b[0m\u001b[0m\n\u001b[1;32m   1423\u001b[0m         \u001b[0;32mif\u001b[0m \u001b[0mself\u001b[0m\u001b[0;34m.\u001b[0m\u001b[0m_trim\u001b[0m\u001b[0;34m:\u001b[0m\u001b[0;34m\u001b[0m\u001b[0m\n\u001b[0;32m-> 1424\u001b[0;31m             \u001b[0mextra_bins\u001b[0m \u001b[0;34m=\u001b[0m \u001b[0mint\u001b[0m\u001b[0;34m(\u001b[0m\u001b[0mdivmod\u001b[0m\u001b[0;34m(\u001b[0m\u001b[0;34m(\u001b[0m\u001b[0mbest_vmax\u001b[0m \u001b[0;34m-\u001b[0m \u001b[0mvmax\u001b[0m\u001b[0;34m)\u001b[0m\u001b[0;34m,\u001b[0m \u001b[0mstep\u001b[0m\u001b[0;34m)\u001b[0m\u001b[0;34m[\u001b[0m\u001b[0;36m0\u001b[0m\u001b[0;34m]\u001b[0m\u001b[0;34m)\u001b[0m\u001b[0;34m\u001b[0m\u001b[0m\n\u001b[0m\u001b[1;32m   1425\u001b[0m             \u001b[0mnbins\u001b[0m \u001b[0;34m-=\u001b[0m \u001b[0mextra_bins\u001b[0m\u001b[0;34m\u001b[0m\u001b[0m\n\u001b[1;32m   1426\u001b[0m         \u001b[0;32mreturn\u001b[0m \u001b[0;34m(\u001b[0m\u001b[0mnp\u001b[0m\u001b[0;34m.\u001b[0m\u001b[0marange\u001b[0m\u001b[0;34m(\u001b[0m\u001b[0mnbins\u001b[0m \u001b[0;34m+\u001b[0m \u001b[0;36m1\u001b[0m\u001b[0;34m)\u001b[0m \u001b[0;34m*\u001b[0m \u001b[0mstep\u001b[0m \u001b[0;34m+\u001b[0m \u001b[0mbest_vmin\u001b[0m \u001b[0;34m+\u001b[0m \u001b[0moffset\u001b[0m\u001b[0;34m)\u001b[0m\u001b[0;34m\u001b[0m\u001b[0m\n",
      "\u001b[0;31mValueError\u001b[0m: cannot convert float NaN to integer"
     ]
    },
    {
     "data": {
      "image/png": "[encoded data removed]",
      "text/plain": [
       "<matplotlib.figure.Figure at 0x1113937d0>"
      ]
     },
     "metadata": {},
     "output_type": "display_data"
    }
   ],
   "source": [
    "fig, ax = plt.subplots()\n",
    "for i in range(len(X)):\n",
    "    ax.scatter(X_train_km[i][0], X_train_km[i][1], X_train_km[i][2])\n",
    "\n",
    "ax.scatter(centroids[:, 0],centroids[:, 1], marker = \"x\", s=150)\n",
    "\n",
    "plt.show()"
   ]
  },
  {
   "cell_type": "code",
   "execution_count": null,
   "metadata": {
    "collapsed": true
   },
   "outputs": [],
   "source": []
  }
 ],
 "metadata": {
  "kernelspec": {
   "display_name": "Python 2",
   "language": "python",
   "name": "python2"
  },
  "language_info": {
   "codemirror_mode": {
    "name": "ipython",
    "version": 2
   },
   "file_extension": ".py",
   "mimetype": "text/x-python",
   "name": "python",
   "nbconvert_exporter": "python",
   "pygments_lexer": "ipython2",
   "version": "2.7.13"
  }
 },
 "nbformat": 4,
 "nbformat_minor": 0
}
