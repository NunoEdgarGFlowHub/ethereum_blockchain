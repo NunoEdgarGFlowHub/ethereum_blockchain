{
 "cells": [
  {
   "cell_type": "code",
   "execution_count": 1,
   "metadata": {
    "collapsed": true
   },
   "outputs": [],
   "source": [
    "from pymongo import MongoClient\n",
    "import requests\n",
    "import time"
   ]
  },
  {
   "cell_type": "code",
   "execution_count": 14,
   "metadata": {
    "collapsed": false
   },
   "outputs": [
    {
     "data": {
      "text/plain": [
       "u'hash_1'"
      ]
     },
     "execution_count": 14,
     "metadata": {},
     "output_type": "execute_result"
    }
   ],
   "source": [
    "# connect to the hosted MongoDB instance\n",
    "client = MongoClient()\n",
    "db = client['test_database']\n",
    "collection = db['test_table']\n",
    "collection.create_index([('hash', 1)], unique=True)"
   ]
  },
  {
   "cell_type": "code",
   "execution_count": 15,
   "metadata": {
    "collapsed": false
   },
   "outputs": [],
   "source": [
    "def collect_data(count, offset):\n",
    "    \"\"\"\n",
    "    DESCRIPTION:\n",
    "        Collects blockchain transaction data from etherchain.org API\n",
    "        https://etherchain.org/documentation/api/\n",
    "    \n",
    "    INPUT:\n",
    "        - offset: the number of txs to skip\n",
    "        - count: the number of txs to return (max 100 blocks per request)\n",
    "        - sleeptime: number of seconds to sleep between api requests\n",
    "    OUTPUT:\n",
    "        - stores each blockchain transaction as a document in a MongoDB collection\n",
    "    \"\"\"\n",
    "    \n",
    "    BASE_URL = 'https://etherchain.org/api/txs/{}/{}'.format(offset, count)\n",
    "    r = requests.get(BASE_URL)\n",
    "\n",
    "    if r.status_code != 200:\n",
    "        print('status code = {}'.format(r.status_code))\n",
    "\n",
    "    else:\n",
    "    # store each transaction block in our mongo database\n",
    "        r = convert_price(r.json())\n",
    "\n",
    "        for row in range(count):\n",
    "            try:\n",
    "\n",
    "                collection.insert_one(r['data'][row])\n",
    "\n",
    "            except Exception as e:\n",
    "                #print e\n",
    "                #print(r['data'][row])\n",
    "                pass\n",
    "        \n",
    "def convert_price(json_dict):\n",
    "    \n",
    "    for tx in json_dict['data']:\n",
    "        tx['amount'] = float(tx['amount'])\n",
    "        tx['price'] = float(tx['price'])\n",
    "    \n",
    "    return json_dict\n",
    "\n",
    "def call_api():\n",
    "    \n",
    "    offset = 0\n",
    "    x = 0\n",
    "    while x < 10:\n",
    "        collect_data(100, offset)\n",
    "        offset += 200\n",
    "        #print(offset)\n",
    "        if offset % 1000 == 0:\n",
    "            print('offset: {}'.format(offset))\n",
    "           \n",
    "        time.sleep(5)\n",
    "        x += 1"
   ]
  },
  {
   "cell_type": "code",
   "execution_count": 18,
   "metadata": {
    "collapsed": false
   },
   "outputs": [
    {
     "data": {
      "text/plain": [
       "4341"
      ]
     },
     "execution_count": 18,
     "metadata": {},
     "output_type": "execute_result"
    }
   ],
   "source": [
    "collection.count()"
   ]
  },
  {
   "cell_type": "code",
   "execution_count": 17,
   "metadata": {
    "collapsed": false
   },
   "outputs": [
    {
     "name": "stdout",
     "output_type": "stream",
     "text": [
      "offset: 1000\n",
      "offset: 2000\n"
     ]
    }
   ],
   "source": [
    "call_api()"
   ]
  },
  {
   "cell_type": "code",
   "execution_count": 8,
   "metadata": {
    "collapsed": false
   },
   "outputs": [
    {
     "data": {
      "text/plain": [
       "2831"
      ]
     },
     "execution_count": 8,
     "metadata": {},
     "output_type": "execute_result"
    }
   ],
   "source": [
    "collection.count()"
   ]
  },
  {
   "cell_type": "code",
   "execution_count": 7,
   "metadata": {
    "collapsed": false
   },
   "outputs": [
    {
     "data": {
      "text/plain": [
       "{u'_id': ObjectId('59c470ae66a1619ccb3ab917'),\n",
       " u'accountNonce': u'109003',\n",
       " u'amount': 7.437130289163643e+17,\n",
       " u'blockHash': u'0xe1ea5bfdce01981c63d27c7df4fe80bd7ef2f6b35cf8e711daccb22814291770',\n",
       " u'block_id': 4300376,\n",
       " u'gasLimit': 50000,\n",
       " u'gasUsed': 21000,\n",
       " u'hash': u'0xffa830b0ec602cbed484ceba2a4b12a0c581eeec3ea194ecf7a7d241859a275d',\n",
       " u'isContractTx': None,\n",
       " u'newContract': 0,\n",
       " u'parentHash': u'0xffa830b0ec602cbed484ceba2a4b12a0c581eeec3ea194ecf7a7d241859a275d',\n",
       " u'price': 21000000000.0,\n",
       " u'recipient': u'0x0dc0bfa68ebf8a0062bce80a5955a949f731cf85',\n",
       " u'sender': u'0x90e4be5cd24970a87e23e281f3ad40a89558b433',\n",
       " u'time': u'2017-09-22T02:08:07.000Z',\n",
       " u'txIndex': None,\n",
       " u'type': u'tx'}"
      ]
     },
     "execution_count": 7,
     "metadata": {},
     "output_type": "execute_result"
    }
   ],
   "source": [
    "collection.find_one()"
   ]
  },
  {
   "cell_type": "code",
   "execution_count": 19,
   "metadata": {
    "collapsed": false
   },
   "outputs": [
    {
     "data": {
      "text/plain": [
       "4341"
      ]
     },
     "execution_count": 19,
     "metadata": {},
     "output_type": "execute_result"
    }
   ],
   "source": [
    "len(collection.distinct('hash'))"
   ]
  },
  {
   "cell_type": "code",
   "execution_count": null,
   "metadata": {
    "collapsed": true
   },
   "outputs": [],
   "source": []
  }
 ],
 "metadata": {
  "kernelspec": {
   "display_name": "Python 2",
   "language": "python",
   "name": "python2"
  },
  "language_info": {
   "codemirror_mode": {
    "name": "ipython",
    "version": 2
   },
   "file_extension": ".py",
   "mimetype": "text/x-python",
   "name": "python",
   "nbconvert_exporter": "python",
   "pygments_lexer": "ipython2",
   "version": "2.7.13"
  }
 },
 "nbformat": 4,
 "nbformat_minor": 0
}
