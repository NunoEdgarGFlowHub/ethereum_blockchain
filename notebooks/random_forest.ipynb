{
 "cells": [
  {
   "cell_type": "code",
   "execution_count": 1,
   "metadata": {
    "collapsed": false
   },
   "outputs": [
    {
     "name": "stderr",
     "output_type": "stream",
     "text": [
      "//anaconda/lib/python2.7/site-packages/IPython/html.py:14: ShimWarning: The `IPython.html` package has been deprecated. You should import from `notebook` instead. `IPython.html.widgets` has moved to `ipywidgets`.\n",
      "  \"`IPython.html.widgets` has moved to `ipywidgets`.\", ShimWarning)\n",
      "//anaconda/lib/python2.7/site-packages/sklearn/cross_validation.py:41: DeprecationWarning: This module was deprecated in version 0.18 in favor of the model_selection module into which all the refactored classes and functions are moved. Also note that the interface of the new CV iterators are different from that of this module. This module will be removed in 0.20.\n",
      "  \"This module will be removed in 0.20.\", DeprecationWarning)\n"
     ]
    }
   ],
   "source": [
    "import pandas as pd\n",
    "import numpy as np\n",
    "import matplotlib.pyplot as plt\n",
    "import seaborn as sns\n",
    "from sklearn.cross_validation import train_test_split, cross_val_score\n",
    "from sklearn.metrics import mean_squared_error, r2_score\n",
    "from sklearn.preprocessing import LabelEncoder\n",
    "from sklearn.model_selection import GridSearchCV, cross_val_score\n",
    "from sklearn.preprocessing import StandardScaler\n",
    "from sklearn.ensemble import RandomForestRegressor\n",
    "from numpy.linalg import matrix_rank\n",
    "from statsmodels.stats.outliers_influence import variance_inflation_factor\n",
    "%matplotlib inline"
   ]
  },
  {
   "cell_type": "markdown",
   "metadata": {},
   "source": [
    "# Random forest regressor"
   ]
  },
  {
   "cell_type": "markdown",
   "metadata": {},
   "source": [
    "### Load training and label data"
   ]
  },
  {
   "cell_type": "code",
   "execution_count": 2,
   "metadata": {
    "collapsed": true
   },
   "outputs": [],
   "source": [
    "train = pd.read_csv('./../data/training.csv')\n",
    "label = pd.read_csv('./../data/labels.csv', header=None)\n",
    "train.drop('Unnamed: 0', axis=1, inplace=True)\n",
    "# label encode type \n",
    "le = LabelEncoder()\n",
    "train['type_enc'] = le.fit_transform(train['type'])\n",
    "label.columns = ['0', 'p_label2']\n",
    "label.drop('0', axis=1, inplace=True)\n",
    "y_label = np.ravel(label)"
   ]
  },
  {
   "cell_type": "code",
   "execution_count": 3,
   "metadata": {
    "collapsed": false
   },
   "outputs": [
    {
     "data": {
      "text/plain": [
       "Index([u'gasLimit_t', u'gasUsed_t', u'newContract', u'blockTime',\n",
       "       u'difficulty', u'gasLimit_b', u'gasUsed_b', u'reward', u'size', u'type',\n",
       "       u'totalFee', u'amount_gwei', u'gasShare', u'gweiPaid', u'gweiPaid_b',\n",
       "       u'gweiShare', u'free_t', u'day', u'hour', u'dayofweek', u'txcnt_second',\n",
       "       u'avg_blocktime_6', u'avg_gasUsed_b_6', u'avg_tx_count_6',\n",
       "       u'avg_uncle_count_6', u'avg_difficulty_6', u'avg_txcnt_second_6',\n",
       "       u'avg_gasUsed_t_6', u'avg_price_6', u'avg_blocktime_60',\n",
       "       u'avg_gasUsed_b_60', u'avg_tx_count_60', u'avg_uncle_count_60',\n",
       "       u'avg_difficulty_60', u'avg_txcnt_second_60', u'avg_gasUsed_t_60',\n",
       "       u'avg_price_60', u'mv', u'type_enc'],\n",
       "      dtype='object')"
      ]
     },
     "execution_count": 3,
     "metadata": {},
     "output_type": "execute_result"
    }
   ],
   "source": [
    "train.columns"
   ]
  },
  {
   "cell_type": "markdown",
   "metadata": {},
   "source": [
    "### Select features"
   ]
  },
  {
   "cell_type": "code",
   "execution_count": 4,
   "metadata": {
    "collapsed": true
   },
   "outputs": [],
   "source": [
    "sub_cols = ['gasLimit_t', \n",
    "            'gasUsed_t', \n",
    "            'newContract', \n",
    "       'avg_blocktime_6', \n",
    "       'avg_uncle_count_6', \n",
    "            'avg_txcnt_second_6',\n",
    "       'avg_gasUsed_t_6', \n",
    "            'avg_price_6', \n",
    "            'avg_uncle_count_60',\n",
    "        'avg_price_60', \n",
    "            'mv', \n",
    "            'type_enc']"
   ]
  },
  {
   "cell_type": "markdown",
   "metadata": {},
   "source": [
    "### Split the data"
   ]
  },
  {
   "cell_type": "code",
   "execution_count": 5,
   "metadata": {
    "collapsed": true
   },
   "outputs": [],
   "source": [
    "sub_train = train[sub_cols]\n",
    "X = sub_train.values\n",
    "y = y_label\n",
    "X_train, X_test, y_train, y_test = train_test_split(X, y)"
   ]
  },
  {
   "cell_type": "code",
   "execution_count": 6,
   "metadata": {
    "collapsed": false
   },
   "outputs": [
    {
     "data": {
      "text/plain": [
       "(12, 12)"
      ]
     },
     "execution_count": 6,
     "metadata": {},
     "output_type": "execute_result"
    }
   ],
   "source": [
    "matrix_rank(X), len(sub_cols)"
   ]
  },
  {
   "cell_type": "markdown",
   "metadata": {},
   "source": [
    "### Variance inflation factors\n",
    "If the VIF is equal to 1 there is no multicollinearity among factors, but if the VIF is greater than 1, the predictors may be moderately correlated. The output above shows that the VIF for the Publication and Years factors are about 1.5, which indicates some correlation, but not enough to be overly concerned about. A VIF between 5 and 10 indicates high correlation that may be problematic. And if the VIF goes above 10, you can assume that the regression coefficients are poorly estimated due to multicollinearity."
   ]
  },
  {
   "cell_type": "code",
   "execution_count": 7,
   "metadata": {
    "collapsed": false
   },
   "outputs": [
    {
     "name": "stdout",
     "output_type": "stream",
     "text": [
      "VIF col gasLimit_t: 1.59171325219\n",
      "VIF col gasUsed_t: 1.41965478479\n",
      "VIF col newContract: 1.03855950223\n",
      "VIF col avg_blocktime_6: 4.44493959221\n",
      "VIF col avg_uncle_count_6: 1.62189618616\n",
      "VIF col avg_txcnt_second_6: 2.24676473359\n",
      "VIF col avg_gasUsed_t_6: 2.08424912098\n",
      "VIF col avg_price_6: 2.14220672369\n",
      "VIF col avg_uncle_count_60: 4.95359233193\n",
      "VIF col avg_price_60: 3.6317550142\n",
      "VIF col mv: 1.11936078272\n",
      "VIF col type_enc: 3.34148223087\n"
     ]
    }
   ],
   "source": [
    "for i, col in enumerate(sub_train.columns):\n",
    "    print('VIF col {}: {}'.format(col,variance_inflation_factor(X,i)))"
   ]
  },
  {
   "cell_type": "markdown",
   "metadata": {},
   "source": [
    "## Cross validation to find optimal model"
   ]
  },
  {
   "cell_type": "code",
   "execution_count": 8,
   "metadata": {
    "collapsed": true
   },
   "outputs": [],
   "source": [
    "rf1 = RandomForestRegressor()"
   ]
  },
  {
   "cell_type": "code",
   "execution_count": 9,
   "metadata": {
    "collapsed": false
   },
   "outputs": [
    {
     "data": {
      "text/plain": [
       "['warm_start',\n",
       " 'oob_score',\n",
       " 'n_jobs',\n",
       " 'min_impurity_decrease',\n",
       " 'verbose',\n",
       " 'max_leaf_nodes',\n",
       " 'bootstrap',\n",
       " 'min_samples_leaf',\n",
       " 'n_estimators',\n",
       " 'min_samples_split',\n",
       " 'min_weight_fraction_leaf',\n",
       " 'criterion',\n",
       " 'random_state',\n",
       " 'min_impurity_split',\n",
       " 'max_features',\n",
       " 'max_depth']"
      ]
     },
     "execution_count": 9,
     "metadata": {},
     "output_type": "execute_result"
    }
   ],
   "source": [
    "rf1.get_params().keys()"
   ]
  },
  {
   "cell_type": "markdown",
   "metadata": {},
   "source": [
    "### Standardize data"
   ]
  },
  {
   "cell_type": "code",
   "execution_count": 10,
   "metadata": {
    "collapsed": true
   },
   "outputs": [],
   "source": [
    "# Create a scaler object\n",
    "#sc = StandardScaler()\n",
    "\n",
    "# Fit the scaler to the feature data and transform\n",
    "#X_std = sc.fit_transform(X)"
   ]
  },
  {
   "cell_type": "markdown",
   "metadata": {},
   "source": [
    "### Nested cross validation"
   ]
  },
  {
   "cell_type": "code",
   "execution_count": 11,
   "metadata": {
    "collapsed": true
   },
   "outputs": [],
   "source": [
    "# Create a list of 10 candidate values for the C parameter\n",
    "param_candidates = dict(max_depth=np.arange(1, 7, 1), \n",
    "                        n_estimators=np.arange(5, 25, 5))"
   ]
  },
  {
   "cell_type": "code",
   "execution_count": 12,
   "metadata": {
    "collapsed": false
   },
   "outputs": [
    {
     "data": {
      "text/plain": [
       "{'max_depth': array([1, 2, 3, 4, 5, 6]),\n",
       " 'n_estimators': array([ 5, 10, 15, 20])}"
      ]
     },
     "execution_count": 12,
     "metadata": {},
     "output_type": "execute_result"
    }
   ],
   "source": [
    "param_candidates"
   ]
  },
  {
   "cell_type": "code",
   "execution_count": 13,
   "metadata": {
    "collapsed": true
   },
   "outputs": [],
   "source": [
    "# Create a gridsearch object with the decision tree regressor and the max_depth value candidates\n",
    "rf = GridSearchCV(estimator=RandomForestRegressor(), param_grid=param_candidates)"
   ]
  },
  {
   "cell_type": "code",
   "execution_count": 14,
   "metadata": {
    "collapsed": false
   },
   "outputs": [
    {
     "data": {
      "text/plain": [
       "GridSearchCV(cv=None, error_score='raise',\n",
       "       estimator=RandomForestRegressor(bootstrap=True, criterion='mse', max_depth=None,\n",
       "           max_features='auto', max_leaf_nodes=None,\n",
       "           min_impurity_decrease=0.0, min_impurity_split=None,\n",
       "           min_samples_leaf=1, min_samples_split=2,\n",
       "           min_weight_fraction_leaf=0.0, n_estimators=10, n_jobs=1,\n",
       "           oob_score=False, random_state=None, verbose=0, warm_start=False),\n",
       "       fit_params=None, iid=True, n_jobs=1,\n",
       "       param_grid={'n_estimators': array([ 5, 10, 15, 20]), 'max_depth': array([1, 2, 3, 4, 5, 6])},\n",
       "       pre_dispatch='2*n_jobs', refit=True, return_train_score=True,\n",
       "       scoring=None, verbose=0)"
      ]
     },
     "execution_count": 14,
     "metadata": {},
     "output_type": "execute_result"
    }
   ],
   "source": [
    "# Fit the cross validated grid search on the data \n",
    "rf.fit(X_train, y_train)"
   ]
  },
  {
   "cell_type": "code",
   "execution_count": 17,
   "metadata": {
    "collapsed": false
   },
   "outputs": [
    {
     "data": {
      "text/plain": [
       "RandomForestRegressor(bootstrap=True, criterion='mse', max_depth=6,\n",
       "           max_features='auto', max_leaf_nodes=None,\n",
       "           min_impurity_decrease=0.0, min_impurity_split=None,\n",
       "           min_samples_leaf=1, min_samples_split=2,\n",
       "           min_weight_fraction_leaf=0.0, n_estimators=15, n_jobs=1,\n",
       "           oob_score=False, random_state=None, verbose=0, warm_start=False)"
      ]
     },
     "execution_count": 17,
     "metadata": {},
     "output_type": "execute_result"
    }
   ],
   "source": [
    "# Show the best param values\n",
    "rf.best_estimator_"
   ]
  },
  {
   "cell_type": "code",
   "execution_count": 56,
   "metadata": {
    "collapsed": false
   },
   "outputs": [
    {
     "name": "stdout",
     "output_type": "stream",
     "text": [
      "Mean CV r2_score: 0.825487086998\n"
     ]
    }
   ],
   "source": [
    "print('Mean CV r2_score: {}'.format(np.mean(cross_val_score(\n",
    "        rf, X_test, y_test, scoring='r2', cv=5))))"
   ]
  },
  {
   "cell_type": "code",
   "execution_count": 43,
   "metadata": {
    "collapsed": false
   },
   "outputs": [],
   "source": [
    "results1 = pd.DataFrame(X_train)\n",
    "results1.columns = sub_cols\n",
    "results1['label']  = y_train\n",
    "results1['pred']  = rf.predict(X_train)\n",
    "results1['stage'] = 'Train'"
   ]
  },
  {
   "cell_type": "code",
   "execution_count": 44,
   "metadata": {
    "collapsed": false
   },
   "outputs": [
    {
     "data": {
      "text/html": [
       "<div>\n",
       "<style>\n",
       "    .dataframe thead tr:only-child th {\n",
       "        text-align: right;\n",
       "    }\n",
       "\n",
       "    .dataframe thead th {\n",
       "        text-align: left;\n",
       "    }\n",
       "\n",
       "    .dataframe tbody tr th {\n",
       "        vertical-align: top;\n",
       "    }\n",
       "</style>\n",
       "<table border=\"1\" class=\"dataframe\">\n",
       "  <thead>\n",
       "    <tr style=\"text-align: right;\">\n",
       "      <th></th>\n",
       "      <th>gasLimit_t</th>\n",
       "      <th>gasUsed_t</th>\n",
       "      <th>newContract</th>\n",
       "      <th>avg_blocktime_6</th>\n",
       "      <th>avg_uncle_count_6</th>\n",
       "      <th>avg_txcnt_second_6</th>\n",
       "      <th>avg_gasUsed_t_6</th>\n",
       "      <th>avg_price_6</th>\n",
       "      <th>avg_uncle_count_60</th>\n",
       "      <th>avg_price_60</th>\n",
       "      <th>mv</th>\n",
       "      <th>type_enc</th>\n",
       "      <th>label</th>\n",
       "      <th>pred</th>\n",
       "      <th>stage</th>\n",
       "    </tr>\n",
       "  </thead>\n",
       "  <tbody>\n",
       "    <tr>\n",
       "      <th>0</th>\n",
       "      <td>50000.0</td>\n",
       "      <td>21000.0</td>\n",
       "      <td>0.0</td>\n",
       "      <td>30.333333</td>\n",
       "      <td>0.000000</td>\n",
       "      <td>10.333333</td>\n",
       "      <td>48851.226918</td>\n",
       "      <td>30.109970</td>\n",
       "      <td>0.100000</td>\n",
       "      <td>29.814134</td>\n",
       "      <td>0.269151</td>\n",
       "      <td>2.0</td>\n",
       "      <td>10.861544</td>\n",
       "      <td>18.237229</td>\n",
       "      <td>Train</td>\n",
       "    </tr>\n",
       "    <tr>\n",
       "      <th>1</th>\n",
       "      <td>50000.0</td>\n",
       "      <td>21000.0</td>\n",
       "      <td>0.0</td>\n",
       "      <td>24.833333</td>\n",
       "      <td>0.000000</td>\n",
       "      <td>11.500000</td>\n",
       "      <td>31427.203082</td>\n",
       "      <td>22.623876</td>\n",
       "      <td>0.133333</td>\n",
       "      <td>25.257682</td>\n",
       "      <td>1.182141</td>\n",
       "      <td>2.0</td>\n",
       "      <td>12.959649</td>\n",
       "      <td>15.160349</td>\n",
       "      <td>Train</td>\n",
       "    </tr>\n",
       "    <tr>\n",
       "      <th>2</th>\n",
       "      <td>650000.0</td>\n",
       "      <td>518513.0</td>\n",
       "      <td>0.0</td>\n",
       "      <td>39.166667</td>\n",
       "      <td>0.000000</td>\n",
       "      <td>3.666667</td>\n",
       "      <td>34272.846260</td>\n",
       "      <td>27.709378</td>\n",
       "      <td>0.016667</td>\n",
       "      <td>24.240462</td>\n",
       "      <td>0.092250</td>\n",
       "      <td>2.0</td>\n",
       "      <td>7.762371</td>\n",
       "      <td>18.237229</td>\n",
       "      <td>Train</td>\n",
       "    </tr>\n",
       "    <tr>\n",
       "      <th>3</th>\n",
       "      <td>74318.0</td>\n",
       "      <td>37158.0</td>\n",
       "      <td>0.0</td>\n",
       "      <td>19.833333</td>\n",
       "      <td>0.000000</td>\n",
       "      <td>4.166667</td>\n",
       "      <td>70370.262842</td>\n",
       "      <td>29.253390</td>\n",
       "      <td>0.066667</td>\n",
       "      <td>26.272013</td>\n",
       "      <td>0.688410</td>\n",
       "      <td>2.0</td>\n",
       "      <td>22.216060</td>\n",
       "      <td>18.237229</td>\n",
       "      <td>Train</td>\n",
       "    </tr>\n",
       "    <tr>\n",
       "      <th>4</th>\n",
       "      <td>250000.0</td>\n",
       "      <td>45992.0</td>\n",
       "      <td>0.0</td>\n",
       "      <td>22.000000</td>\n",
       "      <td>0.166667</td>\n",
       "      <td>6.166667</td>\n",
       "      <td>138817.151832</td>\n",
       "      <td>19.691374</td>\n",
       "      <td>0.066667</td>\n",
       "      <td>23.750735</td>\n",
       "      <td>0.332509</td>\n",
       "      <td>2.0</td>\n",
       "      <td>8.783028</td>\n",
       "      <td>9.816403</td>\n",
       "      <td>Train</td>\n",
       "    </tr>\n",
       "  </tbody>\n",
       "</table>\n",
       "</div>"
      ],
      "text/plain": [
       "   gasLimit_t  gasUsed_t  newContract  avg_blocktime_6  avg_uncle_count_6  \\\n",
       "0     50000.0    21000.0          0.0        30.333333           0.000000   \n",
       "1     50000.0    21000.0          0.0        24.833333           0.000000   \n",
       "2    650000.0   518513.0          0.0        39.166667           0.000000   \n",
       "3     74318.0    37158.0          0.0        19.833333           0.000000   \n",
       "4    250000.0    45992.0          0.0        22.000000           0.166667   \n",
       "\n",
       "   avg_txcnt_second_6  avg_gasUsed_t_6  avg_price_6  avg_uncle_count_60  \\\n",
       "0           10.333333     48851.226918    30.109970            0.100000   \n",
       "1           11.500000     31427.203082    22.623876            0.133333   \n",
       "2            3.666667     34272.846260    27.709378            0.016667   \n",
       "3            4.166667     70370.262842    29.253390            0.066667   \n",
       "4            6.166667    138817.151832    19.691374            0.066667   \n",
       "\n",
       "   avg_price_60        mv  type_enc      label       pred  stage  \n",
       "0     29.814134  0.269151       2.0  10.861544  18.237229  Train  \n",
       "1     25.257682  1.182141       2.0  12.959649  15.160349  Train  \n",
       "2     24.240462  0.092250       2.0   7.762371  18.237229  Train  \n",
       "3     26.272013  0.688410       2.0  22.216060  18.237229  Train  \n",
       "4     23.750735  0.332509       2.0   8.783028   9.816403  Train  "
      ]
     },
     "execution_count": 44,
     "metadata": {},
     "output_type": "execute_result"
    }
   ],
   "source": [
    "results1.head()"
   ]
  },
  {
   "cell_type": "code",
   "execution_count": 45,
   "metadata": {
    "collapsed": false
   },
   "outputs": [],
   "source": [
    "results2 = pd.DataFrame(X_test)\n",
    "results2.columns = sub_cols\n",
    "results2['label']  = y_test\n",
    "results2['pred']  = rf.predict(X_test)\n",
    "results2['stage'] = 'Test'"
   ]
  },
  {
   "cell_type": "code",
   "execution_count": 46,
   "metadata": {
    "collapsed": false
   },
   "outputs": [
    {
     "data": {
      "text/html": [
       "<div>\n",
       "<style>\n",
       "    .dataframe thead tr:only-child th {\n",
       "        text-align: right;\n",
       "    }\n",
       "\n",
       "    .dataframe thead th {\n",
       "        text-align: left;\n",
       "    }\n",
       "\n",
       "    .dataframe tbody tr th {\n",
       "        vertical-align: top;\n",
       "    }\n",
       "</style>\n",
       "<table border=\"1\" class=\"dataframe\">\n",
       "  <thead>\n",
       "    <tr style=\"text-align: right;\">\n",
       "      <th></th>\n",
       "      <th>gasLimit_t</th>\n",
       "      <th>gasUsed_t</th>\n",
       "      <th>newContract</th>\n",
       "      <th>avg_blocktime_6</th>\n",
       "      <th>avg_uncle_count_6</th>\n",
       "      <th>avg_txcnt_second_6</th>\n",
       "      <th>avg_gasUsed_t_6</th>\n",
       "      <th>avg_price_6</th>\n",
       "      <th>avg_uncle_count_60</th>\n",
       "      <th>avg_price_60</th>\n",
       "      <th>mv</th>\n",
       "      <th>type_enc</th>\n",
       "      <th>label</th>\n",
       "      <th>pred</th>\n",
       "      <th>stage</th>\n",
       "    </tr>\n",
       "  </thead>\n",
       "  <tbody>\n",
       "    <tr>\n",
       "      <th>0</th>\n",
       "      <td>1730520.0</td>\n",
       "      <td>41847.0</td>\n",
       "      <td>0.0</td>\n",
       "      <td>33.166667</td>\n",
       "      <td>0.000000</td>\n",
       "      <td>2.166667</td>\n",
       "      <td>44060.899025</td>\n",
       "      <td>25.589140</td>\n",
       "      <td>0.050000</td>\n",
       "      <td>26.094059</td>\n",
       "      <td>3.996689</td>\n",
       "      <td>0.0</td>\n",
       "      <td>4.013700</td>\n",
       "      <td>7.970963</td>\n",
       "      <td>Test</td>\n",
       "    </tr>\n",
       "    <tr>\n",
       "      <th>1</th>\n",
       "      <td>21000.0</td>\n",
       "      <td>21000.0</td>\n",
       "      <td>0.0</td>\n",
       "      <td>36.000000</td>\n",
       "      <td>0.166667</td>\n",
       "      <td>4.000000</td>\n",
       "      <td>48306.599942</td>\n",
       "      <td>30.763945</td>\n",
       "      <td>0.100000</td>\n",
       "      <td>24.730089</td>\n",
       "      <td>0.634915</td>\n",
       "      <td>2.0</td>\n",
       "      <td>24.167385</td>\n",
       "      <td>18.237229</td>\n",
       "      <td>Test</td>\n",
       "    </tr>\n",
       "    <tr>\n",
       "      <th>2</th>\n",
       "      <td>90000.0</td>\n",
       "      <td>21000.0</td>\n",
       "      <td>0.0</td>\n",
       "      <td>56.833333</td>\n",
       "      <td>0.000000</td>\n",
       "      <td>4.333333</td>\n",
       "      <td>52169.843132</td>\n",
       "      <td>36.520256</td>\n",
       "      <td>0.083333</td>\n",
       "      <td>32.719292</td>\n",
       "      <td>1.116790</td>\n",
       "      <td>2.0</td>\n",
       "      <td>51.044565</td>\n",
       "      <td>18.237229</td>\n",
       "      <td>Test</td>\n",
       "    </tr>\n",
       "    <tr>\n",
       "      <th>3</th>\n",
       "      <td>940000.0</td>\n",
       "      <td>29912.0</td>\n",
       "      <td>0.0</td>\n",
       "      <td>39.000000</td>\n",
       "      <td>0.000000</td>\n",
       "      <td>3.166667</td>\n",
       "      <td>29540.946698</td>\n",
       "      <td>26.630111</td>\n",
       "      <td>0.033333</td>\n",
       "      <td>24.008287</td>\n",
       "      <td>1.516613</td>\n",
       "      <td>2.0</td>\n",
       "      <td>10.110389</td>\n",
       "      <td>15.160349</td>\n",
       "      <td>Test</td>\n",
       "    </tr>\n",
       "    <tr>\n",
       "      <th>4</th>\n",
       "      <td>524747.0</td>\n",
       "      <td>437289.0</td>\n",
       "      <td>1.0</td>\n",
       "      <td>28.666667</td>\n",
       "      <td>0.000000</td>\n",
       "      <td>4.166667</td>\n",
       "      <td>55129.327656</td>\n",
       "      <td>18.702611</td>\n",
       "      <td>0.033333</td>\n",
       "      <td>23.785293</td>\n",
       "      <td>1.724892</td>\n",
       "      <td>1.0</td>\n",
       "      <td>8.752006</td>\n",
       "      <td>15.160349</td>\n",
       "      <td>Test</td>\n",
       "    </tr>\n",
       "  </tbody>\n",
       "</table>\n",
       "</div>"
      ],
      "text/plain": [
       "   gasLimit_t  gasUsed_t  newContract  avg_blocktime_6  avg_uncle_count_6  \\\n",
       "0   1730520.0    41847.0          0.0        33.166667           0.000000   \n",
       "1     21000.0    21000.0          0.0        36.000000           0.166667   \n",
       "2     90000.0    21000.0          0.0        56.833333           0.000000   \n",
       "3    940000.0    29912.0          0.0        39.000000           0.000000   \n",
       "4    524747.0   437289.0          1.0        28.666667           0.000000   \n",
       "\n",
       "   avg_txcnt_second_6  avg_gasUsed_t_6  avg_price_6  avg_uncle_count_60  \\\n",
       "0            2.166667     44060.899025    25.589140            0.050000   \n",
       "1            4.000000     48306.599942    30.763945            0.100000   \n",
       "2            4.333333     52169.843132    36.520256            0.083333   \n",
       "3            3.166667     29540.946698    26.630111            0.033333   \n",
       "4            4.166667     55129.327656    18.702611            0.033333   \n",
       "\n",
       "   avg_price_60        mv  type_enc      label       pred stage  \n",
       "0     26.094059  3.996689       0.0   4.013700   7.970963  Test  \n",
       "1     24.730089  0.634915       2.0  24.167385  18.237229  Test  \n",
       "2     32.719292  1.116790       2.0  51.044565  18.237229  Test  \n",
       "3     24.008287  1.516613       2.0  10.110389  15.160349  Test  \n",
       "4     23.785293  1.724892       1.0   8.752006  15.160349  Test  "
      ]
     },
     "execution_count": 46,
     "metadata": {},
     "output_type": "execute_result"
    }
   ],
   "source": [
    "results2.head()"
   ]
  },
  {
   "cell_type": "code",
   "execution_count": 51,
   "metadata": {
    "collapsed": true
   },
   "outputs": [],
   "source": [
    "results = pd.concat([results1,results2], axis=0)"
   ]
  },
  {
   "cell_type": "code",
   "execution_count": 52,
   "metadata": {
    "collapsed": false
   },
   "outputs": [
    {
     "data": {
      "text/html": [
       "<div>\n",
       "<style>\n",
       "    .dataframe thead tr:only-child th {\n",
       "        text-align: right;\n",
       "    }\n",
       "\n",
       "    .dataframe thead th {\n",
       "        text-align: left;\n",
       "    }\n",
       "\n",
       "    .dataframe tbody tr th {\n",
       "        vertical-align: top;\n",
       "    }\n",
       "</style>\n",
       "<table border=\"1\" class=\"dataframe\">\n",
       "  <thead>\n",
       "    <tr style=\"text-align: right;\">\n",
       "      <th></th>\n",
       "      <th>gasLimit_t</th>\n",
       "      <th>gasUsed_t</th>\n",
       "      <th>newContract</th>\n",
       "      <th>avg_blocktime_6</th>\n",
       "      <th>avg_uncle_count_6</th>\n",
       "      <th>avg_txcnt_second_6</th>\n",
       "      <th>avg_gasUsed_t_6</th>\n",
       "      <th>avg_price_6</th>\n",
       "      <th>avg_uncle_count_60</th>\n",
       "      <th>avg_price_60</th>\n",
       "      <th>mv</th>\n",
       "      <th>type_enc</th>\n",
       "      <th>label</th>\n",
       "      <th>pred</th>\n",
       "      <th>stage</th>\n",
       "    </tr>\n",
       "  </thead>\n",
       "  <tbody>\n",
       "    <tr>\n",
       "      <th>0</th>\n",
       "      <td>50000.0</td>\n",
       "      <td>21000.0</td>\n",
       "      <td>0.0</td>\n",
       "      <td>30.333333</td>\n",
       "      <td>0.000000</td>\n",
       "      <td>10.333333</td>\n",
       "      <td>48851.226918</td>\n",
       "      <td>30.109970</td>\n",
       "      <td>0.100000</td>\n",
       "      <td>29.814134</td>\n",
       "      <td>0.269151</td>\n",
       "      <td>2.0</td>\n",
       "      <td>10.861544</td>\n",
       "      <td>18.237229</td>\n",
       "      <td>Train</td>\n",
       "    </tr>\n",
       "    <tr>\n",
       "      <th>1</th>\n",
       "      <td>50000.0</td>\n",
       "      <td>21000.0</td>\n",
       "      <td>0.0</td>\n",
       "      <td>24.833333</td>\n",
       "      <td>0.000000</td>\n",
       "      <td>11.500000</td>\n",
       "      <td>31427.203082</td>\n",
       "      <td>22.623876</td>\n",
       "      <td>0.133333</td>\n",
       "      <td>25.257682</td>\n",
       "      <td>1.182141</td>\n",
       "      <td>2.0</td>\n",
       "      <td>12.959649</td>\n",
       "      <td>15.160349</td>\n",
       "      <td>Train</td>\n",
       "    </tr>\n",
       "    <tr>\n",
       "      <th>2</th>\n",
       "      <td>650000.0</td>\n",
       "      <td>518513.0</td>\n",
       "      <td>0.0</td>\n",
       "      <td>39.166667</td>\n",
       "      <td>0.000000</td>\n",
       "      <td>3.666667</td>\n",
       "      <td>34272.846260</td>\n",
       "      <td>27.709378</td>\n",
       "      <td>0.016667</td>\n",
       "      <td>24.240462</td>\n",
       "      <td>0.092250</td>\n",
       "      <td>2.0</td>\n",
       "      <td>7.762371</td>\n",
       "      <td>18.237229</td>\n",
       "      <td>Train</td>\n",
       "    </tr>\n",
       "    <tr>\n",
       "      <th>3</th>\n",
       "      <td>74318.0</td>\n",
       "      <td>37158.0</td>\n",
       "      <td>0.0</td>\n",
       "      <td>19.833333</td>\n",
       "      <td>0.000000</td>\n",
       "      <td>4.166667</td>\n",
       "      <td>70370.262842</td>\n",
       "      <td>29.253390</td>\n",
       "      <td>0.066667</td>\n",
       "      <td>26.272013</td>\n",
       "      <td>0.688410</td>\n",
       "      <td>2.0</td>\n",
       "      <td>22.216060</td>\n",
       "      <td>18.237229</td>\n",
       "      <td>Train</td>\n",
       "    </tr>\n",
       "    <tr>\n",
       "      <th>4</th>\n",
       "      <td>250000.0</td>\n",
       "      <td>45992.0</td>\n",
       "      <td>0.0</td>\n",
       "      <td>22.000000</td>\n",
       "      <td>0.166667</td>\n",
       "      <td>6.166667</td>\n",
       "      <td>138817.151832</td>\n",
       "      <td>19.691374</td>\n",
       "      <td>0.066667</td>\n",
       "      <td>23.750735</td>\n",
       "      <td>0.332509</td>\n",
       "      <td>2.0</td>\n",
       "      <td>8.783028</td>\n",
       "      <td>9.816403</td>\n",
       "      <td>Train</td>\n",
       "    </tr>\n",
       "  </tbody>\n",
       "</table>\n",
       "</div>"
      ],
      "text/plain": [
       "   gasLimit_t  gasUsed_t  newContract  avg_blocktime_6  avg_uncle_count_6  \\\n",
       "0     50000.0    21000.0          0.0        30.333333           0.000000   \n",
       "1     50000.0    21000.0          0.0        24.833333           0.000000   \n",
       "2    650000.0   518513.0          0.0        39.166667           0.000000   \n",
       "3     74318.0    37158.0          0.0        19.833333           0.000000   \n",
       "4    250000.0    45992.0          0.0        22.000000           0.166667   \n",
       "\n",
       "   avg_txcnt_second_6  avg_gasUsed_t_6  avg_price_6  avg_uncle_count_60  \\\n",
       "0           10.333333     48851.226918    30.109970            0.100000   \n",
       "1           11.500000     31427.203082    22.623876            0.133333   \n",
       "2            3.666667     34272.846260    27.709378            0.016667   \n",
       "3            4.166667     70370.262842    29.253390            0.066667   \n",
       "4            6.166667    138817.151832    19.691374            0.066667   \n",
       "\n",
       "   avg_price_60        mv  type_enc      label       pred  stage  \n",
       "0     29.814134  0.269151       2.0  10.861544  18.237229  Train  \n",
       "1     25.257682  1.182141       2.0  12.959649  15.160349  Train  \n",
       "2     24.240462  0.092250       2.0   7.762371  18.237229  Train  \n",
       "3     26.272013  0.688410       2.0  22.216060  18.237229  Train  \n",
       "4     23.750735  0.332509       2.0   8.783028   9.816403  Train  "
      ]
     },
     "execution_count": 52,
     "metadata": {},
     "output_type": "execute_result"
    }
   ],
   "source": [
    "results.head()"
   ]
  },
  {
   "cell_type": "code",
   "execution_count": 54,
   "metadata": {
    "collapsed": false
   },
   "outputs": [],
   "source": [
    "results['logPred']=results.pred.apply(np.log10)\n",
    "results['logLabel']=results.label.apply(np.log10)"
   ]
  },
  {
   "cell_type": "code",
   "execution_count": 72,
   "metadata": {
    "collapsed": false
   },
   "outputs": [
    {
     "data": {
      "text/plain": [
       "<seaborn.axisgrid.FacetGrid at 0x1a59d1ad90>"
      ]
     },
     "execution_count": 72,
     "metadata": {},
     "output_type": "execute_result"
    },
    {
     "data": {
      "image/png": "[encoded data removed]",
      "text/plain": [
       "<matplotlib.figure.Figure at 0x1a59d20ad0>"
      ]
     },
     "metadata": {},
     "output_type": "display_data"
    }
   ],
   "source": [
    "sns.lmplot(x=\"label\", y=\"pred\", hue=\"stage\",truncate=True, size=10, data=results)"
   ]
  },
  {
   "cell_type": "code",
   "execution_count": 76,
   "metadata": {
    "collapsed": false
   },
   "outputs": [
    {
     "data": {
      "text/plain": [
       "<seaborn.axisgrid.JointGrid at 0x1a32d14dd0>"
      ]
     },
     "execution_count": 76,
     "metadata": {},
     "output_type": "execute_result"
    },
    {
     "data": {
      "image/png": "[encoded data removed]",
      "text/plain": [
       "<matplotlib.figure.Figure at 0x1a32d14cd0>"
      ]
     },
     "metadata": {},
     "output_type": "display_data"
    }
   ],
   "source": [
    "sns.jointplot(x=\"label\", y=\"pred\", size=10, data=results)"
   ]
  },
  {
   "cell_type": "code",
   "execution_count": 55,
   "metadata": {
    "collapsed": false
   },
   "outputs": [
    {
     "data": {
      "text/plain": [
       "<seaborn.axisgrid.FacetGrid at 0x1a77b18d90>"
      ]
     },
     "execution_count": 55,
     "metadata": {},
     "output_type": "execute_result"
    },
    {
     "data": {
      "image/png": "[encoded data removed]",
      "text/plain": [
       "<matplotlib.figure.Figure at 0x1a0ebcd150>"
      ]
     },
     "metadata": {},
     "output_type": "display_data"
    }
   ],
   "source": [
    "sns.lmplot(x=\"logLabel\", y=\"logPred\", hue=\"stage\",truncate=True, size=10, data=results)"
   ]
  },
  {
   "cell_type": "code",
   "execution_count": 77,
   "metadata": {
    "collapsed": false
   },
   "outputs": [
    {
     "data": {
      "text/plain": [
       "<seaborn.axisgrid.JointGrid at 0x1a341e0990>"
      ]
     },
     "execution_count": 77,
     "metadata": {},
     "output_type": "execute_result"
    },
    {
     "data": {
      "image/png": "[encoded data removed]",
      "text/plain": [
       "<matplotlib.figure.Figure at 0x1a341e0f90>"
      ]
     },
     "metadata": {},
     "output_type": "display_data"
    }
   ],
   "source": [
    "sns.jointplot(x=\"logLabel\", y=\"logPred\", size=10, data=results)"
   ]
  },
  {
   "cell_type": "code",
   "execution_count": null,
   "metadata": {
    "collapsed": false
   },
   "outputs": [],
   "source": [
    "sns.jointplot(x=\"logLabel\", y=\"logPred\",kind=\"kde\", size=10, data=results)"
   ]
  },
  {
   "cell_type": "code",
   "execution_count": 57,
   "metadata": {
    "collapsed": true
   },
   "outputs": [],
   "source": [
    "results['absoluteError'] = results.pred-results.label\n",
    "results['relativeError'] = results.absoluteError/results.label"
   ]
  },
  {
   "cell_type": "code",
   "execution_count": 67,
   "metadata": {
    "collapsed": false
   },
   "outputs": [
    {
     "data": {
      "text/plain": [
       "<matplotlib.axes._subplots.AxesSubplot at 0x1a331e26d0>"
      ]
     },
     "execution_count": 67,
     "metadata": {},
     "output_type": "execute_result"
    },
    {
     "data": {
      "image/png": "[encoded data removed]",
      "text/plain": [
       "<matplotlib.figure.Figure at 0x1a330a53d0>"
      ]
     },
     "metadata": {},
     "output_type": "display_data"
    }
   ],
   "source": [
    "results.relativeError.hist(bins=np.arange(-1,4,.1))"
   ]
  },
  {
   "cell_type": "code",
   "execution_count": 71,
   "metadata": {
    "collapsed": false
   },
   "outputs": [
    {
     "data": {
      "text/plain": [
       "<matplotlib.axes._subplots.AxesSubplot at 0x1a59bf1990>"
      ]
     },
     "execution_count": 71,
     "metadata": {},
     "output_type": "execute_result"
    },
    {
     "data": {
      "image/png": "[encoded data removed]",
      "text/plain": [
       "<matplotlib.figure.Figure at 0x1a4f448b10>"
      ]
     },
     "metadata": {},
     "output_type": "display_data"
    }
   ],
   "source": [
    "results.absoluteError.hist(bins=np.arange(-50,50,1))"
   ]
  },
  {
   "cell_type": "markdown",
   "metadata": {},
   "source": [
    "# Plot results"
   ]
  },
  {
   "cell_type": "code",
   "execution_count": 73,
   "metadata": {
    "collapsed": false
   },
   "outputs": [
    {
     "data": {
      "text/plain": [
       "Index([u'gasLimit_t', u'gasUsed_t', u'newContract', u'avg_blocktime_6',\n",
       "       u'avg_uncle_count_6', u'avg_txcnt_second_6', u'avg_gasUsed_t_6',\n",
       "       u'avg_price_6', u'avg_uncle_count_60', u'avg_price_60', u'mv',\n",
       "       u'type_enc'],\n",
       "      dtype='object')"
      ]
     },
     "execution_count": 73,
     "metadata": {},
     "output_type": "execute_result"
    }
   ],
   "source": [
    "sub_train.columns"
   ]
  },
  {
   "cell_type": "code",
   "execution_count": 65,
   "metadata": {
    "collapsed": false
   },
   "outputs": [],
   "source": [
    "y_pred = rf.predict(X_test)"
   ]
  },
  {
   "cell_type": "code",
   "execution_count": 68,
   "metadata": {
    "collapsed": false
   },
   "outputs": [
    {
     "data": {
      "text/plain": [
       "((349157,), (349157,))"
      ]
     },
     "execution_count": 68,
     "metadata": {},
     "output_type": "execute_result"
    }
   ],
   "source": [
    "y_pred.shape, y_test.shape"
   ]
  },
  {
   "cell_type": "code",
   "execution_count": 80,
   "metadata": {
    "collapsed": false
   },
   "outputs": [],
   "source": [
    "results = pd.DataFrame({'y_test': y_test, 'y_pred': y_pred})"
   ]
  },
  {
   "cell_type": "code",
   "execution_count": null,
   "metadata": {
    "collapsed": true
   },
   "outputs": [],
   "source": [
    "results['y_test_log'] = "
   ]
  },
  {
   "cell_type": "code",
   "execution_count": 86,
   "metadata": {
    "collapsed": false
   },
   "outputs": [
    {
     "data": {
      "text/plain": [
       "<matplotlib.collections.PathCollection at 0x116706450>"
      ]
     },
     "execution_count": 86,
     "metadata": {},
     "output_type": "execute_result"
    },
    {
     "data": {
      "image/png": "[encoded data removed]",
      "text/plain": [
       "<matplotlib.figure.Figure at 0x116d4b6d0>"
      ]
     },
     "metadata": {},
     "output_type": "display_data"
    }
   ],
   "source": [
    "plt.scatter(results['y_test'].apply(np.log10), results['y_pred'].apply(np.log10))\n",
    "#plt.xlim(0,100)\n",
    "#plt.ylim(0,100)"
   ]
  },
  {
   "cell_type": "code",
   "execution_count": null,
   "metadata": {
    "collapsed": false
   },
   "outputs": [],
   "source": [
    "sns.set(style=\"darkgrid\", color_codes=True)\n",
    "sns.jointplot(x=\"y_test\", y=\"y_pred\", data=results, marginal_kws=dict(bins=25)\n",
    "plt.xlim(0, 100)\n",
    "plt.tight_layout()\n",
    "plt.savefig('./../images/jointplot.png', dpi=300)"
   ]
  },
  {
   "cell_type": "markdown",
   "metadata": {},
   "source": [
    "## Feature importances"
   ]
  },
  {
   "cell_type": "code",
   "execution_count": 91,
   "metadata": {
    "collapsed": true
   },
   "outputs": [],
   "source": [
    "def rf_regressor(X_train, X_test, y_train, y_test):\n",
    "    rf = RandomForestRegressor()\n",
    "    rf.fit(X_train, y_train)\n",
    "    y_pred = rf.predict(X_test)\n",
    "    scores = cross_val_score(rf, X_train, y_train, scoring='r2', cv=5)\n",
    "    print('MSE: {}'.format(mean_squared_error(y_test, y_pred)))\n",
    "    print('R2_score: {}'.format(r2_score(y_test, y_pred)))\n",
    "    print('avg_CV_score: {}'.format(np.mean(scores)))\n",
    "    # write predicted values to csv\n",
    "    p = pd.DataFrame({'y_pred': y_pred})\n",
    "    p.to_csv('./../data/label_pred.csv')\n",
    "    return rf"
   ]
  },
  {
   "cell_type": "code",
   "execution_count": 92,
   "metadata": {
    "collapsed": false
   },
   "outputs": [
    {
     "name": "stdout",
     "output_type": "stream",
     "text": [
      "MSE: 13.1884823058\n",
      "R2_score: 0.987232856113\n",
      "avg_CV_score: 0.983622505175\n"
     ]
    }
   ],
   "source": [
    "model = rf_regressor(X_train, X_test, y_train, y_test)"
   ]
  },
  {
   "cell_type": "code",
   "execution_count": null,
   "metadata": {
    "collapsed": true
   },
   "outputs": [],
   "source": [
    "def plot_feature_importance(rf, feature_df):\n",
    "    cols = []\n",
    "    for col in feature_df.columns:\n",
    "        cols.append(col)\n",
    "\n",
    "    feat_scores = pd.DataFrame({'Fraction of Samples Affected' : rf.feature_importances_},\n",
    "                           index=cols)\n",
    "    feat_scores = feat_scores.sort_values(by='Fraction of Samples Affected')\n",
    "    feat_scores.plot(kind='barh', color='r', figsize=(6,6))\n",
    "    #plt.xlabel('Importance', fontsize=18)\n",
    "    plt.title('Feature Importance', fontsize=18)\n",
    "    plt.tight_layout()\n",
    "    plt.savefig('./../images/feat_import_pruned.png', dpi=300)"
   ]
  },
  {
   "cell_type": "code",
   "execution_count": 93,
   "metadata": {
    "collapsed": false
   },
   "outputs": [
    {
     "data": {
      "image/png": "[encoded data removed]",
      "text/plain": [
       "<matplotlib.figure.Figure at 0x11a3e6450>"
      ]
     },
     "metadata": {},
     "output_type": "display_data"
    }
   ],
   "source": [
    "plot_feature_importance(model, sub_train)"
   ]
  },
  {
   "cell_type": "code",
   "execution_count": null,
   "metadata": {
    "collapsed": true
   },
   "outputs": [],
   "source": []
  }
 ],
 "metadata": {
  "kernelspec": {
   "display_name": "Python 2",
   "language": "python",
   "name": "python2"
  },
  "language_info": {
   "codemirror_mode": {
    "name": "ipython",
    "version": 2
   },
   "file_extension": ".py",
   "mimetype": "text/x-python",
   "name": "python",
   "nbconvert_exporter": "python",
   "pygments_lexer": "ipython2",
   "version": "2.7.12"
  }
 },
 "nbformat": 4,
 "nbformat_minor": 0
}
