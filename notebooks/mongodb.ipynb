{
 "cells": [
  {
   "cell_type": "markdown",
   "metadata": {},
   "source": [
    "#Working with Mongo DB"
   ]
  },
  {
   "cell_type": "markdown",
   "metadata": {},
   "source": [
    "##MongoDB Concepts\n",
    "\n",
    "###What is it\n",
    "- MongoDB is a document-oriented database, an alternative to RDBMS, used for storing semi-structured data.\n",
    "- JSON-like objects form the data model, rather than RDBMS tables.\n",
    "- No schema, No joins, No transactions.\n",
    "- Sub-optimal for complicated queries.\n",
    "\n",
    "###Structure of the mongoDB\n",
    "- MongoDB is made up of databases which contain collections (tables).\n",
    "- A collection is made up of documents (analogous to rows or records).\n",
    "- Each document is a JSON object made up of key-value pairs (analogous to columns)."
   ]
  },
  {
   "cell_type": "markdown",
   "metadata": {},
   "source": [
    "##JSON objects\n",
    "\n",
    "###Example:\n",
    "```\n",
    "{ \"name\":\"John\", \"age\":30, \"car\":null }\n",
    "```\n",
    "\n",
    "- JSON objects are surrounded by curly braces {}.\n",
    "- JSON objects are written in key/value pairs.\n",
    "- Keys must be strings, and values must be a valid JSON data type (string, number, object, array, boolean or null).\n",
    "- Keys and values are separated by a colon.\n",
    "- Each key/value pair is separated by a comma."
   ]
  },
  {
   "cell_type": "markdown",
   "metadata": {},
   "source": [
    "So a RDBMS defines columns at the table level, document oriented database defines its fields at a document level."
   ]
  },
  {
   "cell_type": "code",
   "execution_count": 1,
   "metadata": {
    "collapsed": true
   },
   "outputs": [],
   "source": [
    "# import MongoDB modules\n",
    "from pymongo import MongoClient"
   ]
  },
  {
   "cell_type": "code",
   "execution_count": null,
   "metadata": {
    "collapsed": true
   },
   "outputs": [],
   "source": [
    "# connect to the hosted MongoDB instance\n",
    "client = MongoClient('mongodb://localhost:27017/')\n",
    "db = client.etherchain"
   ]
  }
 ],
 "metadata": {
  "kernelspec": {
   "display_name": "Python 2",
   "language": "python",
   "name": "python2"
  },
  "language_info": {
   "codemirror_mode": {
    "name": "ipython",
    "version": 2
   },
   "file_extension": ".py",
   "mimetype": "text/x-python",
   "name": "python",
   "nbconvert_exporter": "python",
   "pygments_lexer": "ipython2",
   "version": "2.7.13"
  }
 },
 "nbformat": 4,
 "nbformat_minor": 0
}
