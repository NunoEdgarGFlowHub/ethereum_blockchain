{
 "cells": [
  {
   "cell_type": "code",
   "execution_count": 1,
   "metadata": {
    "collapsed": false
   },
   "outputs": [
    {
     "name": "stderr",
     "output_type": "stream",
     "text": [
      "//anaconda/lib/python2.7/site-packages/IPython/html.py:14: ShimWarning: The `IPython.html` package has been deprecated. You should import from `notebook` instead. `IPython.html.widgets` has moved to `ipywidgets`.\n",
      "  \"`IPython.html.widgets` has moved to `ipywidgets`.\", ShimWarning)\n",
      "//anaconda/lib/python2.7/site-packages/sklearn/cross_validation.py:41: DeprecationWarning: This module was deprecated in version 0.18 in favor of the model_selection module into which all the refactored classes and functions are moved. Also note that the interface of the new CV iterators are different from that of this module. This module will be removed in 0.20.\n",
      "  \"This module will be removed in 0.20.\", DeprecationWarning)\n",
      "//anaconda/lib/python2.7/site-packages/statsmodels/compat/pandas.py:56: FutureWarning: The pandas.core.datetools module is deprecated and will be removed in a future version. Please use the pandas.tseries module instead.\n",
      "  from pandas.core import datetools\n"
     ]
    }
   ],
   "source": [
    "import pandas as pd\n",
    "import numpy as np\n",
    "import matplotlib.pyplot as plt\n",
    "import seaborn as sns\n",
    "from sklearn.linear_model import LinearRegression\n",
    "from sklearn.discriminant_analysis import LinearDiscriminantAnalysis\n",
    "from sklearn.cross_validation import train_test_split, cross_val_score\n",
    "from sklearn.metrics import mean_squared_error, r2_score\n",
    "from sklearn.ensemble import RandomForestRegressor, AdaBoostRegressor\n",
    "from sklearn import tree\n",
    "from sklearn.neighbors import KNeighborsRegressor\n",
    "from sklearn.preprocessing import QuantileTransformer, Normalizer, LabelEncoder\n",
    "import statsmodels.api as sm\n",
    "%matplotlib inline"
   ]
  },
  {
   "cell_type": "code",
   "execution_count": 2,
   "metadata": {
    "collapsed": false
   },
   "outputs": [],
   "source": [
    "train = pd.read_csv('./../data/training.csv')"
   ]
  },
  {
   "cell_type": "code",
   "execution_count": 3,
   "metadata": {
    "collapsed": false
   },
   "outputs": [],
   "source": [
    "label = pd.read_csv('./../data/labels.csv', header=None)"
   ]
  },
  {
   "cell_type": "code",
   "execution_count": 4,
   "metadata": {
    "collapsed": false
   },
   "outputs": [
    {
     "data": {
      "text/html": [
       "<div>\n",
       "<style>\n",
       "    .dataframe thead tr:only-child th {\n",
       "        text-align: right;\n",
       "    }\n",
       "\n",
       "    .dataframe thead th {\n",
       "        text-align: left;\n",
       "    }\n",
       "\n",
       "    .dataframe tbody tr th {\n",
       "        vertical-align: top;\n",
       "    }\n",
       "</style>\n",
       "<table border=\"1\" class=\"dataframe\">\n",
       "  <thead>\n",
       "    <tr style=\"text-align: right;\">\n",
       "      <th></th>\n",
       "      <th>Unnamed: 0</th>\n",
       "      <th>gasLimit_t</th>\n",
       "      <th>gasUsed_t</th>\n",
       "      <th>newContract</th>\n",
       "      <th>blockTime</th>\n",
       "      <th>difficulty</th>\n",
       "      <th>gasLimit_b</th>\n",
       "      <th>gasUsed_b</th>\n",
       "      <th>reward</th>\n",
       "      <th>size</th>\n",
       "      <th>...</th>\n",
       "      <th>avg_price_6</th>\n",
       "      <th>avg_blocktime_60</th>\n",
       "      <th>avg_gasUsed_b_60</th>\n",
       "      <th>avg_tx_count_60</th>\n",
       "      <th>avg_uncle_count_60</th>\n",
       "      <th>avg_difficulty_60</th>\n",
       "      <th>avg_txcnt_second_60</th>\n",
       "      <th>avg_gasUsed_t_60</th>\n",
       "      <th>avg_price_60</th>\n",
       "      <th>mv</th>\n",
       "    </tr>\n",
       "  </thead>\n",
       "  <tbody>\n",
       "    <tr>\n",
       "      <th>0</th>\n",
       "      <td>0</td>\n",
       "      <td>50000</td>\n",
       "      <td>21000</td>\n",
       "      <td>0</td>\n",
       "      <td>10</td>\n",
       "      <td>2338428842518947</td>\n",
       "      <td>6732067</td>\n",
       "      <td>383005</td>\n",
       "      <td>5008232105000000000</td>\n",
       "      <td>2336</td>\n",
       "      <td>...</td>\n",
       "      <td>24.523604</td>\n",
       "      <td>24.45</td>\n",
       "      <td>5.768627e+06</td>\n",
       "      <td>94.616667</td>\n",
       "      <td>0.15</td>\n",
       "      <td>2.332719e+15</td>\n",
       "      <td>7.4</td>\n",
       "      <td>59403.370662</td>\n",
       "      <td>23.908728</td>\n",
       "      <td>0.932255</td>\n",
       "    </tr>\n",
       "    <tr>\n",
       "      <th>1</th>\n",
       "      <td>1</td>\n",
       "      <td>20967</td>\n",
       "      <td>9416</td>\n",
       "      <td>0</td>\n",
       "      <td>10</td>\n",
       "      <td>2338428842518947</td>\n",
       "      <td>6732067</td>\n",
       "      <td>383005</td>\n",
       "      <td>5008232105000000000</td>\n",
       "      <td>2336</td>\n",
       "      <td>...</td>\n",
       "      <td>24.523604</td>\n",
       "      <td>24.45</td>\n",
       "      <td>5.768627e+06</td>\n",
       "      <td>94.616667</td>\n",
       "      <td>0.15</td>\n",
       "      <td>2.332719e+15</td>\n",
       "      <td>7.4</td>\n",
       "      <td>59403.370662</td>\n",
       "      <td>23.908728</td>\n",
       "      <td>0.932255</td>\n",
       "    </tr>\n",
       "    <tr>\n",
       "      <th>2</th>\n",
       "      <td>2</td>\n",
       "      <td>50000</td>\n",
       "      <td>21000</td>\n",
       "      <td>0</td>\n",
       "      <td>10</td>\n",
       "      <td>2338428842518947</td>\n",
       "      <td>6732067</td>\n",
       "      <td>383005</td>\n",
       "      <td>5008232105000000000</td>\n",
       "      <td>2336</td>\n",
       "      <td>...</td>\n",
       "      <td>24.523604</td>\n",
       "      <td>24.45</td>\n",
       "      <td>5.768627e+06</td>\n",
       "      <td>94.616667</td>\n",
       "      <td>0.15</td>\n",
       "      <td>2.332719e+15</td>\n",
       "      <td>7.4</td>\n",
       "      <td>59403.370662</td>\n",
       "      <td>23.908728</td>\n",
       "      <td>0.932255</td>\n",
       "    </tr>\n",
       "    <tr>\n",
       "      <th>3</th>\n",
       "      <td>3</td>\n",
       "      <td>50000</td>\n",
       "      <td>21000</td>\n",
       "      <td>0</td>\n",
       "      <td>10</td>\n",
       "      <td>2338428842518947</td>\n",
       "      <td>6732067</td>\n",
       "      <td>383005</td>\n",
       "      <td>5008232105000000000</td>\n",
       "      <td>2336</td>\n",
       "      <td>...</td>\n",
       "      <td>24.523604</td>\n",
       "      <td>24.45</td>\n",
       "      <td>5.768627e+06</td>\n",
       "      <td>94.616667</td>\n",
       "      <td>0.15</td>\n",
       "      <td>2.332719e+15</td>\n",
       "      <td>7.4</td>\n",
       "      <td>59403.370662</td>\n",
       "      <td>23.908728</td>\n",
       "      <td>0.932255</td>\n",
       "    </tr>\n",
       "    <tr>\n",
       "      <th>4</th>\n",
       "      <td>4</td>\n",
       "      <td>50000</td>\n",
       "      <td>21000</td>\n",
       "      <td>0</td>\n",
       "      <td>10</td>\n",
       "      <td>2338428842518947</td>\n",
       "      <td>6732067</td>\n",
       "      <td>383005</td>\n",
       "      <td>5008232105000000000</td>\n",
       "      <td>2336</td>\n",
       "      <td>...</td>\n",
       "      <td>24.523604</td>\n",
       "      <td>24.45</td>\n",
       "      <td>5.768627e+06</td>\n",
       "      <td>94.616667</td>\n",
       "      <td>0.15</td>\n",
       "      <td>2.332719e+15</td>\n",
       "      <td>7.4</td>\n",
       "      <td>59403.370662</td>\n",
       "      <td>23.908728</td>\n",
       "      <td>0.932255</td>\n",
       "    </tr>\n",
       "  </tbody>\n",
       "</table>\n",
       "<p>5 rows × 39 columns</p>\n",
       "</div>"
      ],
      "text/plain": [
       "   Unnamed: 0  gasLimit_t  gasUsed_t  newContract  blockTime  \\\n",
       "0           0       50000      21000            0         10   \n",
       "1           1       20967       9416            0         10   \n",
       "2           2       50000      21000            0         10   \n",
       "3           3       50000      21000            0         10   \n",
       "4           4       50000      21000            0         10   \n",
       "\n",
       "         difficulty  gasLimit_b  gasUsed_b               reward  size  \\\n",
       "0  2338428842518947     6732067     383005  5008232105000000000  2336   \n",
       "1  2338428842518947     6732067     383005  5008232105000000000  2336   \n",
       "2  2338428842518947     6732067     383005  5008232105000000000  2336   \n",
       "3  2338428842518947     6732067     383005  5008232105000000000  2336   \n",
       "4  2338428842518947     6732067     383005  5008232105000000000  2336   \n",
       "\n",
       "     ...    avg_price_6  avg_blocktime_60  avg_gasUsed_b_60  avg_tx_count_60  \\\n",
       "0    ...      24.523604             24.45      5.768627e+06        94.616667   \n",
       "1    ...      24.523604             24.45      5.768627e+06        94.616667   \n",
       "2    ...      24.523604             24.45      5.768627e+06        94.616667   \n",
       "3    ...      24.523604             24.45      5.768627e+06        94.616667   \n",
       "4    ...      24.523604             24.45      5.768627e+06        94.616667   \n",
       "\n",
       "   avg_uncle_count_60  avg_difficulty_60  avg_txcnt_second_60  \\\n",
       "0                0.15       2.332719e+15                  7.4   \n",
       "1                0.15       2.332719e+15                  7.4   \n",
       "2                0.15       2.332719e+15                  7.4   \n",
       "3                0.15       2.332719e+15                  7.4   \n",
       "4                0.15       2.332719e+15                  7.4   \n",
       "\n",
       "   avg_gasUsed_t_60  avg_price_60        mv  \n",
       "0      59403.370662     23.908728  0.932255  \n",
       "1      59403.370662     23.908728  0.932255  \n",
       "2      59403.370662     23.908728  0.932255  \n",
       "3      59403.370662     23.908728  0.932255  \n",
       "4      59403.370662     23.908728  0.932255  \n",
       "\n",
       "[5 rows x 39 columns]"
      ]
     },
     "execution_count": 4,
     "metadata": {},
     "output_type": "execute_result"
    }
   ],
   "source": [
    "train.head()"
   ]
  },
  {
   "cell_type": "code",
   "execution_count": 5,
   "metadata": {
    "collapsed": true
   },
   "outputs": [],
   "source": [
    "train.drop('Unnamed: 0', axis=1, inplace=True)"
   ]
  },
  {
   "cell_type": "code",
   "execution_count": 6,
   "metadata": {
    "collapsed": false
   },
   "outputs": [
    {
     "data": {
      "text/plain": [
       "Index([u'gasLimit_t', u'gasUsed_t', u'newContract', u'blockTime',\n",
       "       u'difficulty', u'gasLimit_b', u'gasUsed_b', u'reward', u'size', u'type',\n",
       "       u'totalFee', u'amount_gwei', u'gasShare', u'gweiPaid', u'gweiPaid_b',\n",
       "       u'gweiShare', u'free_t', u'day', u'hour', u'dayofweek', u'txcnt_second',\n",
       "       u'avg_blocktime_6', u'avg_gasUsed_b_6', u'avg_tx_count_6',\n",
       "       u'avg_uncle_count_6', u'avg_difficulty_6', u'avg_txcnt_second_6',\n",
       "       u'avg_gasUsed_t_6', u'avg_price_6', u'avg_blocktime_60',\n",
       "       u'avg_gasUsed_b_60', u'avg_tx_count_60', u'avg_uncle_count_60',\n",
       "       u'avg_difficulty_60', u'avg_txcnt_second_60', u'avg_gasUsed_t_60',\n",
       "       u'avg_price_60', u'mv'],\n",
       "      dtype='object')"
      ]
     },
     "execution_count": 6,
     "metadata": {},
     "output_type": "execute_result"
    }
   ],
   "source": [
    "train.columns"
   ]
  },
  {
   "cell_type": "code",
   "execution_count": 7,
   "metadata": {
    "collapsed": false
   },
   "outputs": [
    {
     "data": {
      "text/plain": [
       "0      tx\n",
       "1    call\n",
       "2      tx\n",
       "3      tx\n",
       "4      tx\n",
       "Name: type, dtype: object"
      ]
     },
     "execution_count": 7,
     "metadata": {},
     "output_type": "execute_result"
    }
   ],
   "source": [
    "train['type'].head()"
   ]
  },
  {
   "cell_type": "code",
   "execution_count": 8,
   "metadata": {
    "collapsed": true
   },
   "outputs": [],
   "source": [
    "# label encode type \n",
    "le = LabelEncoder()\n",
    "train['type_enc'] = le.fit_transform(train['type'])"
   ]
  },
  {
   "cell_type": "code",
   "execution_count": 9,
   "metadata": {
    "collapsed": false
   },
   "outputs": [
    {
     "data": {
      "text/plain": [
       "2    967103\n",
       "0    401896\n",
       "1     27627\n",
       "Name: type_enc, dtype: int64"
      ]
     },
     "execution_count": 9,
     "metadata": {},
     "output_type": "execute_result"
    }
   ],
   "source": [
    "train['type_enc'].value_counts()"
   ]
  },
  {
   "cell_type": "code",
   "execution_count": 10,
   "metadata": {
    "collapsed": true
   },
   "outputs": [],
   "source": [
    "label.columns = ['0', 'p_label2']"
   ]
  },
  {
   "cell_type": "code",
   "execution_count": 11,
   "metadata": {
    "collapsed": false
   },
   "outputs": [],
   "source": [
    "label.drop('0', axis=1, inplace=True)"
   ]
  },
  {
   "cell_type": "code",
   "execution_count": 12,
   "metadata": {
    "collapsed": true
   },
   "outputs": [],
   "source": [
    "train.dropna(inplace=True)"
   ]
  },
  {
   "cell_type": "code",
   "execution_count": 13,
   "metadata": {
    "collapsed": false
   },
   "outputs": [
    {
     "data": {
      "text/plain": [
       "((1396626, 39), (1396626, 1))"
      ]
     },
     "execution_count": 13,
     "metadata": {},
     "output_type": "execute_result"
    }
   ],
   "source": [
    "train.shape, label.shape"
   ]
  },
  {
   "cell_type": "code",
   "execution_count": 14,
   "metadata": {
    "collapsed": false
   },
   "outputs": [],
   "source": [
    "y_label = np.ravel(label)"
   ]
  },
  {
   "cell_type": "markdown",
   "metadata": {},
   "source": [
    "## Drop some features \n",
    "- that might cause data leakage\n",
    "- that we don't have access to as inputs"
   ]
  },
  {
   "cell_type": "code",
   "execution_count": 15,
   "metadata": {
    "collapsed": false
   },
   "outputs": [
    {
     "data": {
      "text/plain": [
       "Index([u'gasLimit_t', u'gasUsed_t', u'newContract', u'blockTime',\n",
       "       u'difficulty', u'gasLimit_b', u'gasUsed_b', u'reward', u'size', u'type',\n",
       "       u'totalFee', u'amount_gwei', u'gasShare', u'gweiPaid', u'gweiPaid_b',\n",
       "       u'gweiShare', u'free_t', u'day', u'hour', u'dayofweek', u'txcnt_second',\n",
       "       u'avg_blocktime_6', u'avg_gasUsed_b_6', u'avg_tx_count_6',\n",
       "       u'avg_uncle_count_6', u'avg_difficulty_6', u'avg_txcnt_second_6',\n",
       "       u'avg_gasUsed_t_6', u'avg_price_6', u'avg_blocktime_60',\n",
       "       u'avg_gasUsed_b_60', u'avg_tx_count_60', u'avg_uncle_count_60',\n",
       "       u'avg_difficulty_60', u'avg_txcnt_second_60', u'avg_gasUsed_t_60',\n",
       "       u'avg_price_60', u'mv', u'type_enc'],\n",
       "      dtype='object')"
      ]
     },
     "execution_count": 15,
     "metadata": {},
     "output_type": "execute_result"
    }
   ],
   "source": [
    "train.columns"
   ]
  },
  {
   "cell_type": "markdown",
   "metadata": {},
   "source": [
    "Note: there is an API that estimates the amount of gas used, thus we have access to gasUsed_t"
   ]
  },
  {
   "cell_type": "code",
   "execution_count": 16,
   "metadata": {
    "collapsed": true
   },
   "outputs": [],
   "source": [
    "train.drop(['type', \n",
    "            'mv', \n",
    "            'blockTime', \n",
    "            'difficulty', \n",
    "            'gasLimit_b', \n",
    "            'gasUsed_b',\n",
    "            'reward',\n",
    "            'size',\n",
    "            'totalFee',\n",
    "            'gasShare',\n",
    "            'gweiPaid',\n",
    "            'gweiPaid_b',\n",
    "            'gweiShare',\n",
    "            'txcnt_second'], axis=1, inplace=True)"
   ]
  },
  {
   "cell_type": "code",
   "execution_count": 17,
   "metadata": {
    "collapsed": false
   },
   "outputs": [
    {
     "data": {
      "text/plain": [
       "Index([u'gasLimit_t', u'gasUsed_t', u'newContract', u'amount_gwei', u'free_t',\n",
       "       u'day', u'hour', u'dayofweek', u'avg_blocktime_6', u'avg_gasUsed_b_6',\n",
       "       u'avg_tx_count_6', u'avg_uncle_count_6', u'avg_difficulty_6',\n",
       "       u'avg_txcnt_second_6', u'avg_gasUsed_t_6', u'avg_price_6',\n",
       "       u'avg_blocktime_60', u'avg_gasUsed_b_60', u'avg_tx_count_60',\n",
       "       u'avg_uncle_count_60', u'avg_difficulty_60', u'avg_txcnt_second_60',\n",
       "       u'avg_gasUsed_t_60', u'avg_price_60', u'type_enc'],\n",
       "      dtype='object')"
      ]
     },
     "execution_count": 17,
     "metadata": {},
     "output_type": "execute_result"
    }
   ],
   "source": [
    "train.columns"
   ]
  },
  {
   "cell_type": "markdown",
   "metadata": {},
   "source": [
    "## Prune out some more features"
   ]
  },
  {
   "cell_type": "code",
   "execution_count": 18,
   "metadata": {
    "collapsed": true
   },
   "outputs": [],
   "source": [
    "train.drop(['free_t',\n",
    "           'newContract',\n",
    "           'amount_gwei',\n",
    "           'type_enc',\n",
    "           'dayofweek',\n",
    "           'day'], axis=1, inplace=True)"
   ]
  },
  {
   "cell_type": "markdown",
   "metadata": {},
   "source": [
    "## Split data into training and test sets"
   ]
  },
  {
   "cell_type": "code",
   "execution_count": 19,
   "metadata": {
    "collapsed": false
   },
   "outputs": [],
   "source": [
    "X = train.values\n",
    "y = y_label\n",
    "X_train, X_test, y_train, y_test = train_test_split(X, y)"
   ]
  },
  {
   "cell_type": "code",
   "execution_count": 20,
   "metadata": {
    "collapsed": false
   },
   "outputs": [
    {
     "data": {
      "text/plain": [
       "((1047469, 19), (1047469,))"
      ]
     },
     "execution_count": 20,
     "metadata": {},
     "output_type": "execute_result"
    }
   ],
   "source": [
    "X_train.shape, y_train.shape"
   ]
  },
  {
   "cell_type": "markdown",
   "metadata": {},
   "source": [
    "## Random forest regressor"
   ]
  },
  {
   "cell_type": "code",
   "execution_count": 21,
   "metadata": {
    "collapsed": true
   },
   "outputs": [],
   "source": [
    "def rf_regressor(X_train, X_test, y_train, y_test):\n",
    "    rf = RandomForestRegressor()\n",
    "    rf.fit(X_train, y_train)\n",
    "    y_pred = rf.predict(X_test)\n",
    "    scores = cross_val_score(rf, X_train, y_train, scoring='r2', cv=5)\n",
    "    print('MSE: {}'.format(mean_squared_error(y_test, y_pred)))\n",
    "    print('R2_score: {}'.format(r2_score(y_test, y_pred)))\n",
    "    print('avg_CV_score: {}'.format(np.mean(scores)))\n",
    "    # write predicted values to csv\n",
    "    p = pd.DataFrame({'y_pred': y_pred})\n",
    "    p.to_csv('./../data/label_pred.csv')\n",
    "    return rf"
   ]
  },
  {
   "cell_type": "code",
   "execution_count": null,
   "metadata": {
    "collapsed": false
   },
   "outputs": [],
   "source": [
    "model = rf_regressor(X_train, X_test, y_train, y_test)"
   ]
  },
  {
   "cell_type": "code",
   "execution_count": null,
   "metadata": {
    "collapsed": true
   },
   "outputs": [],
   "source": [
    "def plot_feature_importance(rf, feature_df):\n",
    "    cols = []\n",
    "    for col in feature_df.columns:\n",
    "        cols.append(col)\n",
    "\n",
    "    feat_scores = pd.DataFrame({'Fraction of Samples Affected' : rf.feature_importances_},\n",
    "                           index=cols)\n",
    "    feat_scores = feat_scores.sort_values(by='Fraction of Samples Affected')\n",
    "    feat_scores.plot(kind='barh', color='r', figsize=(6,6))\n",
    "    #plt.xlabel('Importance', fontsize=18)\n",
    "    plt.title('Feature Importance', fontsize=18)\n",
    "    plt.tight_layout()\n",
    "    plt.savefig('./../images/feat_import_pruned.png', dpi=300)"
   ]
  },
  {
   "cell_type": "code",
   "execution_count": null,
   "metadata": {
    "collapsed": false
   },
   "outputs": [],
   "source": [
    "plot_feature_importance(model, train)"
   ]
  },
  {
   "cell_type": "markdown",
   "metadata": {},
   "source": [
    "## Plot predicted values against labels"
   ]
  },
  {
   "cell_type": "code",
   "execution_count": null,
   "metadata": {
    "collapsed": true
   },
   "outputs": [],
   "source": [
    "y_pred = pd.read_csv('./../data/label_pred.csv')"
   ]
  },
  {
   "cell_type": "code",
   "execution_count": null,
   "metadata": {
    "collapsed": false
   },
   "outputs": [],
   "source": [
    "y_pred.drop('Unnamed: 0', axis=1, inplace=True)"
   ]
  },
  {
   "cell_type": "code",
   "execution_count": null,
   "metadata": {
    "collapsed": false
   },
   "outputs": [],
   "source": [
    "y_pred.head()"
   ]
  },
  {
   "cell_type": "code",
   "execution_count": null,
   "metadata": {
    "collapsed": false
   },
   "outputs": [],
   "source": [
    "y_test.shape"
   ]
  },
  {
   "cell_type": "code",
   "execution_count": null,
   "metadata": {
    "collapsed": false
   },
   "outputs": [],
   "source": [
    "y_pred = y_pred.values.ravel()"
   ]
  },
  {
   "cell_type": "code",
   "execution_count": null,
   "metadata": {
    "collapsed": false
   },
   "outputs": [],
   "source": [
    "y_test.shape, y_pred.shape"
   ]
  },
  {
   "cell_type": "code",
   "execution_count": null,
   "metadata": {
    "collapsed": false
   },
   "outputs": [],
   "source": [
    "result = pd.DataFrame({'y_test': y_test, 'y_pred': y_pred})"
   ]
  },
  {
   "cell_type": "code",
   "execution_count": null,
   "metadata": {
    "collapsed": false
   },
   "outputs": [],
   "source": [
    "result.head()"
   ]
  },
  {
   "cell_type": "code",
   "execution_count": null,
   "metadata": {
    "collapsed": false
   },
   "outputs": [],
   "source": [
    "plt.scatter(result['y_test'], result['y_pred'])\n",
    "plt.xlim(0,100)\n",
    "plt.ylim(0,100)"
   ]
  },
  {
   "cell_type": "code",
   "execution_count": null,
   "metadata": {
    "collapsed": false
   },
   "outputs": [],
   "source": [
    "sns.set(style=\"darkgrid\", color_codes=True)\n",
    "sns.jointplot(x=\"y_test\", y=\"y_pred\", data=result)\n",
    "plt.xlim(0, 100)\n",
    "plt.tight_layout()\n",
    "plt.savefig('./../images/jointplot.png', dpi=300)"
   ]
  },
  {
   "cell_type": "markdown",
   "metadata": {},
   "source": [
    "It looks like it is overfitting"
   ]
  },
  {
   "cell_type": "markdown",
   "metadata": {},
   "source": [
    "## Plot model residuals"
   ]
  },
  {
   "cell_type": "code",
   "execution_count": null,
   "metadata": {
    "collapsed": false
   },
   "outputs": [],
   "source": [
    "sns.residplot(result.y_test, result.y_pred , lowess=True, color=\"g\")"
   ]
  },
  {
   "cell_type": "code",
   "execution_count": 66,
   "metadata": {
    "collapsed": true
   },
   "outputs": [],
   "source": [
    "def linear_regression(X_train, X_test, y_train, y_test):\n",
    "    lr = LinearRegression()\n",
    "    lr.fit(X_train, y_train)\n",
    "    y_pred = lr.predict(X_test)\n",
    "    scores = cross_val_score(lr, X_train, y_train, scoring='r2', cv=5)\n",
    "    print('MSE: {}'.format(mean_squared_error(y_test, y_pred)))\n",
    "    print('R2_score: {}'.format(r2_score(y_test, y_pred)))\n",
    "    print('avg_CV_score: {}'.format(np.mean(scores)))\n",
    "    return lr"
   ]
  },
  {
   "cell_type": "code",
   "execution_count": 67,
   "metadata": {
    "collapsed": false
   },
   "outputs": [
    {
     "name": "stdout",
     "output_type": "stream",
     "text": [
      "MSE: 524.675830395\n",
      "R2_score: 0.386641873865\n",
      "avg_CV_score: 0.493296457359\n"
     ]
    },
    {
     "name": "stderr",
     "output_type": "stream",
     "text": [
      "//anaconda/lib/python2.7/site-packages/scipy/linalg/basic.py:1018: RuntimeWarning: internal gelsd driver lwork query error, required iwork dimension not returned. This is likely the result of LAPACK bug 0038, fixed in LAPACK 3.2.2 (released July 21, 2010). Falling back to 'gelss' driver.\n",
      "  warnings.warn(mesg, RuntimeWarning)\n"
     ]
    },
    {
     "data": {
      "text/plain": [
       "LinearRegression(copy_X=True, fit_intercept=True, n_jobs=1, normalize=False)"
      ]
     },
     "execution_count": 67,
     "metadata": {},
     "output_type": "execute_result"
    }
   ],
   "source": [
    "linear_regression(X_train, X_test, y_train, y_test)"
   ]
  },
  {
   "cell_type": "code",
   "execution_count": 68,
   "metadata": {
    "collapsed": false
   },
   "outputs": [
    {
     "data": {
      "text/html": [
       "<table class=\"simpletable\">\n",
       "<caption>OLS Regression Results</caption>\n",
       "<tr>\n",
       "  <th>Dep. Variable:</th>            <td>y</td>        <th>  R-squared:         </th>  <td>   0.498</td>  \n",
       "</tr>\n",
       "<tr>\n",
       "  <th>Model:</th>                   <td>OLS</td>       <th>  Adj. R-squared:    </th>  <td>   0.498</td>  \n",
       "</tr>\n",
       "<tr>\n",
       "  <th>Method:</th>             <td>Least Squares</td>  <th>  F-statistic:       </th>  <td>1.155e+05</td> \n",
       "</tr>\n",
       "<tr>\n",
       "  <th>Date:</th>             <td>Tue, 03 Oct 2017</td> <th>  Prob (F-statistic):</th>   <td>  0.00</td>   \n",
       "</tr>\n",
       "<tr>\n",
       "  <th>Time:</th>                 <td>18:33:33</td>     <th>  Log-Likelihood:    </th> <td>-4.7605e+06</td>\n",
       "</tr>\n",
       "<tr>\n",
       "  <th>No. Observations:</th>      <td>1047469</td>     <th>  AIC:               </th>  <td>9.521e+06</td> \n",
       "</tr>\n",
       "<tr>\n",
       "  <th>Df Residuals:</th>          <td>1047459</td>     <th>  BIC:               </th>  <td>9.521e+06</td> \n",
       "</tr>\n",
       "<tr>\n",
       "  <th>Df Model:</th>              <td>     9</td>      <th>                     </th>      <td> </td>     \n",
       "</tr>\n",
       "<tr>\n",
       "  <th>Covariance Type:</th>      <td>nonrobust</td>    <th>                     </th>      <td> </td>     \n",
       "</tr>\n",
       "</table>\n",
       "<table class=\"simpletable\">\n",
       "<tr>\n",
       "   <td></td>      <th>coef</th>     <th>std err</th>      <th>t</th>      <th>P>|t|</th>  <th>[0.025</th>    <th>0.975]</th>  \n",
       "</tr>\n",
       "<tr>\n",
       "  <th>x1</th>  <td> 1.331e-07</td> <td> 6.06e-08</td> <td>    2.196</td> <td> 0.028</td> <td> 1.43e-08</td> <td> 2.52e-07</td>\n",
       "</tr>\n",
       "<tr>\n",
       "  <th>x2</th>  <td>-1.928e-06</td> <td> 1.63e-07</td> <td>  -11.845</td> <td> 0.000</td> <td>-2.25e-06</td> <td>-1.61e-06</td>\n",
       "</tr>\n",
       "<tr>\n",
       "  <th>x3</th>  <td>   -0.0362</td> <td>    0.003</td> <td>  -10.705</td> <td> 0.000</td> <td>   -0.043</td> <td>   -0.030</td>\n",
       "</tr>\n",
       "<tr>\n",
       "  <th>x4</th>  <td>    0.0708</td> <td>    0.002</td> <td>   28.366</td> <td> 0.000</td> <td>    0.066</td> <td>    0.076</td>\n",
       "</tr>\n",
       "<tr>\n",
       "  <th>x5</th>  <td> 6.064e-07</td> <td> 3.15e-08</td> <td>   19.270</td> <td> 0.000</td> <td> 5.45e-07</td> <td> 6.68e-07</td>\n",
       "</tr>\n",
       "<tr>\n",
       "  <th>x6</th>  <td>   -0.0270</td> <td>    0.001</td> <td>  -24.730</td> <td> 0.000</td> <td>   -0.029</td> <td>   -0.025</td>\n",
       "</tr>\n",
       "<tr>\n",
       "  <th>x7</th>  <td> -4.95e-05</td> <td> 1.72e-06</td> <td>  -28.735</td> <td> 0.000</td> <td>-5.29e-05</td> <td>-4.61e-05</td>\n",
       "</tr>\n",
       "<tr>\n",
       "  <th>x8</th>  <td> 4.691e-16</td> <td> 3.53e-17</td> <td>   13.302</td> <td> 0.000</td> <td>    4e-16</td> <td> 5.38e-16</td>\n",
       "</tr>\n",
       "<tr>\n",
       "  <th>x9</th>  <td>   -0.0077</td> <td>    0.004</td> <td>   -2.025</td> <td> 0.043</td> <td>   -0.015</td> <td>   -0.000</td>\n",
       "</tr>\n",
       "<tr>\n",
       "  <th>x10</th> <td>-1.852e-06</td> <td>  5.1e-07</td> <td>   -3.636</td> <td> 0.000</td> <td>-2.85e-06</td> <td>-8.54e-07</td>\n",
       "</tr>\n",
       "<tr>\n",
       "  <th>x11</th> <td>    0.7153</td> <td>    0.001</td> <td>  862.578</td> <td> 0.000</td> <td>    0.714</td> <td>    0.717</td>\n",
       "</tr>\n",
       "<tr>\n",
       "  <th>x12</th> <td>    0.0160</td> <td>    0.000</td> <td>   35.579</td> <td> 0.000</td> <td>    0.015</td> <td>    0.017</td>\n",
       "</tr>\n",
       "<tr>\n",
       "  <th>x13</th> <td>-1.938e-07</td> <td> 5.13e-08</td> <td>   -3.775</td> <td> 0.000</td> <td>-2.94e-07</td> <td>-9.32e-08</td>\n",
       "</tr>\n",
       "<tr>\n",
       "  <th>x14</th> <td>    0.0163</td> <td>    0.002</td> <td>    9.823</td> <td> 0.000</td> <td>    0.013</td> <td>    0.020</td>\n",
       "</tr>\n",
       "<tr>\n",
       "  <th>x15</th> <td>-2.174e-05</td> <td> 4.68e-07</td> <td>  -46.486</td> <td> 0.000</td> <td>-2.27e-05</td> <td>-2.08e-05</td>\n",
       "</tr>\n",
       "<tr>\n",
       "  <th>x16</th> <td>-3.034e-15</td> <td> 5.98e-17</td> <td>  -50.774</td> <td> 0.000</td> <td>-3.15e-15</td> <td>-2.92e-15</td>\n",
       "</tr>\n",
       "<tr>\n",
       "  <th>x17</th> <td>    0.0017</td> <td>    0.000</td> <td>    3.771</td> <td> 0.000</td> <td>    0.001</td> <td>    0.003</td>\n",
       "</tr>\n",
       "<tr>\n",
       "  <th>x18</th> <td> 2.406e-05</td> <td> 1.38e-06</td> <td>   17.486</td> <td> 0.000</td> <td> 2.14e-05</td> <td> 2.68e-05</td>\n",
       "</tr>\n",
       "<tr>\n",
       "  <th>x19</th> <td>   -0.0594</td> <td>    0.001</td> <td>  -41.299</td> <td> 0.000</td> <td>   -0.062</td> <td>   -0.057</td>\n",
       "</tr>\n",
       "</table>\n",
       "<table class=\"simpletable\">\n",
       "<tr>\n",
       "  <th>Omnibus:</th>       <td>2151518.126</td> <th>  Durbin-Watson:     </th>    <td>   2.001</td>    \n",
       "</tr>\n",
       "<tr>\n",
       "  <th>Prob(Omnibus):</th>   <td> 0.000</td>    <th>  Jarque-Bera (JB):  </th> <td>68067830551.167</td>\n",
       "</tr>\n",
       "<tr>\n",
       "  <th>Skew:</th>            <td>16.411</td>    <th>  Prob(JB):          </th>    <td>    0.00</td>    \n",
       "</tr>\n",
       "<tr>\n",
       "  <th>Kurtosis:</th>       <td>1251.406</td>   <th>  Cond. No.          </th>    <td>1.10e+17</td>    \n",
       "</tr>\n",
       "</table>"
      ],
      "text/plain": [
       "<class 'statsmodels.iolib.summary.Summary'>\n",
       "\"\"\"\n",
       "                            OLS Regression Results                            \n",
       "==============================================================================\n",
       "Dep. Variable:                      y   R-squared:                       0.498\n",
       "Model:                            OLS   Adj. R-squared:                  0.498\n",
       "Method:                 Least Squares   F-statistic:                 1.155e+05\n",
       "Date:                Tue, 03 Oct 2017   Prob (F-statistic):               0.00\n",
       "Time:                        18:33:33   Log-Likelihood:            -4.7605e+06\n",
       "No. Observations:             1047469   AIC:                         9.521e+06\n",
       "Df Residuals:                 1047459   BIC:                         9.521e+06\n",
       "Df Model:                           9                                         \n",
       "Covariance Type:            nonrobust                                         \n",
       "==============================================================================\n",
       "                 coef    std err          t      P>|t|      [0.025      0.975]\n",
       "------------------------------------------------------------------------------\n",
       "x1          1.331e-07   6.06e-08      2.196      0.028    1.43e-08    2.52e-07\n",
       "x2         -1.928e-06   1.63e-07    -11.845      0.000   -2.25e-06   -1.61e-06\n",
       "x3            -0.0362      0.003    -10.705      0.000      -0.043      -0.030\n",
       "x4             0.0708      0.002     28.366      0.000       0.066       0.076\n",
       "x5          6.064e-07   3.15e-08     19.270      0.000    5.45e-07    6.68e-07\n",
       "x6            -0.0270      0.001    -24.730      0.000      -0.029      -0.025\n",
       "x7          -4.95e-05   1.72e-06    -28.735      0.000   -5.29e-05   -4.61e-05\n",
       "x8          4.691e-16   3.53e-17     13.302      0.000       4e-16    5.38e-16\n",
       "x9            -0.0077      0.004     -2.025      0.043      -0.015      -0.000\n",
       "x10        -1.852e-06    5.1e-07     -3.636      0.000   -2.85e-06   -8.54e-07\n",
       "x11            0.7153      0.001    862.578      0.000       0.714       0.717\n",
       "x12            0.0160      0.000     35.579      0.000       0.015       0.017\n",
       "x13        -1.938e-07   5.13e-08     -3.775      0.000   -2.94e-07   -9.32e-08\n",
       "x14            0.0163      0.002      9.823      0.000       0.013       0.020\n",
       "x15        -2.174e-05   4.68e-07    -46.486      0.000   -2.27e-05   -2.08e-05\n",
       "x16        -3.034e-15   5.98e-17    -50.774      0.000   -3.15e-15   -2.92e-15\n",
       "x17            0.0017      0.000      3.771      0.000       0.001       0.003\n",
       "x18         2.406e-05   1.38e-06     17.486      0.000    2.14e-05    2.68e-05\n",
       "x19           -0.0594      0.001    -41.299      0.000      -0.062      -0.057\n",
       "==============================================================================\n",
       "Omnibus:                  2151518.126   Durbin-Watson:                   2.001\n",
       "Prob(Omnibus):                  0.000   Jarque-Bera (JB):      68067830551.167\n",
       "Skew:                          16.411   Prob(JB):                         0.00\n",
       "Kurtosis:                    1251.406   Cond. No.                     1.10e+17\n",
       "==============================================================================\n",
       "\n",
       "Warnings:\n",
       "[1] Standard Errors assume that the covariance matrix of the errors is correctly specified.\n",
       "[2] The condition number is large, 1.1e+17. This might indicate that there are\n",
       "strong multicollinearity or other numerical problems.\n",
       "\"\"\""
      ]
     },
     "execution_count": 68,
     "metadata": {},
     "output_type": "execute_result"
    }
   ],
   "source": [
    "# get summary statistics from statsmodels\n",
    "model = sm.OLS(y_train, X_train)\n",
    "result = model.fit()\n",
    "result.summary()"
   ]
  },
  {
   "cell_type": "markdown",
   "metadata": {},
   "source": [
    "All features show to be significant"
   ]
  },
  {
   "cell_type": "markdown",
   "metadata": {},
   "source": [
    "### Check the rank of the feature matrix"
   ]
  },
  {
   "cell_type": "code",
   "execution_count": 70,
   "metadata": {
    "collapsed": true
   },
   "outputs": [],
   "source": [
    "from numpy.linalg import matrix_rank"
   ]
  },
  {
   "cell_type": "code",
   "execution_count": 84,
   "metadata": {
    "collapsed": false
   },
   "outputs": [
    {
     "data": {
      "text/plain": [
       "(1047469, 19)"
      ]
     },
     "execution_count": 84,
     "metadata": {},
     "output_type": "execute_result"
    }
   ],
   "source": [
    "X_train.shape"
   ]
  },
  {
   "cell_type": "code",
   "execution_count": 71,
   "metadata": {
    "collapsed": false
   },
   "outputs": [
    {
     "data": {
      "text/plain": [
       "3"
      ]
     },
     "execution_count": 71,
     "metadata": {},
     "output_type": "execute_result"
    }
   ],
   "source": [
    "matrix_rank(X_train)"
   ]
  },
  {
   "cell_type": "markdown",
   "metadata": {},
   "source": [
    "It appears that our feature matrix is rank difficient and has a lot of colinearity"
   ]
  },
  {
   "cell_type": "code",
   "execution_count": null,
   "metadata": {
    "collapsed": true
   },
   "outputs": [],
   "source": []
  }
 ],
 "metadata": {
  "kernelspec": {
   "display_name": "Python 2",
   "language": "python",
   "name": "python2"
  },
  "language_info": {
   "codemirror_mode": {
    "name": "ipython",
    "version": 2
   },
   "file_extension": ".py",
   "mimetype": "text/x-python",
   "name": "python",
   "nbconvert_exporter": "python",
   "pygments_lexer": "ipython2",
   "version": "2.7.12"
  }
 },
 "nbformat": 4,
 "nbformat_minor": 0
}
