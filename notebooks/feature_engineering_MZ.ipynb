{
 "cells": [
  {
   "cell_type": "code",
   "execution_count": 1,
   "metadata": {},
   "outputs": [],
   "source": [
    "from __future__ import print_function\n",
    "import pandas as pd\n",
    "import numpy as np\n",
    "import matplotlib.pyplot as plt\n",
    "import seaborn as sns\n",
    "import scipy.stats as sp\n",
    "from scipy.stats import norm\n",
    "from scipy.stats import gamma\n",
    "%matplotlib inline"
   ]
  },
  {
   "cell_type": "code",
   "execution_count": 2,
   "metadata": {},
   "outputs": [],
   "source": [
    "df = pd.read_csv('./../data/clean_data.csv')"
   ]
  },
  {
   "cell_type": "code",
   "execution_count": 3,
   "metadata": {
    "collapsed": true
   },
   "outputs": [],
   "source": [
    "df.drop('Unnamed: 0', axis=1, inplace=True)"
   ]
  },
  {
   "cell_type": "code",
   "execution_count": 4,
   "metadata": {},
   "outputs": [
    {
     "data": {
      "text/plain": [
       "tx         973640\n",
       "call       492595\n",
       "create      27726\n",
       "suicide       318\n",
       "Name: type, dtype: int64"
      ]
     },
     "execution_count": 4,
     "metadata": {},
     "output_type": "execute_result"
    }
   ],
   "source": [
    "df['type'].value_counts()"
   ]
  },
  {
   "cell_type": "code",
   "execution_count": 5,
   "metadata": {},
   "outputs": [
    {
     "data": {
      "text/plain": [
       "0    1489351\n",
       "1       4928\n",
       "Name: newContract, dtype: int64"
      ]
     },
     "execution_count": 5,
     "metadata": {},
     "output_type": "execute_result"
    }
   ],
   "source": [
    "df['newContract'].value_counts()"
   ]
  },
  {
   "cell_type": "code",
   "execution_count": 6,
   "metadata": {},
   "outputs": [
    {
     "name": "stdout",
     "output_type": "stream",
     "text": [
      "hash_t 0\n",
      "accountNonce 0\n",
      "amount 0\n",
      "block_id 0\n",
      "gasLimit_t 0\n",
      "gasUsed_t 0\n",
      "newContract 0\n",
      "price 0\n",
      "time_t 0\n",
      "type 0\n",
      "blockTime 0\n",
      "difficulty 0\n",
      "gasLimit_b 0\n",
      "gasUsed_b 0\n",
      "reward 0\n",
      "size 0\n",
      "time_b 0\n",
      "totalFee 0\n",
      "tx_count 0\n",
      "uncle_count 0\n",
      "price_gwei 0\n",
      "amount_gwei 0\n",
      "gasShare 0\n",
      "gweiPaid 0\n",
      "gweiPaid_b 0\n",
      "gweiShare 2\n",
      "free_t 0\n",
      "day 0\n",
      "hour 0\n",
      "dayofweek 0\n"
     ]
    }
   ],
   "source": [
    "for col in df.columns:\n",
    "    print(col, df[col].isnull().sum())"
   ]
  },
  {
   "cell_type": "code",
   "execution_count": 7,
   "metadata": {},
   "outputs": [],
   "source": [
    "df.dropna(inplace=True)"
   ]
  },
  {
   "cell_type": "code",
   "execution_count": 8,
   "metadata": {},
   "outputs": [
    {
     "data": {
      "text/plain": [
       "(1494277, 30)"
      ]
     },
     "execution_count": 8,
     "metadata": {},
     "output_type": "execute_result"
    }
   ],
   "source": [
    "df.shape"
   ]
  },
  {
   "cell_type": "code",
   "execution_count": 9,
   "metadata": {},
   "outputs": [
    {
     "data": {
      "text/html": [
       "<div>\n",
       "<style>\n",
       "    .dataframe thead tr:only-child th {\n",
       "        text-align: right;\n",
       "    }\n",
       "\n",
       "    .dataframe thead th {\n",
       "        text-align: left;\n",
       "    }\n",
       "\n",
       "    .dataframe tbody tr th {\n",
       "        vertical-align: top;\n",
       "    }\n",
       "</style>\n",
       "<table border=\"1\" class=\"dataframe\">\n",
       "  <thead>\n",
       "    <tr style=\"text-align: right;\">\n",
       "      <th></th>\n",
       "      <th>hash_t</th>\n",
       "      <th>accountNonce</th>\n",
       "      <th>amount</th>\n",
       "      <th>block_id</th>\n",
       "      <th>gasLimit_t</th>\n",
       "      <th>gasUsed_t</th>\n",
       "      <th>newContract</th>\n",
       "      <th>price</th>\n",
       "      <th>time_t</th>\n",
       "      <th>type</th>\n",
       "      <th>...</th>\n",
       "      <th>price_gwei</th>\n",
       "      <th>amount_gwei</th>\n",
       "      <th>gasShare</th>\n",
       "      <th>gweiPaid</th>\n",
       "      <th>gweiPaid_b</th>\n",
       "      <th>gweiShare</th>\n",
       "      <th>free_t</th>\n",
       "      <th>day</th>\n",
       "      <th>hour</th>\n",
       "      <th>dayofweek</th>\n",
       "    </tr>\n",
       "  </thead>\n",
       "  <tbody>\n",
       "    <tr>\n",
       "      <th>0</th>\n",
       "      <td>0xfc505bf23efe13154192262c3f7b99e2517b133fe5f6...</td>\n",
       "      <td>3324654</td>\n",
       "      <td>499093201921000000</td>\n",
       "      <td>4295887</td>\n",
       "      <td>50000</td>\n",
       "      <td>21000</td>\n",
       "      <td>0</td>\n",
       "      <td>21000000000</td>\n",
       "      <td>2017-09-20 20:24:15</td>\n",
       "      <td>tx</td>\n",
       "      <td>...</td>\n",
       "      <td>21.0</td>\n",
       "      <td>4.990932e+08</td>\n",
       "      <td>0.054830</td>\n",
       "      <td>441000.0</td>\n",
       "      <td>8627577.0</td>\n",
       "      <td>0.051115</td>\n",
       "      <td>0</td>\n",
       "      <td>20</td>\n",
       "      <td>20</td>\n",
       "      <td>2</td>\n",
       "    </tr>\n",
       "    <tr>\n",
       "      <th>1</th>\n",
       "      <td>0xfa0124a64e4cedc7d75dff3ee0fca13d32b2a368e0cb...</td>\n",
       "      <td>3324658</td>\n",
       "      <td>149222093810000000</td>\n",
       "      <td>4295887</td>\n",
       "      <td>20967</td>\n",
       "      <td>9416</td>\n",
       "      <td>0</td>\n",
       "      <td>21000000000</td>\n",
       "      <td>2017-09-20 20:24:15</td>\n",
       "      <td>call</td>\n",
       "      <td>...</td>\n",
       "      <td>21.0</td>\n",
       "      <td>1.492221e+08</td>\n",
       "      <td>0.024585</td>\n",
       "      <td>197736.0</td>\n",
       "      <td>8627577.0</td>\n",
       "      <td>0.022919</td>\n",
       "      <td>0</td>\n",
       "      <td>20</td>\n",
       "      <td>20</td>\n",
       "      <td>2</td>\n",
       "    </tr>\n",
       "    <tr>\n",
       "      <th>2</th>\n",
       "      <td>0xe2a23b916903133728ab3dbfac55a56651508a971e89...</td>\n",
       "      <td>3324660</td>\n",
       "      <td>99608460653500000</td>\n",
       "      <td>4295887</td>\n",
       "      <td>50000</td>\n",
       "      <td>21000</td>\n",
       "      <td>0</td>\n",
       "      <td>21000000000</td>\n",
       "      <td>2017-09-20 20:24:15</td>\n",
       "      <td>tx</td>\n",
       "      <td>...</td>\n",
       "      <td>21.0</td>\n",
       "      <td>9.960846e+07</td>\n",
       "      <td>0.054830</td>\n",
       "      <td>441000.0</td>\n",
       "      <td>8627577.0</td>\n",
       "      <td>0.051115</td>\n",
       "      <td>0</td>\n",
       "      <td>20</td>\n",
       "      <td>20</td>\n",
       "      <td>2</td>\n",
       "    </tr>\n",
       "    <tr>\n",
       "      <th>3</th>\n",
       "      <td>0xc431fcd82ad55dc1aee932fa9965b55f8515981147a0...</td>\n",
       "      <td>3324657</td>\n",
       "      <td>199004777431000000</td>\n",
       "      <td>4295887</td>\n",
       "      <td>50000</td>\n",
       "      <td>21000</td>\n",
       "      <td>0</td>\n",
       "      <td>21000000000</td>\n",
       "      <td>2017-09-20 20:24:15</td>\n",
       "      <td>tx</td>\n",
       "      <td>...</td>\n",
       "      <td>21.0</td>\n",
       "      <td>1.990048e+08</td>\n",
       "      <td>0.054830</td>\n",
       "      <td>441000.0</td>\n",
       "      <td>8627577.0</td>\n",
       "      <td>0.051115</td>\n",
       "      <td>0</td>\n",
       "      <td>20</td>\n",
       "      <td>20</td>\n",
       "      <td>2</td>\n",
       "    </tr>\n",
       "    <tr>\n",
       "      <th>4</th>\n",
       "      <td>0xb759c34cb5b5af6f94f7002ef812b8482880d1f73d10...</td>\n",
       "      <td>3324662</td>\n",
       "      <td>1000288571660000000</td>\n",
       "      <td>4295887</td>\n",
       "      <td>50000</td>\n",
       "      <td>21000</td>\n",
       "      <td>0</td>\n",
       "      <td>21000000000</td>\n",
       "      <td>2017-09-20 20:24:15</td>\n",
       "      <td>tx</td>\n",
       "      <td>...</td>\n",
       "      <td>21.0</td>\n",
       "      <td>1.000289e+09</td>\n",
       "      <td>0.054830</td>\n",
       "      <td>441000.0</td>\n",
       "      <td>8627577.0</td>\n",
       "      <td>0.051115</td>\n",
       "      <td>0</td>\n",
       "      <td>20</td>\n",
       "      <td>20</td>\n",
       "      <td>2</td>\n",
       "    </tr>\n",
       "  </tbody>\n",
       "</table>\n",
       "<p>5 rows × 30 columns</p>\n",
       "</div>"
      ],
      "text/plain": [
       "                                              hash_t  accountNonce  \\\n",
       "0  0xfc505bf23efe13154192262c3f7b99e2517b133fe5f6...       3324654   \n",
       "1  0xfa0124a64e4cedc7d75dff3ee0fca13d32b2a368e0cb...       3324658   \n",
       "2  0xe2a23b916903133728ab3dbfac55a56651508a971e89...       3324660   \n",
       "3  0xc431fcd82ad55dc1aee932fa9965b55f8515981147a0...       3324657   \n",
       "4  0xb759c34cb5b5af6f94f7002ef812b8482880d1f73d10...       3324662   \n",
       "\n",
       "                amount  block_id  gasLimit_t  gasUsed_t  newContract  \\\n",
       "0   499093201921000000   4295887       50000      21000            0   \n",
       "1   149222093810000000   4295887       20967       9416            0   \n",
       "2    99608460653500000   4295887       50000      21000            0   \n",
       "3   199004777431000000   4295887       50000      21000            0   \n",
       "4  1000288571660000000   4295887       50000      21000            0   \n",
       "\n",
       "         price               time_t  type    ...      price_gwei  \\\n",
       "0  21000000000  2017-09-20 20:24:15    tx    ...            21.0   \n",
       "1  21000000000  2017-09-20 20:24:15  call    ...            21.0   \n",
       "2  21000000000  2017-09-20 20:24:15    tx    ...            21.0   \n",
       "3  21000000000  2017-09-20 20:24:15    tx    ...            21.0   \n",
       "4  21000000000  2017-09-20 20:24:15    tx    ...            21.0   \n",
       "\n",
       "    amount_gwei  gasShare  gweiPaid  gweiPaid_b  gweiShare free_t  day  hour  \\\n",
       "0  4.990932e+08  0.054830  441000.0   8627577.0   0.051115      0   20    20   \n",
       "1  1.492221e+08  0.024585  197736.0   8627577.0   0.022919      0   20    20   \n",
       "2  9.960846e+07  0.054830  441000.0   8627577.0   0.051115      0   20    20   \n",
       "3  1.990048e+08  0.054830  441000.0   8627577.0   0.051115      0   20    20   \n",
       "4  1.000289e+09  0.054830  441000.0   8627577.0   0.051115      0   20    20   \n",
       "\n",
       "   dayofweek  \n",
       "0          2  \n",
       "1          2  \n",
       "2          2  \n",
       "3          2  \n",
       "4          2  \n",
       "\n",
       "[5 rows x 30 columns]"
      ]
     },
     "execution_count": 9,
     "metadata": {},
     "output_type": "execute_result"
    }
   ],
   "source": [
    "df.head()"
   ]
  },
  {
   "cell_type": "code",
   "execution_count": 10,
   "metadata": {},
   "outputs": [
    {
     "name": "stdout",
     "output_type": "stream",
     "text": [
      "exclude 89799 rows with zero gas used\n"
     ]
    }
   ],
   "source": [
    "# drop cases where gasUsed_t is zero since no gas was used\n",
    "print('exclude {} rows with zero gas used'.format(df[df['gasUsed_t'] == 0].values.shape[0]))"
   ]
  },
  {
   "cell_type": "code",
   "execution_count": 11,
   "metadata": {},
   "outputs": [],
   "source": [
    "df = df[df['gasUsed_t'] != 0]"
   ]
  },
  {
   "cell_type": "markdown",
   "metadata": {},
   "source": [
    "## Generate new columns with average block info\n",
    "### Take average values over two time horizons\n",
    "- 6 blocks (~1 min) -> represents the current state (short frequency view)\n",
    "- 60 blocks (~10 min) -> represents the long term view"
   ]
  },
  {
   "cell_type": "code",
   "execution_count": 12,
   "metadata": {},
   "outputs": [],
   "source": [
    "df['txcnt_second'] = df['tx_count'].values / df['blockTime'].values\n",
    "df['avg_gasUsed_t_perblock'] = df.groupby('block_id')['gasUsed_t'].transform('mean')\n",
    "df['avg_price_perblock'] = df.groupby('block_id')['price_gwei'].transform('mean')"
   ]
  },
  {
   "cell_type": "code",
   "execution_count": 13,
   "metadata": {
    "collapsed": true
   },
   "outputs": [],
   "source": [
    "def rolling_avg(window_size):\n",
    "    \n",
    "    price = df[['block_id', 'avg_price_perblock']].drop_duplicates().sort_values(\n",
    "                        'block_id', ascending=True)\n",
    "    \n",
    "    gasUsed_t = df[['block_id', 'avg_gasUsed_t_perblock']].drop_duplicates().sort_values(\n",
    "                            'block_id', ascending=True)\n",
    "    \n",
    "    txcnt_second = df[['block_id', 'txcnt_second']].drop_duplicates().sort_values(\n",
    "                                'block_id', ascending=True)\n",
    "    \n",
    "    tx_count = df[['block_id', 'tx_count']].drop_duplicates().sort_values(\n",
    "                            'block_id', ascending=True)\n",
    "    \n",
    "    gasUsed_b = df[['block_id', 'gasUsed_b']].drop_duplicates().sort_values(\n",
    "                            'block_id', ascending=True)\n",
    "    \n",
    "    uncle_count = df[['block_id', 'uncle_count']].drop_duplicates().sort_values(\n",
    "                                'block_id', ascending=True)\n",
    "    \n",
    "    difficulty = df[['block_id', 'difficulty']].drop_duplicates().sort_values(\n",
    "                                'block_id', ascending=True)\n",
    "    \n",
    "    blocktime = df[['block_id', 'blockTime']].drop_duplicates().sort_values(\n",
    "                             'block_id', ascending=True)\n",
    "    \n",
    "    # create new pandas dataframe with average values\n",
    "    rolling_avg = pd.DataFrame()\n",
    "    \n",
    "    # calculate rolling averages \n",
    "    rolling_avg['avg_blocktime'] = blocktime['blockTime'].rolling(window=window_size).mean()\n",
    "    rolling_avg['avg_gasUsed_b'] = gasUsed_b['gasUsed_b'].rolling(window=window_size).mean()\n",
    "    rolling_avg['avg_tx_count'] = tx_count['tx_count'].rolling(window=window_size).mean()\n",
    "    rolling_avg['avg_uncle_count'] = uncle_count['uncle_count'].rolling(window=window_size).mean()\n",
    "    rolling_avg['avg_difficulty'] = difficulty['difficulty'].rolling(window=window_size).mean()\n",
    "    rolling_avg['avg_txcnt_second'] = txcnt_second['txcnt_second'].rolling(window=window_size).mean()\n",
    "    rolling_avg['avg_gasUsed_t'] = gasUsed_t['avg_gasUsed_t_perblock'].rolling(window=window_size).mean()\n",
    "    rolling_avg['avg_price'] = price['avg_price_perblock'].rolling(window=window_size).mean()\n",
    "    \n",
    "    # insert blockids to merge on\n",
    "    rolling_avg['blockids'] = df['block_id'].drop_duplicates().sort_values(ascending=True)\n",
    "    \n",
    "    return rolling_avg"
   ]
  },
  {
   "cell_type": "code",
   "execution_count": 14,
   "metadata": {},
   "outputs": [],
   "source": [
    "num_blocks = [6, 60]\n",
    "for num in num_blocks:\n",
    "    df_rolling_avg = rolling_avg(num)\n",
    "    df_rolling_avg.to_csv('./../data/block_avg_{}.csv'.format(num))"
   ]
  },
  {
   "cell_type": "code",
   "execution_count": 15,
   "metadata": {},
   "outputs": [],
   "source": [
    "df_rolling_avg_6 = rolling_avg(6)"
   ]
  },
  {
   "cell_type": "code",
   "execution_count": 16,
   "metadata": {
    "collapsed": true
   },
   "outputs": [],
   "source": [
    "df_rolling_avg_60 = rolling_avg(60)"
   ]
  },
  {
   "cell_type": "markdown",
   "metadata": {},
   "source": [
    "## Merge data with new columns"
   ]
  },
  {
   "cell_type": "code",
   "execution_count": 17,
   "metadata": {
    "collapsed": true
   },
   "outputs": [],
   "source": [
    "merged1 = pd.merge(df, df_rolling_avg_6, left_on='block_id', right_on='blockids')"
   ]
  },
  {
   "cell_type": "code",
   "execution_count": 18,
   "metadata": {
    "collapsed": true
   },
   "outputs": [],
   "source": [
    "merged2 = pd.merge(merged1, df_rolling_avg_60, left_on='block_id', right_on='blockids', suffixes=('_6', '_60'))"
   ]
  },
  {
   "cell_type": "code",
   "execution_count": 19,
   "metadata": {},
   "outputs": [
    {
     "data": {
      "text/plain": [
       "Index([u'hash_t', u'accountNonce', u'amount', u'block_id', u'gasLimit_t',\n",
       "       u'gasUsed_t', u'newContract', u'price', u'time_t', u'type',\n",
       "       u'blockTime', u'difficulty', u'gasLimit_b', u'gasUsed_b', u'reward',\n",
       "       u'size', u'time_b', u'totalFee', u'tx_count', u'uncle_count',\n",
       "       u'price_gwei', u'amount_gwei', u'gasShare', u'gweiPaid', u'gweiPaid_b',\n",
       "       u'gweiShare', u'free_t', u'day', u'hour', u'dayofweek', u'txcnt_second',\n",
       "       u'avg_gasUsed_t_perblock', u'avg_price_perblock', u'avg_blocktime_6',\n",
       "       u'avg_gasUsed_b_6', u'avg_tx_count_6', u'avg_uncle_count_6',\n",
       "       u'avg_difficulty_6', u'avg_txcnt_second_6', u'avg_gasUsed_t_6',\n",
       "       u'avg_price_6', u'blockids_6', u'avg_blocktime_60', u'avg_gasUsed_b_60',\n",
       "       u'avg_tx_count_60', u'avg_uncle_count_60', u'avg_difficulty_60',\n",
       "       u'avg_txcnt_second_60', u'avg_gasUsed_t_60', u'avg_price_60',\n",
       "       u'blockids_60'],\n",
       "      dtype='object')"
      ]
     },
     "execution_count": 19,
     "metadata": {},
     "output_type": "execute_result"
    }
   ],
   "source": [
    "merged2.columns"
   ]
  },
  {
   "cell_type": "code",
   "execution_count": 20,
   "metadata": {
    "collapsed": true
   },
   "outputs": [],
   "source": [
    "## L"
   ]
  },
  {
   "cell_type": "markdown",
   "metadata": {},
   "source": [
    "# Create a label\n",
    "- What are we predicting? \n",
    "- A hindsight estimate of what the price should be, given knowledge about previous blocks\n",
    "- Develop a summary statistic about the distribution of prices over previous blocks\n",
    "- Our target: the 25th percentile of the distribution (gweiShare / gasShare)\n",
    "\n",
    "## Definitions\n",
    "- gasUsed_t -> the amount of gas consumed on a transation\n",
    "- gasUsed_b -> the amount of gas consumed in an entire block\n",
    "- gweiPaid -> the total amount paid (Gwei) for a transaction (= gasUsed_t x price_gwei)\n",
    "- gweiPaid_b -> the total amount paid in a block \n",
    "- gweiShare -> the fraction of gwei paid w.r.t. the entire block\n",
    "- gasShare -> the fraction of gas consumed w.r.t. the entire block\n",
    "\n",
    "## Define \"miner value\" – mv\n",
    "- the fraction of prices per block and gas per block\n",
    "- mv = gweiShare / gasShare \n",
    "- local parameter (per transaction)\n",
    "\n",
    "## Define mu\n",
    "- mu is a summary statistic of mv (global parameter)\n",
    "- a measure of how likely a transaction is to be \"picked up\" by a miner for completion (risk factor)\n",
    "- our target/goal is for mu to be the 25th percentile of mv (gweiShare / gasShare)\n",
    "- mu = percentile(mv, 25) over the entire distribution of mv values\n",
    "- we can tune this parameter to increase or decrease the desired percentile \n",
    "- it is a pre-emptive statistical calculation based on our hindsight knowledge\n",
    "\n",
    "## The \"price\" predicted with hindsight \n",
    "- knowing mu, how do we obtain our hindsight recommendation?\n",
    "- using our definition of mu, we solve an equation to obtain p (price)\n",
    "- p = (mu x gweiPaid_b) / gasUsed_b\n",
    "- this will serve as our label and thus recommendation for how much to pay per unit gas for a transation to successfully commence \n",
    "- it tells us what price we need to set in order to force mv for that bid to be mu"
   ]
  },
  {
   "cell_type": "markdown",
   "metadata": {},
   "source": [
    "## Calculate miner value (mv) for every datapoint in our dataset\n",
    "- price / gas or gweiShare / gasShare"
   ]
  },
  {
   "cell_type": "code",
   "execution_count": 21,
   "metadata": {
    "collapsed": true
   },
   "outputs": [],
   "source": [
    "merged2['mv'] = merged2.gweiShare / merged2.gasShare"
   ]
  },
  {
   "cell_type": "code",
   "execution_count": 22,
   "metadata": {},
   "outputs": [
    {
     "data": {
      "text/plain": [
       "0"
      ]
     },
     "execution_count": 22,
     "metadata": {},
     "output_type": "execute_result"
    }
   ],
   "source": [
    "merged2['mv'].isnull().sum()"
   ]
  },
  {
   "cell_type": "code",
   "execution_count": 23,
   "metadata": {},
   "outputs": [
    {
     "data": {
      "text/plain": [
       "count    1.404478e+06\n",
       "mean     1.631380e+00\n",
       "std      4.518241e+00\n",
       "min      5.990722e-11\n",
       "25%      7.329693e-01\n",
       "50%      1.181439e+00\n",
       "75%      1.911525e+00\n",
       "max      4.233297e+03\n",
       "Name: mv, dtype: float64"
      ]
     },
     "execution_count": 23,
     "metadata": {},
     "output_type": "execute_result"
    }
   ],
   "source": [
    "merged2['mv'].describe()"
   ]
  },
  {
   "cell_type": "markdown",
   "metadata": {},
   "source": [
    "## Compute the summary statistic mu\n",
    "- given the distribution of mv values, fit a statistical model to the data\n",
    "- use this fit model to compute the 25th percentile of the distribution"
   ]
  },
  {
   "cell_type": "code",
   "execution_count": 24,
   "metadata": {},
   "outputs": [],
   "source": [
    "alpha = .25\n",
    "mu= merged2.mv.quantile(alpha)"
   ]
  },
  {
   "cell_type": "code",
   "execution_count": 25,
   "metadata": {},
   "outputs": [
    {
     "data": {
      "text/plain": [
       "<matplotlib.collections.LineCollection at 0x11578f110>"
      ]
     },
     "execution_count": 25,
     "metadata": {},
     "output_type": "execute_result"
    },
    {
     "data": {
      "image/png": "[encoded data removed]",
      "text/plain": [
       "<matplotlib.figure.Figure at 0x10b3e93d0>"
      ]
     },
     "metadata": {},
     "output_type": "display_data"
    }
   ],
   "source": [
    "merged2.mv.apply(np.log10).hist(bins=100)\n",
    "plt.xlim([-2,2])\n",
    "ylims=plt.gca().get_ylim()\n",
    "plt.vlines(np.log10(mu), ylims[0], ylims[1], 'r' )"
   ]
  },
  {
   "cell_type": "code",
   "execution_count": 26,
   "metadata": {},
   "outputs": [
    {
     "data": {
      "text/plain": [
       "<matplotlib.collections.LineCollection at 0x11578fe90>"
      ]
     },
     "execution_count": 26,
     "metadata": {},
     "output_type": "execute_result"
    },
    {
     "data": {
      "image/png": "[encoded data removed]",
      "text/plain": [
       "<matplotlib.figure.Figure at 0x115754d10>"
      ]
     },
     "metadata": {},
     "output_type": "display_data"
    }
   ],
   "source": [
    "merged2.mv.hist(bins=np.arange(0,10,.20))\n",
    "ylims=plt.gca().get_ylim()\n",
    "plt.vlines(mu, ylims[0], ylims[1], 'r' )"
   ]
  },
  {
   "cell_type": "markdown",
   "metadata": {},
   "source": [
    "# Compute the label, p, given mu\n",
    "- knowing mu, how do we obtain our hindsight recommendation?\n",
    "- using our definition of mu, we solve an equation to obtain p (price)\n",
    "- p = (mu x gweiPaid_b) / gasUsed_b\n",
    "- this will serve as our label and thus recommendation for how much to pay per unit gas for a transation to successfully commence \n",
    "- it tells us what price we need to set in order to force mv for that bid to be mu"
   ]
  },
  {
   "cell_type": "code",
   "execution_count": 27,
   "metadata": {},
   "outputs": [
    {
     "data": {
      "text/plain": [
       "0.7329693357991081"
      ]
     },
     "execution_count": 27,
     "metadata": {},
     "output_type": "execute_result"
    }
   ],
   "source": [
    "mu"
   ]
  },
  {
   "cell_type": "code",
   "execution_count": 28,
   "metadata": {},
   "outputs": [],
   "source": [
    "merged2['p_label'] = mu* (merged2.gweiPaid_b / merged2.gasUsed_b)"
   ]
  },
  {
   "cell_type": "code",
   "execution_count": 29,
   "metadata": {},
   "outputs": [
    {
     "data": {
      "text/plain": [
       "<matplotlib.axes._subplots.AxesSubplot at 0x118c70210>"
      ]
     },
     "execution_count": 29,
     "metadata": {},
     "output_type": "execute_result"
    },
    {
     "data": {
      "image/png": "[encoded data removed]",
      "text/plain": [
       "<matplotlib.figure.Figure at 0x118c8cd90>"
      ]
     },
     "metadata": {},
     "output_type": "display_data"
    }
   ],
   "source": [
    "merged2['p_label'].hist(bins=np.arange(0,50,2))\n",
    "merged2['price_gwei'].hist(bins=np.arange(0,50,.1))"
   ]
  },
  {
   "cell_type": "code",
   "execution_count": 30,
   "metadata": {
    "collapsed": true
   },
   "outputs": [],
   "source": [
    "merged2['p_label2'] = mu*merged2.gweiPaid_b/(merged2.gasUsed_b+merged2.gasUsed_t*(1-mu))"
   ]
  },
  {
   "cell_type": "code",
   "execution_count": 31,
   "metadata": {},
   "outputs": [
    {
     "data": {
      "text/plain": [
       "count    1.404478e+06\n",
       "mean     1.610536e+01\n",
       "std      3.143287e+01\n",
       "min      4.322308e-03\n",
       "25%      8.059987e+00\n",
       "50%      1.283072e+01\n",
       "75%      1.902130e+01\n",
       "max      2.162554e+03\n",
       "Name: p_label2, dtype: float64"
      ]
     },
     "execution_count": 31,
     "metadata": {},
     "output_type": "execute_result"
    }
   ],
   "source": [
    "merged2.p_label2.describe()"
   ]
  },
  {
   "cell_type": "code",
   "execution_count": 32,
   "metadata": {},
   "outputs": [
    {
     "data": {
      "text/plain": [
       "<matplotlib.axes._subplots.AxesSubplot at 0x118e21f10>"
      ]
     },
     "execution_count": 32,
     "metadata": {},
     "output_type": "execute_result"
    },
    {
     "data": {
      "image/png": "[encoded data removed]",
      "text/plain": [
       "<matplotlib.figure.Figure at 0x117dba850>"
      ]
     },
     "metadata": {},
     "output_type": "display_data"
    }
   ],
   "source": [
    "merged2['p_label2'].hist(bins=np.arange(0,50,2))\n",
    "merged2['price_gwei'].hist(bins=np.arange(0,50,.1))"
   ]
  },
  {
   "cell_type": "markdown",
   "metadata": {},
   "source": [
    "Look our method smoothed the prices out!"
   ]
  },
  {
   "cell_type": "raw",
   "metadata": {},
   "source": [
    "g=sns.pairplot(merged2[['price_gwei','p_label','p_label2','mv']])\n",
    "g.map_lower(sns.kdeplot, cmap=\"Blues_d\")\n",
    "g.map_upper(plt.scatter)\n",
    "g.map_diag(sns.kdeplot, lw=3)"
   ]
  },
  {
   "cell_type": "raw",
   "metadata": {},
   "source": [
    "sns.residplot(merged2.p_label2,merged2.p_label , lowess=True, color=\"g\")"
   ]
  },
  {
   "cell_type": "markdown",
   "metadata": {},
   "source": [
    "## Write training set and labels to a csv file for modeling"
   ]
  },
  {
   "cell_type": "code",
   "execution_count": 34,
   "metadata": {},
   "outputs": [
    {
     "data": {
      "text/plain": [
       "Index([u'hash_t', u'accountNonce', u'amount', u'block_id', u'gasLimit_t',\n",
       "       u'gasUsed_t', u'newContract', u'price', u'time_t', u'type',\n",
       "       u'blockTime', u'difficulty', u'gasLimit_b', u'gasUsed_b', u'reward',\n",
       "       u'size', u'time_b', u'totalFee', u'tx_count', u'uncle_count',\n",
       "       u'price_gwei', u'amount_gwei', u'gasShare', u'gweiPaid', u'gweiPaid_b',\n",
       "       u'gweiShare', u'free_t', u'day', u'hour', u'dayofweek', u'txcnt_second',\n",
       "       u'avg_gasUsed_t_perblock', u'avg_price_perblock', u'avg_blocktime_6',\n",
       "       u'avg_gasUsed_b_6', u'avg_tx_count_6', u'avg_uncle_count_6',\n",
       "       u'avg_difficulty_6', u'avg_txcnt_second_6', u'avg_gasUsed_t_6',\n",
       "       u'avg_price_6', u'blockids_6', u'avg_blocktime_60', u'avg_gasUsed_b_60',\n",
       "       u'avg_tx_count_60', u'avg_uncle_count_60', u'avg_difficulty_60',\n",
       "       u'avg_txcnt_second_60', u'avg_gasUsed_t_60', u'avg_price_60',\n",
       "       u'blockids_60', u'mv', u'p_label', u'p_label2'],\n",
       "      dtype='object')"
      ]
     },
     "execution_count": 34,
     "metadata": {},
     "output_type": "execute_result"
    }
   ],
   "source": [
    "merged2.columns"
   ]
  },
  {
   "cell_type": "code",
   "execution_count": 35,
   "metadata": {
    "collapsed": true
   },
   "outputs": [],
   "source": [
    "# select candidate features for modeling\n",
    "sel_cols = ['gasLimit_t',\n",
    "           'gasUsed_t',\n",
    "           'newContract',\n",
    "           'blockTime',\n",
    "           'difficulty',\n",
    "           'gasLimit_b',\n",
    "           'gasUsed_b',\n",
    "           'reward',\n",
    "           'size',\n",
    "           'totalFee',\n",
    "           'amount_gwei',\n",
    "           'gasShare',\n",
    "           'gweiPaid',\n",
    "           'gweiPaid_b',\n",
    "           'gweiShare',\n",
    "           'free_t',\n",
    "           'day',\n",
    "           'hour',\n",
    "           'dayofweek',\n",
    "           'txcnt_second',\n",
    "           'avg_blocktime_6',\n",
    "           'avg_gasUsed_b_6',\n",
    "           'avg_tx_count_6', \n",
    "           'avg_uncle_count_6',\n",
    "           'avg_difficulty_6',\n",
    "           'avg_txcnt_second_6',\n",
    "           'avg_gasUsed_t_6',\n",
    "           'avg_price_6', \n",
    "           'avg_blocktime_60',\n",
    "           'avg_gasUsed_b_60',\n",
    "           'avg_tx_count_60',\n",
    "           'avg_uncle_count_60',\n",
    "           'avg_difficulty_60',\n",
    "           'avg_txcnt_second_60',\n",
    "           'avg_gasUsed_t_60',\n",
    "           'avg_price_60',\n",
    "           'mv']"
   ]
  },
  {
   "cell_type": "code",
   "execution_count": 36,
   "metadata": {},
   "outputs": [],
   "source": [
    "features = merged2[sel_cols]"
   ]
  },
  {
   "cell_type": "code",
   "execution_count": 37,
   "metadata": {},
   "outputs": [],
   "source": [
    "features.to_csv('./../data/training.csv')"
   ]
  },
  {
   "cell_type": "code",
   "execution_count": 38,
   "metadata": {
    "collapsed": true
   },
   "outputs": [],
   "source": [
    "labels = merged2['p_label2']"
   ]
  },
  {
   "cell_type": "code",
   "execution_count": 39,
   "metadata": {},
   "outputs": [],
   "source": [
    "labels.to_csv('./../data/labels.csv')"
   ]
  },
  {
   "cell_type": "code",
   "execution_count": null,
   "metadata": {
    "collapsed": true
   },
   "outputs": [],
   "source": []
  }
 ],
 "metadata": {
  "kernelspec": {
   "display_name": "Python 2",
   "language": "python",
   "name": "python2"
  },
  "language_info": {
   "codemirror_mode": {
    "name": "ipython",
    "version": 2
   },
   "file_extension": ".py",
   "mimetype": "text/x-python",
   "name": "python",
   "nbconvert_exporter": "python",
   "pygments_lexer": "ipython2",
   "version": "2.7.13"
  }
 },
 "nbformat": 4,
 "nbformat_minor": 1
}
