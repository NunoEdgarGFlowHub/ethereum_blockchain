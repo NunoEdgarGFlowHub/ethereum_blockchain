{
 "cells": [
  {
   "cell_type": "code",
   "execution_count": 1,
   "metadata": {
    "collapsed": false
   },
   "outputs": [
    {
     "name": "stderr",
     "output_type": "stream",
     "text": [
      "//anaconda/lib/python2.7/site-packages/pandas/core/computation/__init__.py:18: UserWarning: The installed version of numexpr 2.4.3 is not supported in pandas and will be not be used\n",
      "The minimum supported version is 2.4.6\n",
      "\n",
      "  ver=ver, min_ver=_MIN_NUMEXPR_VERSION), UserWarning)\n",
      "//anaconda/lib/python2.7/site-packages/matplotlib/font_manager.py:273: UserWarning: Matplotlib is building the font cache using fc-list. This may take a moment.\n",
      "  warnings.warn('Matplotlib is building the font cache using fc-list. This may take a moment.')\n",
      "//anaconda/lib/python2.7/site-packages/matplotlib/__init__.py:878: UserWarning: axes.color_cycle is deprecated and replaced with axes.prop_cycle; please use the latter.\n",
      "  warnings.warn(self.msg_depr % (key, alt_key))\n",
      "//anaconda/lib/python2.7/site-packages/sklearn/cross_validation.py:41: DeprecationWarning: This module was deprecated in version 0.18 in favor of the model_selection module into which all the refactored classes and functions are moved. Also note that the interface of the new CV iterators are different from that of this module. This module will be removed in 0.20.\n",
      "  \"This module will be removed in 0.20.\", DeprecationWarning)\n"
     ]
    }
   ],
   "source": [
    "import pandas as pd\n",
    "import numpy as np\n",
    "import matplotlib.pyplot as plt\n",
    "import seaborn as sns\n",
    "from sklearn.cross_validation import train_test_split, cross_val_score\n",
    "from sklearn.metrics import mean_squared_error, r2_score\n",
    "from sklearn.preprocessing import LabelEncoder\n",
    "from sklearn.model_selection import GridSearchCV, cross_val_score\n",
    "from sklearn.preprocessing import StandardScaler\n",
    "from sklearn import tree\n",
    "from numpy.linalg import matrix_rank\n",
    "from statsmodels.stats.outliers_influence import variance_inflation_factor\n",
    "%matplotlib inline"
   ]
  },
  {
   "cell_type": "code",
   "execution_count": 2,
   "metadata": {
    "collapsed": true
   },
   "outputs": [],
   "source": [
    "train = pd.read_csv('./../data/training.csv')\n",
    "label = pd.read_csv('./../data/labels.csv', header=None)\n",
    "train.drop('Unnamed: 0', axis=1, inplace=True)\n",
    "# label encode type \n",
    "le = LabelEncoder()\n",
    "train['type_enc'] = le.fit_transform(train['type'])\n",
    "label.columns = ['0', 'p_label2']\n",
    "label.drop('0', axis=1, inplace=True)\n",
    "y_label = np.ravel(label)"
   ]
  },
  {
   "cell_type": "code",
   "execution_count": 3,
   "metadata": {
    "collapsed": false
   },
   "outputs": [
    {
     "data": {
      "text/plain": [
       "Index([u'gasLimit_t', u'gasUsed_t', u'newContract', u'blockTime',\n",
       "       u'difficulty', u'gasLimit_b', u'gasUsed_b', u'reward', u'size', u'type',\n",
       "       u'totalFee', u'amount_gwei', u'gasShare', u'gweiPaid', u'gweiPaid_b',\n",
       "       u'gweiShare', u'free_t', u'day', u'hour', u'dayofweek', u'txcnt_second',\n",
       "       u'avg_blocktime_6', u'avg_gasUsed_b_6', u'avg_tx_count_6',\n",
       "       u'avg_uncle_count_6', u'avg_difficulty_6', u'avg_txcnt_second_6',\n",
       "       u'avg_gasUsed_t_6', u'avg_price_6', u'avg_blocktime_60',\n",
       "       u'avg_gasUsed_b_60', u'avg_tx_count_60', u'avg_uncle_count_60',\n",
       "       u'avg_difficulty_60', u'avg_txcnt_second_60', u'avg_gasUsed_t_60',\n",
       "       u'avg_price_60', u'mv', u'type_enc'],\n",
       "      dtype='object')"
      ]
     },
     "execution_count": 3,
     "metadata": {},
     "output_type": "execute_result"
    }
   ],
   "source": [
    "train.columns"
   ]
  },
  {
   "cell_type": "markdown",
   "metadata": {},
   "source": [
    "### Columns to remove:\n",
    "\n",
    "Possible leakage: avg_price_6, avg_price_60, avg_gasUsed_b_6, avg_gasUsed_t_6,  avg_gasUsed_b_60, avg_gasUsed_t_60, avg_price_60\n",
    "\n",
    "Poor performance: gasLimit_t, gasUsed_t, newContract, avg_uncle_count_6, avg_txcnt_second_6, type_enc, avg_uncle_count_60\n",
    "\n",
    "### Candidate features:\n",
    "\n",
    "- avg_difficulty_60, r2=0.99\n",
    "- avg_tx_count_60, r2=0.5\n",
    "- avg_blocktime_6, \n",
    "- avg_tx_count_6, r2=0.99\n",
    "- avg_difficulty_6, \n",
    "- avg_blocktime_60\n",
    "- avg_txcnt_second_60, r2=0.12\n",
    "- mv, r2=0.75"
   ]
  },
  {
   "cell_type": "code",
   "execution_count": 4,
   "metadata": {
    "collapsed": false,
    "scrolled": true
   },
   "outputs": [
    {
     "data": {
      "text/plain": [
       "<matplotlib.collections.PathCollection at 0x108cb3990>"
      ]
     },
     "execution_count": 4,
     "metadata": {},
     "output_type": "execute_result"
    },
    {
     "data": {
      "image/png": "[encoded data removed]",
      "text/plain": [
       "<matplotlib.figure.Figure at 0x1029fc550>"
      ]
     },
     "metadata": {},
     "output_type": "display_data"
    }
   ],
   "source": [
    "plt.scatter(train['avg_blocktime_6'], train['avg_blocktime_60'])"
   ]
  },
  {
   "cell_type": "markdown",
   "metadata": {},
   "source": [
    "# Run decision tree"
   ]
  },
  {
   "cell_type": "code",
   "execution_count": 26,
   "metadata": {
    "collapsed": false
   },
   "outputs": [],
   "source": [
    "# select features\n",
    "sub_cols = ['gasLimit_t', \n",
    "            'gasUsed_t', \n",
    "            'newContract', \n",
    "       'avg_blocktime_6', \n",
    "            'avg_tx_count_6',\n",
    "       'avg_uncle_count_6', \n",
    "            'avg_difficulty_6', \n",
    "            'avg_txcnt_second_6',\n",
    "       'avg_gasUsed_t_6', \n",
    "            'avg_price_6', \n",
    "            'avg_blocktime_60',\n",
    "       'avg_gasUsed_b_60', \n",
    "            'avg_uncle_count_60',\n",
    "       'avg_difficulty_60', \n",
    "            'avg_txcnt_second_60', \n",
    "            'avg_gasUsed_t_60',\n",
    "        'avg_price_60', \n",
    "            'mv', \n",
    "            'type_enc']"
   ]
  },
  {
   "cell_type": "code",
   "execution_count": 27,
   "metadata": {
    "collapsed": false
   },
   "outputs": [],
   "source": [
    "sub_train = train[sub_cols]\n",
    "X = sub_train.values\n",
    "y = y_label\n",
    "X_train, X_test, y_train, y_test = train_test_split(X, y)"
   ]
  },
  {
   "cell_type": "code",
   "execution_count": 29,
   "metadata": {
    "collapsed": false
   },
   "outputs": [
    {
     "data": {
      "text/plain": [
       "(2, 19)"
      ]
     },
     "execution_count": 29,
     "metadata": {},
     "output_type": "execute_result"
    }
   ],
   "source": [
    "matrix_rank(X), len(sub_cols)"
   ]
  },
  {
   "cell_type": "code",
   "execution_count": 30,
   "metadata": {
    "collapsed": false
   },
   "outputs": [
    {
     "data": {
      "text/plain": [
       "((1396626, 19), (1396626,))"
      ]
     },
     "execution_count": 30,
     "metadata": {},
     "output_type": "execute_result"
    }
   ],
   "source": [
    "X.shape, y.shape"
   ]
  },
  {
   "cell_type": "markdown",
   "metadata": {},
   "source": [
    "## Check variance inflation factors \n",
    "If the VIF is equal to 1 there is no multicollinearity among factors, but if the VIF is greater than 1, the predictors may be moderately correlated. The output above shows that the VIF for the Publication and Years factors are about 1.5, which indicates some correlation, but not enough to be overly concerned about. A VIF between 5 and 10 indicates high correlation that may be problematic. And if the VIF goes above 10, you can assume that the regression coefficients are poorly estimated due to multicollinearity."
   ]
  },
  {
   "cell_type": "code",
   "execution_count": 31,
   "metadata": {
    "collapsed": false,
    "scrolled": true
   },
   "outputs": [
    {
     "name": "stdout",
     "output_type": "stream",
     "text": [
      "VIF col gasLimit_t: 1.22876559974\n",
      "VIF col gasUsed_t: 1.22833675562\n",
      "VIF col newContract: 1.03337340205\n",
      "VIF col avg_blocktime_6: 1.49352202719\n",
      "VIF col avg_tx_count_6: 2.01738506585\n",
      "VIF col avg_uncle_count_6: 1.01533902007\n",
      "VIF col avg_difficulty_6: 1.6246634721\n",
      "VIF col avg_txcnt_second_6: 1.42604620898\n",
      "VIF col avg_gasUsed_t_6: 1.16725683252\n",
      "VIF col avg_price_6: 1.43162563102\n",
      "VIF col avg_blocktime_60: 1.76491303849\n",
      "VIF col avg_gasUsed_b_60: 0.512907642449\n",
      "VIF col avg_uncle_count_60: 1.07813106753\n",
      "VIF col avg_difficulty_60: 2.0662749699\n",
      "VIF col avg_txcnt_second_60: 1.85201310538\n",
      "VIF col avg_gasUsed_t_60: 1.203786787\n",
      "VIF col avg_price_60: 1.52622766245\n",
      "VIF col mv: 1.0018199062\n",
      "VIF col type_enc: 1.07294174565\n"
     ]
    }
   ],
   "source": [
    "for i, col in enumerate(sub_train.columns):\n",
    "    print('VIF col {}: {}'.format(col,variance_inflation_factor(X,i)))"
   ]
  },
  {
   "cell_type": "code",
   "execution_count": 32,
   "metadata": {
    "collapsed": false
   },
   "outputs": [],
   "source": [
    "dt = tree.DecisionTreeRegressor()\n",
    "dt.fit(X_train, y_train)\n",
    "y_pred = dt.predict(X_test)"
   ]
  },
  {
   "cell_type": "code",
   "execution_count": 33,
   "metadata": {
    "collapsed": false
   },
   "outputs": [
    {
     "data": {
      "text/plain": [
       "0.98383792732435393"
      ]
     },
     "execution_count": 33,
     "metadata": {},
     "output_type": "execute_result"
    }
   ],
   "source": [
    "r2_score(y_test, y_pred)"
   ]
  },
  {
   "cell_type": "code",
   "execution_count": 34,
   "metadata": {
    "collapsed": false
   },
   "outputs": [
    {
     "data": {
      "text/plain": [
       "16.168231853963299"
      ]
     },
     "execution_count": 34,
     "metadata": {},
     "output_type": "execute_result"
    }
   ],
   "source": [
    "mean_squared_error(y_test, y_pred)"
   ]
  },
  {
   "cell_type": "code",
   "execution_count": 38,
   "metadata": {
    "collapsed": false
   },
   "outputs": [
    {
     "name": "stdout",
     "output_type": "stream",
     "text": [
      "Mean CV r2_score: 0.945227663331\n"
     ]
    }
   ],
   "source": [
    "print('Mean CV r2_score: {}'.format(np.mean(cross_val_score(dt, X_test, y_test, scoring='r2', cv=3))))"
   ]
  },
  {
   "cell_type": "code",
   "execution_count": 36,
   "metadata": {
    "collapsed": false
   },
   "outputs": [
    {
     "data": {
      "text/plain": [
       "<matplotlib.text.Text at 0x10af2b310>"
      ]
     },
     "execution_count": 36,
     "metadata": {},
     "output_type": "execute_result"
    },
    {
     "data": {
      "image/png": "[encoded data removed]",
      "text/plain": [
       "<matplotlib.figure.Figure at 0x109c8cd50>"
      ]
     },
     "metadata": {},
     "output_type": "display_data"
    }
   ],
   "source": [
    "plt.scatter(y_test, y_pred)\n",
    "#plt.xlim(0,1000)\n",
    "#plt.ylim(0,1000)\n",
    "plt.xlabel('y_test')\n",
    "plt.ylabel('y_pred')"
   ]
  },
  {
   "cell_type": "raw",
   "metadata": {},
   "source": [
    "sns.residplot(y_test, y_pred , lowess=True, color=\"g\")"
   ]
  },
  {
   "cell_type": "markdown",
   "metadata": {},
   "source": [
    "#Nested cross validation"
   ]
  },
  {
   "cell_type": "markdown",
   "metadata": {},
   "source": [
    "Often we want to tune the parameters of a model (for example, C in a support vector machine). That is, we want to find the value of a parameter that minimizes our loss function. The best way to do this is cross validation:\n",
    "\n",
    "1. Set the parameter you want to tune to some value.\n",
    "2. Split your data into K 'folds' (sections).\n",
    "3. Train your model using K-1 folds using the parameter value.\n",
    "4. Test your model on the remaining fold.\n",
    "5. Repeat steps 3 and 4 so that every fold is the test data once.\n",
    "6. Repeat steps 1 to 5 for every possible value of the parameter.\n",
    "7. Report the parameter that produced the best result.\n",
    "\n",
    "However, as Cawley and Talbot point out in their 2010 paper, since we used the test set to both select the values of the parameter and evaluate the model, we risk optimistically biasing our model evaluations. For this reason, if a test set is used to select model parameters, then we need a different test set to get an unbiased evaluation of that selected model.\n",
    "\n",
    "One way to overcome this problem is to have nested cross validations. First, an inner cross validation is used to tune the parameters and select the best model. Second, an outer cross validation is used to evaluate the model selected by the inner cross validation."
   ]
  },
  {
   "cell_type": "markdown",
   "metadata": {},
   "source": [
    "###Standardize data"
   ]
  },
  {
   "cell_type": "code",
   "execution_count": 16,
   "metadata": {
    "collapsed": true
   },
   "outputs": [],
   "source": [
    "# Create a scaler object\n",
    "#sc = StandardScaler()\n",
    "\n",
    "# Fit the scaler to the feature data and transform\n",
    "#X_std = sc.fit_transform(X)"
   ]
  },
  {
   "cell_type": "markdown",
   "metadata": {},
   "source": [
    "### Create Inner Cross Validation (For Parameter Tuning)"
   ]
  },
  {
   "cell_type": "markdown",
   "metadata": {},
   "source": [
    "This is our inner cross validation. We will use this to hunt for the best parameters for C, the penalty for misclassifying a data point. GridSearchCV will conduct steps 1-6 listed at the top of this tutorial."
   ]
  },
  {
   "cell_type": "code",
   "execution_count": 17,
   "metadata": {
    "collapsed": true
   },
   "outputs": [],
   "source": [
    "# Create a list of 10 candidate values for the C parameter\n",
    "#max_depth_candidates = dict(max_depth=np.arange(1, 7, 1))\n",
    "\n",
    "# Create a gridsearch object with the decision tree regressor and the max_depth value candidates\n",
    "#reg = GridSearchCV(estimator=tree.DecisionTreeRegressor(), param_grid=max_depth_candidates)"
   ]
  },
  {
   "cell_type": "markdown",
   "metadata": {},
   "source": [
    "The code below isn't necessary for parameter tuning using nested cross validation, however to demonstrate that our inner cross validation grid search can find the best value for the parameter C, we will run it once here:"
   ]
  },
  {
   "cell_type": "code",
   "execution_count": 18,
   "metadata": {
    "collapsed": false
   },
   "outputs": [],
   "source": [
    "# Fit the cross validated grid search on the data \n",
    "#reg.fit(X_std, y)\n",
    "\n",
    "# Show the best value for C\n",
    "#reg.best_estimator_.max_depth"
   ]
  },
  {
   "cell_type": "markdown",
   "metadata": {},
   "source": [
    "### Create Outer Cross Validation (For Model Evaluation)"
   ]
  },
  {
   "cell_type": "markdown",
   "metadata": {},
   "source": [
    "With our inner cross validation constructed, we can use cross_val_score to evaluate the model with a second (outer) cross validation.\n",
    "\n",
    "The code below splits the data into three folds, running the inner cross validation on two of the folds (merged together) and then evaluating the model on the third fold. This is repeated three times so that every fold is used for testing once."
   ]
  },
  {
   "cell_type": "code",
   "execution_count": 19,
   "metadata": {
    "collapsed": false
   },
   "outputs": [],
   "source": [
    "#print('Mean CV r2_score: {}'.format(np.mean(cross_val_score(reg, X_std, y, scoring='r2', cv=3))))"
   ]
  },
  {
   "cell_type": "markdown",
   "metadata": {},
   "source": [
    "Each the values above is an unbiased evaluation of the model's accuracy, once for each of the three test folds. Averaged together, they would represent the average accuracy of the model found in the inner cross validated grid search.\n"
   ]
  },
  {
   "cell_type": "code",
   "execution_count": null,
   "metadata": {
    "collapsed": true
   },
   "outputs": [],
   "source": []
  }
 ],
 "metadata": {
  "kernelspec": {
   "display_name": "Python 2",
   "language": "python",
   "name": "python2"
  },
  "language_info": {
   "codemirror_mode": {
    "name": "ipython",
    "version": 2
   },
   "file_extension": ".py",
   "mimetype": "text/x-python",
   "name": "python",
   "nbconvert_exporter": "python",
   "pygments_lexer": "ipython2",
   "version": "2.7.13"
  }
 },
 "nbformat": 4,
 "nbformat_minor": 0
}
