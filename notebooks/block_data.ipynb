{
 "cells": [
  {
   "cell_type": "markdown",
   "metadata": {},
   "source": [
    "#Get block data"
   ]
  },
  {
   "cell_type": "code",
   "execution_count": 1,
   "metadata": {
    "collapsed": false
   },
   "outputs": [
    {
     "data": {
      "text/plain": [
       "u'number_1'"
      ]
     },
     "execution_count": 1,
     "metadata": {},
     "output_type": "execute_result"
    }
   ],
   "source": [
    "# import MongoDB modules\n",
    "from pymongo import MongoClient\n",
    "import requests\n",
    "import time\n",
    "\n",
    "# connect to the hosted MongoDB instance\n",
    "client = MongoClient()\n",
    "db = client['etherchain']\n",
    "collection = db['blocks']\n",
    "collection.create_index([('number', 1)], unique=True)"
   ]
  },
  {
   "cell_type": "code",
   "execution_count": 22,
   "metadata": {
    "collapsed": false
   },
   "outputs": [
    {
     "data": {
      "text/plain": [
       "26"
      ]
     },
     "execution_count": 22,
     "metadata": {},
     "output_type": "execute_result"
    }
   ],
   "source": [
    "collection.count()"
   ]
  },
  {
   "cell_type": "code",
   "execution_count": 23,
   "metadata": {
    "collapsed": false
   },
   "outputs": [
    {
     "data": {
      "text/plain": [
       "{u'_id': ObjectId('59c6e22666a161b6940cb736'),\n",
       " u'blockTime': 6.0,\n",
       " u'coinbase': u'0x829bd824b016326a401d083b33d092293333a830',\n",
       " u'difficulty': 2402364668481274.0,\n",
       " u'extra': u'0xe4b883e5bda9e7a59ee4bb99e9b1bc',\n",
       " u'gasLimit': 6737294.0,\n",
       " u'gasUsed': 1915734.0,\n",
       " u'hash': u'0xb550c693488757327eab4edd8138e285573301443b23969cabee2e4e8a3871ca',\n",
       " u'mixDigest': None,\n",
       " u'nonce': u'0x8846819b600e12583e',\n",
       " u'number': 4287747.0,\n",
       " u'parentHash': u'0x123ee54d4c9e9513bf7e134e1d3685c4b83cd07c0971ecfe65c665b3901b60a2',\n",
       " u'reward': 5.0421364831e+18,\n",
       " u'root': u'0x1e14aaea01a2583b2abd340050a7d5922cecf6e302cd2a2182d2d450b23b00ed',\n",
       " u'size': 8689.0,\n",
       " u'time': u'2017-09-18T14:05:47.000Z',\n",
       " u'totalFee': 4.21364831e+16,\n",
       " u'txHash': u'0xb540061e7f02b4fb67784f48fee61b528d211eea2f550eab99cf1f027f1b5d02',\n",
       " u'tx_count': 60.0,\n",
       " u'uncleHash': u'0x1dcc4de8dec75d7aab85b567b6ccd41ad312451b948a7413f0a142fd40d49347',\n",
       " u'uncle_count': 0.0}"
      ]
     },
     "execution_count": 23,
     "metadata": {},
     "output_type": "execute_result"
    }
   ],
   "source": [
    "collection.find_one()"
   ]
  },
  {
   "cell_type": "code",
   "execution_count": 27,
   "metadata": {
    "collapsed": true
   },
   "outputs": [],
   "source": [
    "blocks = set()\n",
    "for tx in collection.find():\n",
    "    for k,v in tx.iteritems():\n",
    "        if k == 'number':\n",
    "            blocks.add(v)"
   ]
  },
  {
   "cell_type": "code",
   "execution_count": 28,
   "metadata": {
    "collapsed": false
   },
   "outputs": [
    {
     "name": "stdout",
     "output_type": "stream",
     "text": [
      "num blocks: 26\n"
     ]
    }
   ],
   "source": [
    "print('num blocks: {}'.format(len(blocks)))"
   ]
  },
  {
   "cell_type": "code",
   "execution_count": 30,
   "metadata": {
    "collapsed": false
   },
   "outputs": [],
   "source": [
    "a = list(blocks)"
   ]
  },
  {
   "cell_type": "code",
   "execution_count": 31,
   "metadata": {
    "collapsed": false
   },
   "outputs": [
    {
     "data": {
      "text/plain": [
       "26"
      ]
     },
     "execution_count": 31,
     "metadata": {},
     "output_type": "execute_result"
    }
   ],
   "source": [
    "len(a)"
   ]
  },
  {
   "cell_type": "code",
   "execution_count": 2,
   "metadata": {
    "collapsed": false
   },
   "outputs": [
    {
     "name": "stderr",
     "output_type": "stream",
     "text": [
      "//anaconda/lib/python2.7/site-packages/pandas/core/computation/__init__.py:18: UserWarning: The installed version of numexpr 2.4.3 is not supported in pandas and will be not be used\n",
      "The minimum supported version is 2.4.6\n",
      "\n",
      "  ver=ver, min_ver=_MIN_NUMEXPR_VERSION), UserWarning)\n"
     ]
    }
   ],
   "source": [
    "import pandas as pd"
   ]
  },
  {
   "cell_type": "code",
   "execution_count": 3,
   "metadata": {
    "collapsed": false
   },
   "outputs": [],
   "source": [
    "df = pd.read_csv('../ethereum_blockchain/tocalc.csv') "
   ]
  },
  {
   "cell_type": "code",
   "execution_count": 4,
   "metadata": {
    "collapsed": false
   },
   "outputs": [],
   "source": [
    "b = df['block_id'].values"
   ]
  },
  {
   "cell_type": "code",
   "execution_count": 5,
   "metadata": {
    "collapsed": false
   },
   "outputs": [
    {
     "data": {
      "text/plain": [
       "(13,)"
      ]
     },
     "execution_count": 5,
     "metadata": {},
     "output_type": "execute_result"
    }
   ],
   "source": [
    "b.shape"
   ]
  },
  {
   "cell_type": "code",
   "execution_count": 6,
   "metadata": {
    "collapsed": false
   },
   "outputs": [
    {
     "data": {
      "text/plain": [
       "array([4291426, 4287747, 4292233, 4292170, 4293390, 4291407, 4287569,\n",
       "       4290994, 4289774, 4292214, 4293434, 4292411, 4288986])"
      ]
     },
     "execution_count": 6,
     "metadata": {},
     "output_type": "execute_result"
    }
   ],
   "source": [
    "b"
   ]
  },
  {
   "cell_type": "code",
   "execution_count": 9,
   "metadata": {
    "collapsed": true
   },
   "outputs": [],
   "source": [
    "r = requests.get('https://etherchain.org/api/block/4292608')"
   ]
  },
  {
   "cell_type": "code",
   "execution_count": 10,
   "metadata": {
    "collapsed": false
   },
   "outputs": [
    {
     "data": {
      "text/plain": [
       "200"
      ]
     },
     "execution_count": 10,
     "metadata": {},
     "output_type": "execute_result"
    }
   ],
   "source": [
    "r.status_code"
   ]
  },
  {
   "cell_type": "code",
   "execution_count": 11,
   "metadata": {
    "collapsed": false
   },
   "outputs": [
    {
     "data": {
      "text/plain": [
       "'{\"status\":1,\"data\":[{\"number\":4292608,\"hash\":\"0xed5a6d0ab1d8ebece462c60c5764013f8649fd2e340d1270d0255dc9404a4040\",\"parentHash\":\"0x03ca1d1d9bc8976c871fe255ff8855b11408900c578be8dda82ca62ce607dcbe\",\"uncleHash\":\"0x1dcc4de8dec75d7aab85b567b6ccd41ad312451b948a7413f0a142fd40d49347\",\"coinbase\":\"0x829bd824b016326a401d083b33d092293333a830\",\"root\":\"0x11466e02b478876a595f6032b3e434c80e3cf89dcae92e038aab3c13d7d0fa5d\",\"txHash\":\"0x1a2f7f901498f820edd20d27a34ae46b4b766ff66ab17e9ef945fec5a9174f0d\",\"difficulty\":2415063514546603,\"gasLimit\":6722221,\"gasUsed\":1638699,\"time\":\"2017-09-19T22:30:42.000Z\",\"extra\":\"0xe4b883e5bda9e7a59ee4bb99e9b1bc\",\"mixDigest\":null,\"nonce\":\"0x88c3313c5808ea0b55\",\"tx_count\":43,\"uncle_count\":0,\"size\":6331,\"blockTime\":22,\"reward\":5048829031919903000,\"totalFee\":48829031919903220}]}'"
      ]
     },
     "execution_count": 11,
     "metadata": {},
     "output_type": "execute_result"
    }
   ],
   "source": [
    "r.content"
   ]
  },
  {
   "cell_type": "code",
   "execution_count": 12,
   "metadata": {
    "collapsed": true
   },
   "outputs": [],
   "source": [
    "r = r.json()"
   ]
  },
  {
   "cell_type": "code",
   "execution_count": 13,
   "metadata": {
    "collapsed": false
   },
   "outputs": [
    {
     "data": {
      "text/plain": [
       "{u'data': [{u'blockTime': 22,\n",
       "   u'coinbase': u'0x829bd824b016326a401d083b33d092293333a830',\n",
       "   u'difficulty': 2415063514546603,\n",
       "   u'extra': u'0xe4b883e5bda9e7a59ee4bb99e9b1bc',\n",
       "   u'gasLimit': 6722221,\n",
       "   u'gasUsed': 1638699,\n",
       "   u'hash': u'0xed5a6d0ab1d8ebece462c60c5764013f8649fd2e340d1270d0255dc9404a4040',\n",
       "   u'mixDigest': None,\n",
       "   u'nonce': u'0x88c3313c5808ea0b55',\n",
       "   u'number': 4292608,\n",
       "   u'parentHash': u'0x03ca1d1d9bc8976c871fe255ff8855b11408900c578be8dda82ca62ce607dcbe',\n",
       "   u'reward': 5048829031919903000,\n",
       "   u'root': u'0x11466e02b478876a595f6032b3e434c80e3cf89dcae92e038aab3c13d7d0fa5d',\n",
       "   u'size': 6331,\n",
       "   u'time': u'2017-09-19T22:30:42.000Z',\n",
       "   u'totalFee': 48829031919903220,\n",
       "   u'txHash': u'0x1a2f7f901498f820edd20d27a34ae46b4b766ff66ab17e9ef945fec5a9174f0d',\n",
       "   u'tx_count': 43,\n",
       "   u'uncleHash': u'0x1dcc4de8dec75d7aab85b567b6ccd41ad312451b948a7413f0a142fd40d49347',\n",
       "   u'uncle_count': 0}],\n",
       " u'status': 1}"
      ]
     },
     "execution_count": 13,
     "metadata": {},
     "output_type": "execute_result"
    }
   ],
   "source": [
    "r"
   ]
  },
  {
   "cell_type": "code",
   "execution_count": 19,
   "metadata": {
    "collapsed": false
   },
   "outputs": [
    {
     "name": "stdout",
     "output_type": "stream",
     "text": [
      "{u'nonce': u'0x88c3313c5808ea0b55', u'uncle_count': 0, u'reward': 5048829031919903000, u'hash': u'0xed5a6d0ab1d8ebece462c60c5764013f8649fd2e340d1270d0255dc9404a4040', u'blockTime': 22, u'extra': u'0xe4b883e5bda9e7a59ee4bb99e9b1bc', u'uncleHash': u'0x1dcc4de8dec75d7aab85b567b6ccd41ad312451b948a7413f0a142fd40d49347', u'parentHash': u'0x03ca1d1d9bc8976c871fe255ff8855b11408900c578be8dda82ca62ce607dcbe', u'mixDigest': None, u'gasLimit': 6722221, u'number': 4292608, u'difficulty': 2415063514546603, u'txHash': u'0x1a2f7f901498f820edd20d27a34ae46b4b766ff66ab17e9ef945fec5a9174f0d', u'time': u'2017-09-19T22:30:42.000Z', u'coinbase': u'0x829bd824b016326a401d083b33d092293333a830', u'tx_count': 43, u'size': 6331, u'root': u'0x11466e02b478876a595f6032b3e434c80e3cf89dcae92e038aab3c13d7d0fa5d', u'totalFee': 48829031919903220, u'gasUsed': 1638699}\n"
     ]
    }
   ],
   "source": [
    "for row in r['data']:\n",
    "    print(row)"
   ]
  },
  {
   "cell_type": "code",
   "execution_count": 98,
   "metadata": {
    "collapsed": false
   },
   "outputs": [
    {
     "name": "stdout",
     "output_type": "stream",
     "text": [
      "E11000 duplicate key error collection: etherchain.blocks index: _id_ dup key: { : ObjectId('59c5cb2766a161b6940c8fb7') }\n"
     ]
    }
   ],
   "source": [
    "# try:\n",
    "#     collection.insert_one(r['data'][row])\n",
    "# except Exception as e:\n",
    "#     print e"
   ]
  },
  {
   "cell_type": "code",
   "execution_count": 20,
   "metadata": {
    "collapsed": false
   },
   "outputs": [],
   "source": [
    "def collect_blocks(block_id):\n",
    "    \"\"\"\n",
    "    DESCRIPTION:\n",
    "        Collects blockchain transaction data from etherchain.org API\n",
    "        https://etherchain.org/documentation/api/\n",
    "    \n",
    "    INPUT:\n",
    "        - offset: the number of txs to skip\n",
    "        - count: the number of txs to return (max 100 blocks per request)\n",
    "        - sleeptime: number of seconds to sleep between api requests\n",
    "    OUTPUT:\n",
    "        - stores each blockchain transaction as a document in a MongoDB collection\n",
    "    \"\"\"\n",
    "    \n",
    "    BASE_URL = 'https://etherchain.org/api/block/{}'.format(block_id)\n",
    "    r = requests.get(BASE_URL)\n",
    "\n",
    "    if r.status_code != 200:\n",
    "        print('status code = {}'.format(r.status_code))\n",
    "\n",
    "    else:\n",
    "    # store each transaction block in our mongo database\n",
    "        r = convert_price(r.json())\n",
    "\n",
    "        for row in r['data']:\n",
    "            try:\n",
    "                collection.insert_one(row)\n",
    "\n",
    "            except Exception as e:\n",
    "                print e\n",
    "                print(row)\n",
    "        \n",
    "def convert_price(json_dict):\n",
    "    \n",
    "    for tx in json_dict['data']:\n",
    "        tx['blockTime'] = float(tx['blockTime'])\n",
    "        tx['gasLimit'] = float(tx['gasLimit'])\n",
    "        tx['gasUsed'] = float(tx['gasUsed'])\n",
    "        tx['number'] = float(tx['number'])\n",
    "        tx['size'] = float(tx['size'])\n",
    "        tx['tx_count'] = float(tx['tx_count'])\n",
    "        tx['uncle_count'] = float(tx['uncle_count'])\n",
    "        tx['reward'] = float(tx['reward'])\n",
    "        tx['totalFee'] = float(tx['totalFee'])\n",
    "        tx['difficulty'] = float(tx['difficulty'])\n",
    "    \n",
    "        return json_dict\n",
    "\n",
    "def call_api_blocks(b):\n",
    "    \n",
    "    x = 0\n",
    "    while True:\n",
    "        for i in b:\n",
    "            collect_blocks(i)\n",
    "            x += 1\n",
    "            print(x)\n",
    "            time.sleep(10)"
   ]
  },
  {
   "cell_type": "code",
   "execution_count": 21,
   "metadata": {
    "collapsed": false
   },
   "outputs": [
    {
     "name": "stdout",
     "output_type": "stream",
     "text": [
      "E11000 duplicate key error collection: etherchain.blocks index: number_1 dup key: { : 4291426.0 }\n",
      "{u'nonce': u'0x88f92e1484089b38b3', u'uncle_count': 0.0, u'reward': 5.00168e+18, u'hash': u'0x26f559cf0d1bb981b3a17cf8f0851fd597a25764ba6e4c631425675526a760ba', u'blockTime': 2.0, u'extra': u'0x65746865726d696e652d657535', u'uncleHash': u'0x1dcc4de8dec75d7aab85b567b6ccd41ad312451b948a7413f0a142fd40d49347', u'parentHash': u'0x7cbd4242345f4dd2a40b47b9e420b6c55f729117b9c10f5c73fba4ed92318760', u'mixDigest': None, u'gasLimit': 6732113.0, u'number': 4291426.0, '_id': ObjectId('59c6eb7166a161d4969b852f'), u'difficulty': 2368285307608315.0, u'txHash': u'0x4e70ede2cc5e8e05b28e47f96d8cc712d33e38edb23ba699bf461f07a3abcaf8', u'time': u'2017-09-19T14:44:00.000Z', u'coinbase': u'0xea674fdde714fd979de3edf0f56aa9716b898ec8', u'tx_count': 7.0, u'size': 1305.0, u'root': u'0xa8e274689151733f2c08b7886dab2072e4c2a608d6f413d03fe7a9539136a420', u'totalFee': 1680000000000000.0, u'gasUsed': 147000.0}\n",
      "1\n",
      "E11000 duplicate key error collection: etherchain.blocks index: number_1 dup key: { : 4287747.0 }\n",
      "{u'nonce': u'0x8846819b600e12583e', u'uncle_count': 0.0, u'reward': 5.0421364831e+18, u'hash': u'0xb550c693488757327eab4edd8138e285573301443b23969cabee2e4e8a3871ca', u'blockTime': 6.0, u'extra': u'0xe4b883e5bda9e7a59ee4bb99e9b1bc', u'uncleHash': u'0x1dcc4de8dec75d7aab85b567b6ccd41ad312451b948a7413f0a142fd40d49347', u'parentHash': u'0x123ee54d4c9e9513bf7e134e1d3685c4b83cd07c0971ecfe65c665b3901b60a2', u'mixDigest': None, u'gasLimit': 6737294.0, u'number': 4287747.0, '_id': ObjectId('59c6eb7c66a161d4969b8530'), u'difficulty': 2402364668481274.0, u'txHash': u'0xb540061e7f02b4fb67784f48fee61b528d211eea2f550eab99cf1f027f1b5d02', u'time': u'2017-09-18T14:05:47.000Z', u'coinbase': u'0x829bd824b016326a401d083b33d092293333a830', u'tx_count': 60.0, u'size': 8689.0, u'root': u'0x1e14aaea01a2583b2abd340050a7d5922cecf6e302cd2a2182d2d450b23b00ed', u'totalFee': 4.21364831e+16, u'gasUsed': 1915734.0}\n",
      "2\n",
      "E11000 duplicate key error collection: etherchain.blocks index: number_1 dup key: { : 4292233.0 }\n",
      "{u'nonce': u'0x881b587100309a94bf', u'uncle_count': 0.0, u'reward': 5.0398941205e+18, u'hash': u'0x34c6454c0a3e01ec36501150fdf4c89e586b1a931532cc49e10054d40ec2601c', u'blockTime': 20.0, u'extra': u'0xe4b883e5bda9e7a59ee4bb99e9b1bc', u'uncleHash': u'0x1dcc4de8dec75d7aab85b567b6ccd41ad312451b948a7413f0a142fd40d49347', u'parentHash': u'0xec4a797cbb3cc85cc3ec8e82aae0395acac4a64a346436f1a853c92558ec330c', u'mixDigest': None, u'gasLimit': 6716390.0, u'number': 4292233.0, '_id': ObjectId('59c6eb8866a161d4969b8531'), u'difficulty': 2371308528642290.0, u'txHash': u'0x8fdac5cded8db269f2a0aa50e55994fbec004bd0e62ebe3e61f07a92f8177dbf', u'time': u'2017-09-19T20:08:15.000Z', u'coinbase': u'0x829bd824b016326a401d083b33d092293333a830', u'tx_count': 33.0, u'size': 5271.0, u'root': u'0xb22d5454d9460b40aa0a8b749afe7110d772b103cca9f4f00336937df1b56156', u'totalFee': 3.98941205e+16, u'gasUsed': 1200242.0}\n",
      "3\n",
      "E11000 duplicate key error collection: etherchain.blocks index: number_1 dup key: { : 4292170.0 }\n",
      "{u'nonce': u'0x88071410d004cf058e', u'uncle_count': 0.0, u'reward': 5.080975779971269e+18, u'hash': u'0x356a6477bda90f8175db35f26ac4d4a43377830c56df441be23617066909cff6', u'blockTime': 17.0, u'extra': u'0x657468706f6f6c2d6173696131', u'uncleHash': u'0x1dcc4de8dec75d7aab85b567b6ccd41ad312451b948a7413f0a142fd40d49347', u'parentHash': u'0x26d6d9165e608f3e6682ffa22b5b7aca2eb3e03ffc1e3b1829783745de354118', u'mixDigest': None, u'gasLimit': 6712392.0, u'number': 4292170.0, '_id': ObjectId('59c6eb9366a161d4969b8532'), u'difficulty': 2363221208354005.0, u'txHash': u'0x3cf6f8fb921c79d37f396fcaf1cbc56edcbaf61bfbe8268f50a24520651a2013', u'time': u'2017-09-19T19:43:59.000Z', u'coinbase': u'0x4bb96091ee9d802ed039c4d1a5f6216f90f81b01', u'tx_count': 126.0, u'size': 26683.0, u'root': u'0x97866d3d4b68bd2c262b19d5051f9f14c88cacd5c821e3a73eeafbc7984e72de', u'totalFee': 8.097577997126907e+16, u'gasUsed': 6646221.0}\n",
      "4\n",
      "E11000 duplicate key error collection: etherchain.blocks index: number_1 dup key: { : 4293390.0 }\n",
      "{u'nonce': u'0x880122a5a813d69f46', u'uncle_count': 0.0, u'reward': 5.025108219873445e+18, u'hash': u'0xe72731b2394dcf4337af5f0862589e36007ded2b57214e2b5796fea7e183b6b2', u'blockTime': 17.0, u'extra': u'0xd5830107028650617269747986312e31392e30826c69', u'uncleHash': u'0x1dcc4de8dec75d7aab85b567b6ccd41ad312451b948a7413f0a142fd40d49347', u'parentHash': u'0x0d42e65b29846ab58e6e54a337934ee84f5294663e49b32262642d9904bafad1', u'mixDigest': None, u'gasLimit': 6699331.0, u'number': 4293390.0, '_id': ObjectId('59c6eb9e66a161d4969b8533'), u'difficulty': 2344576143789923.0, u'txHash': u'0x3e68b43e8a8db4e3492e43c22b41e01a54bdc65ea2db8b4542b532405bd87a09', u'time': u'2017-09-20T03:49:18.000Z', u'coinbase': u'0x73b8865eda227d6fffabc83c78124dea8c347fea', u'tx_count': 23.0, u'size': 3534.0, u'root': u'0x9f6bc862c82ae596a2a6c03bfb02b21150e754c22557edaaa916df7ce71b8027', u'totalFee': 2.510821987344531e+16, u'gasUsed': 664608.0}\n",
      "5\n",
      "E11000 duplicate key error collection: etherchain.blocks index: number_1 dup key: { : 4291407.0 }\n",
      "{u'nonce': u'0x88a3d084d40d460e71', u'uncle_count': 0.0, u'reward': 5.145944515914423e+18, u'hash': u'0x43572f325cfffc7a08f038c18697af62dfb42b580c06f3736f1538009ff03bd1', u'blockTime': 10.0, u'extra': u'0x706f6f6c2e65746866616e732e6f726720284d4e323729', u'uncleHash': u'0x1dcc4de8dec75d7aab85b567b6ccd41ad312451b948a7413f0a142fd40d49347', u'parentHash': u'0xb9eb0e3e7715b2a71f28c46f6e0379a353d1b0e32d45706ce2f9cdc24c3dc0aa', u'mixDigest': None, u'gasLimit': 6732039.0, u'number': 4291407.0, '_id': ObjectId('59c6eba866a161d4969b8534'), u'difficulty': 2355495023646729.0, u'txHash': u'0x1e25d51981bd2e3d1d2c3798fc2edcd222a8378dc1a226dc2ccdddbd201ed273', u'time': u'2017-09-19T14:38:22.000Z', u'coinbase': u'0x90e4be5cd24970a87e23e281f3ad40a89558b433', u'tx_count': 42.0, u'size': 12308.0, u'root': u'0x9672fa93b9ac2e65017de13a36371e6d613cb1a1263df8566b2bfcb738dc4b11', u'totalFee': 1.4594451591442374e+17, u'gasUsed': 6675416.0}\n",
      "6\n",
      "E11000 duplicate key error collection: etherchain.blocks index: number_1 dup key: { : 4287569.0 }\n",
      "{u'nonce': u'0x886642495575d7cd2e', u'uncle_count': 0.0, u'reward': 5.014226464956991e+18, u'hash': u'0x9cf3244d8ed3aca023e4868ad5e63ac25feda417b6cd2d18cebb0018250b3d13', u'blockTime': 21.0, u'extra': u'0x65746865726d696e652d657537', u'uncleHash': u'0x1dcc4de8dec75d7aab85b567b6ccd41ad312451b948a7413f0a142fd40d49347', u'parentHash': u'0x1b6cec107ec8ac92ea0115a944172c1793b4082a5c1a04f8de3a899d23743552', u'mixDigest': None, u'gasLimit': 6712392.0, u'number': 4287569.0, '_id': ObjectId('59c6ebb466a161d4969b8535'), u'difficulty': 2410535559535820.0, u'txHash': u'0xd5477253d7847e13094158d659bb0460fc4adfec2721b306f0f43d6144714c9c', u'time': u'2017-09-18T12:53:02.000Z', u'coinbase': u'0xea674fdde714fd979de3edf0f56aa9716b898ec8', u'tx_count': 56.0, u'size': 6992.0, u'root': u'0xd026320022e2296520891b70990daed7d604bb63b6e64293935783980da1c93e', u'totalFee': 1.4226464956992e+16, u'gasUsed': 1297947.0}\n",
      "7\n",
      "E11000 duplicate key error collection: etherchain.blocks index: number_1 dup key: { : 4290994.0 }\n",
      "{u'nonce': u'0x88271f10b00358ab4d', u'uncle_count': 0.0, u'reward': 5.005537712e+18, u'hash': u'0x241aa174fdcf4c73e0439a79376a200eb69183ba1caff073ddac75be72a67a62', u'blockTime': 6.0, u'extra': u'0x65746865726d696e652d657537', u'uncleHash': u'0x1dcc4de8dec75d7aab85b567b6ccd41ad312451b948a7413f0a142fd40d49347', u'parentHash': u'0x036d5a46c6a28c2469944c3ba541019fc90178b1588bd94e1f0cbbe7b33e9a09', u'mixDigest': None, u'gasLimit': 6725527.0, u'number': 4290994.0, '_id': ObjectId('59c6ebbe66a161d4969b8536'), u'difficulty': 2371271682532411.0, u'txHash': u'0x213d09f056cf61036bbbb4b3a7343f5284e1865e706d0cb8d9f6180ef88a9c82', u'time': u'2017-09-19T11:53:31.000Z', u'coinbase': u'0xea674fdde714fd979de3edf0f56aa9716b898ec8', u'tx_count': 15.0, u'size': 2330.0, u'root': u'0x9c8d6525c0592a50c6d1c3307c9526c2280d6ece2e353dc53c653adfe0e51225', u'totalFee': 5537712000000000.0, u'gasUsed': 333984.0}\n",
      "8\n"
     ]
    },
    {
     "ename": "KeyboardInterrupt",
     "evalue": "",
     "output_type": "error",
     "traceback": [
      "\u001b[0;31m---------------------------------------------------------------------------\u001b[0m",
      "\u001b[0;31mKeyboardInterrupt\u001b[0m                         Traceback (most recent call last)",
      "\u001b[0;32m<ipython-input-21-ff8dce7fa4fb>\u001b[0m in \u001b[0;36m<module>\u001b[0;34m()\u001b[0m\n\u001b[0;32m----> 1\u001b[0;31m \u001b[0mcall_api_blocks\u001b[0m\u001b[0;34m(\u001b[0m\u001b[0mb\u001b[0m\u001b[0;34m)\u001b[0m\u001b[0;34m\u001b[0m\u001b[0m\n\u001b[0m",
      "\u001b[0;32m<ipython-input-20-e4308854aee5>\u001b[0m in \u001b[0;36mcall_api_blocks\u001b[0;34m(b)\u001b[0m\n\u001b[1;32m     55\u001b[0m             \u001b[0mx\u001b[0m \u001b[0;34m+=\u001b[0m \u001b[0;36m1\u001b[0m\u001b[0;34m\u001b[0m\u001b[0m\n\u001b[1;32m     56\u001b[0m             \u001b[0;32mprint\u001b[0m\u001b[0;34m(\u001b[0m\u001b[0mx\u001b[0m\u001b[0;34m)\u001b[0m\u001b[0;34m\u001b[0m\u001b[0m\n\u001b[0;32m---> 57\u001b[0;31m             \u001b[0mtime\u001b[0m\u001b[0;34m.\u001b[0m\u001b[0msleep\u001b[0m\u001b[0;34m(\u001b[0m\u001b[0;36m10\u001b[0m\u001b[0;34m)\u001b[0m\u001b[0;34m\u001b[0m\u001b[0m\n\u001b[0m",
      "\u001b[0;31mKeyboardInterrupt\u001b[0m: "
     ]
    }
   ],
   "source": [
    "call_api_blocks(b)"
   ]
  },
  {
   "cell_type": "code",
   "execution_count": 10,
   "metadata": {
    "collapsed": false
   },
   "outputs": [
    {
     "data": {
      "text/plain": [
       "u'number_1'"
      ]
     },
     "execution_count": 10,
     "metadata": {},
     "output_type": "execute_result"
    }
   ],
   "source": [
    "# import MongoDB modules\n",
    "from pymongo import MongoClient\n",
    "import requests\n",
    "import time\n",
    "\n",
    "# connect to the hosted MongoDB instance\n",
    "client = MongoClient()\n",
    "db = client['etherchain']\n",
    "collection = db['blocks_2']\n",
    "collection.create_index([('number', 1)], unique=True)"
   ]
  },
  {
   "cell_type": "code",
   "execution_count": 11,
   "metadata": {
    "collapsed": false
   },
   "outputs": [
    {
     "data": {
      "text/plain": [
       "626660"
      ]
     },
     "execution_count": 11,
     "metadata": {},
     "output_type": "execute_result"
    }
   ],
   "source": [
    "collection.count()"
   ]
  },
  {
   "cell_type": "code",
   "execution_count": 12,
   "metadata": {
    "collapsed": true
   },
   "outputs": [],
   "source": [
    "def collect_blocks(count, offset):\n",
    "    \"\"\"\n",
    "    DESCRIPTION:\n",
    "        Collects blockchain transaction data from etherchain.org API\n",
    "        https://etherchain.org/documentation/api/\n",
    "    \n",
    "    INPUT:\n",
    "        - offset: the number of txs to skip\n",
    "        - count: the number of txs to return (max 100 blocks per request)\n",
    "        - sleeptime: number of seconds to sleep between api requests\n",
    "    OUTPUT:\n",
    "        - stores each blockchain transaction as a document in a MongoDB collection\n",
    "    \"\"\"\n",
    "    \n",
    "    BASE_URL = 'https://etherchain.org/api/blocks/{}/{}'.format(offset, count)\n",
    "    r = requests.get(BASE_URL)\n",
    "\n",
    "    if r.status_code != 200:\n",
    "        print('status code = {}'.format(r.status_code))\n",
    "\n",
    "    else:\n",
    "    # store each transaction block in our mongo database\n",
    "        r = convert_price(r.json())\n",
    "\n",
    "        for row in range(len(r['data'])):\n",
    "            try:\n",
    "\n",
    "                collection.insert_one(r['data'][row])\n",
    "\n",
    "            except Exception as e:\n",
    "                print e\n",
    "                #print(r['data'][row])\n",
    "                #pass\n",
    "        \n",
    "def convert_price(json_dict):\n",
    "    \n",
    "    for tx in json_dict['data']:\n",
    "        #tx['blockTime'] = float(tx['blockTime'])\n",
    "        #tx['gasLimit'] = float(tx['gasLimit'])\n",
    "        #tx['gasUsed'] = float(tx['gasUsed'])\n",
    "        #tx['number'] = float(tx['number'])\n",
    "        #tx['size'] = float(tx['size'])\n",
    "        #tx['tx_count'] = float(tx['tx_count'])\n",
    "        #tx['uncle_count'] = float(tx['uncle_count'])\n",
    "        tx['reward'] = float(tx['reward'])\n",
    "        tx['totalFee'] = float(tx['totalFee'])\n",
    "        tx['difficulty'] = float(tx['difficulty'])\n",
    "    \n",
    "        return json_dict\n",
    "\n",
    "def call_api_blocks():\n",
    "    \n",
    "    offset = 1253000\n",
    "    while True:\n",
    "        collect_blocks(100, offset)\n",
    "        offset += 200\n",
    "        if offset % 1000 == 0:\n",
    "            print('offset: {}'.format(offset))\n",
    "        time.sleep(20)"
   ]
  },
  {
   "cell_type": "code",
   "execution_count": 13,
   "metadata": {
    "collapsed": false
   },
   "outputs": [
    {
     "name": "stdout",
     "output_type": "stream",
     "text": [
      "E11000 duplicate key error collection: etherchain.blocks_2 index: number_1 dup key: { : 3059637 }\n",
      "E11000 duplicate key error collection: etherchain.blocks_2 index: number_1 dup key: { : 3059636 }\n",
      "E11000 duplicate key error collection: etherchain.blocks_2 index: number_1 dup key: { : 3059635 }\n",
      "E11000 duplicate key error collection: etherchain.blocks_2 index: number_1 dup key: { : 3059634 }\n",
      "E11000 duplicate key error collection: etherchain.blocks_2 index: number_1 dup key: { : 3059633 }\n",
      "E11000 duplicate key error collection: etherchain.blocks_2 index: number_1 dup key: { : 3059632 }\n",
      "E11000 duplicate key error collection: etherchain.blocks_2 index: number_1 dup key: { : 3059631 }\n",
      "E11000 duplicate key error collection: etherchain.blocks_2 index: number_1 dup key: { : 3059630 }\n",
      "E11000 duplicate key error collection: etherchain.blocks_2 index: number_1 dup key: { : 3059629 }\n",
      "E11000 duplicate key error collection: etherchain.blocks_2 index: number_1 dup key: { : 3059628 }\n",
      "E11000 duplicate key error collection: etherchain.blocks_2 index: number_1 dup key: { : 3059627 }\n",
      "E11000 duplicate key error collection: etherchain.blocks_2 index: number_1 dup key: { : 3059626 }\n",
      "E11000 duplicate key error collection: etherchain.blocks_2 index: number_1 dup key: { : 3059625 }\n",
      "E11000 duplicate key error collection: etherchain.blocks_2 index: number_1 dup key: { : 3059624 }\n",
      "E11000 duplicate key error collection: etherchain.blocks_2 index: number_1 dup key: { : 3059623 }\n",
      "E11000 duplicate key error collection: etherchain.blocks_2 index: number_1 dup key: { : 3059622 }\n",
      "E11000 duplicate key error collection: etherchain.blocks_2 index: number_1 dup key: { : 3059621 }\n",
      "E11000 duplicate key error collection: etherchain.blocks_2 index: number_1 dup key: { : 3059620 }\n",
      "E11000 duplicate key error collection: etherchain.blocks_2 index: number_1 dup key: { : 3059619 }\n",
      "E11000 duplicate key error collection: etherchain.blocks_2 index: number_1 dup key: { : 3059618 }\n",
      "E11000 duplicate key error collection: etherchain.blocks_2 index: number_1 dup key: { : 3059617 }\n",
      "E11000 duplicate key error collection: etherchain.blocks_2 index: number_1 dup key: { : 3059616 }\n",
      "E11000 duplicate key error collection: etherchain.blocks_2 index: number_1 dup key: { : 3059615 }\n",
      "E11000 duplicate key error collection: etherchain.blocks_2 index: number_1 dup key: { : 3059614 }\n",
      "E11000 duplicate key error collection: etherchain.blocks_2 index: number_1 dup key: { : 3059613 }\n",
      "E11000 duplicate key error collection: etherchain.blocks_2 index: number_1 dup key: { : 3059612 }\n",
      "E11000 duplicate key error collection: etherchain.blocks_2 index: number_1 dup key: { : 3059611 }\n",
      "E11000 duplicate key error collection: etherchain.blocks_2 index: number_1 dup key: { : 3059610 }\n",
      "E11000 duplicate key error collection: etherchain.blocks_2 index: number_1 dup key: { : 3059609 }\n",
      "E11000 duplicate key error collection: etherchain.blocks_2 index: number_1 dup key: { : 3059608 }\n",
      "E11000 duplicate key error collection: etherchain.blocks_2 index: number_1 dup key: { : 3059607 }\n",
      "E11000 duplicate key error collection: etherchain.blocks_2 index: number_1 dup key: { : 3059606 }\n",
      "E11000 duplicate key error collection: etherchain.blocks_2 index: number_1 dup key: { : 3059605 }\n",
      "E11000 duplicate key error collection: etherchain.blocks_2 index: number_1 dup key: { : 3059604 }\n",
      "E11000 duplicate key error collection: etherchain.blocks_2 index: number_1 dup key: { : 3059603 }\n",
      "E11000 duplicate key error collection: etherchain.blocks_2 index: number_1 dup key: { : 3059602 }\n",
      "E11000 duplicate key error collection: etherchain.blocks_2 index: number_1 dup key: { : 3059601 }\n",
      "E11000 duplicate key error collection: etherchain.blocks_2 index: number_1 dup key: { : 3059600 }\n",
      "E11000 duplicate key error collection: etherchain.blocks_2 index: number_1 dup key: { : 3059599 }\n",
      "E11000 duplicate key error collection: etherchain.blocks_2 index: number_1 dup key: { : 3059598 }\n",
      "E11000 duplicate key error collection: etherchain.blocks_2 index: number_1 dup key: { : 3059597 }\n",
      "E11000 duplicate key error collection: etherchain.blocks_2 index: number_1 dup key: { : 3059596 }\n",
      "E11000 duplicate key error collection: etherchain.blocks_2 index: number_1 dup key: { : 3059595 }\n",
      "E11000 duplicate key error collection: etherchain.blocks_2 index: number_1 dup key: { : 3059594 }\n",
      "E11000 duplicate key error collection: etherchain.blocks_2 index: number_1 dup key: { : 3059593 }\n",
      "E11000 duplicate key error collection: etherchain.blocks_2 index: number_1 dup key: { : 3059592 }\n",
      "E11000 duplicate key error collection: etherchain.blocks_2 index: number_1 dup key: { : 3059591 }\n",
      "E11000 duplicate key error collection: etherchain.blocks_2 index: number_1 dup key: { : 3059590 }\n",
      "E11000 duplicate key error collection: etherchain.blocks_2 index: number_1 dup key: { : 3059589 }\n",
      "E11000 duplicate key error collection: etherchain.blocks_2 index: number_1 dup key: { : 3059588 }\n",
      "E11000 duplicate key error collection: etherchain.blocks_2 index: number_1 dup key: { : 3059587 }\n",
      "E11000 duplicate key error collection: etherchain.blocks_2 index: number_1 dup key: { : 3059586 }\n",
      "E11000 duplicate key error collection: etherchain.blocks_2 index: number_1 dup key: { : 3059585 }\n",
      "E11000 duplicate key error collection: etherchain.blocks_2 index: number_1 dup key: { : 3059584 }\n",
      "E11000 duplicate key error collection: etherchain.blocks_2 index: number_1 dup key: { : 3059583 }\n",
      "E11000 duplicate key error collection: etherchain.blocks_2 index: number_1 dup key: { : 3059582 }\n",
      "E11000 duplicate key error collection: etherchain.blocks_2 index: number_1 dup key: { : 3059581 }\n",
      "E11000 duplicate key error collection: etherchain.blocks_2 index: number_1 dup key: { : 3059580 }\n",
      "E11000 duplicate key error collection: etherchain.blocks_2 index: number_1 dup key: { : 3059579 }\n",
      "E11000 duplicate key error collection: etherchain.blocks_2 index: number_1 dup key: { : 3059578 }\n",
      "E11000 duplicate key error collection: etherchain.blocks_2 index: number_1 dup key: { : 3059577 }\n",
      "E11000 duplicate key error collection: etherchain.blocks_2 index: number_1 dup key: { : 3059576 }\n",
      "E11000 duplicate key error collection: etherchain.blocks_2 index: number_1 dup key: { : 3059575 }\n",
      "E11000 duplicate key error collection: etherchain.blocks_2 index: number_1 dup key: { : 3059574 }\n",
      "E11000 duplicate key error collection: etherchain.blocks_2 index: number_1 dup key: { : 3059573 }\n",
      "E11000 duplicate key error collection: etherchain.blocks_2 index: number_1 dup key: { : 3059572 }\n",
      "E11000 duplicate key error collection: etherchain.blocks_2 index: number_1 dup key: { : 3059571 }\n",
      "E11000 duplicate key error collection: etherchain.blocks_2 index: number_1 dup key: { : 3059570 }\n",
      "E11000 duplicate key error collection: etherchain.blocks_2 index: number_1 dup key: { : 3059569 }\n",
      "E11000 duplicate key error collection: etherchain.blocks_2 index: number_1 dup key: { : 3059437 }\n",
      "E11000 duplicate key error collection: etherchain.blocks_2 index: number_1 dup key: { : 3059436 }\n",
      "E11000 duplicate key error collection: etherchain.blocks_2 index: number_1 dup key: { : 3059435 }\n",
      "E11000 duplicate key error collection: etherchain.blocks_2 index: number_1 dup key: { : 3059434 }\n",
      "E11000 duplicate key error collection: etherchain.blocks_2 index: number_1 dup key: { : 3059433 }\n",
      "E11000 duplicate key error collection: etherchain.blocks_2 index: number_1 dup key: { : 3059432 }\n",
      "E11000 duplicate key error collection: etherchain.blocks_2 index: number_1 dup key: { : 3059431 }\n",
      "E11000 duplicate key error collection: etherchain.blocks_2 index: number_1 dup key: { : 3059430 }\n",
      "E11000 duplicate key error collection: etherchain.blocks_2 index: number_1 dup key: { : 3059429 }\n",
      "E11000 duplicate key error collection: etherchain.blocks_2 index: number_1 dup key: { : 3059428 }\n",
      "E11000 duplicate key error collection: etherchain.blocks_2 index: number_1 dup key: { : 3059427 }\n",
      "E11000 duplicate key error collection: etherchain.blocks_2 index: number_1 dup key: { : 3059426 }\n",
      "E11000 duplicate key error collection: etherchain.blocks_2 index: number_1 dup key: { : 3059425 }\n",
      "E11000 duplicate key error collection: etherchain.blocks_2 index: number_1 dup key: { : 3059424 }\n",
      "E11000 duplicate key error collection: etherchain.blocks_2 index: number_1 dup key: { : 3059423 }\n",
      "E11000 duplicate key error collection: etherchain.blocks_2 index: number_1 dup key: { : 3059422 }\n",
      "E11000 duplicate key error collection: etherchain.blocks_2 index: number_1 dup key: { : 3059421 }\n",
      "E11000 duplicate key error collection: etherchain.blocks_2 index: number_1 dup key: { : 3059420 }\n",
      "E11000 duplicate key error collection: etherchain.blocks_2 index: number_1 dup key: { : 3059419 }\n",
      "E11000 duplicate key error collection: etherchain.blocks_2 index: number_1 dup key: { : 3059418 }\n",
      "E11000 duplicate key error collection: etherchain.blocks_2 index: number_1 dup key: { : 3059417 }\n",
      "E11000 duplicate key error collection: etherchain.blocks_2 index: number_1 dup key: { : 3059416 }\n",
      "E11000 duplicate key error collection: etherchain.blocks_2 index: number_1 dup key: { : 3059415 }\n",
      "E11000 duplicate key error collection: etherchain.blocks_2 index: number_1 dup key: { : 3059414 }\n",
      "E11000 duplicate key error collection: etherchain.blocks_2 index: number_1 dup key: { : 3059413 }\n",
      "E11000 duplicate key error collection: etherchain.blocks_2 index: number_1 dup key: { : 3059412 }\n",
      "E11000 duplicate key error collection: etherchain.blocks_2 index: number_1 dup key: { : 3059411 }\n",
      "E11000 duplicate key error collection: etherchain.blocks_2 index: number_1 dup key: { : 3059410 }\n",
      "E11000 duplicate key error collection: etherchain.blocks_2 index: number_1 dup key: { : 3059409 }\n",
      "E11000 duplicate key error collection: etherchain.blocks_2 index: number_1 dup key: { : 3059408 }\n",
      "E11000 duplicate key error collection: etherchain.blocks_2 index: number_1 dup key: { : 3059407 }\n",
      "E11000 duplicate key error collection: etherchain.blocks_2 index: number_1 dup key: { : 3059406 }\n",
      "E11000 duplicate key error collection: etherchain.blocks_2 index: number_1 dup key: { : 3059405 }\n",
      "E11000 duplicate key error collection: etherchain.blocks_2 index: number_1 dup key: { : 3059404 }\n",
      "E11000 duplicate key error collection: etherchain.blocks_2 index: number_1 dup key: { : 3059403 }\n",
      "E11000 duplicate key error collection: etherchain.blocks_2 index: number_1 dup key: { : 3059402 }\n",
      "E11000 duplicate key error collection: etherchain.blocks_2 index: number_1 dup key: { : 3059401 }\n",
      "E11000 duplicate key error collection: etherchain.blocks_2 index: number_1 dup key: { : 3059400 }\n",
      "E11000 duplicate key error collection: etherchain.blocks_2 index: number_1 dup key: { : 3059399 }\n",
      "E11000 duplicate key error collection: etherchain.blocks_2 index: number_1 dup key: { : 3059398 }\n",
      "E11000 duplicate key error collection: etherchain.blocks_2 index: number_1 dup key: { : 3059397 }\n",
      "E11000 duplicate key error collection: etherchain.blocks_2 index: number_1 dup key: { : 3059396 }\n",
      "E11000 duplicate key error collection: etherchain.blocks_2 index: number_1 dup key: { : 3059395 }\n",
      "E11000 duplicate key error collection: etherchain.blocks_2 index: number_1 dup key: { : 3059394 }\n",
      "E11000 duplicate key error collection: etherchain.blocks_2 index: number_1 dup key: { : 3059393 }\n",
      "E11000 duplicate key error collection: etherchain.blocks_2 index: number_1 dup key: { : 3059392 }\n",
      "E11000 duplicate key error collection: etherchain.blocks_2 index: number_1 dup key: { : 3059391 }\n",
      "E11000 duplicate key error collection: etherchain.blocks_2 index: number_1 dup key: { : 3059390 }\n",
      "E11000 duplicate key error collection: etherchain.blocks_2 index: number_1 dup key: { : 3059389 }\n",
      "E11000 duplicate key error collection: etherchain.blocks_2 index: number_1 dup key: { : 3059388 }\n",
      "E11000 duplicate key error collection: etherchain.blocks_2 index: number_1 dup key: { : 3059387 }\n",
      "E11000 duplicate key error collection: etherchain.blocks_2 index: number_1 dup key: { : 3059386 }\n",
      "E11000 duplicate key error collection: etherchain.blocks_2 index: number_1 dup key: { : 3059385 }\n",
      "E11000 duplicate key error collection: etherchain.blocks_2 index: number_1 dup key: { : 3059384 }\n",
      "E11000 duplicate key error collection: etherchain.blocks_2 index: number_1 dup key: { : 3059383 }\n",
      "E11000 duplicate key error collection: etherchain.blocks_2 index: number_1 dup key: { : 3059382 }\n",
      "E11000 duplicate key error collection: etherchain.blocks_2 index: number_1 dup key: { : 3059381 }\n",
      "E11000 duplicate key error collection: etherchain.blocks_2 index: number_1 dup key: { : 3059380 }\n",
      "E11000 duplicate key error collection: etherchain.blocks_2 index: number_1 dup key: { : 3059379 }\n",
      "E11000 duplicate key error collection: etherchain.blocks_2 index: number_1 dup key: { : 3059378 }\n",
      "E11000 duplicate key error collection: etherchain.blocks_2 index: number_1 dup key: { : 3059377 }\n",
      "E11000 duplicate key error collection: etherchain.blocks_2 index: number_1 dup key: { : 3059376 }\n",
      "E11000 duplicate key error collection: etherchain.blocks_2 index: number_1 dup key: { : 3059375 }\n",
      "E11000 duplicate key error collection: etherchain.blocks_2 index: number_1 dup key: { : 3059374 }\n",
      "E11000 duplicate key error collection: etherchain.blocks_2 index: number_1 dup key: { : 3059373 }\n",
      "E11000 duplicate key error collection: etherchain.blocks_2 index: number_1 dup key: { : 3059372 }\n",
      "E11000 duplicate key error collection: etherchain.blocks_2 index: number_1 dup key: { : 3059371 }\n",
      "E11000 duplicate key error collection: etherchain.blocks_2 index: number_1 dup key: { : 3059370 }\n",
      "offset: 1254000\n",
      "offset: 1255000\n",
      "offset: 1256000\n",
      "offset: 1257000\n",
      "offset: 1258000\n",
      "offset: 1259000\n",
      "offset: 1260000\n",
      "offset: 1261000\n",
      "offset: 1262000\n",
      "offset: 1263000\n",
      "offset: 1264000\n",
      "offset: 1265000\n",
      "offset: 1266000\n",
      "offset: 1267000\n",
      "offset: 1268000\n",
      "offset: 1269000\n",
      "offset: 1270000\n",
      "offset: 1271000\n",
      "offset: 1272000\n",
      "offset: 1273000\n",
      "offset: 1274000\n",
      "offset: 1275000\n",
      "offset: 1276000\n",
      "offset: 1277000\n",
      "offset: 1278000\n",
      "offset: 1279000\n",
      "offset: 1280000\n",
      "offset: 1281000\n",
      "offset: 1282000\n",
      "offset: 1283000\n",
      "offset: 1284000\n",
      "offset: 1285000\n",
      "offset: 1286000\n",
      "offset: 1287000\n",
      "offset: 1288000\n",
      "offset: 1289000\n",
      "offset: 1290000\n",
      "offset: 1291000\n",
      "offset: 1292000\n",
      "offset: 1293000\n",
      "offset: 1294000\n",
      "offset: 1295000\n",
      "offset: 1296000\n",
      "offset: 1297000\n",
      "offset: 1298000\n",
      "offset: 1299000\n",
      "offset: 1300000\n",
      "offset: 1301000\n",
      "offset: 1302000\n",
      "offset: 1303000\n",
      "offset: 1304000\n",
      "offset: 1305000\n",
      "offset: 1306000\n",
      "offset: 1307000\n",
      "offset: 1308000\n",
      "offset: 1309000\n",
      "offset: 1310000\n",
      "offset: 1311000\n",
      "offset: 1312000\n",
      "offset: 1313000\n",
      "offset: 1314000\n",
      "offset: 1315000\n",
      "offset: 1316000\n",
      "offset: 1317000\n",
      "offset: 1318000\n",
      "offset: 1319000\n",
      "offset: 1320000\n",
      "offset: 1321000\n",
      "offset: 1322000\n",
      "offset: 1323000\n",
      "offset: 1324000\n",
      "offset: 1325000\n",
      "offset: 1326000\n",
      "offset: 1327000\n",
      "offset: 1328000\n",
      "offset: 1329000\n",
      "offset: 1330000\n",
      "offset: 1331000\n",
      "offset: 1332000\n",
      "offset: 1333000\n",
      "offset: 1334000\n",
      "offset: 1335000\n",
      "offset: 1336000\n",
      "offset: 1337000\n",
      "offset: 1338000\n",
      "offset: 1339000\n",
      "offset: 1340000\n",
      "offset: 1341000\n",
      "offset: 1342000\n",
      "offset: 1343000\n",
      "offset: 1344000\n",
      "offset: 1345000\n",
      "offset: 1346000\n",
      "offset: 1347000\n",
      "offset: 1348000\n",
      "offset: 1349000\n",
      "offset: 1350000\n",
      "offset: 1351000\n",
      "offset: 1352000\n",
      "offset: 1353000\n",
      "offset: 1354000\n",
      "offset: 1355000\n",
      "offset: 1356000\n",
      "offset: 1357000\n",
      "offset: 1358000\n",
      "offset: 1359000\n",
      "offset: 1360000\n",
      "offset: 1361000\n",
      "offset: 1362000\n",
      "offset: 1363000\n",
      "offset: 1364000\n",
      "offset: 1365000\n",
      "offset: 1366000\n",
      "offset: 1367000\n",
      "offset: 1368000\n",
      "offset: 1369000\n",
      "offset: 1370000\n",
      "offset: 1371000\n",
      "offset: 1372000\n",
      "offset: 1373000\n",
      "offset: 1374000\n",
      "offset: 1375000\n",
      "offset: 1376000\n",
      "offset: 1377000\n",
      "offset: 1378000\n",
      "offset: 1379000\n",
      "offset: 1380000\n",
      "offset: 1381000\n",
      "offset: 1382000\n",
      "offset: 1383000\n",
      "offset: 1384000\n",
      "offset: 1385000\n",
      "offset: 1386000\n",
      "offset: 1387000\n",
      "offset: 1388000\n",
      "offset: 1389000\n",
      "offset: 1390000\n",
      "offset: 1391000\n",
      "offset: 1392000\n",
      "offset: 1393000\n",
      "offset: 1394000\n",
      "status code = 502\n",
      "offset: 1395000\n",
      "offset: 1396000\n",
      "offset: 1397000\n",
      "offset: 1398000\n",
      "offset: 1399000\n",
      "offset: 1400000\n",
      "offset: 1401000\n",
      "offset: 1402000\n",
      "offset: 1403000\n",
      "offset: 1404000\n",
      "offset: 1405000\n",
      "offset: 1406000\n",
      "offset: 1407000\n",
      "offset: 1408000\n",
      "offset: 1409000\n",
      "offset: 1410000\n",
      "offset: 1411000\n",
      "offset: 1412000\n",
      "offset: 1413000\n",
      "offset: 1414000\n",
      "offset: 1415000\n",
      "offset: 1416000\n",
      "offset: 1417000\n",
      "offset: 1418000\n",
      "offset: 1419000\n",
      "offset: 1420000\n",
      "offset: 1421000\n",
      "offset: 1422000\n",
      "offset: 1423000\n",
      "offset: 1424000\n",
      "offset: 1425000\n",
      "offset: 1426000\n",
      "offset: 1427000\n",
      "offset: 1428000\n",
      "offset: 1429000\n",
      "offset: 1430000\n",
      "offset: 1431000\n",
      "offset: 1432000\n",
      "offset: 1433000\n",
      "offset: 1434000\n",
      "offset: 1435000\n",
      "offset: 1436000\n",
      "offset: 1437000\n",
      "offset: 1438000\n",
      "offset: 1439000\n",
      "offset: 1440000\n",
      "offset: 1441000\n",
      "offset: 1442000\n",
      "offset: 1443000\n",
      "offset: 1444000\n",
      "offset: 1445000\n",
      "offset: 1446000\n",
      "offset: 1447000\n",
      "offset: 1448000\n",
      "offset: 1449000\n",
      "offset: 1450000\n",
      "offset: 1451000\n",
      "offset: 1452000\n",
      "offset: 1453000\n",
      "offset: 1454000\n",
      "offset: 1455000\n",
      "offset: 1456000\n",
      "offset: 1457000\n",
      "offset: 1458000\n",
      "offset: 1459000\n",
      "offset: 1460000\n",
      "offset: 1461000\n",
      "offset: 1462000\n",
      "offset: 1463000\n",
      "offset: 1464000\n",
      "offset: 1465000\n",
      "offset: 1466000\n",
      "offset: 1467000\n",
      "offset: 1468000\n",
      "offset: 1469000\n",
      "offset: 1470000\n",
      "offset: 1471000\n",
      "offset: 1472000\n",
      "offset: 1473000\n",
      "offset: 1474000\n",
      "offset: 1475000\n",
      "offset: 1476000\n",
      "offset: 1477000\n",
      "offset: 1478000\n",
      "offset: 1479000\n",
      "offset: 1480000\n",
      "offset: 1481000\n",
      "offset: 1482000\n",
      "offset: 1483000\n",
      "offset: 1484000\n",
      "offset: 1485000\n",
      "offset: 1486000\n",
      "offset: 1487000\n",
      "offset: 1488000\n",
      "offset: 1489000\n",
      "offset: 1490000\n",
      "offset: 1491000\n",
      "status code = 502\n",
      "status code = 502\n",
      "offset: 1492000\n",
      "offset: 1493000\n",
      "offset: 1494000\n",
      "offset: 1495000\n",
      "offset: 1496000\n",
      "offset: 1497000\n",
      "offset: 1498000\n",
      "offset: 1499000\n",
      "offset: 1500000\n",
      "offset: 1501000\n",
      "offset: 1502000\n",
      "offset: 1503000\n"
     ]
    },
    {
     "ename": "ConnectionError",
     "evalue": "HTTPSConnectionPool(host='etherchain.org', port=443): Max retries exceeded with url: /api/blocks/1503000/100 (Caused by NewConnectionError('<urllib3.connection.VerifiedHTTPSConnection object at 0x10e7f5190>: Failed to establish a new connection: [Errno 65] No route to host',))",
     "output_type": "error",
     "traceback": [
      "\u001b[0;31m---------------------------------------------------------------------------\u001b[0m",
      "\u001b[0;31mConnectionError\u001b[0m                           Traceback (most recent call last)",
      "\u001b[0;32m<ipython-input-13-1e1d4cfb1e18>\u001b[0m in \u001b[0;36m<module>\u001b[0;34m()\u001b[0m\n\u001b[0;32m----> 1\u001b[0;31m \u001b[0mcall_api_blocks\u001b[0m\u001b[0;34m(\u001b[0m\u001b[0;34m)\u001b[0m\u001b[0;34m\u001b[0m\u001b[0m\n\u001b[0m",
      "\u001b[0;32m<ipython-input-12-94b37534c06c>\u001b[0m in \u001b[0;36mcall_api_blocks\u001b[0;34m()\u001b[0m\n\u001b[1;32m     53\u001b[0m     \u001b[0moffset\u001b[0m \u001b[0;34m=\u001b[0m \u001b[0;36m1253000\u001b[0m\u001b[0;34m\u001b[0m\u001b[0m\n\u001b[1;32m     54\u001b[0m     \u001b[0;32mwhile\u001b[0m \u001b[0mTrue\u001b[0m\u001b[0;34m:\u001b[0m\u001b[0;34m\u001b[0m\u001b[0m\n\u001b[0;32m---> 55\u001b[0;31m         \u001b[0mcollect_blocks\u001b[0m\u001b[0;34m(\u001b[0m\u001b[0;36m100\u001b[0m\u001b[0;34m,\u001b[0m \u001b[0moffset\u001b[0m\u001b[0;34m)\u001b[0m\u001b[0;34m\u001b[0m\u001b[0m\n\u001b[0m\u001b[1;32m     56\u001b[0m         \u001b[0moffset\u001b[0m \u001b[0;34m+=\u001b[0m \u001b[0;36m200\u001b[0m\u001b[0;34m\u001b[0m\u001b[0m\n\u001b[1;32m     57\u001b[0m         \u001b[0;32mif\u001b[0m \u001b[0moffset\u001b[0m \u001b[0;34m%\u001b[0m \u001b[0;36m1000\u001b[0m \u001b[0;34m==\u001b[0m \u001b[0;36m0\u001b[0m\u001b[0;34m:\u001b[0m\u001b[0;34m\u001b[0m\u001b[0m\n",
      "\u001b[0;32m<ipython-input-12-94b37534c06c>\u001b[0m in \u001b[0;36mcollect_blocks\u001b[0;34m(count, offset)\u001b[0m\n\u001b[1;32m     14\u001b[0m \u001b[0;34m\u001b[0m\u001b[0m\n\u001b[1;32m     15\u001b[0m     \u001b[0mBASE_URL\u001b[0m \u001b[0;34m=\u001b[0m \u001b[0;34m'https://etherchain.org/api/blocks/{}/{}'\u001b[0m\u001b[0;34m.\u001b[0m\u001b[0mformat\u001b[0m\u001b[0;34m(\u001b[0m\u001b[0moffset\u001b[0m\u001b[0;34m,\u001b[0m \u001b[0mcount\u001b[0m\u001b[0;34m)\u001b[0m\u001b[0;34m\u001b[0m\u001b[0m\n\u001b[0;32m---> 16\u001b[0;31m     \u001b[0mr\u001b[0m \u001b[0;34m=\u001b[0m \u001b[0mrequests\u001b[0m\u001b[0;34m.\u001b[0m\u001b[0mget\u001b[0m\u001b[0;34m(\u001b[0m\u001b[0mBASE_URL\u001b[0m\u001b[0;34m)\u001b[0m\u001b[0;34m\u001b[0m\u001b[0m\n\u001b[0m\u001b[1;32m     17\u001b[0m \u001b[0;34m\u001b[0m\u001b[0m\n\u001b[1;32m     18\u001b[0m     \u001b[0;32mif\u001b[0m \u001b[0mr\u001b[0m\u001b[0;34m.\u001b[0m\u001b[0mstatus_code\u001b[0m \u001b[0;34m!=\u001b[0m \u001b[0;36m200\u001b[0m\u001b[0;34m:\u001b[0m\u001b[0;34m\u001b[0m\u001b[0m\n",
      "\u001b[0;32m//anaconda/lib/python2.7/site-packages/requests/api.pyc\u001b[0m in \u001b[0;36mget\u001b[0;34m(url, params, **kwargs)\u001b[0m\n\u001b[1;32m     70\u001b[0m \u001b[0;34m\u001b[0m\u001b[0m\n\u001b[1;32m     71\u001b[0m     \u001b[0mkwargs\u001b[0m\u001b[0;34m.\u001b[0m\u001b[0msetdefault\u001b[0m\u001b[0;34m(\u001b[0m\u001b[0;34m'allow_redirects'\u001b[0m\u001b[0;34m,\u001b[0m \u001b[0mTrue\u001b[0m\u001b[0;34m)\u001b[0m\u001b[0;34m\u001b[0m\u001b[0m\n\u001b[0;32m---> 72\u001b[0;31m     \u001b[0;32mreturn\u001b[0m \u001b[0mrequest\u001b[0m\u001b[0;34m(\u001b[0m\u001b[0;34m'get'\u001b[0m\u001b[0;34m,\u001b[0m \u001b[0murl\u001b[0m\u001b[0;34m,\u001b[0m \u001b[0mparams\u001b[0m\u001b[0;34m=\u001b[0m\u001b[0mparams\u001b[0m\u001b[0;34m,\u001b[0m \u001b[0;34m**\u001b[0m\u001b[0mkwargs\u001b[0m\u001b[0;34m)\u001b[0m\u001b[0;34m\u001b[0m\u001b[0m\n\u001b[0m\u001b[1;32m     73\u001b[0m \u001b[0;34m\u001b[0m\u001b[0m\n\u001b[1;32m     74\u001b[0m \u001b[0;34m\u001b[0m\u001b[0m\n",
      "\u001b[0;32m//anaconda/lib/python2.7/site-packages/requests/api.pyc\u001b[0m in \u001b[0;36mrequest\u001b[0;34m(method, url, **kwargs)\u001b[0m\n\u001b[1;32m     56\u001b[0m     \u001b[0;31m# cases, and look like a memory leak in others.\u001b[0m\u001b[0;34m\u001b[0m\u001b[0;34m\u001b[0m\u001b[0m\n\u001b[1;32m     57\u001b[0m     \u001b[0;32mwith\u001b[0m \u001b[0msessions\u001b[0m\u001b[0;34m.\u001b[0m\u001b[0mSession\u001b[0m\u001b[0;34m(\u001b[0m\u001b[0;34m)\u001b[0m \u001b[0;32mas\u001b[0m \u001b[0msession\u001b[0m\u001b[0;34m:\u001b[0m\u001b[0;34m\u001b[0m\u001b[0m\n\u001b[0;32m---> 58\u001b[0;31m         \u001b[0;32mreturn\u001b[0m \u001b[0msession\u001b[0m\u001b[0;34m.\u001b[0m\u001b[0mrequest\u001b[0m\u001b[0;34m(\u001b[0m\u001b[0mmethod\u001b[0m\u001b[0;34m=\u001b[0m\u001b[0mmethod\u001b[0m\u001b[0;34m,\u001b[0m \u001b[0murl\u001b[0m\u001b[0;34m=\u001b[0m\u001b[0murl\u001b[0m\u001b[0;34m,\u001b[0m \u001b[0;34m**\u001b[0m\u001b[0mkwargs\u001b[0m\u001b[0;34m)\u001b[0m\u001b[0;34m\u001b[0m\u001b[0m\n\u001b[0m\u001b[1;32m     59\u001b[0m \u001b[0;34m\u001b[0m\u001b[0m\n\u001b[1;32m     60\u001b[0m \u001b[0;34m\u001b[0m\u001b[0m\n",
      "\u001b[0;32m//anaconda/lib/python2.7/site-packages/requests/sessions.pyc\u001b[0m in \u001b[0;36mrequest\u001b[0;34m(self, method, url, params, data, headers, cookies, files, auth, timeout, allow_redirects, proxies, hooks, stream, verify, cert, json)\u001b[0m\n\u001b[1;32m    506\u001b[0m         }\n\u001b[1;32m    507\u001b[0m         \u001b[0msend_kwargs\u001b[0m\u001b[0;34m.\u001b[0m\u001b[0mupdate\u001b[0m\u001b[0;34m(\u001b[0m\u001b[0msettings\u001b[0m\u001b[0;34m)\u001b[0m\u001b[0;34m\u001b[0m\u001b[0m\n\u001b[0;32m--> 508\u001b[0;31m         \u001b[0mresp\u001b[0m \u001b[0;34m=\u001b[0m \u001b[0mself\u001b[0m\u001b[0;34m.\u001b[0m\u001b[0msend\u001b[0m\u001b[0;34m(\u001b[0m\u001b[0mprep\u001b[0m\u001b[0;34m,\u001b[0m \u001b[0;34m**\u001b[0m\u001b[0msend_kwargs\u001b[0m\u001b[0;34m)\u001b[0m\u001b[0;34m\u001b[0m\u001b[0m\n\u001b[0m\u001b[1;32m    509\u001b[0m \u001b[0;34m\u001b[0m\u001b[0m\n\u001b[1;32m    510\u001b[0m         \u001b[0;32mreturn\u001b[0m \u001b[0mresp\u001b[0m\u001b[0;34m\u001b[0m\u001b[0m\n",
      "\u001b[0;32m//anaconda/lib/python2.7/site-packages/requests/sessions.pyc\u001b[0m in \u001b[0;36msend\u001b[0;34m(self, request, **kwargs)\u001b[0m\n\u001b[1;32m    616\u001b[0m \u001b[0;34m\u001b[0m\u001b[0m\n\u001b[1;32m    617\u001b[0m         \u001b[0;31m# Send the request\u001b[0m\u001b[0;34m\u001b[0m\u001b[0;34m\u001b[0m\u001b[0m\n\u001b[0;32m--> 618\u001b[0;31m         \u001b[0mr\u001b[0m \u001b[0;34m=\u001b[0m \u001b[0madapter\u001b[0m\u001b[0;34m.\u001b[0m\u001b[0msend\u001b[0m\u001b[0;34m(\u001b[0m\u001b[0mrequest\u001b[0m\u001b[0;34m,\u001b[0m \u001b[0;34m**\u001b[0m\u001b[0mkwargs\u001b[0m\u001b[0;34m)\u001b[0m\u001b[0;34m\u001b[0m\u001b[0m\n\u001b[0m\u001b[1;32m    619\u001b[0m \u001b[0;34m\u001b[0m\u001b[0m\n\u001b[1;32m    620\u001b[0m         \u001b[0;31m# Total elapsed time of the request (approximately)\u001b[0m\u001b[0;34m\u001b[0m\u001b[0;34m\u001b[0m\u001b[0m\n",
      "\u001b[0;32m//anaconda/lib/python2.7/site-packages/requests/adapters.pyc\u001b[0m in \u001b[0;36msend\u001b[0;34m(self, request, stream, timeout, verify, cert, proxies)\u001b[0m\n\u001b[1;32m    506\u001b[0m                 \u001b[0;32mraise\u001b[0m \u001b[0mSSLError\u001b[0m\u001b[0;34m(\u001b[0m\u001b[0me\u001b[0m\u001b[0;34m,\u001b[0m \u001b[0mrequest\u001b[0m\u001b[0;34m=\u001b[0m\u001b[0mrequest\u001b[0m\u001b[0;34m)\u001b[0m\u001b[0;34m\u001b[0m\u001b[0m\n\u001b[1;32m    507\u001b[0m \u001b[0;34m\u001b[0m\u001b[0m\n\u001b[0;32m--> 508\u001b[0;31m             \u001b[0;32mraise\u001b[0m \u001b[0mConnectionError\u001b[0m\u001b[0;34m(\u001b[0m\u001b[0me\u001b[0m\u001b[0;34m,\u001b[0m \u001b[0mrequest\u001b[0m\u001b[0;34m=\u001b[0m\u001b[0mrequest\u001b[0m\u001b[0;34m)\u001b[0m\u001b[0;34m\u001b[0m\u001b[0m\n\u001b[0m\u001b[1;32m    509\u001b[0m \u001b[0;34m\u001b[0m\u001b[0m\n\u001b[1;32m    510\u001b[0m         \u001b[0;32mexcept\u001b[0m \u001b[0mClosedPoolError\u001b[0m \u001b[0;32mas\u001b[0m \u001b[0me\u001b[0m\u001b[0;34m:\u001b[0m\u001b[0;34m\u001b[0m\u001b[0m\n",
      "\u001b[0;31mConnectionError\u001b[0m: HTTPSConnectionPool(host='etherchain.org', port=443): Max retries exceeded with url: /api/blocks/1503000/100 (Caused by NewConnectionError('<urllib3.connection.VerifiedHTTPSConnection object at 0x10e7f5190>: Failed to establish a new connection: [Errno 65] No route to host',))"
     ]
    }
   ],
   "source": [
    "call_api_blocks()"
   ]
  },
  {
   "cell_type": "code",
   "execution_count": null,
   "metadata": {
    "collapsed": true
   },
   "outputs": [],
   "source": []
  }
 ],
 "metadata": {
  "kernelspec": {
   "display_name": "Python 2",
   "language": "python",
   "name": "python2"
  },
  "language_info": {
   "codemirror_mode": {
    "name": "ipython",
    "version": 2
   },
   "file_extension": ".py",
   "mimetype": "text/x-python",
   "name": "python",
   "nbconvert_exporter": "python",
   "pygments_lexer": "ipython2",
   "version": "2.7.13"
  }
 },
 "nbformat": 4,
 "nbformat_minor": 0
}
