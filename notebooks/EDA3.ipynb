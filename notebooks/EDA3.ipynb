{
 "cells": [
  {
   "cell_type": "markdown",
   "metadata": {},
   "source": [
    "#Exploratory Analysis"
   ]
  },
  {
   "cell_type": "code",
   "execution_count": 875,
   "metadata": {
    "collapsed": false
   },
   "outputs": [],
   "source": [
    "from __future__ import print_function\n",
    "import pandas as pd\n",
    "import numpy as np\n",
    "import matplotlib.pyplot as plt\n",
    "import seaborn as sns\n",
    "%matplotlib inline"
   ]
  },
  {
   "cell_type": "markdown",
   "metadata": {},
   "source": [
    "##Load data"
   ]
  },
  {
   "cell_type": "code",
   "execution_count": 876,
   "metadata": {
    "collapsed": true
   },
   "outputs": [],
   "source": [
    "df = pd.read_csv('./../data/data.csv')"
   ]
  },
  {
   "cell_type": "code",
   "execution_count": 877,
   "metadata": {
    "collapsed": false
   },
   "outputs": [
    {
     "data": {
      "text/plain": [
       "(1494279, 23)"
      ]
     },
     "execution_count": 877,
     "metadata": {},
     "output_type": "execute_result"
    }
   ],
   "source": [
    "df.shape"
   ]
  },
  {
   "cell_type": "code",
   "execution_count": 878,
   "metadata": {
    "collapsed": false
   },
   "outputs": [
    {
     "name": "stdout",
     "output_type": "stream",
     "text": [
      "<class 'pandas.core.frame.DataFrame'>\n",
      "RangeIndex: 1494279 entries, 0 to 1494278\n",
      "Data columns (total 23 columns):\n",
      "Unnamed: 0      1494279 non-null int64\n",
      "hash_t          1494279 non-null object\n",
      "accountNonce    1494279 non-null int64\n",
      "amount          1494279 non-null float64\n",
      "block_id        1494279 non-null int64\n",
      "gasLimit_t      1494279 non-null int64\n",
      "gasUsed_t       1494279 non-null int64\n",
      "isContractTx    0 non-null float64\n",
      "newContract     1494279 non-null int64\n",
      "price           1494279 non-null float64\n",
      "time_t          1494279 non-null object\n",
      "txIndex         515711 non-null float64\n",
      "type            1494279 non-null object\n",
      "blockTime       1494279 non-null int64\n",
      "difficulty      1494279 non-null object\n",
      "gasLimit_b      1494279 non-null float64\n",
      "gasUsed_b       1494279 non-null float64\n",
      "reward          1494279 non-null object\n",
      "size            1494279 non-null int64\n",
      "time_b          1494279 non-null object\n",
      "totalFee        1494279 non-null object\n",
      "tx_count        1494279 non-null int64\n",
      "uncle_count     1494279 non-null int64\n",
      "dtypes: float64(6), int64(10), object(7)\n",
      "memory usage: 262.2+ MB\n"
     ]
    }
   ],
   "source": [
    "df.info()"
   ]
  },
  {
   "cell_type": "code",
   "execution_count": 879,
   "metadata": {
    "collapsed": false
   },
   "outputs": [
    {
     "name": "stdout",
     "output_type": "stream",
     "text": [
      "no txs: 1494279, no blocks: 14583\n"
     ]
    }
   ],
   "source": [
    "print('no txs: {}, no blocks: {}'.format(df.shape[0], np.unique(df['block_id'].values).shape[0]))"
   ]
  },
  {
   "cell_type": "markdown",
   "metadata": {},
   "source": [
    "## Convert dates to datetime"
   ]
  },
  {
   "cell_type": "code",
   "execution_count": 880,
   "metadata": {
    "collapsed": false
   },
   "outputs": [],
   "source": [
    "df.loc[:,'time_t'] = pd.to_datetime(df.time_t, yearfirst=True)"
   ]
  },
  {
   "cell_type": "code",
   "execution_count": 881,
   "metadata": {
    "collapsed": true
   },
   "outputs": [],
   "source": [
    "df.loc[:,'time_b'] = pd.to_datetime(df.time_b, yearfirst=True)"
   ]
  },
  {
   "cell_type": "code",
   "execution_count": 882,
   "metadata": {
    "collapsed": false
   },
   "outputs": [
    {
     "data": {
      "text/plain": [
       "0   2017-09-20 20:24:15\n",
       "1   2017-09-20 20:24:15\n",
       "2   2017-09-20 20:24:15\n",
       "3   2017-09-20 20:24:15\n",
       "4   2017-09-20 20:24:15\n",
       "Name: time_t, dtype: datetime64[ns]"
      ]
     },
     "execution_count": 882,
     "metadata": {},
     "output_type": "execute_result"
    }
   ],
   "source": [
    "df['time_t'].head()"
   ]
  },
  {
   "cell_type": "code",
   "execution_count": 883,
   "metadata": {
    "collapsed": false
   },
   "outputs": [],
   "source": [
    "df.drop('Unnamed: 0', axis=1, inplace=True)"
   ]
  },
  {
   "cell_type": "markdown",
   "metadata": {},
   "source": [
    "## Convert long integer columns\n",
    "- difficulty\n",
    "- reward\n",
    "- totalFee"
   ]
  },
  {
   "cell_type": "markdown",
   "metadata": {},
   "source": [
    "Filter each string extracting the digits as integers"
   ]
  },
  {
   "cell_type": "code",
   "execution_count": 884,
   "metadata": {
    "collapsed": false
   },
   "outputs": [
    {
     "data": {
      "text/plain": [
       "2338428842518947"
      ]
     },
     "execution_count": 884,
     "metadata": {},
     "output_type": "execute_result"
    }
   ],
   "source": [
    "int(filter(str.isdigit, df['difficulty'][0]))"
   ]
  },
  {
   "cell_type": "code",
   "execution_count": 885,
   "metadata": {
    "collapsed": false
   },
   "outputs": [],
   "source": [
    "df['difficulty'] = df['difficulty'].apply(lambda x: int(filter(str.isdigit, x)))"
   ]
  },
  {
   "cell_type": "code",
   "execution_count": 886,
   "metadata": {
    "collapsed": false
   },
   "outputs": [
    {
     "data": {
      "text/plain": [
       "0    2338428842518947\n",
       "1    2338428842518947\n",
       "2    2338428842518947\n",
       "3    2338428842518947\n",
       "4    2338428842518947\n",
       "Name: difficulty, dtype: int64"
      ]
     },
     "execution_count": 886,
     "metadata": {},
     "output_type": "execute_result"
    }
   ],
   "source": [
    "df['difficulty'].head()"
   ]
  },
  {
   "cell_type": "code",
   "execution_count": 887,
   "metadata": {
    "collapsed": true
   },
   "outputs": [],
   "source": [
    "df['reward'] = df['reward'].apply(lambda x: int(filter(str.isdigit, x)))"
   ]
  },
  {
   "cell_type": "code",
   "execution_count": 888,
   "metadata": {
    "collapsed": false
   },
   "outputs": [
    {
     "data": {
      "text/plain": [
       "0    5008232105000000000\n",
       "1    5008232105000000000\n",
       "2    5008232105000000000\n",
       "3    5008232105000000000\n",
       "4    5008232105000000000\n",
       "Name: reward, dtype: int64"
      ]
     },
     "execution_count": 888,
     "metadata": {},
     "output_type": "execute_result"
    }
   ],
   "source": [
    "df['reward'].head()"
   ]
  },
  {
   "cell_type": "code",
   "execution_count": 889,
   "metadata": {
    "collapsed": true
   },
   "outputs": [],
   "source": [
    "df['totalFee'] = df['totalFee'].apply(lambda x: int(filter(str.isdigit, x)))"
   ]
  },
  {
   "cell_type": "code",
   "execution_count": 890,
   "metadata": {
    "collapsed": false
   },
   "outputs": [
    {
     "data": {
      "text/plain": [
       "0    8232105000000000\n",
       "1    8232105000000000\n",
       "2    8232105000000000\n",
       "3    8232105000000000\n",
       "4    8232105000000000\n",
       "Name: totalFee, dtype: int64"
      ]
     },
     "execution_count": 890,
     "metadata": {},
     "output_type": "execute_result"
    }
   ],
   "source": [
    "df['totalFee'].head()"
   ]
  },
  {
   "cell_type": "markdown",
   "metadata": {},
   "source": [
    "## Convert floats back to ints\n",
    "- when collecting data from the api, some of the ints were longer than 8 bytes causing mongo to throw up errors \n",
    "- to avoid this we temporarily converted those to floats "
   ]
  },
  {
   "cell_type": "code",
   "execution_count": 891,
   "metadata": {
    "collapsed": false
   },
   "outputs": [],
   "source": [
    "def float_to_int(col_list):\n",
    "    for col in col_list:\n",
    "        df[col] = df[col].apply(lambda x: np.rint(x))\n",
    "        df[col] = df[col].values.astype(int)"
   ]
  },
  {
   "cell_type": "code",
   "execution_count": 892,
   "metadata": {
    "collapsed": true
   },
   "outputs": [],
   "source": [
    "float_to_int(['amount', 'price', 'gasLimit_b', 'gasUsed_b'])"
   ]
  },
  {
   "cell_type": "code",
   "execution_count": 893,
   "metadata": {
    "collapsed": false
   },
   "outputs": [
    {
     "data": {
      "text/plain": [
       "1494279"
      ]
     },
     "execution_count": 893,
     "metadata": {},
     "output_type": "execute_result"
    }
   ],
   "source": [
    "df['isContractTx'].isnull().sum()"
   ]
  },
  {
   "cell_type": "markdown",
   "metadata": {},
   "source": [
    "The column \"isContractTx\" is empty so drop it"
   ]
  },
  {
   "cell_type": "code",
   "execution_count": 894,
   "metadata": {
    "collapsed": false
   },
   "outputs": [],
   "source": [
    "df.drop('isContractTx', axis=1, inplace=True)"
   ]
  },
  {
   "cell_type": "code",
   "execution_count": 895,
   "metadata": {
    "collapsed": false
   },
   "outputs": [
    {
     "data": {
      "text/plain": [
       "978568"
      ]
     },
     "execution_count": 895,
     "metadata": {},
     "output_type": "execute_result"
    }
   ],
   "source": [
    "df['txIndex'].isnull().sum()"
   ]
  },
  {
   "cell_type": "code",
   "execution_count": 896,
   "metadata": {
    "collapsed": false
   },
   "outputs": [
    {
     "data": {
      "text/plain": [
       "1.0     176351\n",
       "2.0      92812\n",
       "3.0      53512\n",
       "4.0      42831\n",
       "5.0      39828\n",
       "6.0      34256\n",
       "7.0      32021\n",
       "8.0      11919\n",
       "9.0       5642\n",
       "10.0      5096\n",
       "11.0      4882\n",
       "12.0      4867\n",
       "13.0      4317\n",
       "14.0      3138\n",
       "15.0      1954\n",
       "16.0      1823\n",
       "17.0       289\n",
       "18.0       154\n",
       "19.0        12\n",
       "20.0         7\n",
       "Name: txIndex, dtype: int64"
      ]
     },
     "execution_count": 896,
     "metadata": {},
     "output_type": "execute_result"
    }
   ],
   "source": [
    "df['txIndex'].value_counts()"
   ]
  },
  {
   "cell_type": "code",
   "execution_count": 897,
   "metadata": {
    "collapsed": false
   },
   "outputs": [
    {
     "data": {
      "text/plain": [
       "tx         973640\n",
       "call       492595\n",
       "create      27726\n",
       "suicide       318\n",
       "Name: type, dtype: int64"
      ]
     },
     "execution_count": 897,
     "metadata": {},
     "output_type": "execute_result"
    }
   ],
   "source": [
    "df['type'].value_counts()"
   ]
  },
  {
   "cell_type": "code",
   "execution_count": 898,
   "metadata": {
    "collapsed": false
   },
   "outputs": [
    {
     "data": {
      "text/plain": [
       "0    1489351\n",
       "1       4928\n",
       "Name: newContract, dtype: int64"
      ]
     },
     "execution_count": 898,
     "metadata": {},
     "output_type": "execute_result"
    }
   ],
   "source": [
    "df['newContract'].value_counts()"
   ]
  },
  {
   "cell_type": "markdown",
   "metadata": {},
   "source": [
    "Binarize the amount column (1 if > 0 and 0 if 0)"
   ]
  },
  {
   "cell_type": "code",
   "execution_count": 899,
   "metadata": {
    "collapsed": false
   },
   "outputs": [],
   "source": [
    "df['amount_binary'] = df['amount'].map(lambda x: 1 if x > 0 else 0)"
   ]
  },
  {
   "cell_type": "markdown",
   "metadata": {},
   "source": [
    "## Check for NaN values"
   ]
  },
  {
   "cell_type": "code",
   "execution_count": 900,
   "metadata": {
    "collapsed": false
   },
   "outputs": [
    {
     "name": "stdout",
     "output_type": "stream",
     "text": [
      "hash_t 0\n",
      "accountNonce 0\n",
      "amount 0\n",
      "block_id 0\n",
      "gasLimit_t 0\n",
      "gasUsed_t 0\n",
      "newContract 0\n",
      "price 0\n",
      "time_t 0\n",
      "txIndex 978568\n",
      "type 0\n",
      "blockTime 0\n",
      "difficulty 0\n",
      "gasLimit_b 0\n",
      "gasUsed_b 0\n",
      "reward 0\n",
      "size 0\n",
      "time_b 0\n",
      "totalFee 0\n",
      "tx_count 0\n",
      "uncle_count 0\n",
      "amount_binary 0\n"
     ]
    }
   ],
   "source": [
    "for col in df.columns:\n",
    "    print(col, df[col].isnull().sum())"
   ]
  },
  {
   "cell_type": "markdown",
   "metadata": {},
   "source": [
    "#Columns decriptions"
   ]
  },
  {
   "cell_type": "code",
   "execution_count": 800,
   "metadata": {
    "collapsed": false
   },
   "outputs": [
    {
     "name": "stdout",
     "output_type": "stream",
     "text": [
      "<class 'pandas.core.frame.DataFrame'>\n",
      "RangeIndex: 1494279 entries, 0 to 1494278\n",
      "Data columns (total 22 columns):\n",
      "hash_t           1494279 non-null object\n",
      "accountNonce     1494279 non-null int64\n",
      "amount           1494279 non-null int64\n",
      "block_id         1494279 non-null int64\n",
      "gasLimit_t       1494279 non-null int64\n",
      "gasUsed_t        1494279 non-null int64\n",
      "newContract      1494279 non-null int64\n",
      "price            1494279 non-null int64\n",
      "time_t           1494279 non-null datetime64[ns]\n",
      "txIndex          515711 non-null float64\n",
      "type             1494279 non-null object\n",
      "blockTime        1494279 non-null int64\n",
      "difficulty       1494279 non-null int64\n",
      "gasLimit_b       1494279 non-null int64\n",
      "gasUsed_b        1494279 non-null int64\n",
      "reward           1494279 non-null int64\n",
      "size             1494279 non-null int64\n",
      "time_b           1494279 non-null datetime64[ns]\n",
      "totalFee         1494279 non-null int64\n",
      "tx_count         1494279 non-null int64\n",
      "uncle_count      1494279 non-null int64\n",
      "amount_binary    1494279 non-null int64\n",
      "dtypes: datetime64[ns](2), float64(1), int64(17), object(2)\n",
      "memory usage: 250.8+ MB\n"
     ]
    }
   ],
   "source": [
    "df.info()"
   ]
  },
  {
   "cell_type": "markdown",
   "metadata": {},
   "source": [
    "##Decription:\n",
    "###Transaction level\n",
    "- hash_t : a unique identifier for each transaction\n",
    "- accountNonce : the number of transactions the sender account has made on the network (mechanism to ensure the same tranaction isn't submitted twice)\n",
    "- amount : for monetary transactions, the amount in Ether that is exchanged\n",
    "- block_id : a unique identifier for each block\n",
    "- gasLimit_t : the maximum amount of gas that is allowed to be spent on gas for a given transaction\n",
    "- gasUsed_t : the actual amount of gas that was consumed on the given transaction \n",
    "- newContract : whether it is a new contract or not\n",
    "- price : the price per unit gas (Wei)\n",
    "- txIndex : an integer from 1 to 20 (or NaN)\n",
    "- amount_binary : binarized amount column (1 if amount is non-zero)\n",
    "- type : the kind of transaction\n",
    "    - tx\n",
    "    - call\n",
    "    - create\n",
    "    - suicide\n",
    "\n",
    "###Block level\n",
    "- blockTime : the total amount of time spent on the block\n",
    "- difficulty : \n",
    "- gasLimit_b :\n",
    "- gasUsed_b :\n",
    "- reward :\n",
    "- size : \n",
    "- time_b :\n",
    "- totalFee :\n",
    "- tx_count : the total number of txs in a given block\n",
    "- uncle_count : "
   ]
  },
  {
   "cell_type": "markdown",
   "metadata": {},
   "source": [
    "##Categorical variables:\n",
    "- txIndex\n",
    "- type\n",
    "- amount_binary"
   ]
  },
  {
   "cell_type": "markdown",
   "metadata": {},
   "source": [
    "#Explore features"
   ]
  },
  {
   "cell_type": "markdown",
   "metadata": {},
   "source": [
    "###New column with converted price from Wei to Gwei"
   ]
  },
  {
   "cell_type": "code",
   "execution_count": 901,
   "metadata": {
    "collapsed": false
   },
   "outputs": [],
   "source": [
    "df['price_gwei'] = df['price'].values / 1000000000"
   ]
  },
  {
   "cell_type": "code",
   "execution_count": 903,
   "metadata": {
    "collapsed": false
   },
   "outputs": [
    {
     "data": {
      "image/png": "[encoded data removed]",
      "text/plain": [
       "<matplotlib.figure.Figure at 0x18d93df50>"
      ]
     },
     "metadata": {},
     "output_type": "display_data"
    }
   ],
   "source": [
    "plt.hist(df['price_gwei'], bins=3000, color='b', alpha=0.7)\n",
    "plt.xlim(0,100)\n",
    "plt.xlabel('Price (GWei)')\n",
    "plt.show()"
   ]
  },
  {
   "cell_type": "code",
   "execution_count": 904,
   "metadata": {
    "collapsed": false
   },
   "outputs": [
    {
     "data": {
      "text/plain": [
       "29.105697635574437"
      ]
     },
     "execution_count": 904,
     "metadata": {},
     "output_type": "execute_result"
    }
   ],
   "source": [
    "np.mean(df['price_gwei'].values)"
   ]
  },
  {
   "cell_type": "code",
   "execution_count": 905,
   "metadata": {
    "collapsed": false
   },
   "outputs": [
    {
     "data": {
      "text/plain": [
       "37304.531999999999"
      ]
     },
     "execution_count": 905,
     "metadata": {},
     "output_type": "execute_result"
    }
   ],
   "source": [
    "np.max(df['price_gwei'].values)"
   ]
  },
  {
   "cell_type": "code",
   "execution_count": 906,
   "metadata": {
    "collapsed": false
   },
   "outputs": [
    {
     "data": {
      "text/plain": [
       "1.0000000000000001e-09"
      ]
     },
     "execution_count": 906,
     "metadata": {},
     "output_type": "execute_result"
    }
   ],
   "source": [
    "np.min(df['price_gwei'].values)"
   ]
  },
  {
   "cell_type": "code",
   "execution_count": 907,
   "metadata": {
    "collapsed": false
   },
   "outputs": [
    {
     "data": {
      "text/plain": [
       "0    862496\n",
       "1    631783\n",
       "Name: amount_binary, dtype: int64"
      ]
     },
     "execution_count": 907,
     "metadata": {},
     "output_type": "execute_result"
    }
   ],
   "source": [
    "df['amount_binary'].value_counts()"
   ]
  },
  {
   "cell_type": "code",
   "execution_count": 908,
   "metadata": {
    "collapsed": false
   },
   "outputs": [
    {
     "data": {
      "text/plain": [
       "tx         973640\n",
       "call       492595\n",
       "create      27726\n",
       "suicide       318\n",
       "Name: type, dtype: int64"
      ]
     },
     "execution_count": 908,
     "metadata": {},
     "output_type": "execute_result"
    }
   ],
   "source": [
    "df['type'].value_counts()"
   ]
  },
  {
   "cell_type": "code",
   "execution_count": 909,
   "metadata": {
    "collapsed": true
   },
   "outputs": [],
   "source": [
    "grouped_type = df.groupby('type')"
   ]
  },
  {
   "cell_type": "code",
   "execution_count": 910,
   "metadata": {
    "collapsed": false
   },
   "outputs": [
    {
     "data": {
      "text/plain": [
       "type\n",
       "call       34.134513\n",
       "create     11.723243\n",
       "suicide     8.152529\n",
       "tx         27.063300\n",
       "Name: price_gwei, dtype: float64"
      ]
     },
     "execution_count": 910,
     "metadata": {},
     "output_type": "execute_result"
    }
   ],
   "source": [
    "df.groupby('type')['price_gwei'].mean()"
   ]
  },
  {
   "cell_type": "code",
   "execution_count": 911,
   "metadata": {
    "collapsed": false
   },
   "outputs": [
    {
     "data": {
      "text/html": [
       "<div>\n",
       "<style>\n",
       "    .dataframe thead tr:only-child th {\n",
       "        text-align: right;\n",
       "    }\n",
       "\n",
       "    .dataframe thead th {\n",
       "        text-align: left;\n",
       "    }\n",
       "\n",
       "    .dataframe tbody tr th {\n",
       "        vertical-align: top;\n",
       "    }\n",
       "</style>\n",
       "<table border=\"1\" class=\"dataframe\">\n",
       "  <thead>\n",
       "    <tr style=\"text-align: right;\">\n",
       "      <th>type</th>\n",
       "      <th>call</th>\n",
       "      <th>create</th>\n",
       "      <th>suicide</th>\n",
       "      <th>tx</th>\n",
       "    </tr>\n",
       "  </thead>\n",
       "  <tbody>\n",
       "    <tr>\n",
       "      <th>count</th>\n",
       "      <td>4.925950e+05</td>\n",
       "      <td>27726.000000</td>\n",
       "      <td>318.000000</td>\n",
       "      <td>9.736400e+05</td>\n",
       "    </tr>\n",
       "    <tr>\n",
       "      <th>mean</th>\n",
       "      <td>3.413451e+01</td>\n",
       "      <td>11.723243</td>\n",
       "      <td>8.152529</td>\n",
       "      <td>2.706330e+01</td>\n",
       "    </tr>\n",
       "    <tr>\n",
       "      <th>std</th>\n",
       "      <td>1.597499e+02</td>\n",
       "      <td>15.771398</td>\n",
       "      <td>10.768688</td>\n",
       "      <td>1.211050e+02</td>\n",
       "    </tr>\n",
       "    <tr>\n",
       "      <th>min</th>\n",
       "      <td>4.000000e-09</td>\n",
       "      <td>0.030000</td>\n",
       "      <td>0.500000</td>\n",
       "      <td>1.000000e-09</td>\n",
       "    </tr>\n",
       "    <tr>\n",
       "      <th>25%</th>\n",
       "      <td>2.000000e+01</td>\n",
       "      <td>1.000000</td>\n",
       "      <td>0.500000</td>\n",
       "      <td>2.000000e+01</td>\n",
       "    </tr>\n",
       "    <tr>\n",
       "      <th>50%</th>\n",
       "      <td>2.200000e+01</td>\n",
       "      <td>5.500000</td>\n",
       "      <td>0.500000</td>\n",
       "      <td>2.100000e+01</td>\n",
       "    </tr>\n",
       "    <tr>\n",
       "      <th>75%</th>\n",
       "      <td>5.100000e+01</td>\n",
       "      <td>21.000000</td>\n",
       "      <td>21.000000</td>\n",
       "      <td>2.844094e+01</td>\n",
       "    </tr>\n",
       "    <tr>\n",
       "      <th>max</th>\n",
       "      <td>3.730453e+04</td>\n",
       "      <td>512.000000</td>\n",
       "      <td>55.945000</td>\n",
       "      <td>3.678191e+04</td>\n",
       "    </tr>\n",
       "  </tbody>\n",
       "</table>\n",
       "</div>"
      ],
      "text/plain": [
       "type           call        create     suicide            tx\n",
       "count  4.925950e+05  27726.000000  318.000000  9.736400e+05\n",
       "mean   3.413451e+01     11.723243    8.152529  2.706330e+01\n",
       "std    1.597499e+02     15.771398   10.768688  1.211050e+02\n",
       "min    4.000000e-09      0.030000    0.500000  1.000000e-09\n",
       "25%    2.000000e+01      1.000000    0.500000  2.000000e+01\n",
       "50%    2.200000e+01      5.500000    0.500000  2.100000e+01\n",
       "75%    5.100000e+01     21.000000   21.000000  2.844094e+01\n",
       "max    3.730453e+04    512.000000   55.945000  3.678191e+04"
      ]
     },
     "execution_count": 911,
     "metadata": {},
     "output_type": "execute_result"
    }
   ],
   "source": [
    "df.groupby('type')['price_gwei'].describe().T"
   ]
  },
  {
   "cell_type": "markdown",
   "metadata": {},
   "source": [
    "Call has the highest mean price, while suicide has the lowest"
   ]
  },
  {
   "cell_type": "markdown",
   "metadata": {},
   "source": [
    "###Plot price for different types"
   ]
  },
  {
   "cell_type": "code",
   "execution_count": 912,
   "metadata": {
    "collapsed": true
   },
   "outputs": [],
   "source": [
    "tx = df[df['type'] == 'tx']\n",
    "call = df[df['type'] == 'call']\n",
    "create = df[df['type'] == 'create']\n",
    "suicide = df[df['type'] == 'suicide']"
   ]
  },
  {
   "cell_type": "code",
   "execution_count": 913,
   "metadata": {
    "collapsed": false
   },
   "outputs": [
    {
     "data": {
      "image/png": "[encoded data removed]",
      "text/plain": [
       "<matplotlib.figure.Figure at 0x202c90f50>"
      ]
     },
     "metadata": {},
     "output_type": "display_data"
    }
   ],
   "source": [
    "plt.hist(tx['price_gwei'], bins=4000, color='b', alpha=0.7)\n",
    "plt.xlim(-10,100)\n",
    "plt.title('tx', fontsize=18)\n",
    "plt.xlabel('price', fontsize=18)\n",
    "plt.show()"
   ]
  },
  {
   "cell_type": "code",
   "execution_count": 914,
   "metadata": {
    "collapsed": false
   },
   "outputs": [
    {
     "data": {
      "image/png": "[encoded data removed]",
      "text/plain": [
       "<matplotlib.figure.Figure at 0x1b00aca90>"
      ]
     },
     "metadata": {},
     "output_type": "display_data"
    }
   ],
   "source": [
    "plt.hist(call['price_gwei'], bins=4000, color='b', alpha=0.7)\n",
    "plt.xlim(-10,100)\n",
    "plt.title('call', fontsize=18)\n",
    "plt.xlabel('price', fontsize=18)\n",
    "plt.show()"
   ]
  },
  {
   "cell_type": "code",
   "execution_count": 915,
   "metadata": {
    "collapsed": false
   },
   "outputs": [
    {
     "data": {
      "image/png": "[encoded data removed]",
      "text/plain": [
       "<matplotlib.figure.Figure at 0x1b00fc850>"
      ]
     },
     "metadata": {},
     "output_type": "display_data"
    }
   ],
   "source": [
    "plt.hist(create['price_gwei'], bins=50, color='b', alpha=0.7)\n",
    "plt.xlim(-10,100)\n",
    "plt.title('create', fontsize=18)\n",
    "plt.xlabel('price', fontsize=18)\n",
    "plt.show()"
   ]
  },
  {
   "cell_type": "code",
   "execution_count": 916,
   "metadata": {
    "collapsed": false
   },
   "outputs": [
    {
     "data": {
      "image/png": "[encoded data removed]",
      "text/plain": [
       "<matplotlib.figure.Figure at 0x1908c7690>"
      ]
     },
     "metadata": {},
     "output_type": "display_data"
    }
   ],
   "source": [
    "plt.hist(suicide['price_gwei'], bins=10, color='b', alpha=0.7)\n",
    "plt.xlim(-10,100)\n",
    "plt.title('suicide', fontsize=18)\n",
    "plt.xlabel('price', fontsize=18)\n",
    "plt.show()"
   ]
  },
  {
   "cell_type": "markdown",
   "metadata": {},
   "source": [
    "There seems to be some signal among the different transaction types "
   ]
  },
  {
   "cell_type": "markdown",
   "metadata": {},
   "source": [
    "##Clean up time data"
   ]
  },
  {
   "cell_type": "markdown",
   "metadata": {},
   "source": [
    "### New column for separate day, time"
   ]
  },
  {
   "cell_type": "code",
   "execution_count": 917,
   "metadata": {
    "collapsed": false
   },
   "outputs": [],
   "source": [
    "df['day'] = pd.DatetimeIndex(df['time_t']).day"
   ]
  },
  {
   "cell_type": "code",
   "execution_count": 919,
   "metadata": {
    "collapsed": false
   },
   "outputs": [
    {
     "data": {
      "text/plain": [
       "19    414215\n",
       "18    298074\n",
       "20    295637\n",
       "21    171594\n",
       "22    134105\n",
       "23    124697\n",
       "24     55957\n",
       "Name: day, dtype: int64"
      ]
     },
     "execution_count": 919,
     "metadata": {},
     "output_type": "execute_result"
    }
   ],
   "source": [
    "# How many transactions each day?\n",
    "df['day'].value_counts()"
   ]
  },
  {
   "cell_type": "code",
   "execution_count": 920,
   "metadata": {
    "collapsed": false
   },
   "outputs": [],
   "source": [
    "df['hour'] = pd.DatetimeIndex(df['time_t']).hour"
   ]
  },
  {
   "cell_type": "code",
   "execution_count": 921,
   "metadata": {
    "collapsed": false
   },
   "outputs": [],
   "source": [
    "df['minute'] = pd.DatetimeIndex(df['time_t']).minute"
   ]
  },
  {
   "cell_type": "code",
   "execution_count": 922,
   "metadata": {
    "collapsed": true
   },
   "outputs": [],
   "source": [
    "df['second'] = pd.DatetimeIndex(df['time_t']).second"
   ]
  },
  {
   "cell_type": "code",
   "execution_count": 923,
   "metadata": {
    "collapsed": false
   },
   "outputs": [],
   "source": [
    "df['dayofweek'] = pd.DatetimeIndex(df['time_t']).dayofweek"
   ]
  },
  {
   "cell_type": "code",
   "execution_count": 925,
   "metadata": {
    "collapsed": false
   },
   "outputs": [
    {
     "data": {
      "text/plain": [
       "1    414215\n",
       "0    298074\n",
       "2    295637\n",
       "3    171594\n",
       "4    134105\n",
       "5    124697\n",
       "6     55957\n",
       "Name: dayofweek, dtype: int64"
      ]
     },
     "execution_count": 925,
     "metadata": {},
     "output_type": "execute_result"
    }
   ],
   "source": [
    "# How many transaction occur on a given day of the week? \n",
    "df['dayofweek'].value_counts()"
   ]
  },
  {
   "cell_type": "code",
   "execution_count": 926,
   "metadata": {
    "collapsed": false
   },
   "outputs": [
    {
     "data": {
      "text/plain": [
       "Index([u'hash_t', u'accountNonce', u'amount', u'block_id', u'gasLimit_t',\n",
       "       u'gasUsed_t', u'newContract', u'price', u'time_t', u'txIndex', u'type',\n",
       "       u'blockTime', u'difficulty', u'gasLimit_b', u'gasUsed_b', u'reward',\n",
       "       u'size', u'time_b', u'totalFee', u'tx_count', u'uncle_count',\n",
       "       u'amount_binary', u'price_gwei', u'day', u'hour', u'minute', u'second',\n",
       "       u'dayofweek'],\n",
       "      dtype='object')"
      ]
     },
     "execution_count": 926,
     "metadata": {},
     "output_type": "execute_result"
    }
   ],
   "source": [
    "df.columns"
   ]
  },
  {
   "cell_type": "code",
   "execution_count": 927,
   "metadata": {
    "collapsed": false
   },
   "outputs": [
    {
     "data": {
      "text/plain": [
       "day\n",
       "18    27.951377\n",
       "19    28.947561\n",
       "20    36.006918\n",
       "21    25.445163\n",
       "22    25.895773\n",
       "23    25.213314\n",
       "24    27.555949\n",
       "Name: price_gwei, dtype: float64"
      ]
     },
     "execution_count": 927,
     "metadata": {},
     "output_type": "execute_result"
    }
   ],
   "source": [
    "# Mean price per day\n",
    "df['price_gwei'].groupby(df.day).mean()"
   ]
  },
  {
   "cell_type": "code",
   "execution_count": 933,
   "metadata": {
    "collapsed": false
   },
   "outputs": [
    {
     "data": {
      "text/plain": [
       "day\n",
       "18    2818\n",
       "19    3559\n",
       "20    3030\n",
       "21    1738\n",
       "22    1403\n",
       "23    1429\n",
       "24     606\n",
       "Name: block_id, dtype: int64"
      ]
     },
     "execution_count": 933,
     "metadata": {},
     "output_type": "execute_result"
    }
   ],
   "source": [
    "# How many blocks are in each day (24 hrs)?\n",
    "df['block_id'].groupby(df.day).nunique()"
   ]
  },
  {
   "cell_type": "code",
   "execution_count": 934,
   "metadata": {
    "collapsed": false
   },
   "outputs": [
    {
     "data": {
      "text/plain": [
       "array([[<matplotlib.axes._subplots.AxesSubplot object at 0x12412ebd0>]], dtype=object)"
      ]
     },
     "execution_count": 934,
     "metadata": {},
     "output_type": "execute_result"
    },
    {
     "data": {
      "image/png": "[encoded data removed]",
      "text/plain": [
       "<matplotlib.figure.Figure at 0x195991510>"
      ]
     },
     "metadata": {},
     "output_type": "display_data"
    }
   ],
   "source": [
    "df[df['amount'] > 0].hist('amount', bins=20)"
   ]
  },
  {
   "cell_type": "markdown",
   "metadata": {},
   "source": [
    "#Conversions"
   ]
  },
  {
   "cell_type": "markdown",
   "metadata": {},
   "source": [
    "### Conversion from Gwei to ETH\n",
    "1 Gwei = 0.000000001 ETH"
   ]
  },
  {
   "cell_type": "markdown",
   "metadata": {},
   "source": [
    "### Amount \n",
    "- amount is ~ to 10^-18 ETH"
   ]
  },
  {
   "cell_type": "markdown",
   "metadata": {},
   "source": [
    "###Convert amount to ETH"
   ]
  },
  {
   "cell_type": "code",
   "execution_count": 935,
   "metadata": {
    "collapsed": false
   },
   "outputs": [],
   "source": [
    "df['amount_eth'] = df['amount'].map(lambda x: float(x) / 1000000000000000000)"
   ]
  },
  {
   "cell_type": "code",
   "execution_count": 936,
   "metadata": {
    "collapsed": false
   },
   "outputs": [
    {
     "data": {
      "text/plain": [
       "0    0.499093\n",
       "1    0.149222\n",
       "2    0.099608\n",
       "3    0.199005\n",
       "4    1.000289\n",
       "Name: amount_eth, dtype: float64"
      ]
     },
     "execution_count": 936,
     "metadata": {},
     "output_type": "execute_result"
    }
   ],
   "source": [
    "df['amount_eth'].head()"
   ]
  },
  {
   "cell_type": "code",
   "execution_count": 937,
   "metadata": {
    "collapsed": false
   },
   "outputs": [
    {
     "data": {
      "text/html": [
       "<div>\n",
       "<style>\n",
       "    .dataframe thead tr:only-child th {\n",
       "        text-align: right;\n",
       "    }\n",
       "\n",
       "    .dataframe thead th {\n",
       "        text-align: left;\n",
       "    }\n",
       "\n",
       "    .dataframe tbody tr th {\n",
       "        vertical-align: top;\n",
       "    }\n",
       "</style>\n",
       "<table border=\"1\" class=\"dataframe\">\n",
       "  <thead>\n",
       "    <tr style=\"text-align: right;\">\n",
       "      <th></th>\n",
       "      <th>amount_eth</th>\n",
       "      <th>type</th>\n",
       "      <th>newContract</th>\n",
       "      <th>price_gwei</th>\n",
       "      <th>block_id</th>\n",
       "    </tr>\n",
       "  </thead>\n",
       "  <tbody>\n",
       "    <tr>\n",
       "      <th>0</th>\n",
       "      <td>0.499093</td>\n",
       "      <td>tx</td>\n",
       "      <td>0</td>\n",
       "      <td>21.0</td>\n",
       "      <td>4295887</td>\n",
       "    </tr>\n",
       "    <tr>\n",
       "      <th>1</th>\n",
       "      <td>0.149222</td>\n",
       "      <td>call</td>\n",
       "      <td>0</td>\n",
       "      <td>21.0</td>\n",
       "      <td>4295887</td>\n",
       "    </tr>\n",
       "    <tr>\n",
       "      <th>2</th>\n",
       "      <td>0.099608</td>\n",
       "      <td>tx</td>\n",
       "      <td>0</td>\n",
       "      <td>21.0</td>\n",
       "      <td>4295887</td>\n",
       "    </tr>\n",
       "    <tr>\n",
       "      <th>3</th>\n",
       "      <td>0.199005</td>\n",
       "      <td>tx</td>\n",
       "      <td>0</td>\n",
       "      <td>21.0</td>\n",
       "      <td>4295887</td>\n",
       "    </tr>\n",
       "    <tr>\n",
       "      <th>4</th>\n",
       "      <td>1.000289</td>\n",
       "      <td>tx</td>\n",
       "      <td>0</td>\n",
       "      <td>21.0</td>\n",
       "      <td>4295887</td>\n",
       "    </tr>\n",
       "  </tbody>\n",
       "</table>\n",
       "</div>"
      ],
      "text/plain": [
       "   amount_eth  type  newContract  price_gwei  block_id\n",
       "0    0.499093    tx            0        21.0   4295887\n",
       "1    0.149222  call            0        21.0   4295887\n",
       "2    0.099608    tx            0        21.0   4295887\n",
       "3    0.199005    tx            0        21.0   4295887\n",
       "4    1.000289    tx            0        21.0   4295887"
      ]
     },
     "execution_count": 937,
     "metadata": {},
     "output_type": "execute_result"
    }
   ],
   "source": [
    "df[['amount_eth', 'type', 'newContract', 'price_gwei', 'block_id']].head()"
   ]
  },
  {
   "cell_type": "code",
   "execution_count": 938,
   "metadata": {
    "collapsed": false
   },
   "outputs": [
    {
     "data": {
      "text/plain": [
       "count    1.494279e+06\n",
       "mean     2.910570e+01\n",
       "std      1.341286e+02\n",
       "min      1.000000e-09\n",
       "25%      2.000000e+01\n",
       "50%      2.100000e+01\n",
       "75%      4.200000e+01\n",
       "max      3.730453e+04\n",
       "Name: price_gwei, dtype: float64"
      ]
     },
     "execution_count": 938,
     "metadata": {},
     "output_type": "execute_result"
    }
   ],
   "source": [
    "df['price_gwei'].describe()"
   ]
  },
  {
   "cell_type": "markdown",
   "metadata": {},
   "source": [
    "##Encode the type column"
   ]
  },
  {
   "cell_type": "code",
   "execution_count": 939,
   "metadata": {
    "collapsed": true
   },
   "outputs": [],
   "source": [
    "from sklearn import preprocessing\n",
    "le = preprocessing.LabelEncoder()\n",
    "df['type_enc'] = le.fit_transform(df['type'])"
   ]
  },
  {
   "cell_type": "code",
   "execution_count": 940,
   "metadata": {
    "collapsed": false
   },
   "outputs": [
    {
     "data": {
      "text/plain": [
       "3    973640\n",
       "0    492595\n",
       "1     27726\n",
       "2       318\n",
       "Name: type_enc, dtype: int64"
      ]
     },
     "execution_count": 940,
     "metadata": {},
     "output_type": "execute_result"
    }
   ],
   "source": [
    "df['type_enc'].value_counts()"
   ]
  },
  {
   "cell_type": "markdown",
   "metadata": {},
   "source": [
    "#Filter data \n",
    "- only monetary transactions (amount > 0)\n",
    "- only gas price > 0"
   ]
  },
  {
   "cell_type": "code",
   "execution_count": 941,
   "metadata": {
    "collapsed": true
   },
   "outputs": [],
   "source": [
    "df_filtered = df[(df['amount_eth'] > 10**(-6)) & (df['price_gwei'] > 0)]"
   ]
  },
  {
   "cell_type": "code",
   "execution_count": 942,
   "metadata": {
    "collapsed": true
   },
   "outputs": [],
   "source": [
    "df_filtered = df[(df['amount_eth'] > 10**(-6)) & (df['price_gwei'] > 0)]"
   ]
  },
  {
   "cell_type": "code",
   "execution_count": 943,
   "metadata": {
    "collapsed": false
   },
   "outputs": [
    {
     "name": "stdout",
     "output_type": "stream",
     "text": [
      "deleted 747566 rows having 0 amounts\n"
     ]
    }
   ],
   "source": [
    "print('deleted {} rows having 0 amounts'.format(df[df['amount_eth'] == 0].values.shape[0]))"
   ]
  },
  {
   "cell_type": "code",
   "execution_count": 944,
   "metadata": {
    "collapsed": false
   },
   "outputs": [
    {
     "name": "stdout",
     "output_type": "stream",
     "text": [
      "deleted 0 rows having 0 gas price\n"
     ]
    }
   ],
   "source": [
    "print('deleted {} rows having 0 gas price'.format(df[df['price_gwei'] == 0].values.shape[0]))"
   ]
  },
  {
   "cell_type": "code",
   "execution_count": 945,
   "metadata": {
    "collapsed": false
   },
   "outputs": [
    {
     "data": {
      "text/plain": [
       "<matplotlib.text.Text at 0x18ffac610>"
      ]
     },
     "execution_count": 945,
     "metadata": {},
     "output_type": "execute_result"
    },
    {
     "data": {
      "image/png": "[encoded data removed]",
      "text/plain": [
       "<matplotlib.figure.Figure at 0x1d0516cd0>"
      ]
     },
     "metadata": {},
     "output_type": "display_data"
    }
   ],
   "source": [
    "df_filtered['amount_eth'].apply(np.log10).hist(bins=100)\n",
    "plt.xlabel('Amount')"
   ]
  },
  {
   "cell_type": "code",
   "execution_count": 946,
   "metadata": {
    "collapsed": false
   },
   "outputs": [
    {
     "data": {
      "text/plain": [
       "<matplotlib.text.Text at 0x18ed51d50>"
      ]
     },
     "execution_count": 946,
     "metadata": {},
     "output_type": "execute_result"
    },
    {
     "data": {
      "image/png": "[encoded data removed]",
      "text/plain": [
       "<matplotlib.figure.Figure at 0x207d5ea50>"
      ]
     },
     "metadata": {},
     "output_type": "display_data"
    }
   ],
   "source": [
    "df_filtered['amount_eth'].hist()\n",
    "plt.xlabel('Amount')"
   ]
  },
  {
   "cell_type": "code",
   "execution_count": 947,
   "metadata": {
    "collapsed": false
   },
   "outputs": [
    {
     "data": {
      "text/plain": [
       "<matplotlib.text.Text at 0x24fa0d810>"
      ]
     },
     "execution_count": 947,
     "metadata": {},
     "output_type": "execute_result"
    },
    {
     "data": {
      "image/png": "[encoded data removed]",
      "text/plain": [
       "<matplotlib.figure.Figure at 0x2096d1dd0>"
      ]
     },
     "metadata": {},
     "output_type": "display_data"
    }
   ],
   "source": [
    "df_filtered['price_gwei'].hist(bins=2000)\n",
    "plt.xlim(0,100)\n",
    "plt.xlabel('Gas Price')"
   ]
  },
  {
   "cell_type": "code",
   "execution_count": 948,
   "metadata": {
    "collapsed": false
   },
   "outputs": [],
   "source": [
    "gas_log = np.log(df_filtered['price_gwei'].values)"
   ]
  },
  {
   "cell_type": "code",
   "execution_count": 949,
   "metadata": {
    "collapsed": false
   },
   "outputs": [
    {
     "data": {
      "text/plain": [
       "<matplotlib.text.Text at 0x1a207cb50>"
      ]
     },
     "execution_count": 949,
     "metadata": {},
     "output_type": "execute_result"
    },
    {
     "data": {
      "image/png": "[encoded data removed]",
      "text/plain": [
       "<matplotlib.figure.Figure at 0x2096dbc90>"
      ]
     },
     "metadata": {},
     "output_type": "display_data"
    }
   ],
   "source": [
    "plt.scatter(df_filtered['amount_eth'], df_filtered['price_gwei'])\n",
    "plt.xlabel('Amount')\n",
    "plt.ylabel('Gas Price')"
   ]
  },
  {
   "cell_type": "code",
   "execution_count": 950,
   "metadata": {
    "collapsed": false
   },
   "outputs": [
    {
     "data": {
      "text/plain": [
       "count    1.494279e+06\n",
       "mean     2.018310e+00\n",
       "std      1.702585e+00\n",
       "min      0.000000e+00\n",
       "25%      1.000000e+00\n",
       "50%      2.000000e+00\n",
       "75%      3.000000e+00\n",
       "max      6.000000e+00\n",
       "Name: dayofweek, dtype: float64"
      ]
     },
     "execution_count": 950,
     "metadata": {},
     "output_type": "execute_result"
    }
   ],
   "source": [
    "df['dayofweek'].describe()"
   ]
  },
  {
   "cell_type": "code",
   "execution_count": 951,
   "metadata": {
    "collapsed": false
   },
   "outputs": [
    {
     "data": {
      "text/plain": [
       "<matplotlib.text.Text at 0x1a207c410>"
      ]
     },
     "execution_count": 951,
     "metadata": {},
     "output_type": "execute_result"
    },
    {
     "data": {
      "image/png": "[encoded data removed]",
      "text/plain": [
       "<matplotlib.figure.Figure at 0x1a20a4b50>"
      ]
     },
     "metadata": {},
     "output_type": "display_data"
    }
   ],
   "source": [
    "df_filtered['dayofweek'].hist(bins=7)\n",
    "plt.xlabel(\"Day of Week (Mon-Sun)\")"
   ]
  },
  {
   "cell_type": "code",
   "execution_count": 952,
   "metadata": {
    "collapsed": false
   },
   "outputs": [
    {
     "data": {
      "text/plain": [
       "count    629224.000000\n",
       "mean         10.461402\n",
       "std           6.589997\n",
       "min           0.000000\n",
       "25%           4.000000\n",
       "50%          10.000000\n",
       "75%          16.000000\n",
       "max          23.000000\n",
       "Name: hour, dtype: float64"
      ]
     },
     "execution_count": 952,
     "metadata": {},
     "output_type": "execute_result"
    }
   ],
   "source": [
    "df_filtered['hour'].describe()"
   ]
  },
  {
   "cell_type": "code",
   "execution_count": 953,
   "metadata": {
    "collapsed": false
   },
   "outputs": [
    {
     "data": {
      "text/plain": [
       "<matplotlib.text.Text at 0x1a2faadd0>"
      ]
     },
     "execution_count": 953,
     "metadata": {},
     "output_type": "execute_result"
    },
    {
     "data": {
      "image/png": "[encoded data removed]",
      "text/plain": [
       "<matplotlib.figure.Figure at 0x1a2733550>"
      ]
     },
     "metadata": {},
     "output_type": "display_data"
    }
   ],
   "source": [
    "df_filtered['hour'].hist(bins=24)\n",
    "plt.xlim(0,23)\n",
    "plt.xlabel('Hour')"
   ]
  },
  {
   "cell_type": "code",
   "execution_count": 954,
   "metadata": {
    "collapsed": false
   },
   "outputs": [
    {
     "data": {
      "text/plain": [
       "type\n",
       "call         3051.038417\n",
       "create     340235.204340\n",
       "suicide         0.000000\n",
       "tx          29462.653340\n",
       "Name: gasUsed_t, dtype: float64"
      ]
     },
     "execution_count": 954,
     "metadata": {},
     "output_type": "execute_result"
    }
   ],
   "source": [
    "df_filtered.groupby('type')['gasUsed_t'].mean()"
   ]
  },
  {
   "cell_type": "markdown",
   "metadata": {},
   "source": [
    "#Obtain averages over previous blocks for each block id to generate new features\n",
    "- difficulty \n",
    "- blocktime\n",
    "- transactions/second\n",
    "- uncle rate\n",
    "- gasused by transaction\n",
    "- gasused by block\n",
    "- gasprice"
   ]
  },
  {
   "cell_type": "markdown",
   "metadata": {},
   "source": [
    "### Add column with: \n",
    "- txs per second for each block\n",
    "- avg gasUsed for each block\n",
    "- avg price per transaction for each block"
   ]
  },
  {
   "cell_type": "code",
   "execution_count": 955,
   "metadata": {
    "collapsed": false
   },
   "outputs": [
    {
     "name": "stderr",
     "output_type": "stream",
     "text": [
      "/anaconda/lib/python2.7/site-packages/IPython/kernel/__main__.py:1: SettingWithCopyWarning: \n",
      "A value is trying to be set on a copy of a slice from a DataFrame.\n",
      "Try using .loc[row_indexer,col_indexer] = value instead\n",
      "\n",
      "See the caveats in the documentation: http://pandas.pydata.org/pandas-docs/stable/indexing.html#indexing-view-versus-copy\n",
      "  if __name__ == '__main__':\n"
     ]
    }
   ],
   "source": [
    "df_filtered['txcnt_second'] = df_filtered['tx_count'].values / df_filtered['blockTime'].values"
   ]
  },
  {
   "cell_type": "code",
   "execution_count": 956,
   "metadata": {
    "collapsed": false
   },
   "outputs": [
    {
     "name": "stderr",
     "output_type": "stream",
     "text": [
      "/anaconda/lib/python2.7/site-packages/IPython/kernel/__main__.py:1: SettingWithCopyWarning: \n",
      "A value is trying to be set on a copy of a slice from a DataFrame.\n",
      "Try using .loc[row_indexer,col_indexer] = value instead\n",
      "\n",
      "See the caveats in the documentation: http://pandas.pydata.org/pandas-docs/stable/indexing.html#indexing-view-versus-copy\n",
      "  if __name__ == '__main__':\n"
     ]
    }
   ],
   "source": [
    "df_filtered['avg_gasUsed_t_perblock'] = df_filtered.groupby('block_id')['gasUsed_t'].transform('mean')"
   ]
  },
  {
   "cell_type": "code",
   "execution_count": 957,
   "metadata": {
    "collapsed": false
   },
   "outputs": [
    {
     "name": "stderr",
     "output_type": "stream",
     "text": [
      "/anaconda/lib/python2.7/site-packages/IPython/kernel/__main__.py:1: SettingWithCopyWarning: \n",
      "A value is trying to be set on a copy of a slice from a DataFrame.\n",
      "Try using .loc[row_indexer,col_indexer] = value instead\n",
      "\n",
      "See the caveats in the documentation: http://pandas.pydata.org/pandas-docs/stable/indexing.html#indexing-view-versus-copy\n",
      "  if __name__ == '__main__':\n"
     ]
    }
   ],
   "source": [
    "df_filtered['avg_price_perblock'] = df_filtered.groupby('block_id')['price_gwei'].transform('mean')"
   ]
  },
  {
   "cell_type": "code",
   "execution_count": 958,
   "metadata": {
    "collapsed": false
   },
   "outputs": [],
   "source": [
    "df_filtered.to_csv('./../data/data_filtered.csv')"
   ]
  },
  {
   "cell_type": "markdown",
   "metadata": {},
   "source": [
    "## Calculate the rolling average over given number of windows\n",
    "- This is very messy! Will clean up later"
   ]
  },
  {
   "cell_type": "code",
   "execution_count": 959,
   "metadata": {
    "collapsed": true
   },
   "outputs": [],
   "source": [
    "def rolling_avg(window_size):\n",
    "    \n",
    "    price = df_filtered[['block_id', 'avg_price_perblock']].drop_duplicates().sort_values(\n",
    "                        'block_id', ascending=True)\n",
    "    \n",
    "    gasUsed_t = df_filtered[['block_id', 'avg_gasUsed_t_perblock']].drop_duplicates().sort_values(\n",
    "                            'block_id', ascending=True)\n",
    "    \n",
    "    txcnt_second = df_filtered[['block_id', 'txcnt_second']].drop_duplicates().sort_values(\n",
    "                                'block_id', ascending=True)\n",
    "    \n",
    "    tx_count = df_filtered[['block_id', 'tx_count']].drop_duplicates().sort_values(\n",
    "                            'block_id', ascending=True)\n",
    "    \n",
    "    gasUsed_b = df_filtered[['block_id', 'gasUsed_b']].drop_duplicates().sort_values(\n",
    "                            'block_id', ascending=True)\n",
    "    \n",
    "    uncle_count = df_filtered[['block_id', 'uncle_count']].drop_duplicates().sort_values(\n",
    "                                'block_id', ascending=True)\n",
    "    \n",
    "    difficulty = df_filtered[['block_id', 'difficulty']].drop_duplicates().sort_values(\n",
    "                                'block_id', ascending=True)\n",
    "    \n",
    "    blocktime = df_filtered[['block_id', 'blockTime']].drop_duplicates().sort_values(\n",
    "                             'block_id', ascending=True)\n",
    "    \n",
    "    # create new pandas dataframe with average values\n",
    "    rolling_avg = pd.DataFrame()\n",
    "    \n",
    "    # calculate rolling averages \n",
    "    rolling_avg['avg_blocktime'] = blocktime['blockTime'].rolling(window=window_size).mean()\n",
    "    rolling_avg['avg_gasUsed_b'] = gasUsed_b['gasUsed_b'].rolling(window=window_size).mean()\n",
    "    rolling_avg['avg_tx_count'] = tx_count['tx_count'].rolling(window=window_size).mean()\n",
    "    rolling_avg['avg_uncle_count'] = uncle_count['uncle_count'].rolling(window=window_size).mean()\n",
    "    rolling_avg['avg_difficulty'] = difficulty['difficulty'].rolling(window=window_size).mean()\n",
    "    rolling_avg['avg_txcnt_second'] = txcnt_second['txcnt_second'].rolling(window=window_size).mean()\n",
    "    rolling_avg['avg_gasUsed_t'] = gasUsed_t['avg_gasUsed_t_perblock'].rolling(window=window_size).mean()\n",
    "    rolling_avg['avg_price'] = price['avg_price_perblock'].rolling(window=window_size).mean()\n",
    "    \n",
    "    # insert blockids to merge on\n",
    "    rolling_avg['blockids'] = df_filtered['block_id'].drop_duplicates().sort_values(ascending=True)\n",
    "    \n",
    "    return rolling_avg"
   ]
  },
  {
   "cell_type": "markdown",
   "metadata": {},
   "source": [
    "There are between 600 and 3500 blocks in a given day, so try 5 through 4000 previous blocks"
   ]
  },
  {
   "cell_type": "markdown",
   "metadata": {},
   "source": [
    "###Create csv files for each regime"
   ]
  },
  {
   "cell_type": "code",
   "execution_count": 960,
   "metadata": {
    "collapsed": false
   },
   "outputs": [],
   "source": [
    "num_blocks = [5, 10, 25, 50, 100, 1000, 2000, 3000, 4000]\n",
    "for num in num_blocks:\n",
    "    df_rolling_avg = rolling_avg(num)\n",
    "    df_rolling_avg.to_csv('./../data/block_avg_{}.csv'.format(num))"
   ]
  },
  {
   "cell_type": "code",
   "execution_count": null,
   "metadata": {
    "collapsed": true
   },
   "outputs": [],
   "source": []
  }
 ],
 "metadata": {
  "kernelspec": {
   "display_name": "Python 2",
   "language": "python",
   "name": "python2"
  },
  "language_info": {
   "codemirror_mode": {
    "name": "ipython",
    "version": 2
   },
   "file_extension": ".py",
   "mimetype": "text/x-python",
   "name": "python",
   "nbconvert_exporter": "python",
   "pygments_lexer": "ipython2",
   "version": "2.7.13"
  }
 },
 "nbformat": 4,
 "nbformat_minor": 0
}
