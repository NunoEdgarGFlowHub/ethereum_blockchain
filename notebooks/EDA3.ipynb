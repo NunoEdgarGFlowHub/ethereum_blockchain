{
 "cells": [
  {
   "cell_type": "markdown",
   "metadata": {},
   "source": [
    "#Exploratory Analysis"
   ]
  },
  {
   "cell_type": "code",
   "execution_count": 774,
   "metadata": {
    "collapsed": false
   },
   "outputs": [],
   "source": [
    "from __future__ import print_function\n",
    "import pandas as pd\n",
    "import numpy as np\n",
    "import matplotlib.pyplot as plt\n",
    "import seaborn as sns\n",
    "%matplotlib inline"
   ]
  },
  {
   "cell_type": "markdown",
   "metadata": {},
   "source": [
    "##Load data"
   ]
  },
  {
   "cell_type": "code",
   "execution_count": 775,
   "metadata": {
    "collapsed": true
   },
   "outputs": [],
   "source": [
    "df = pd.read_csv('./../data/data.csv')"
   ]
  },
  {
   "cell_type": "code",
   "execution_count": 776,
   "metadata": {
    "collapsed": false
   },
   "outputs": [
    {
     "data": {
      "text/plain": [
       "(1494279, 23)"
      ]
     },
     "execution_count": 776,
     "metadata": {},
     "output_type": "execute_result"
    }
   ],
   "source": [
    "df.shape"
   ]
  },
  {
   "cell_type": "code",
   "execution_count": 777,
   "metadata": {
    "collapsed": false
   },
   "outputs": [
    {
     "name": "stdout",
     "output_type": "stream",
     "text": [
      "<class 'pandas.core.frame.DataFrame'>\n",
      "RangeIndex: 1494279 entries, 0 to 1494278\n",
      "Data columns (total 23 columns):\n",
      "Unnamed: 0      1494279 non-null int64\n",
      "hash_t          1494279 non-null object\n",
      "accountNonce    1494279 non-null int64\n",
      "amount          1494279 non-null float64\n",
      "block_id        1494279 non-null int64\n",
      "gasLimit_t      1494279 non-null int64\n",
      "gasUsed_t       1494279 non-null int64\n",
      "isContractTx    0 non-null float64\n",
      "newContract     1494279 non-null int64\n",
      "price           1494279 non-null float64\n",
      "time_t          1494279 non-null object\n",
      "txIndex         515711 non-null float64\n",
      "type            1494279 non-null object\n",
      "blockTime       1494279 non-null int64\n",
      "difficulty      1494279 non-null object\n",
      "gasLimit_b      1494279 non-null float64\n",
      "gasUsed_b       1494279 non-null float64\n",
      "reward          1494279 non-null object\n",
      "size            1494279 non-null int64\n",
      "time_b          1494279 non-null object\n",
      "totalFee        1494279 non-null object\n",
      "tx_count        1494279 non-null int64\n",
      "uncle_count     1494279 non-null int64\n",
      "dtypes: float64(6), int64(10), object(7)\n",
      "memory usage: 262.2+ MB\n"
     ]
    }
   ],
   "source": [
    "df.info()"
   ]
  },
  {
   "cell_type": "code",
   "execution_count": 778,
   "metadata": {
    "collapsed": false
   },
   "outputs": [
    {
     "name": "stdout",
     "output_type": "stream",
     "text": [
      "no txs: 1494279, no blocks: 14583\n"
     ]
    }
   ],
   "source": [
    "print('no txs: {}, no blocks: {}'.format(df.shape[0], np.unique(df['block_id'].values).shape[0]))"
   ]
  },
  {
   "cell_type": "markdown",
   "metadata": {},
   "source": [
    "## Convert dates to datetime"
   ]
  },
  {
   "cell_type": "code",
   "execution_count": 779,
   "metadata": {
    "collapsed": false
   },
   "outputs": [],
   "source": [
    "df.loc[:,'time_t'] = pd.to_datetime(df.time_t, yearfirst=True)"
   ]
  },
  {
   "cell_type": "code",
   "execution_count": 780,
   "metadata": {
    "collapsed": true
   },
   "outputs": [],
   "source": [
    "df.loc[:,'time_b'] = pd.to_datetime(df.time_b, yearfirst=True)"
   ]
  },
  {
   "cell_type": "code",
   "execution_count": 781,
   "metadata": {
    "collapsed": false
   },
   "outputs": [
    {
     "data": {
      "text/plain": [
       "0   2017-09-20 20:24:15\n",
       "1   2017-09-20 20:24:15\n",
       "2   2017-09-20 20:24:15\n",
       "3   2017-09-20 20:24:15\n",
       "4   2017-09-20 20:24:15\n",
       "Name: time_t, dtype: datetime64[ns]"
      ]
     },
     "execution_count": 781,
     "metadata": {},
     "output_type": "execute_result"
    }
   ],
   "source": [
    "df['time_t'].head()"
   ]
  },
  {
   "cell_type": "code",
   "execution_count": 782,
   "metadata": {
    "collapsed": false
   },
   "outputs": [],
   "source": [
    "df.drop('Unnamed: 0', axis=1, inplace=True)"
   ]
  },
  {
   "cell_type": "markdown",
   "metadata": {},
   "source": [
    "## Convert long integer columns\n",
    "- difficulty\n",
    "- reward\n",
    "- totalFee"
   ]
  },
  {
   "cell_type": "markdown",
   "metadata": {},
   "source": [
    "Filter each string extracting the digits"
   ]
  },
  {
   "cell_type": "code",
   "execution_count": 783,
   "metadata": {
    "collapsed": false
   },
   "outputs": [
    {
     "data": {
      "text/plain": [
       "2338428842518947"
      ]
     },
     "execution_count": 783,
     "metadata": {},
     "output_type": "execute_result"
    }
   ],
   "source": [
    "int(filter(str.isdigit, df['difficulty'][0]))"
   ]
  },
  {
   "cell_type": "code",
   "execution_count": 784,
   "metadata": {
    "collapsed": false
   },
   "outputs": [],
   "source": [
    "df['difficulty'] = df['difficulty'].apply(lambda x: int(filter(str.isdigit, x)))"
   ]
  },
  {
   "cell_type": "code",
   "execution_count": 785,
   "metadata": {
    "collapsed": false
   },
   "outputs": [
    {
     "data": {
      "text/plain": [
       "0    2338428842518947\n",
       "1    2338428842518947\n",
       "2    2338428842518947\n",
       "3    2338428842518947\n",
       "4    2338428842518947\n",
       "Name: difficulty, dtype: int64"
      ]
     },
     "execution_count": 785,
     "metadata": {},
     "output_type": "execute_result"
    }
   ],
   "source": [
    "df['difficulty'].head()"
   ]
  },
  {
   "cell_type": "code",
   "execution_count": 786,
   "metadata": {
    "collapsed": true
   },
   "outputs": [],
   "source": [
    "df['reward'] = df['reward'].apply(lambda x: int(filter(str.isdigit, x)))"
   ]
  },
  {
   "cell_type": "code",
   "execution_count": 787,
   "metadata": {
    "collapsed": false
   },
   "outputs": [
    {
     "data": {
      "text/plain": [
       "0    5008232105000000000\n",
       "1    5008232105000000000\n",
       "2    5008232105000000000\n",
       "3    5008232105000000000\n",
       "4    5008232105000000000\n",
       "Name: reward, dtype: int64"
      ]
     },
     "execution_count": 787,
     "metadata": {},
     "output_type": "execute_result"
    }
   ],
   "source": [
    "df['reward'].head()"
   ]
  },
  {
   "cell_type": "code",
   "execution_count": 788,
   "metadata": {
    "collapsed": true
   },
   "outputs": [],
   "source": [
    "df['totalFee'] = df['totalFee'].apply(lambda x: int(filter(str.isdigit, x)))"
   ]
  },
  {
   "cell_type": "code",
   "execution_count": 789,
   "metadata": {
    "collapsed": false
   },
   "outputs": [
    {
     "data": {
      "text/plain": [
       "0    8232105000000000\n",
       "1    8232105000000000\n",
       "2    8232105000000000\n",
       "3    8232105000000000\n",
       "4    8232105000000000\n",
       "Name: totalFee, dtype: int64"
      ]
     },
     "execution_count": 789,
     "metadata": {},
     "output_type": "execute_result"
    }
   ],
   "source": [
    "df['totalFee'].head()"
   ]
  },
  {
   "cell_type": "markdown",
   "metadata": {},
   "source": [
    "## Convert floats back to ints"
   ]
  },
  {
   "cell_type": "code",
   "execution_count": 790,
   "metadata": {
    "collapsed": false
   },
   "outputs": [],
   "source": [
    "def float_to_int(col_list):\n",
    "    for col in col_list:\n",
    "        df[col] = df[col].apply(lambda x: np.rint(x))\n",
    "        df[col] = df[col].values.astype(int)"
   ]
  },
  {
   "cell_type": "code",
   "execution_count": 791,
   "metadata": {
    "collapsed": true
   },
   "outputs": [],
   "source": [
    "float_to_int(['amount', 'price', 'gasLimit_b', 'gasUsed_b'])"
   ]
  },
  {
   "cell_type": "markdown",
   "metadata": {},
   "source": [
    "The column \"isContractTx\" is empty so drop it"
   ]
  },
  {
   "cell_type": "code",
   "execution_count": 792,
   "metadata": {
    "collapsed": false
   },
   "outputs": [],
   "source": [
    "df.drop('isContractTx', axis=1, inplace=True)"
   ]
  },
  {
   "cell_type": "code",
   "execution_count": 793,
   "metadata": {
    "collapsed": false
   },
   "outputs": [
    {
     "name": "stdout",
     "output_type": "stream",
     "text": [
      "<class 'pandas.core.frame.DataFrame'>\n",
      "RangeIndex: 1494279 entries, 0 to 1494278\n",
      "Data columns (total 21 columns):\n",
      "hash_t          1494279 non-null object\n",
      "accountNonce    1494279 non-null int64\n",
      "amount          1494279 non-null int64\n",
      "block_id        1494279 non-null int64\n",
      "gasLimit_t      1494279 non-null int64\n",
      "gasUsed_t       1494279 non-null int64\n",
      "newContract     1494279 non-null int64\n",
      "price           1494279 non-null int64\n",
      "time_t          1494279 non-null datetime64[ns]\n",
      "txIndex         515711 non-null float64\n",
      "type            1494279 non-null object\n",
      "blockTime       1494279 non-null int64\n",
      "difficulty      1494279 non-null int64\n",
      "gasLimit_b      1494279 non-null int64\n",
      "gasUsed_b       1494279 non-null int64\n",
      "reward          1494279 non-null int64\n",
      "size            1494279 non-null int64\n",
      "time_b          1494279 non-null datetime64[ns]\n",
      "totalFee        1494279 non-null int64\n",
      "tx_count        1494279 non-null int64\n",
      "uncle_count     1494279 non-null int64\n",
      "dtypes: datetime64[ns](2), float64(1), int64(16), object(2)\n",
      "memory usage: 239.4+ MB\n"
     ]
    }
   ],
   "source": [
    "df.info()"
   ]
  },
  {
   "cell_type": "code",
   "execution_count": 794,
   "metadata": {
    "collapsed": false
   },
   "outputs": [
    {
     "data": {
      "text/plain": [
       "978568"
      ]
     },
     "execution_count": 794,
     "metadata": {},
     "output_type": "execute_result"
    }
   ],
   "source": [
    "df['txIndex'].isnull().sum()"
   ]
  },
  {
   "cell_type": "code",
   "execution_count": 795,
   "metadata": {
    "collapsed": false
   },
   "outputs": [
    {
     "data": {
      "text/plain": [
       "1.0     176351\n",
       "2.0      92812\n",
       "3.0      53512\n",
       "4.0      42831\n",
       "5.0      39828\n",
       "6.0      34256\n",
       "7.0      32021\n",
       "8.0      11919\n",
       "9.0       5642\n",
       "10.0      5096\n",
       "11.0      4882\n",
       "12.0      4867\n",
       "13.0      4317\n",
       "14.0      3138\n",
       "15.0      1954\n",
       "16.0      1823\n",
       "17.0       289\n",
       "18.0       154\n",
       "19.0        12\n",
       "20.0         7\n",
       "Name: txIndex, dtype: int64"
      ]
     },
     "execution_count": 795,
     "metadata": {},
     "output_type": "execute_result"
    }
   ],
   "source": [
    "df['txIndex'].value_counts()"
   ]
  },
  {
   "cell_type": "code",
   "execution_count": 796,
   "metadata": {
    "collapsed": false
   },
   "outputs": [
    {
     "data": {
      "text/plain": [
       "tx         973640\n",
       "call       492595\n",
       "create      27726\n",
       "suicide       318\n",
       "Name: type, dtype: int64"
      ]
     },
     "execution_count": 796,
     "metadata": {},
     "output_type": "execute_result"
    }
   ],
   "source": [
    "df['type'].value_counts()"
   ]
  },
  {
   "cell_type": "code",
   "execution_count": 797,
   "metadata": {
    "collapsed": false
   },
   "outputs": [
    {
     "data": {
      "text/plain": [
       "0    1489351\n",
       "1       4928\n",
       "Name: newContract, dtype: int64"
      ]
     },
     "execution_count": 797,
     "metadata": {},
     "output_type": "execute_result"
    }
   ],
   "source": [
    "df['newContract'].value_counts()"
   ]
  },
  {
   "cell_type": "markdown",
   "metadata": {},
   "source": [
    "Binarize the amount column (1 if > 0 and 0 if 0)"
   ]
  },
  {
   "cell_type": "code",
   "execution_count": 798,
   "metadata": {
    "collapsed": false
   },
   "outputs": [],
   "source": [
    "df['amount_binary'] = df['amount'].map(lambda x: 1 if x > 0 else 0)"
   ]
  },
  {
   "cell_type": "markdown",
   "metadata": {},
   "source": [
    "## Check for NaN values"
   ]
  },
  {
   "cell_type": "code",
   "execution_count": 799,
   "metadata": {
    "collapsed": false
   },
   "outputs": [
    {
     "name": "stdout",
     "output_type": "stream",
     "text": [
      "hash_t 0\n",
      "accountNonce 0\n",
      "amount 0\n",
      "block_id 0\n",
      "gasLimit_t 0\n",
      "gasUsed_t 0\n",
      "newContract 0\n",
      "price 0\n",
      "time_t 0\n",
      "txIndex 978568\n",
      "type 0\n",
      "blockTime 0\n",
      "difficulty 0\n",
      "gasLimit_b 0\n",
      "gasUsed_b 0\n",
      "reward 0\n",
      "size 0\n",
      "time_b 0\n",
      "totalFee 0\n",
      "tx_count 0\n",
      "uncle_count 0\n",
      "amount_binary 0\n"
     ]
    }
   ],
   "source": [
    "for col in df.columns:\n",
    "    print(col, df[col].isnull().sum())"
   ]
  },
  {
   "cell_type": "markdown",
   "metadata": {},
   "source": [
    "#Columns"
   ]
  },
  {
   "cell_type": "code",
   "execution_count": 800,
   "metadata": {
    "collapsed": false
   },
   "outputs": [
    {
     "name": "stdout",
     "output_type": "stream",
     "text": [
      "<class 'pandas.core.frame.DataFrame'>\n",
      "RangeIndex: 1494279 entries, 0 to 1494278\n",
      "Data columns (total 22 columns):\n",
      "hash_t           1494279 non-null object\n",
      "accountNonce     1494279 non-null int64\n",
      "amount           1494279 non-null int64\n",
      "block_id         1494279 non-null int64\n",
      "gasLimit_t       1494279 non-null int64\n",
      "gasUsed_t        1494279 non-null int64\n",
      "newContract      1494279 non-null int64\n",
      "price            1494279 non-null int64\n",
      "time_t           1494279 non-null datetime64[ns]\n",
      "txIndex          515711 non-null float64\n",
      "type             1494279 non-null object\n",
      "blockTime        1494279 non-null int64\n",
      "difficulty       1494279 non-null int64\n",
      "gasLimit_b       1494279 non-null int64\n",
      "gasUsed_b        1494279 non-null int64\n",
      "reward           1494279 non-null int64\n",
      "size             1494279 non-null int64\n",
      "time_b           1494279 non-null datetime64[ns]\n",
      "totalFee         1494279 non-null int64\n",
      "tx_count         1494279 non-null int64\n",
      "uncle_count      1494279 non-null int64\n",
      "amount_binary    1494279 non-null int64\n",
      "dtypes: datetime64[ns](2), float64(1), int64(17), object(2)\n",
      "memory usage: 250.8+ MB\n"
     ]
    }
   ],
   "source": [
    "df.info()"
   ]
  },
  {
   "cell_type": "markdown",
   "metadata": {},
   "source": [
    "##Decription:\n",
    "###Transaction level\n",
    "- hash_t : a unique identifier for each transaction\n",
    "- accountNonce : the number of transactions the sender account has made on the network (mechanism to ensure the same tranaction isn't submitted twice)\n",
    "- amount : for monetary transactions, the amount in Ether that is exchanged\n",
    "- block_id : a unique identifier for each block\n",
    "- gasLimit_t : the maximum amount of gas that is allowed to be spent on gas for a given transaction\n",
    "- gasUsed_t : the actual amount of gas that was consumed on the given transaction \n",
    "- newContract : whether it is a new contract or not\n",
    "- price : the price per unit gas (Wei)\n",
    "- txIndex : an integer from 1 to 20 (or NaN)\n",
    "- amount_binary : binarized amount column (1 if amount is non-zero)\n",
    "- type : the kind of transaction\n",
    "    - tx\n",
    "    - call\n",
    "    - create\n",
    "    - suicide\n",
    "\n",
    "###Block level\n",
    "- blockTime : the total amount of time spent on the block\n",
    "- difficulty : \n",
    "- gasLimit_b :\n",
    "- gasUsed_b :\n",
    "- reward :\n",
    "- size : \n",
    "- time_b :\n",
    "- totalFee :\n",
    "- tx_count : the total number of txs in a given block\n",
    "- uncle_count : "
   ]
  },
  {
   "cell_type": "markdown",
   "metadata": {},
   "source": [
    "##Categorical variables:\n",
    "- txIndex\n",
    "- type\n",
    "- amount_binary"
   ]
  },
  {
   "cell_type": "markdown",
   "metadata": {},
   "source": [
    "#Explore features"
   ]
  },
  {
   "cell_type": "markdown",
   "metadata": {},
   "source": [
    "##Price (dependent variable)"
   ]
  },
  {
   "cell_type": "markdown",
   "metadata": {},
   "source": [
    "###Convert price from Wei to Gwei"
   ]
  },
  {
   "cell_type": "code",
   "execution_count": 801,
   "metadata": {
    "collapsed": false
   },
   "outputs": [],
   "source": [
    "df['price_gwei'] = df['price'].values / 1000000000"
   ]
  },
  {
   "cell_type": "code",
   "execution_count": 802,
   "metadata": {
    "collapsed": false
   },
   "outputs": [
    {
     "data": {
      "image/png": "[encoded data removed]",
      "text/plain": [
       "<matplotlib.figure.Figure at 0x158505990>"
      ]
     },
     "metadata": {},
     "output_type": "display_data"
    }
   ],
   "source": [
    "plt.hist(df['price_gwei'], bins=3000, color='b', alpha=0.7)\n",
    "plt.xlim(-20,500)\n",
    "plt.xlabel('Price (GWei)')\n",
    "plt.show()"
   ]
  },
  {
   "cell_type": "code",
   "execution_count": 803,
   "metadata": {
    "collapsed": false
   },
   "outputs": [
    {
     "data": {
      "text/plain": [
       "29.105697635574437"
      ]
     },
     "execution_count": 803,
     "metadata": {},
     "output_type": "execute_result"
    }
   ],
   "source": [
    "np.mean(df['price_gwei'].values)"
   ]
  },
  {
   "cell_type": "code",
   "execution_count": 804,
   "metadata": {
    "collapsed": false
   },
   "outputs": [
    {
     "data": {
      "text/plain": [
       "37304.531999999999"
      ]
     },
     "execution_count": 804,
     "metadata": {},
     "output_type": "execute_result"
    }
   ],
   "source": [
    "np.max(df['price_gwei'].values)"
   ]
  },
  {
   "cell_type": "code",
   "execution_count": 805,
   "metadata": {
    "collapsed": false
   },
   "outputs": [
    {
     "data": {
      "text/plain": [
       "1.0000000000000001e-09"
      ]
     },
     "execution_count": 805,
     "metadata": {},
     "output_type": "execute_result"
    }
   ],
   "source": [
    "np.min(df['price_gwei'].values)"
   ]
  },
  {
   "cell_type": "markdown",
   "metadata": {},
   "source": [
    "Price ranges from 0 to 37304 GWei"
   ]
  },
  {
   "cell_type": "code",
   "execution_count": 806,
   "metadata": {
    "collapsed": false
   },
   "outputs": [
    {
     "data": {
      "text/plain": [
       "0    862496\n",
       "1    631783\n",
       "Name: amount_binary, dtype: int64"
      ]
     },
     "execution_count": 806,
     "metadata": {},
     "output_type": "execute_result"
    }
   ],
   "source": [
    "df['amount_binary'].value_counts()"
   ]
  },
  {
   "cell_type": "code",
   "execution_count": 807,
   "metadata": {
    "collapsed": false
   },
   "outputs": [
    {
     "data": {
      "text/plain": [
       "tx         973640\n",
       "call       492595\n",
       "create      27726\n",
       "suicide       318\n",
       "Name: type, dtype: int64"
      ]
     },
     "execution_count": 807,
     "metadata": {},
     "output_type": "execute_result"
    }
   ],
   "source": [
    "df['type'].value_counts()"
   ]
  },
  {
   "cell_type": "code",
   "execution_count": 808,
   "metadata": {
    "collapsed": true
   },
   "outputs": [],
   "source": [
    "grouped_type = df.groupby('type')"
   ]
  },
  {
   "cell_type": "code",
   "execution_count": 809,
   "metadata": {
    "collapsed": false
   },
   "outputs": [
    {
     "data": {
      "text/plain": [
       "type\n",
       "call       34.134513\n",
       "create     11.723243\n",
       "suicide     8.152529\n",
       "tx         27.063300\n",
       "Name: price_gwei, dtype: float64"
      ]
     },
     "execution_count": 809,
     "metadata": {},
     "output_type": "execute_result"
    }
   ],
   "source": [
    "df.groupby('type')['price_gwei'].mean()"
   ]
  },
  {
   "cell_type": "markdown",
   "metadata": {},
   "source": [
    "Call has the highest mean price, while suicide has the lowest"
   ]
  },
  {
   "cell_type": "markdown",
   "metadata": {},
   "source": [
    "###Plot price for different types"
   ]
  },
  {
   "cell_type": "code",
   "execution_count": 810,
   "metadata": {
    "collapsed": true
   },
   "outputs": [],
   "source": [
    "tx = df[df['type'] == 'tx']\n",
    "call = df[df['type'] == 'call']\n",
    "create = df[df['type'] == 'create']\n",
    "suicide = df[df['type'] == 'suicide']"
   ]
  },
  {
   "cell_type": "code",
   "execution_count": 811,
   "metadata": {
    "collapsed": false
   },
   "outputs": [
    {
     "data": {
      "image/png": "[encoded data removed]",
      "text/plain": [
       "<matplotlib.figure.Figure at 0x1d0830d50>"
      ]
     },
     "metadata": {},
     "output_type": "display_data"
    }
   ],
   "source": [
    "plt.hist(tx['price_gwei'], bins=4000, color='b', alpha=0.7)\n",
    "plt.xlim(-10,100)\n",
    "plt.title('tx', fontsize=18)\n",
    "plt.xlabel('price', fontsize=18)\n",
    "plt.show()"
   ]
  },
  {
   "cell_type": "code",
   "execution_count": 812,
   "metadata": {
    "collapsed": false
   },
   "outputs": [
    {
     "data": {
      "image/png": "[encoded data removed]",
      "text/plain": [
       "<matplotlib.figure.Figure at 0x1991ed290>"
      ]
     },
     "metadata": {},
     "output_type": "display_data"
    }
   ],
   "source": [
    "plt.hist(call['price_gwei'], bins=4000, color='b', alpha=0.7)\n",
    "plt.xlim(-10,100)\n",
    "plt.title('call', fontsize=18)\n",
    "plt.xlabel('price', fontsize=18)\n",
    "plt.show()"
   ]
  },
  {
   "cell_type": "code",
   "execution_count": 813,
   "metadata": {
    "collapsed": false
   },
   "outputs": [
    {
     "data": {
      "image/png": "[encoded data removed]",
      "text/plain": [
       "<matplotlib.figure.Figure at 0x1584c0e90>"
      ]
     },
     "metadata": {},
     "output_type": "display_data"
    }
   ],
   "source": [
    "plt.hist(create['price_gwei'], bins=50, color='b', alpha=0.7)\n",
    "plt.xlim(-10,100)\n",
    "plt.title('create', fontsize=18)\n",
    "plt.xlabel('price', fontsize=18)\n",
    "plt.show()"
   ]
  },
  {
   "cell_type": "code",
   "execution_count": 814,
   "metadata": {
    "collapsed": false
   },
   "outputs": [
    {
     "data": {
      "image/png": "[encoded data removed]",
      "text/plain": [
       "<matplotlib.figure.Figure at 0x1f74d1b90>"
      ]
     },
     "metadata": {},
     "output_type": "display_data"
    }
   ],
   "source": [
    "plt.hist(suicide['price_gwei'], bins=10, color='b', alpha=0.7)\n",
    "plt.xlim(-10,100)\n",
    "plt.title('suicide', fontsize=18)\n",
    "plt.xlabel('price', fontsize=18)\n",
    "plt.show()"
   ]
  },
  {
   "cell_type": "markdown",
   "metadata": {},
   "source": [
    "There seems to be some signal among the different transaction types "
   ]
  },
  {
   "cell_type": "markdown",
   "metadata": {},
   "source": [
    "##Clean up time data"
   ]
  },
  {
   "cell_type": "markdown",
   "metadata": {},
   "source": [
    "###new column for day, time"
   ]
  },
  {
   "cell_type": "code",
   "execution_count": 815,
   "metadata": {
    "collapsed": false
   },
   "outputs": [],
   "source": [
    "df['day'] = pd.DatetimeIndex(df['time_t']).day"
   ]
  },
  {
   "cell_type": "code",
   "execution_count": 816,
   "metadata": {
    "collapsed": false
   },
   "outputs": [
    {
     "data": {
      "text/plain": [
       "19    414215\n",
       "18    298074\n",
       "20    295637\n",
       "21    171594\n",
       "22    134105\n",
       "23    124697\n",
       "24     55957\n",
       "Name: day, dtype: int64"
      ]
     },
     "execution_count": 816,
     "metadata": {},
     "output_type": "execute_result"
    }
   ],
   "source": [
    "df['day'].value_counts()"
   ]
  },
  {
   "cell_type": "code",
   "execution_count": 817,
   "metadata": {
    "collapsed": false
   },
   "outputs": [],
   "source": [
    "df['hour'] = pd.DatetimeIndex(df['time_t']).hour"
   ]
  },
  {
   "cell_type": "code",
   "execution_count": 818,
   "metadata": {
    "collapsed": false
   },
   "outputs": [],
   "source": [
    "df['minute'] = pd.DatetimeIndex(df['time_t']).minute"
   ]
  },
  {
   "cell_type": "code",
   "execution_count": 819,
   "metadata": {
    "collapsed": true
   },
   "outputs": [],
   "source": [
    "df['second'] = pd.DatetimeIndex(df['time_t']).second"
   ]
  },
  {
   "cell_type": "code",
   "execution_count": 820,
   "metadata": {
    "collapsed": false
   },
   "outputs": [],
   "source": [
    "df['dayofweek'] = pd.DatetimeIndex(df['time_t']).dayofweek"
   ]
  },
  {
   "cell_type": "code",
   "execution_count": 821,
   "metadata": {
    "collapsed": false
   },
   "outputs": [
    {
     "data": {
      "text/plain": [
       "1    414215\n",
       "0    298074\n",
       "2    295637\n",
       "3    171594\n",
       "4    134105\n",
       "5    124697\n",
       "6     55957\n",
       "Name: dayofweek, dtype: int64"
      ]
     },
     "execution_count": 821,
     "metadata": {},
     "output_type": "execute_result"
    }
   ],
   "source": [
    "df['dayofweek'].value_counts()"
   ]
  },
  {
   "cell_type": "code",
   "execution_count": 822,
   "metadata": {
    "collapsed": false
   },
   "outputs": [
    {
     "data": {
      "text/plain": [
       "Index([u'hash_t', u'accountNonce', u'amount', u'block_id', u'gasLimit_t',\n",
       "       u'gasUsed_t', u'newContract', u'price', u'time_t', u'txIndex', u'type',\n",
       "       u'blockTime', u'difficulty', u'gasLimit_b', u'gasUsed_b', u'reward',\n",
       "       u'size', u'time_b', u'totalFee', u'tx_count', u'uncle_count',\n",
       "       u'amount_binary', u'price_gwei', u'day', u'hour', u'minute', u'second',\n",
       "       u'dayofweek'],\n",
       "      dtype='object')"
      ]
     },
     "execution_count": 822,
     "metadata": {},
     "output_type": "execute_result"
    }
   ],
   "source": [
    "df.columns"
   ]
  },
  {
   "cell_type": "code",
   "execution_count": 823,
   "metadata": {
    "collapsed": false
   },
   "outputs": [
    {
     "data": {
      "text/plain": [
       "day\n",
       "18    27.951377\n",
       "19    28.947561\n",
       "20    36.006918\n",
       "21    25.445163\n",
       "22    25.895773\n",
       "23    25.213314\n",
       "24    27.555949\n",
       "Name: price_gwei, dtype: float64"
      ]
     },
     "execution_count": 823,
     "metadata": {},
     "output_type": "execute_result"
    }
   ],
   "source": [
    "#mean price per day\n",
    "df['price_gwei'].groupby(df.day).mean()"
   ]
  },
  {
   "cell_type": "markdown",
   "metadata": {},
   "source": [
    "###How many blocks are in each day?"
   ]
  },
  {
   "cell_type": "code",
   "execution_count": 824,
   "metadata": {
    "collapsed": false
   },
   "outputs": [
    {
     "name": "stdout",
     "output_type": "stream",
     "text": [
      "no blocks per day: 3559\n"
     ]
    }
   ],
   "source": [
    "print('no blocks per day: {}'.format(np.unique(df[df['day'] == 19]['block_id'].values).shape[0]))"
   ]
  },
  {
   "cell_type": "code",
   "execution_count": 825,
   "metadata": {
    "collapsed": true
   },
   "outputs": [],
   "source": [
    "ts = df.set_index(df['time_t'])"
   ]
  },
  {
   "cell_type": "code",
   "execution_count": 826,
   "metadata": {
    "collapsed": true
   },
   "outputs": [],
   "source": [
    "price = pd.Series(ts['price_gwei'])"
   ]
  },
  {
   "cell_type": "code",
   "execution_count": 827,
   "metadata": {
    "collapsed": false
   },
   "outputs": [
    {
     "data": {
      "text/plain": [
       "[<matplotlib.lines.Line2D at 0x16d550fd0>]"
      ]
     },
     "execution_count": 827,
     "metadata": {},
     "output_type": "execute_result"
    },
    {
     "data": {
      "image/png": "[encoded data removed]",
      "text/plain": [
       "<matplotlib.figure.Figure at 0x195e0aed0>"
      ]
     },
     "metadata": {},
     "output_type": "display_data"
    }
   ],
   "source": [
    "plt.plot(price)"
   ]
  },
  {
   "cell_type": "code",
   "execution_count": 828,
   "metadata": {
    "collapsed": false
   },
   "outputs": [
    {
     "name": "stdout",
     "output_type": "stream",
     "text": [
      "<class 'pandas.core.frame.DataFrame'>\n",
      "RangeIndex: 1494279 entries, 0 to 1494278\n",
      "Data columns (total 28 columns):\n",
      "hash_t           1494279 non-null object\n",
      "accountNonce     1494279 non-null int64\n",
      "amount           1494279 non-null int64\n",
      "block_id         1494279 non-null int64\n",
      "gasLimit_t       1494279 non-null int64\n",
      "gasUsed_t        1494279 non-null int64\n",
      "newContract      1494279 non-null int64\n",
      "price            1494279 non-null int64\n",
      "time_t           1494279 non-null datetime64[ns]\n",
      "txIndex          515711 non-null float64\n",
      "type             1494279 non-null object\n",
      "blockTime        1494279 non-null int64\n",
      "difficulty       1494279 non-null int64\n",
      "gasLimit_b       1494279 non-null int64\n",
      "gasUsed_b        1494279 non-null int64\n",
      "reward           1494279 non-null int64\n",
      "size             1494279 non-null int64\n",
      "time_b           1494279 non-null datetime64[ns]\n",
      "totalFee         1494279 non-null int64\n",
      "tx_count         1494279 non-null int64\n",
      "uncle_count      1494279 non-null int64\n",
      "amount_binary    1494279 non-null int64\n",
      "price_gwei       1494279 non-null float64\n",
      "day              1494279 non-null int64\n",
      "hour             1494279 non-null int64\n",
      "minute           1494279 non-null int64\n",
      "second           1494279 non-null int64\n",
      "dayofweek        1494279 non-null int64\n",
      "dtypes: datetime64[ns](2), float64(2), int64(22), object(2)\n",
      "memory usage: 319.2+ MB\n"
     ]
    }
   ],
   "source": [
    "df.info()"
   ]
  },
  {
   "cell_type": "code",
   "execution_count": 829,
   "metadata": {
    "collapsed": false
   },
   "outputs": [
    {
     "data": {
      "text/plain": [
       "9223372036849999872"
      ]
     },
     "execution_count": 829,
     "metadata": {},
     "output_type": "execute_result"
    }
   ],
   "source": [
    "np.max(df['amount'].values)"
   ]
  },
  {
   "cell_type": "code",
   "execution_count": 830,
   "metadata": {
    "collapsed": false
   },
   "outputs": [
    {
     "data": {
      "text/plain": [
       "array([[<matplotlib.axes._subplots.AxesSubplot object at 0x156bab950>]], dtype=object)"
      ]
     },
     "execution_count": 830,
     "metadata": {},
     "output_type": "execute_result"
    },
    {
     "data": {
      "image/png": "[encoded data removed]",
      "text/plain": [
       "<matplotlib.figure.Figure at 0x1f6f34590>"
      ]
     },
     "metadata": {},
     "output_type": "display_data"
    }
   ],
   "source": [
    "df[df['amount'] > 0].hist('amount', bins=20)"
   ]
  },
  {
   "cell_type": "code",
   "execution_count": 831,
   "metadata": {
    "collapsed": false
   },
   "outputs": [
    {
     "data": {
      "text/html": [
       "<div>\n",
       "<style>\n",
       "    .dataframe thead tr:only-child th {\n",
       "        text-align: right;\n",
       "    }\n",
       "\n",
       "    .dataframe thead th {\n",
       "        text-align: left;\n",
       "    }\n",
       "\n",
       "    .dataframe tbody tr th {\n",
       "        vertical-align: top;\n",
       "    }\n",
       "</style>\n",
       "<table border=\"1\" class=\"dataframe\">\n",
       "  <thead>\n",
       "    <tr style=\"text-align: right;\">\n",
       "      <th></th>\n",
       "      <th>hash_t</th>\n",
       "      <th>accountNonce</th>\n",
       "      <th>amount</th>\n",
       "      <th>block_id</th>\n",
       "      <th>gasLimit_t</th>\n",
       "      <th>gasUsed_t</th>\n",
       "      <th>newContract</th>\n",
       "      <th>price</th>\n",
       "      <th>time_t</th>\n",
       "      <th>txIndex</th>\n",
       "      <th>...</th>\n",
       "      <th>totalFee</th>\n",
       "      <th>tx_count</th>\n",
       "      <th>uncle_count</th>\n",
       "      <th>amount_binary</th>\n",
       "      <th>price_gwei</th>\n",
       "      <th>day</th>\n",
       "      <th>hour</th>\n",
       "      <th>minute</th>\n",
       "      <th>second</th>\n",
       "      <th>dayofweek</th>\n",
       "    </tr>\n",
       "  </thead>\n",
       "  <tbody>\n",
       "    <tr>\n",
       "      <th>992252</th>\n",
       "      <td>0xdb9f9076d7403e7099ddc03100e7505e04ba2fa53271...</td>\n",
       "      <td>394330</td>\n",
       "      <td>2108035200000000000</td>\n",
       "      <td>4286251</td>\n",
       "      <td>90000</td>\n",
       "      <td>21000</td>\n",
       "      <td>0</td>\n",
       "      <td>50000000000</td>\n",
       "      <td>2017-09-18 04:16:31</td>\n",
       "      <td>NaN</td>\n",
       "      <td>...</td>\n",
       "      <td>302278670637532540</td>\n",
       "      <td>289</td>\n",
       "      <td>0</td>\n",
       "      <td>1</td>\n",
       "      <td>50.000000</td>\n",
       "      <td>18</td>\n",
       "      <td>4</td>\n",
       "      <td>16</td>\n",
       "      <td>31</td>\n",
       "      <td>0</td>\n",
       "    </tr>\n",
       "    <tr>\n",
       "      <th>992247</th>\n",
       "      <td>0xe0e0f58633c7dcf6c4242c25de6bacf40f5e44fb7c78...</td>\n",
       "      <td>32362</td>\n",
       "      <td>2027354350000000000</td>\n",
       "      <td>4286251</td>\n",
       "      <td>90000</td>\n",
       "      <td>21000</td>\n",
       "      <td>0</td>\n",
       "      <td>36000000000</td>\n",
       "      <td>2017-09-18 04:16:31</td>\n",
       "      <td>NaN</td>\n",
       "      <td>...</td>\n",
       "      <td>302278670637532540</td>\n",
       "      <td>289</td>\n",
       "      <td>0</td>\n",
       "      <td>1</td>\n",
       "      <td>36.000000</td>\n",
       "      <td>18</td>\n",
       "      <td>4</td>\n",
       "      <td>16</td>\n",
       "      <td>31</td>\n",
       "      <td>0</td>\n",
       "    </tr>\n",
       "    <tr>\n",
       "      <th>992259</th>\n",
       "      <td>0xd82df5082100d3a4a277223b799d943bc28b75f6209b...</td>\n",
       "      <td>394444</td>\n",
       "      <td>2982933310849999872</td>\n",
       "      <td>4286251</td>\n",
       "      <td>90000</td>\n",
       "      <td>21000</td>\n",
       "      <td>0</td>\n",
       "      <td>50000000000</td>\n",
       "      <td>2017-09-18 04:16:31</td>\n",
       "      <td>NaN</td>\n",
       "      <td>...</td>\n",
       "      <td>302278670637532540</td>\n",
       "      <td>289</td>\n",
       "      <td>0</td>\n",
       "      <td>1</td>\n",
       "      <td>50.000000</td>\n",
       "      <td>18</td>\n",
       "      <td>4</td>\n",
       "      <td>16</td>\n",
       "      <td>31</td>\n",
       "      <td>0</td>\n",
       "    </tr>\n",
       "    <tr>\n",
       "      <th>992436</th>\n",
       "      <td>0xa3359d9cf4d114208726bc3ec0f1d72ab1be3f25dab5...</td>\n",
       "      <td>394426</td>\n",
       "      <td>2792815008089999872</td>\n",
       "      <td>4286251</td>\n",
       "      <td>90000</td>\n",
       "      <td>21000</td>\n",
       "      <td>0</td>\n",
       "      <td>50000000000</td>\n",
       "      <td>2017-09-18 04:16:31</td>\n",
       "      <td>NaN</td>\n",
       "      <td>...</td>\n",
       "      <td>302278670637532540</td>\n",
       "      <td>289</td>\n",
       "      <td>0</td>\n",
       "      <td>1</td>\n",
       "      <td>50.000000</td>\n",
       "      <td>18</td>\n",
       "      <td>4</td>\n",
       "      <td>16</td>\n",
       "      <td>31</td>\n",
       "      <td>0</td>\n",
       "    </tr>\n",
       "    <tr>\n",
       "      <th>992428</th>\n",
       "      <td>0xaa00a2270ca5fb03071e0443d999f99358781d66ae29...</td>\n",
       "      <td>394405</td>\n",
       "      <td>2806420014449999872</td>\n",
       "      <td>4286251</td>\n",
       "      <td>90000</td>\n",
       "      <td>21000</td>\n",
       "      <td>0</td>\n",
       "      <td>50000000000</td>\n",
       "      <td>2017-09-18 04:16:31</td>\n",
       "      <td>NaN</td>\n",
       "      <td>...</td>\n",
       "      <td>302278670637532540</td>\n",
       "      <td>289</td>\n",
       "      <td>0</td>\n",
       "      <td>1</td>\n",
       "      <td>50.000000</td>\n",
       "      <td>18</td>\n",
       "      <td>4</td>\n",
       "      <td>16</td>\n",
       "      <td>31</td>\n",
       "      <td>0</td>\n",
       "    </tr>\n",
       "    <tr>\n",
       "      <th>992367</th>\n",
       "      <td>0x4cd3c70fa7527c45f6c3bdbc431f832f20ba2e66fac9...</td>\n",
       "      <td>205741</td>\n",
       "      <td>2443300000000000000</td>\n",
       "      <td>4286251</td>\n",
       "      <td>100000</td>\n",
       "      <td>21051</td>\n",
       "      <td>0</td>\n",
       "      <td>49500000000</td>\n",
       "      <td>2017-09-18 04:16:31</td>\n",
       "      <td>NaN</td>\n",
       "      <td>...</td>\n",
       "      <td>302278670637532540</td>\n",
       "      <td>289</td>\n",
       "      <td>0</td>\n",
       "      <td>1</td>\n",
       "      <td>49.500000</td>\n",
       "      <td>18</td>\n",
       "      <td>4</td>\n",
       "      <td>16</td>\n",
       "      <td>31</td>\n",
       "      <td>0</td>\n",
       "    </tr>\n",
       "    <tr>\n",
       "      <th>992358</th>\n",
       "      <td>0x54d7d4d1c6dac6b673edd4f9ed600cb6b0a4858b42b2...</td>\n",
       "      <td>394308</td>\n",
       "      <td>2548942061740000256</td>\n",
       "      <td>4286251</td>\n",
       "      <td>90000</td>\n",
       "      <td>21000</td>\n",
       "      <td>0</td>\n",
       "      <td>50000000000</td>\n",
       "      <td>2017-09-18 04:16:31</td>\n",
       "      <td>NaN</td>\n",
       "      <td>...</td>\n",
       "      <td>302278670637532540</td>\n",
       "      <td>289</td>\n",
       "      <td>0</td>\n",
       "      <td>1</td>\n",
       "      <td>50.000000</td>\n",
       "      <td>18</td>\n",
       "      <td>4</td>\n",
       "      <td>16</td>\n",
       "      <td>31</td>\n",
       "      <td>0</td>\n",
       "    </tr>\n",
       "    <tr>\n",
       "      <th>992321</th>\n",
       "      <td>0x6bd519a5984e4da4346bff65a1d4db04e71491046e80...</td>\n",
       "      <td>394392</td>\n",
       "      <td>2717699599489999872</td>\n",
       "      <td>4286251</td>\n",
       "      <td>90000</td>\n",
       "      <td>21000</td>\n",
       "      <td>0</td>\n",
       "      <td>50000000000</td>\n",
       "      <td>2017-09-18 04:16:31</td>\n",
       "      <td>NaN</td>\n",
       "      <td>...</td>\n",
       "      <td>302278670637532540</td>\n",
       "      <td>289</td>\n",
       "      <td>0</td>\n",
       "      <td>1</td>\n",
       "      <td>50.000000</td>\n",
       "      <td>18</td>\n",
       "      <td>4</td>\n",
       "      <td>16</td>\n",
       "      <td>31</td>\n",
       "      <td>0</td>\n",
       "    </tr>\n",
       "    <tr>\n",
       "      <th>992291</th>\n",
       "      <td>0x81cc47ad7e68f6cfde1bfe7386bae3d38dfbee786d84...</td>\n",
       "      <td>394377</td>\n",
       "      <td>2430664247160000000</td>\n",
       "      <td>4286251</td>\n",
       "      <td>90000</td>\n",
       "      <td>21000</td>\n",
       "      <td>0</td>\n",
       "      <td>50000000000</td>\n",
       "      <td>2017-09-18 04:16:31</td>\n",
       "      <td>NaN</td>\n",
       "      <td>...</td>\n",
       "      <td>302278670637532540</td>\n",
       "      <td>289</td>\n",
       "      <td>0</td>\n",
       "      <td>1</td>\n",
       "      <td>50.000000</td>\n",
       "      <td>18</td>\n",
       "      <td>4</td>\n",
       "      <td>16</td>\n",
       "      <td>31</td>\n",
       "      <td>0</td>\n",
       "    </tr>\n",
       "    <tr>\n",
       "      <th>992194</th>\n",
       "      <td>0x298e0fbed4ef8e9242e1cb436c8508d7e94883588068...</td>\n",
       "      <td>31063</td>\n",
       "      <td>2181552150000000000</td>\n",
       "      <td>4286252</td>\n",
       "      <td>90000</td>\n",
       "      <td>21000</td>\n",
       "      <td>0</td>\n",
       "      <td>30000000000</td>\n",
       "      <td>2017-09-18 04:17:20</td>\n",
       "      <td>NaN</td>\n",
       "      <td>...</td>\n",
       "      <td>235138217876085000</td>\n",
       "      <td>239</td>\n",
       "      <td>0</td>\n",
       "      <td>1</td>\n",
       "      <td>30.000000</td>\n",
       "      <td>18</td>\n",
       "      <td>4</td>\n",
       "      <td>17</td>\n",
       "      <td>20</td>\n",
       "      <td>0</td>\n",
       "    </tr>\n",
       "    <tr>\n",
       "      <th>992146</th>\n",
       "      <td>0x4bec22d6212ec969076a85abf88a2dc30db18d893b08...</td>\n",
       "      <td>457</td>\n",
       "      <td>2399070570000000000</td>\n",
       "      <td>4286252</td>\n",
       "      <td>2300</td>\n",
       "      <td>0</td>\n",
       "      <td>0</td>\n",
       "      <td>30000000000</td>\n",
       "      <td>2017-09-18 04:17:20</td>\n",
       "      <td>1.0</td>\n",
       "      <td>...</td>\n",
       "      <td>235138217876085000</td>\n",
       "      <td>239</td>\n",
       "      <td>0</td>\n",
       "      <td>1</td>\n",
       "      <td>30.000000</td>\n",
       "      <td>18</td>\n",
       "      <td>4</td>\n",
       "      <td>17</td>\n",
       "      <td>20</td>\n",
       "      <td>0</td>\n",
       "    </tr>\n",
       "    <tr>\n",
       "      <th>991593</th>\n",
       "      <td>0x3ac434116adb193ac71ce65f2f628bd1b2c054ecd453...</td>\n",
       "      <td>0</td>\n",
       "      <td>2793402640000000000</td>\n",
       "      <td>4286255</td>\n",
       "      <td>90000</td>\n",
       "      <td>21000</td>\n",
       "      <td>0</td>\n",
       "      <td>30000000000</td>\n",
       "      <td>2017-09-18 04:18:30</td>\n",
       "      <td>NaN</td>\n",
       "      <td>...</td>\n",
       "      <td>316960348939077900</td>\n",
       "      <td>271</td>\n",
       "      <td>0</td>\n",
       "      <td>1</td>\n",
       "      <td>30.000000</td>\n",
       "      <td>18</td>\n",
       "      <td>4</td>\n",
       "      <td>18</td>\n",
       "      <td>30</td>\n",
       "      <td>0</td>\n",
       "    </tr>\n",
       "    <tr>\n",
       "      <th>991580</th>\n",
       "      <td>0x43df79fd953ab986d217254f3d8691113d39bf3f18c1...</td>\n",
       "      <td>54542</td>\n",
       "      <td>2831000000000000000</td>\n",
       "      <td>4286255</td>\n",
       "      <td>420000</td>\n",
       "      <td>21000</td>\n",
       "      <td>0</td>\n",
       "      <td>30000000000</td>\n",
       "      <td>2017-09-18 04:18:30</td>\n",
       "      <td>NaN</td>\n",
       "      <td>...</td>\n",
       "      <td>316960348939077900</td>\n",
       "      <td>271</td>\n",
       "      <td>0</td>\n",
       "      <td>1</td>\n",
       "      <td>30.000000</td>\n",
       "      <td>18</td>\n",
       "      <td>4</td>\n",
       "      <td>18</td>\n",
       "      <td>30</td>\n",
       "      <td>0</td>\n",
       "    </tr>\n",
       "    <tr>\n",
       "      <th>991550</th>\n",
       "      <td>0x56da70b9eb2c27045c4f91fadc39fe55684d94a6b1e0...</td>\n",
       "      <td>394550</td>\n",
       "      <td>2519736758280000000</td>\n",
       "      <td>4286255</td>\n",
       "      <td>90000</td>\n",
       "      <td>21051</td>\n",
       "      <td>0</td>\n",
       "      <td>50000000000</td>\n",
       "      <td>2017-09-18 04:18:30</td>\n",
       "      <td>NaN</td>\n",
       "      <td>...</td>\n",
       "      <td>316960348939077900</td>\n",
       "      <td>271</td>\n",
       "      <td>0</td>\n",
       "      <td>1</td>\n",
       "      <td>50.000000</td>\n",
       "      <td>18</td>\n",
       "      <td>4</td>\n",
       "      <td>18</td>\n",
       "      <td>30</td>\n",
       "      <td>0</td>\n",
       "    </tr>\n",
       "    <tr>\n",
       "      <th>991537</th>\n",
       "      <td>0xa16d7867c124e617220693c00f63230d1162604748f3...</td>\n",
       "      <td>62125</td>\n",
       "      <td>2014928070000000000</td>\n",
       "      <td>4286255</td>\n",
       "      <td>50000</td>\n",
       "      <td>21000</td>\n",
       "      <td>0</td>\n",
       "      <td>30000000000</td>\n",
       "      <td>2017-09-18 04:18:30</td>\n",
       "      <td>NaN</td>\n",
       "      <td>...</td>\n",
       "      <td>316960348939077900</td>\n",
       "      <td>271</td>\n",
       "      <td>0</td>\n",
       "      <td>1</td>\n",
       "      <td>30.000000</td>\n",
       "      <td>18</td>\n",
       "      <td>4</td>\n",
       "      <td>18</td>\n",
       "      <td>30</td>\n",
       "      <td>0</td>\n",
       "    </tr>\n",
       "    <tr>\n",
       "      <th>991523</th>\n",
       "      <td>0xaa26d8149a797fc23d4eec934a3bc0b94b1d866c1628...</td>\n",
       "      <td>40</td>\n",
       "      <td>2114158150000000000</td>\n",
       "      <td>4286255</td>\n",
       "      <td>47008</td>\n",
       "      <td>31984</td>\n",
       "      <td>0</td>\n",
       "      <td>30000000000</td>\n",
       "      <td>2017-09-18 04:18:30</td>\n",
       "      <td>NaN</td>\n",
       "      <td>...</td>\n",
       "      <td>316960348939077900</td>\n",
       "      <td>271</td>\n",
       "      <td>0</td>\n",
       "      <td>1</td>\n",
       "      <td>30.000000</td>\n",
       "      <td>18</td>\n",
       "      <td>4</td>\n",
       "      <td>18</td>\n",
       "      <td>30</td>\n",
       "      <td>0</td>\n",
       "    </tr>\n",
       "    <tr>\n",
       "      <th>991487</th>\n",
       "      <td>0xbfd9e7c2275931a9d778f5d5020bb21964aa433473bb...</td>\n",
       "      <td>0</td>\n",
       "      <td>2000240000000000000</td>\n",
       "      <td>4286255</td>\n",
       "      <td>25200</td>\n",
       "      <td>21000</td>\n",
       "      <td>0</td>\n",
       "      <td>30000000000</td>\n",
       "      <td>2017-09-18 04:18:30</td>\n",
       "      <td>NaN</td>\n",
       "      <td>...</td>\n",
       "      <td>316960348939077900</td>\n",
       "      <td>271</td>\n",
       "      <td>0</td>\n",
       "      <td>1</td>\n",
       "      <td>30.000000</td>\n",
       "      <td>18</td>\n",
       "      <td>4</td>\n",
       "      <td>18</td>\n",
       "      <td>30</td>\n",
       "      <td>0</td>\n",
       "    </tr>\n",
       "    <tr>\n",
       "      <th>991348</th>\n",
       "      <td>0x594e5d1c0df9f3ac6500fba47887d60a9982a1eeec4d...</td>\n",
       "      <td>394588</td>\n",
       "      <td>2765321900000000000</td>\n",
       "      <td>4286256</td>\n",
       "      <td>90000</td>\n",
       "      <td>21000</td>\n",
       "      <td>0</td>\n",
       "      <td>50000000000</td>\n",
       "      <td>2017-09-18 04:19:04</td>\n",
       "      <td>NaN</td>\n",
       "      <td>...</td>\n",
       "      <td>219473535840494750</td>\n",
       "      <td>308</td>\n",
       "      <td>0</td>\n",
       "      <td>1</td>\n",
       "      <td>50.000000</td>\n",
       "      <td>18</td>\n",
       "      <td>4</td>\n",
       "      <td>19</td>\n",
       "      <td>4</td>\n",
       "      <td>0</td>\n",
       "    </tr>\n",
       "    <tr>\n",
       "      <th>991216</th>\n",
       "      <td>0xc78b6112b6bfa43737b3a037c4f15804970ea11fce2e...</td>\n",
       "      <td>3451</td>\n",
       "      <td>2900000000000000000</td>\n",
       "      <td>4286257</td>\n",
       "      <td>90000</td>\n",
       "      <td>21000</td>\n",
       "      <td>0</td>\n",
       "      <td>25000000000</td>\n",
       "      <td>2017-09-18 04:19:09</td>\n",
       "      <td>NaN</td>\n",
       "      <td>...</td>\n",
       "      <td>88763172757996340</td>\n",
       "      <td>128</td>\n",
       "      <td>1</td>\n",
       "      <td>1</td>\n",
       "      <td>25.000000</td>\n",
       "      <td>18</td>\n",
       "      <td>4</td>\n",
       "      <td>19</td>\n",
       "      <td>9</td>\n",
       "      <td>0</td>\n",
       "    </tr>\n",
       "    <tr>\n",
       "      <th>991111</th>\n",
       "      <td>0xcf8ce4106e05e40e62cc838feb1acbaf264136b613d6...</td>\n",
       "      <td>2</td>\n",
       "      <td>2998731600000000000</td>\n",
       "      <td>4286258</td>\n",
       "      <td>21026</td>\n",
       "      <td>21000</td>\n",
       "      <td>0</td>\n",
       "      <td>60400000000</td>\n",
       "      <td>2017-09-18 04:19:31</td>\n",
       "      <td>NaN</td>\n",
       "      <td>...</td>\n",
       "      <td>113624377551398900</td>\n",
       "      <td>165</td>\n",
       "      <td>0</td>\n",
       "      <td>1</td>\n",
       "      <td>60.400000</td>\n",
       "      <td>18</td>\n",
       "      <td>4</td>\n",
       "      <td>19</td>\n",
       "      <td>31</td>\n",
       "      <td>0</td>\n",
       "    </tr>\n",
       "    <tr>\n",
       "      <th>991175</th>\n",
       "      <td>0x00629508173e9c88c02af2517111b3d31a0fe21809a8...</td>\n",
       "      <td>23</td>\n",
       "      <td>2299695042580000000</td>\n",
       "      <td>4286258</td>\n",
       "      <td>150000</td>\n",
       "      <td>33571</td>\n",
       "      <td>0</td>\n",
       "      <td>35000000000</td>\n",
       "      <td>2017-09-18 04:19:31</td>\n",
       "      <td>NaN</td>\n",
       "      <td>...</td>\n",
       "      <td>113624377551398900</td>\n",
       "      <td>165</td>\n",
       "      <td>0</td>\n",
       "      <td>1</td>\n",
       "      <td>35.000000</td>\n",
       "      <td>18</td>\n",
       "      <td>4</td>\n",
       "      <td>19</td>\n",
       "      <td>31</td>\n",
       "      <td>0</td>\n",
       "    </tr>\n",
       "    <tr>\n",
       "      <th>991077</th>\n",
       "      <td>0x01ceefbbd89537cb979695246578d19540770ae2ef54...</td>\n",
       "      <td>0</td>\n",
       "      <td>2026563235630000128</td>\n",
       "      <td>4286259</td>\n",
       "      <td>26712</td>\n",
       "      <td>26712</td>\n",
       "      <td>0</td>\n",
       "      <td>29616441098</td>\n",
       "      <td>2017-09-18 04:19:56</td>\n",
       "      <td>NaN</td>\n",
       "      <td>...</td>\n",
       "      <td>110049102179082000</td>\n",
       "      <td>121</td>\n",
       "      <td>0</td>\n",
       "      <td>1</td>\n",
       "      <td>29.616441</td>\n",
       "      <td>18</td>\n",
       "      <td>4</td>\n",
       "      <td>19</td>\n",
       "      <td>56</td>\n",
       "      <td>0</td>\n",
       "    </tr>\n",
       "    <tr>\n",
       "      <th>990992</th>\n",
       "      <td>0xbbd4f27dcb1bdf16c9a1fdf5f05c117e5a20e22b3638...</td>\n",
       "      <td>394631</td>\n",
       "      <td>2151473266160000000</td>\n",
       "      <td>4286259</td>\n",
       "      <td>90000</td>\n",
       "      <td>21000</td>\n",
       "      <td>0</td>\n",
       "      <td>50000000000</td>\n",
       "      <td>2017-09-18 04:19:56</td>\n",
       "      <td>NaN</td>\n",
       "      <td>...</td>\n",
       "      <td>110049102179082000</td>\n",
       "      <td>121</td>\n",
       "      <td>0</td>\n",
       "      <td>1</td>\n",
       "      <td>50.000000</td>\n",
       "      <td>18</td>\n",
       "      <td>4</td>\n",
       "      <td>19</td>\n",
       "      <td>56</td>\n",
       "      <td>0</td>\n",
       "    </tr>\n",
       "    <tr>\n",
       "      <th>990988</th>\n",
       "      <td>0xbecbb40dfb1caedcc2aa26c3aee6570de1378f86ab26...</td>\n",
       "      <td>0</td>\n",
       "      <td>2500000000000000000</td>\n",
       "      <td>4286259</td>\n",
       "      <td>250000</td>\n",
       "      <td>44493</td>\n",
       "      <td>0</td>\n",
       "      <td>4000000000</td>\n",
       "      <td>2017-09-18 04:19:56</td>\n",
       "      <td>NaN</td>\n",
       "      <td>...</td>\n",
       "      <td>110049102179082000</td>\n",
       "      <td>121</td>\n",
       "      <td>0</td>\n",
       "      <td>1</td>\n",
       "      <td>4.000000</td>\n",
       "      <td>18</td>\n",
       "      <td>4</td>\n",
       "      <td>19</td>\n",
       "      <td>56</td>\n",
       "      <td>0</td>\n",
       "    </tr>\n",
       "    <tr>\n",
       "      <th>990725</th>\n",
       "      <td>0x58f4c8d51cc5d0fcf822df91526faa29c2d120464f61...</td>\n",
       "      <td>394651</td>\n",
       "      <td>2914472600000000000</td>\n",
       "      <td>4286261</td>\n",
       "      <td>90000</td>\n",
       "      <td>21000</td>\n",
       "      <td>0</td>\n",
       "      <td>50000000000</td>\n",
       "      <td>2017-09-18 04:20:23</td>\n",
       "      <td>NaN</td>\n",
       "      <td>...</td>\n",
       "      <td>228076570620177820</td>\n",
       "      <td>269</td>\n",
       "      <td>0</td>\n",
       "      <td>1</td>\n",
       "      <td>50.000000</td>\n",
       "      <td>18</td>\n",
       "      <td>4</td>\n",
       "      <td>20</td>\n",
       "      <td>23</td>\n",
       "      <td>0</td>\n",
       "    </tr>\n",
       "    <tr>\n",
       "      <th>990707</th>\n",
       "      <td>0x67042621ac1dec8590060ca572c18e6aa3ee5147f265...</td>\n",
       "      <td>394654</td>\n",
       "      <td>2912640682940000256</td>\n",
       "      <td>4286261</td>\n",
       "      <td>90000</td>\n",
       "      <td>21000</td>\n",
       "      <td>0</td>\n",
       "      <td>50000000000</td>\n",
       "      <td>2017-09-18 04:20:23</td>\n",
       "      <td>NaN</td>\n",
       "      <td>...</td>\n",
       "      <td>228076570620177820</td>\n",
       "      <td>269</td>\n",
       "      <td>0</td>\n",
       "      <td>1</td>\n",
       "      <td>50.000000</td>\n",
       "      <td>18</td>\n",
       "      <td>4</td>\n",
       "      <td>20</td>\n",
       "      <td>23</td>\n",
       "      <td>0</td>\n",
       "    </tr>\n",
       "    <tr>\n",
       "      <th>990681</th>\n",
       "      <td>0x7b24b9257db5010808d0613f928e7924ae850c54e8f1...</td>\n",
       "      <td>394657</td>\n",
       "      <td>2963411103630000128</td>\n",
       "      <td>4286261</td>\n",
       "      <td>90000</td>\n",
       "      <td>21000</td>\n",
       "      <td>0</td>\n",
       "      <td>50000000000</td>\n",
       "      <td>2017-09-18 04:20:23</td>\n",
       "      <td>NaN</td>\n",
       "      <td>...</td>\n",
       "      <td>228076570620177820</td>\n",
       "      <td>269</td>\n",
       "      <td>0</td>\n",
       "      <td>1</td>\n",
       "      <td>50.000000</td>\n",
       "      <td>18</td>\n",
       "      <td>4</td>\n",
       "      <td>20</td>\n",
       "      <td>23</td>\n",
       "      <td>0</td>\n",
       "    </tr>\n",
       "    <tr>\n",
       "      <th>990841</th>\n",
       "      <td>0x8ff9937f4434e04893198767b3677938bcd1a0259fd5...</td>\n",
       "      <td>4</td>\n",
       "      <td>2998565242499999744</td>\n",
       "      <td>4286261</td>\n",
       "      <td>100000</td>\n",
       "      <td>28985</td>\n",
       "      <td>0</td>\n",
       "      <td>49500000000</td>\n",
       "      <td>2017-09-18 04:20:23</td>\n",
       "      <td>NaN</td>\n",
       "      <td>...</td>\n",
       "      <td>228076570620177820</td>\n",
       "      <td>269</td>\n",
       "      <td>0</td>\n",
       "      <td>1</td>\n",
       "      <td>49.500000</td>\n",
       "      <td>18</td>\n",
       "      <td>4</td>\n",
       "      <td>20</td>\n",
       "      <td>23</td>\n",
       "      <td>0</td>\n",
       "    </tr>\n",
       "    <tr>\n",
       "      <th>990854</th>\n",
       "      <td>0x86b7dcd9e6dca2c5fcd0c35b8562ae14d20ffc1f87f3...</td>\n",
       "      <td>34108</td>\n",
       "      <td>2745308130000000000</td>\n",
       "      <td>4286261</td>\n",
       "      <td>90000</td>\n",
       "      <td>21000</td>\n",
       "      <td>0</td>\n",
       "      <td>55000000000</td>\n",
       "      <td>2017-09-18 04:20:23</td>\n",
       "      <td>NaN</td>\n",
       "      <td>...</td>\n",
       "      <td>228076570620177820</td>\n",
       "      <td>269</td>\n",
       "      <td>0</td>\n",
       "      <td>1</td>\n",
       "      <td>55.000000</td>\n",
       "      <td>18</td>\n",
       "      <td>4</td>\n",
       "      <td>20</td>\n",
       "      <td>23</td>\n",
       "      <td>0</td>\n",
       "    </tr>\n",
       "    <tr>\n",
       "      <th>990857</th>\n",
       "      <td>0x80387ffdf3ed930b936ca17beede0ec0e5b63093595a...</td>\n",
       "      <td>4</td>\n",
       "      <td>2998565242499999744</td>\n",
       "      <td>4286261</td>\n",
       "      <td>2300</td>\n",
       "      <td>0</td>\n",
       "      <td>0</td>\n",
       "      <td>49500000000</td>\n",
       "      <td>2017-09-18 04:20:23</td>\n",
       "      <td>1.0</td>\n",
       "      <td>...</td>\n",
       "      <td>228076570620177820</td>\n",
       "      <td>269</td>\n",
       "      <td>0</td>\n",
       "      <td>1</td>\n",
       "      <td>49.500000</td>\n",
       "      <td>18</td>\n",
       "      <td>4</td>\n",
       "      <td>20</td>\n",
       "      <td>23</td>\n",
       "      <td>0</td>\n",
       "    </tr>\n",
       "    <tr>\n",
       "      <th>...</th>\n",
       "      <td>...</td>\n",
       "      <td>...</td>\n",
       "      <td>...</td>\n",
       "      <td>...</td>\n",
       "      <td>...</td>\n",
       "      <td>...</td>\n",
       "      <td>...</td>\n",
       "      <td>...</td>\n",
       "      <td>...</td>\n",
       "      <td>...</td>\n",
       "      <td>...</td>\n",
       "      <td>...</td>\n",
       "      <td>...</td>\n",
       "      <td>...</td>\n",
       "      <td>...</td>\n",
       "      <td>...</td>\n",
       "      <td>...</td>\n",
       "      <td>...</td>\n",
       "      <td>...</td>\n",
       "      <td>...</td>\n",
       "      <td>...</td>\n",
       "    </tr>\n",
       "    <tr>\n",
       "      <th>1002029</th>\n",
       "      <td>0x0ea2f758e00ee27e4171927d2da8dc86b591055f4160...</td>\n",
       "      <td>1733446</td>\n",
       "      <td>2652242330000000000</td>\n",
       "      <td>4306819</td>\n",
       "      <td>121001</td>\n",
       "      <td>21000</td>\n",
       "      <td>0</td>\n",
       "      <td>51000000000</td>\n",
       "      <td>2017-09-24 07:03:31</td>\n",
       "      <td>NaN</td>\n",
       "      <td>...</td>\n",
       "      <td>175540695898136000</td>\n",
       "      <td>173</td>\n",
       "      <td>0</td>\n",
       "      <td>1</td>\n",
       "      <td>51.000000</td>\n",
       "      <td>24</td>\n",
       "      <td>7</td>\n",
       "      <td>3</td>\n",
       "      <td>31</td>\n",
       "      <td>6</td>\n",
       "    </tr>\n",
       "    <tr>\n",
       "      <th>1001943</th>\n",
       "      <td>0x7379a8592adfbf1df81e5175496b6693c0798e3c8719...</td>\n",
       "      <td>788139</td>\n",
       "      <td>2605210300000000000</td>\n",
       "      <td>4306819</td>\n",
       "      <td>125000</td>\n",
       "      <td>21051</td>\n",
       "      <td>0</td>\n",
       "      <td>42000000000</td>\n",
       "      <td>2017-09-24 07:03:31</td>\n",
       "      <td>NaN</td>\n",
       "      <td>...</td>\n",
       "      <td>175540695898136000</td>\n",
       "      <td>173</td>\n",
       "      <td>0</td>\n",
       "      <td>1</td>\n",
       "      <td>42.000000</td>\n",
       "      <td>24</td>\n",
       "      <td>7</td>\n",
       "      <td>3</td>\n",
       "      <td>31</td>\n",
       "      <td>6</td>\n",
       "    </tr>\n",
       "    <tr>\n",
       "      <th>1001711</th>\n",
       "      <td>0x2a6250439041f7ca0b1560174dfa110a45a87924a4eb...</td>\n",
       "      <td>247697</td>\n",
       "      <td>2270172413790000128</td>\n",
       "      <td>4306822</td>\n",
       "      <td>2300</td>\n",
       "      <td>0</td>\n",
       "      <td>0</td>\n",
       "      <td>20000000000</td>\n",
       "      <td>2017-09-24 07:04:25</td>\n",
       "      <td>3.0</td>\n",
       "      <td>...</td>\n",
       "      <td>66652892086318420</td>\n",
       "      <td>86</td>\n",
       "      <td>0</td>\n",
       "      <td>1</td>\n",
       "      <td>20.000000</td>\n",
       "      <td>24</td>\n",
       "      <td>7</td>\n",
       "      <td>4</td>\n",
       "      <td>25</td>\n",
       "      <td>6</td>\n",
       "    </tr>\n",
       "    <tr>\n",
       "      <th>1001591</th>\n",
       "      <td>0x6a12bfeb27bbe172a8a77da421614d344c1e2cec847a...</td>\n",
       "      <td>0</td>\n",
       "      <td>2323649830000000000</td>\n",
       "      <td>4306824</td>\n",
       "      <td>35000</td>\n",
       "      <td>30981</td>\n",
       "      <td>0</td>\n",
       "      <td>25000000000</td>\n",
       "      <td>2017-09-24 07:05:35</td>\n",
       "      <td>NaN</td>\n",
       "      <td>...</td>\n",
       "      <td>460915281460705540</td>\n",
       "      <td>120</td>\n",
       "      <td>0</td>\n",
       "      <td>1</td>\n",
       "      <td>25.000000</td>\n",
       "      <td>24</td>\n",
       "      <td>7</td>\n",
       "      <td>5</td>\n",
       "      <td>35</td>\n",
       "      <td>6</td>\n",
       "    </tr>\n",
       "    <tr>\n",
       "      <th>1001539</th>\n",
       "      <td>0xaf7373fbde7be6dbb0248e72eb913b5675cfbf622395...</td>\n",
       "      <td>1733467</td>\n",
       "      <td>2605210300000000000</td>\n",
       "      <td>4306824</td>\n",
       "      <td>2300</td>\n",
       "      <td>0</td>\n",
       "      <td>0</td>\n",
       "      <td>51000000000</td>\n",
       "      <td>2017-09-24 07:05:35</td>\n",
       "      <td>6.0</td>\n",
       "      <td>...</td>\n",
       "      <td>460915281460705540</td>\n",
       "      <td>120</td>\n",
       "      <td>0</td>\n",
       "      <td>1</td>\n",
       "      <td>51.000000</td>\n",
       "      <td>24</td>\n",
       "      <td>7</td>\n",
       "      <td>5</td>\n",
       "      <td>35</td>\n",
       "      <td>6</td>\n",
       "    </tr>\n",
       "    <tr>\n",
       "      <th>1001478</th>\n",
       "      <td>0x1deb6b9f5e8c2d7766ab9f971db4fa0692c3ed64158d...</td>\n",
       "      <td>0</td>\n",
       "      <td>2323649830000000000</td>\n",
       "      <td>4306824</td>\n",
       "      <td>2300</td>\n",
       "      <td>0</td>\n",
       "      <td>0</td>\n",
       "      <td>25000000000</td>\n",
       "      <td>2017-09-24 07:05:35</td>\n",
       "      <td>1.0</td>\n",
       "      <td>...</td>\n",
       "      <td>460915281460705540</td>\n",
       "      <td>120</td>\n",
       "      <td>0</td>\n",
       "      <td>1</td>\n",
       "      <td>25.000000</td>\n",
       "      <td>24</td>\n",
       "      <td>7</td>\n",
       "      <td>5</td>\n",
       "      <td>35</td>\n",
       "      <td>6</td>\n",
       "    </tr>\n",
       "    <tr>\n",
       "      <th>1001157</th>\n",
       "      <td>0xdf2f2a74d92570eed39c9a405da28761c7e189b94e1a...</td>\n",
       "      <td>46728</td>\n",
       "      <td>2757850000000000000</td>\n",
       "      <td>4306826</td>\n",
       "      <td>63500</td>\n",
       "      <td>21000</td>\n",
       "      <td>0</td>\n",
       "      <td>20000000000</td>\n",
       "      <td>2017-09-24 07:07:06</td>\n",
       "      <td>NaN</td>\n",
       "      <td>...</td>\n",
       "      <td>154789124408918880</td>\n",
       "      <td>148</td>\n",
       "      <td>0</td>\n",
       "      <td>1</td>\n",
       "      <td>20.000000</td>\n",
       "      <td>24</td>\n",
       "      <td>7</td>\n",
       "      <td>7</td>\n",
       "      <td>6</td>\n",
       "      <td>6</td>\n",
       "    </tr>\n",
       "    <tr>\n",
       "      <th>1001119</th>\n",
       "      <td>0x21fa425fbf92c4c4f4d082b6bba1b8c590f81410b162...</td>\n",
       "      <td>165277</td>\n",
       "      <td>2100000000000000000</td>\n",
       "      <td>4306827</td>\n",
       "      <td>100000</td>\n",
       "      <td>21000</td>\n",
       "      <td>0</td>\n",
       "      <td>25000000000</td>\n",
       "      <td>2017-09-24 07:07:25</td>\n",
       "      <td>NaN</td>\n",
       "      <td>...</td>\n",
       "      <td>107842907649568700</td>\n",
       "      <td>95</td>\n",
       "      <td>0</td>\n",
       "      <td>1</td>\n",
       "      <td>25.000000</td>\n",
       "      <td>24</td>\n",
       "      <td>7</td>\n",
       "      <td>7</td>\n",
       "      <td>25</td>\n",
       "      <td>6</td>\n",
       "    </tr>\n",
       "    <tr>\n",
       "      <th>1001111</th>\n",
       "      <td>0x339e64aadb448c8cabcb0c9d2e05a16e26a3a727b1a6...</td>\n",
       "      <td>158</td>\n",
       "      <td>2502367046720000000</td>\n",
       "      <td>4306827</td>\n",
       "      <td>21000</td>\n",
       "      <td>21000</td>\n",
       "      <td>0</td>\n",
       "      <td>26000000000</td>\n",
       "      <td>2017-09-24 07:07:25</td>\n",
       "      <td>NaN</td>\n",
       "      <td>...</td>\n",
       "      <td>107842907649568700</td>\n",
       "      <td>95</td>\n",
       "      <td>0</td>\n",
       "      <td>1</td>\n",
       "      <td>26.000000</td>\n",
       "      <td>24</td>\n",
       "      <td>7</td>\n",
       "      <td>7</td>\n",
       "      <td>25</td>\n",
       "      <td>6</td>\n",
       "    </tr>\n",
       "    <tr>\n",
       "      <th>1001076</th>\n",
       "      <td>0x7e0486a2ee9e6f29aaf7f01ec64d414c0c9901d50ab4...</td>\n",
       "      <td>109757</td>\n",
       "      <td>2131710000000000000</td>\n",
       "      <td>4306827</td>\n",
       "      <td>90000</td>\n",
       "      <td>21000</td>\n",
       "      <td>0</td>\n",
       "      <td>30000000000</td>\n",
       "      <td>2017-09-24 07:07:25</td>\n",
       "      <td>NaN</td>\n",
       "      <td>...</td>\n",
       "      <td>107842907649568700</td>\n",
       "      <td>95</td>\n",
       "      <td>0</td>\n",
       "      <td>1</td>\n",
       "      <td>30.000000</td>\n",
       "      <td>24</td>\n",
       "      <td>7</td>\n",
       "      <td>7</td>\n",
       "      <td>25</td>\n",
       "      <td>6</td>\n",
       "    </tr>\n",
       "    <tr>\n",
       "      <th>1001065</th>\n",
       "      <td>0x9550ddcac2fa87591e0bba36865ef08d35a77526bf4f...</td>\n",
       "      <td>3</td>\n",
       "      <td>2008242030000000000</td>\n",
       "      <td>4306827</td>\n",
       "      <td>135546</td>\n",
       "      <td>34470</td>\n",
       "      <td>0</td>\n",
       "      <td>51000000000</td>\n",
       "      <td>2017-09-24 07:07:25</td>\n",
       "      <td>NaN</td>\n",
       "      <td>...</td>\n",
       "      <td>107842907649568700</td>\n",
       "      <td>95</td>\n",
       "      <td>0</td>\n",
       "      <td>1</td>\n",
       "      <td>51.000000</td>\n",
       "      <td>24</td>\n",
       "      <td>7</td>\n",
       "      <td>7</td>\n",
       "      <td>25</td>\n",
       "      <td>6</td>\n",
       "    </tr>\n",
       "    <tr>\n",
       "      <th>1001055</th>\n",
       "      <td>0xa009b59474ad153bcd8fe26508990f651276381e2863...</td>\n",
       "      <td>3</td>\n",
       "      <td>2008242030000000000</td>\n",
       "      <td>4306827</td>\n",
       "      <td>2300</td>\n",
       "      <td>0</td>\n",
       "      <td>0</td>\n",
       "      <td>51000000000</td>\n",
       "      <td>2017-09-24 07:07:25</td>\n",
       "      <td>2.0</td>\n",
       "      <td>...</td>\n",
       "      <td>107842907649568700</td>\n",
       "      <td>95</td>\n",
       "      <td>0</td>\n",
       "      <td>1</td>\n",
       "      <td>51.000000</td>\n",
       "      <td>24</td>\n",
       "      <td>7</td>\n",
       "      <td>7</td>\n",
       "      <td>25</td>\n",
       "      <td>6</td>\n",
       "    </tr>\n",
       "    <tr>\n",
       "      <th>1000979</th>\n",
       "      <td>0xba345273a145fddbde5ed708ae495192f9271deecec1...</td>\n",
       "      <td>29</td>\n",
       "      <td>2500000000000000000</td>\n",
       "      <td>4306828</td>\n",
       "      <td>21000</td>\n",
       "      <td>21000</td>\n",
       "      <td>0</td>\n",
       "      <td>1000000000</td>\n",
       "      <td>2017-09-24 07:07:30</td>\n",
       "      <td>NaN</td>\n",
       "      <td>...</td>\n",
       "      <td>44693407843621224</td>\n",
       "      <td>148</td>\n",
       "      <td>0</td>\n",
       "      <td>1</td>\n",
       "      <td>1.000000</td>\n",
       "      <td>24</td>\n",
       "      <td>7</td>\n",
       "      <td>7</td>\n",
       "      <td>30</td>\n",
       "      <td>6</td>\n",
       "    </tr>\n",
       "    <tr>\n",
       "      <th>1000944</th>\n",
       "      <td>0xe48e5d2842317669ec2475f0cfe35229268ecaa7ea77...</td>\n",
       "      <td>0</td>\n",
       "      <td>2194275000000000000</td>\n",
       "      <td>4306828</td>\n",
       "      <td>21000</td>\n",
       "      <td>21000</td>\n",
       "      <td>0</td>\n",
       "      <td>25000000000</td>\n",
       "      <td>2017-09-24 07:07:30</td>\n",
       "      <td>NaN</td>\n",
       "      <td>...</td>\n",
       "      <td>44693407843621224</td>\n",
       "      <td>148</td>\n",
       "      <td>0</td>\n",
       "      <td>1</td>\n",
       "      <td>25.000000</td>\n",
       "      <td>24</td>\n",
       "      <td>7</td>\n",
       "      <td>7</td>\n",
       "      <td>30</td>\n",
       "      <td>6</td>\n",
       "    </tr>\n",
       "    <tr>\n",
       "      <th>1000613</th>\n",
       "      <td>0x70d17397a592d87362abf7e0239f99c50a4ddefad55a...</td>\n",
       "      <td>7079</td>\n",
       "      <td>2470578180000000000</td>\n",
       "      <td>4306829</td>\n",
       "      <td>90000</td>\n",
       "      <td>21000</td>\n",
       "      <td>0</td>\n",
       "      <td>25000000000</td>\n",
       "      <td>2017-09-24 07:08:04</td>\n",
       "      <td>NaN</td>\n",
       "      <td>...</td>\n",
       "      <td>277010952319734900</td>\n",
       "      <td>93</td>\n",
       "      <td>0</td>\n",
       "      <td>1</td>\n",
       "      <td>25.000000</td>\n",
       "      <td>24</td>\n",
       "      <td>7</td>\n",
       "      <td>8</td>\n",
       "      <td>4</td>\n",
       "      <td>6</td>\n",
       "    </tr>\n",
       "    <tr>\n",
       "      <th>1000760</th>\n",
       "      <td>0xf34b9c579b101ca826fa23a35ebce7d6515d83f1a7b6...</td>\n",
       "      <td>5</td>\n",
       "      <td>2500609080000000000</td>\n",
       "      <td>4306831</td>\n",
       "      <td>135546</td>\n",
       "      <td>34470</td>\n",
       "      <td>0</td>\n",
       "      <td>51000000000</td>\n",
       "      <td>2017-09-24 07:10:40</td>\n",
       "      <td>NaN</td>\n",
       "      <td>...</td>\n",
       "      <td>218291092513687300</td>\n",
       "      <td>129</td>\n",
       "      <td>0</td>\n",
       "      <td>1</td>\n",
       "      <td>51.000000</td>\n",
       "      <td>24</td>\n",
       "      <td>7</td>\n",
       "      <td>10</td>\n",
       "      <td>40</td>\n",
       "      <td>6</td>\n",
       "    </tr>\n",
       "    <tr>\n",
       "      <th>1000766</th>\n",
       "      <td>0x6525ddc1658dd5862a2ac0dbc90d13af960e70e63e77...</td>\n",
       "      <td>5</td>\n",
       "      <td>2500609080000000000</td>\n",
       "      <td>4306831</td>\n",
       "      <td>2300</td>\n",
       "      <td>0</td>\n",
       "      <td>0</td>\n",
       "      <td>51000000000</td>\n",
       "      <td>2017-09-24 07:10:40</td>\n",
       "      <td>2.0</td>\n",
       "      <td>...</td>\n",
       "      <td>218291092513687300</td>\n",
       "      <td>129</td>\n",
       "      <td>0</td>\n",
       "      <td>1</td>\n",
       "      <td>51.000000</td>\n",
       "      <td>24</td>\n",
       "      <td>7</td>\n",
       "      <td>10</td>\n",
       "      <td>40</td>\n",
       "      <td>6</td>\n",
       "    </tr>\n",
       "    <tr>\n",
       "      <th>1003283</th>\n",
       "      <td>0x3ba3f62fbdb45047162590ac72dbc0a60a321d160751...</td>\n",
       "      <td>0</td>\n",
       "      <td>2469005370000000000</td>\n",
       "      <td>4306832</td>\n",
       "      <td>40000</td>\n",
       "      <td>21000</td>\n",
       "      <td>0</td>\n",
       "      <td>5000000000</td>\n",
       "      <td>2017-09-24 07:10:43</td>\n",
       "      <td>NaN</td>\n",
       "      <td>...</td>\n",
       "      <td>122240667656112720</td>\n",
       "      <td>127</td>\n",
       "      <td>0</td>\n",
       "      <td>1</td>\n",
       "      <td>5.000000</td>\n",
       "      <td>24</td>\n",
       "      <td>7</td>\n",
       "      <td>10</td>\n",
       "      <td>43</td>\n",
       "      <td>6</td>\n",
       "    </tr>\n",
       "    <tr>\n",
       "      <th>1003284</th>\n",
       "      <td>0x389119b1fdd8cf035e037f97f3d1d29254ae2c5ccfd0...</td>\n",
       "      <td>414136</td>\n",
       "      <td>2510000000000000000</td>\n",
       "      <td>4306832</td>\n",
       "      <td>90000</td>\n",
       "      <td>21000</td>\n",
       "      <td>0</td>\n",
       "      <td>40000000000</td>\n",
       "      <td>2017-09-24 07:10:43</td>\n",
       "      <td>NaN</td>\n",
       "      <td>...</td>\n",
       "      <td>122240667656112720</td>\n",
       "      <td>127</td>\n",
       "      <td>0</td>\n",
       "      <td>1</td>\n",
       "      <td>40.000000</td>\n",
       "      <td>24</td>\n",
       "      <td>7</td>\n",
       "      <td>10</td>\n",
       "      <td>43</td>\n",
       "      <td>6</td>\n",
       "    </tr>\n",
       "    <tr>\n",
       "      <th>1003323</th>\n",
       "      <td>0x0a0c7107a083f1b0c7e12847b5d10f30cce83edc7caa...</td>\n",
       "      <td>92629</td>\n",
       "      <td>2987613000000000000</td>\n",
       "      <td>4306832</td>\n",
       "      <td>150000</td>\n",
       "      <td>21000</td>\n",
       "      <td>0</td>\n",
       "      <td>35000000000</td>\n",
       "      <td>2017-09-24 07:10:43</td>\n",
       "      <td>NaN</td>\n",
       "      <td>...</td>\n",
       "      <td>122240667656112720</td>\n",
       "      <td>127</td>\n",
       "      <td>0</td>\n",
       "      <td>1</td>\n",
       "      <td>35.000000</td>\n",
       "      <td>24</td>\n",
       "      <td>7</td>\n",
       "      <td>10</td>\n",
       "      <td>43</td>\n",
       "      <td>6</td>\n",
       "    </tr>\n",
       "    <tr>\n",
       "      <th>1003335</th>\n",
       "      <td>0x00d461d5922c3f759b328e571ffd2b30822491880962...</td>\n",
       "      <td>1</td>\n",
       "      <td>2500000000000000000</td>\n",
       "      <td>4306832</td>\n",
       "      <td>200000</td>\n",
       "      <td>83873</td>\n",
       "      <td>0</td>\n",
       "      <td>21000000000</td>\n",
       "      <td>2017-09-24 07:10:43</td>\n",
       "      <td>NaN</td>\n",
       "      <td>...</td>\n",
       "      <td>122240667656112720</td>\n",
       "      <td>127</td>\n",
       "      <td>0</td>\n",
       "      <td>1</td>\n",
       "      <td>21.000000</td>\n",
       "      <td>24</td>\n",
       "      <td>7</td>\n",
       "      <td>10</td>\n",
       "      <td>43</td>\n",
       "      <td>6</td>\n",
       "    </tr>\n",
       "    <tr>\n",
       "      <th>1003192</th>\n",
       "      <td>0xf9f7fd1dbc2d0d991e537581146dbfee696b83d13516...</td>\n",
       "      <td>22</td>\n",
       "      <td>2600000000000000000</td>\n",
       "      <td>4306833</td>\n",
       "      <td>250000</td>\n",
       "      <td>29493</td>\n",
       "      <td>0</td>\n",
       "      <td>4000000000</td>\n",
       "      <td>2017-09-24 07:10:46</td>\n",
       "      <td>NaN</td>\n",
       "      <td>...</td>\n",
       "      <td>153160826073180320</td>\n",
       "      <td>48</td>\n",
       "      <td>0</td>\n",
       "      <td>1</td>\n",
       "      <td>4.000000</td>\n",
       "      <td>24</td>\n",
       "      <td>7</td>\n",
       "      <td>10</td>\n",
       "      <td>46</td>\n",
       "      <td>6</td>\n",
       "    </tr>\n",
       "    <tr>\n",
       "      <th>1003221</th>\n",
       "      <td>0x7ed75e644d07b37c40f96b80637304dd9afa8e5c7a86...</td>\n",
       "      <td>788152</td>\n",
       "      <td>2473530720000000000</td>\n",
       "      <td>4306833</td>\n",
       "      <td>125000</td>\n",
       "      <td>21000</td>\n",
       "      <td>0</td>\n",
       "      <td>42000000000</td>\n",
       "      <td>2017-09-24 07:10:46</td>\n",
       "      <td>NaN</td>\n",
       "      <td>...</td>\n",
       "      <td>153160826073180320</td>\n",
       "      <td>48</td>\n",
       "      <td>0</td>\n",
       "      <td>1</td>\n",
       "      <td>42.000000</td>\n",
       "      <td>24</td>\n",
       "      <td>7</td>\n",
       "      <td>10</td>\n",
       "      <td>46</td>\n",
       "      <td>6</td>\n",
       "    </tr>\n",
       "    <tr>\n",
       "      <th>1003160</th>\n",
       "      <td>0xcc158471e0d886bd63661bbecbd13c6b87a4f38d39a5...</td>\n",
       "      <td>42</td>\n",
       "      <td>2970000000000000000</td>\n",
       "      <td>4306834</td>\n",
       "      <td>21000</td>\n",
       "      <td>21000</td>\n",
       "      <td>0</td>\n",
       "      <td>25000000000</td>\n",
       "      <td>2017-09-24 07:11:18</td>\n",
       "      <td>NaN</td>\n",
       "      <td>...</td>\n",
       "      <td>99157978062278140</td>\n",
       "      <td>86</td>\n",
       "      <td>0</td>\n",
       "      <td>1</td>\n",
       "      <td>25.000000</td>\n",
       "      <td>24</td>\n",
       "      <td>7</td>\n",
       "      <td>11</td>\n",
       "      <td>18</td>\n",
       "      <td>6</td>\n",
       "    </tr>\n",
       "    <tr>\n",
       "      <th>1003178</th>\n",
       "      <td>0x0bc3e03155e75c63c087ddfbc22f54f89ae8deb31d46...</td>\n",
       "      <td>0</td>\n",
       "      <td>2606900110000000000</td>\n",
       "      <td>4306834</td>\n",
       "      <td>90000</td>\n",
       "      <td>21000</td>\n",
       "      <td>0</td>\n",
       "      <td>25000000000</td>\n",
       "      <td>2017-09-24 07:11:18</td>\n",
       "      <td>NaN</td>\n",
       "      <td>...</td>\n",
       "      <td>99157978062278140</td>\n",
       "      <td>86</td>\n",
       "      <td>0</td>\n",
       "      <td>1</td>\n",
       "      <td>25.000000</td>\n",
       "      <td>24</td>\n",
       "      <td>7</td>\n",
       "      <td>11</td>\n",
       "      <td>18</td>\n",
       "      <td>6</td>\n",
       "    </tr>\n",
       "    <tr>\n",
       "      <th>1003082</th>\n",
       "      <td>0x895a12feb1821644f508daf664c90118e4f46c94204d...</td>\n",
       "      <td>247704</td>\n",
       "      <td>2722500000000000000</td>\n",
       "      <td>4306835</td>\n",
       "      <td>2300</td>\n",
       "      <td>0</td>\n",
       "      <td>0</td>\n",
       "      <td>20000000000</td>\n",
       "      <td>2017-09-24 07:11:33</td>\n",
       "      <td>3.0</td>\n",
       "      <td>...</td>\n",
       "      <td>92448500000066320</td>\n",
       "      <td>49</td>\n",
       "      <td>0</td>\n",
       "      <td>1</td>\n",
       "      <td>20.000000</td>\n",
       "      <td>24</td>\n",
       "      <td>7</td>\n",
       "      <td>11</td>\n",
       "      <td>33</td>\n",
       "      <td>6</td>\n",
       "    </tr>\n",
       "    <tr>\n",
       "      <th>1003008</th>\n",
       "      <td>0xdc6d93cc32bbf2c630d403e27174953382a2dc9eac52...</td>\n",
       "      <td>1733504</td>\n",
       "      <td>2075815340000000000</td>\n",
       "      <td>4306836</td>\n",
       "      <td>121001</td>\n",
       "      <td>21000</td>\n",
       "      <td>0</td>\n",
       "      <td>51000000000</td>\n",
       "      <td>2017-09-24 07:11:51</td>\n",
       "      <td>NaN</td>\n",
       "      <td>...</td>\n",
       "      <td>93664148876342320</td>\n",
       "      <td>75</td>\n",
       "      <td>0</td>\n",
       "      <td>1</td>\n",
       "      <td>51.000000</td>\n",
       "      <td>24</td>\n",
       "      <td>7</td>\n",
       "      <td>11</td>\n",
       "      <td>51</td>\n",
       "      <td>6</td>\n",
       "    </tr>\n",
       "    <tr>\n",
       "      <th>1003022</th>\n",
       "      <td>0xbe2fd3da0796650570ebf65a9da426a8993fb1f260c5...</td>\n",
       "      <td>1733502</td>\n",
       "      <td>2505000000000000000</td>\n",
       "      <td>4306836</td>\n",
       "      <td>121001</td>\n",
       "      <td>21000</td>\n",
       "      <td>0</td>\n",
       "      <td>51000000000</td>\n",
       "      <td>2017-09-24 07:11:51</td>\n",
       "      <td>NaN</td>\n",
       "      <td>...</td>\n",
       "      <td>93664148876342320</td>\n",
       "      <td>75</td>\n",
       "      <td>0</td>\n",
       "      <td>1</td>\n",
       "      <td>51.000000</td>\n",
       "      <td>24</td>\n",
       "      <td>7</td>\n",
       "      <td>11</td>\n",
       "      <td>51</td>\n",
       "      <td>6</td>\n",
       "    </tr>\n",
       "    <tr>\n",
       "      <th>1002903</th>\n",
       "      <td>0x6ef4b1baa40165cee3c7e6ecfa94a90990d71f352466...</td>\n",
       "      <td>76</td>\n",
       "      <td>2950000000000000000</td>\n",
       "      <td>4306839</td>\n",
       "      <td>21000</td>\n",
       "      <td>21000</td>\n",
       "      <td>0</td>\n",
       "      <td>21000000000</td>\n",
       "      <td>2017-09-24 07:12:44</td>\n",
       "      <td>NaN</td>\n",
       "      <td>...</td>\n",
       "      <td>72094175205848660</td>\n",
       "      <td>89</td>\n",
       "      <td>0</td>\n",
       "      <td>1</td>\n",
       "      <td>21.000000</td>\n",
       "      <td>24</td>\n",
       "      <td>7</td>\n",
       "      <td>12</td>\n",
       "      <td>44</td>\n",
       "      <td>6</td>\n",
       "    </tr>\n",
       "    <tr>\n",
       "      <th>1002745</th>\n",
       "      <td>0xa2cdbecaf93da8f2b0a73b2c93afa71b0473ab3d8897...</td>\n",
       "      <td>0</td>\n",
       "      <td>2181431601800000000</td>\n",
       "      <td>4306841</td>\n",
       "      <td>21000</td>\n",
       "      <td>21000</td>\n",
       "      <td>0</td>\n",
       "      <td>25000000000</td>\n",
       "      <td>2017-09-24 07:13:04</td>\n",
       "      <td>NaN</td>\n",
       "      <td>...</td>\n",
       "      <td>543085366727227316</td>\n",
       "      <td>39</td>\n",
       "      <td>1</td>\n",
       "      <td>1</td>\n",
       "      <td>25.000000</td>\n",
       "      <td>24</td>\n",
       "      <td>7</td>\n",
       "      <td>13</td>\n",
       "      <td>4</td>\n",
       "      <td>6</td>\n",
       "    </tr>\n",
       "  </tbody>\n",
       "</table>\n",
       "<p>21491 rows × 28 columns</p>\n",
       "</div>"
      ],
      "text/plain": [
       "                                                    hash_t  accountNonce  \\\n",
       "992252   0xdb9f9076d7403e7099ddc03100e7505e04ba2fa53271...        394330   \n",
       "992247   0xe0e0f58633c7dcf6c4242c25de6bacf40f5e44fb7c78...         32362   \n",
       "992259   0xd82df5082100d3a4a277223b799d943bc28b75f6209b...        394444   \n",
       "992436   0xa3359d9cf4d114208726bc3ec0f1d72ab1be3f25dab5...        394426   \n",
       "992428   0xaa00a2270ca5fb03071e0443d999f99358781d66ae29...        394405   \n",
       "992367   0x4cd3c70fa7527c45f6c3bdbc431f832f20ba2e66fac9...        205741   \n",
       "992358   0x54d7d4d1c6dac6b673edd4f9ed600cb6b0a4858b42b2...        394308   \n",
       "992321   0x6bd519a5984e4da4346bff65a1d4db04e71491046e80...        394392   \n",
       "992291   0x81cc47ad7e68f6cfde1bfe7386bae3d38dfbee786d84...        394377   \n",
       "992194   0x298e0fbed4ef8e9242e1cb436c8508d7e94883588068...         31063   \n",
       "992146   0x4bec22d6212ec969076a85abf88a2dc30db18d893b08...           457   \n",
       "991593   0x3ac434116adb193ac71ce65f2f628bd1b2c054ecd453...             0   \n",
       "991580   0x43df79fd953ab986d217254f3d8691113d39bf3f18c1...         54542   \n",
       "991550   0x56da70b9eb2c27045c4f91fadc39fe55684d94a6b1e0...        394550   \n",
       "991537   0xa16d7867c124e617220693c00f63230d1162604748f3...         62125   \n",
       "991523   0xaa26d8149a797fc23d4eec934a3bc0b94b1d866c1628...            40   \n",
       "991487   0xbfd9e7c2275931a9d778f5d5020bb21964aa433473bb...             0   \n",
       "991348   0x594e5d1c0df9f3ac6500fba47887d60a9982a1eeec4d...        394588   \n",
       "991216   0xc78b6112b6bfa43737b3a037c4f15804970ea11fce2e...          3451   \n",
       "991111   0xcf8ce4106e05e40e62cc838feb1acbaf264136b613d6...             2   \n",
       "991175   0x00629508173e9c88c02af2517111b3d31a0fe21809a8...            23   \n",
       "991077   0x01ceefbbd89537cb979695246578d19540770ae2ef54...             0   \n",
       "990992   0xbbd4f27dcb1bdf16c9a1fdf5f05c117e5a20e22b3638...        394631   \n",
       "990988   0xbecbb40dfb1caedcc2aa26c3aee6570de1378f86ab26...             0   \n",
       "990725   0x58f4c8d51cc5d0fcf822df91526faa29c2d120464f61...        394651   \n",
       "990707   0x67042621ac1dec8590060ca572c18e6aa3ee5147f265...        394654   \n",
       "990681   0x7b24b9257db5010808d0613f928e7924ae850c54e8f1...        394657   \n",
       "990841   0x8ff9937f4434e04893198767b3677938bcd1a0259fd5...             4   \n",
       "990854   0x86b7dcd9e6dca2c5fcd0c35b8562ae14d20ffc1f87f3...         34108   \n",
       "990857   0x80387ffdf3ed930b936ca17beede0ec0e5b63093595a...             4   \n",
       "...                                                    ...           ...   \n",
       "1002029  0x0ea2f758e00ee27e4171927d2da8dc86b591055f4160...       1733446   \n",
       "1001943  0x7379a8592adfbf1df81e5175496b6693c0798e3c8719...        788139   \n",
       "1001711  0x2a6250439041f7ca0b1560174dfa110a45a87924a4eb...        247697   \n",
       "1001591  0x6a12bfeb27bbe172a8a77da421614d344c1e2cec847a...             0   \n",
       "1001539  0xaf7373fbde7be6dbb0248e72eb913b5675cfbf622395...       1733467   \n",
       "1001478  0x1deb6b9f5e8c2d7766ab9f971db4fa0692c3ed64158d...             0   \n",
       "1001157  0xdf2f2a74d92570eed39c9a405da28761c7e189b94e1a...         46728   \n",
       "1001119  0x21fa425fbf92c4c4f4d082b6bba1b8c590f81410b162...        165277   \n",
       "1001111  0x339e64aadb448c8cabcb0c9d2e05a16e26a3a727b1a6...           158   \n",
       "1001076  0x7e0486a2ee9e6f29aaf7f01ec64d414c0c9901d50ab4...        109757   \n",
       "1001065  0x9550ddcac2fa87591e0bba36865ef08d35a77526bf4f...             3   \n",
       "1001055  0xa009b59474ad153bcd8fe26508990f651276381e2863...             3   \n",
       "1000979  0xba345273a145fddbde5ed708ae495192f9271deecec1...            29   \n",
       "1000944  0xe48e5d2842317669ec2475f0cfe35229268ecaa7ea77...             0   \n",
       "1000613  0x70d17397a592d87362abf7e0239f99c50a4ddefad55a...          7079   \n",
       "1000760  0xf34b9c579b101ca826fa23a35ebce7d6515d83f1a7b6...             5   \n",
       "1000766  0x6525ddc1658dd5862a2ac0dbc90d13af960e70e63e77...             5   \n",
       "1003283  0x3ba3f62fbdb45047162590ac72dbc0a60a321d160751...             0   \n",
       "1003284  0x389119b1fdd8cf035e037f97f3d1d29254ae2c5ccfd0...        414136   \n",
       "1003323  0x0a0c7107a083f1b0c7e12847b5d10f30cce83edc7caa...         92629   \n",
       "1003335  0x00d461d5922c3f759b328e571ffd2b30822491880962...             1   \n",
       "1003192  0xf9f7fd1dbc2d0d991e537581146dbfee696b83d13516...            22   \n",
       "1003221  0x7ed75e644d07b37c40f96b80637304dd9afa8e5c7a86...        788152   \n",
       "1003160  0xcc158471e0d886bd63661bbecbd13c6b87a4f38d39a5...            42   \n",
       "1003178  0x0bc3e03155e75c63c087ddfbc22f54f89ae8deb31d46...             0   \n",
       "1003082  0x895a12feb1821644f508daf664c90118e4f46c94204d...        247704   \n",
       "1003008  0xdc6d93cc32bbf2c630d403e27174953382a2dc9eac52...       1733504   \n",
       "1003022  0xbe2fd3da0796650570ebf65a9da426a8993fb1f260c5...       1733502   \n",
       "1002903  0x6ef4b1baa40165cee3c7e6ecfa94a90990d71f352466...            76   \n",
       "1002745  0xa2cdbecaf93da8f2b0a73b2c93afa71b0473ab3d8897...             0   \n",
       "\n",
       "                      amount  block_id  gasLimit_t  gasUsed_t  newContract  \\\n",
       "992252   2108035200000000000   4286251       90000      21000            0   \n",
       "992247   2027354350000000000   4286251       90000      21000            0   \n",
       "992259   2982933310849999872   4286251       90000      21000            0   \n",
       "992436   2792815008089999872   4286251       90000      21000            0   \n",
       "992428   2806420014449999872   4286251       90000      21000            0   \n",
       "992367   2443300000000000000   4286251      100000      21051            0   \n",
       "992358   2548942061740000256   4286251       90000      21000            0   \n",
       "992321   2717699599489999872   4286251       90000      21000            0   \n",
       "992291   2430664247160000000   4286251       90000      21000            0   \n",
       "992194   2181552150000000000   4286252       90000      21000            0   \n",
       "992146   2399070570000000000   4286252        2300          0            0   \n",
       "991593   2793402640000000000   4286255       90000      21000            0   \n",
       "991580   2831000000000000000   4286255      420000      21000            0   \n",
       "991550   2519736758280000000   4286255       90000      21051            0   \n",
       "991537   2014928070000000000   4286255       50000      21000            0   \n",
       "991523   2114158150000000000   4286255       47008      31984            0   \n",
       "991487   2000240000000000000   4286255       25200      21000            0   \n",
       "991348   2765321900000000000   4286256       90000      21000            0   \n",
       "991216   2900000000000000000   4286257       90000      21000            0   \n",
       "991111   2998731600000000000   4286258       21026      21000            0   \n",
       "991175   2299695042580000000   4286258      150000      33571            0   \n",
       "991077   2026563235630000128   4286259       26712      26712            0   \n",
       "990992   2151473266160000000   4286259       90000      21000            0   \n",
       "990988   2500000000000000000   4286259      250000      44493            0   \n",
       "990725   2914472600000000000   4286261       90000      21000            0   \n",
       "990707   2912640682940000256   4286261       90000      21000            0   \n",
       "990681   2963411103630000128   4286261       90000      21000            0   \n",
       "990841   2998565242499999744   4286261      100000      28985            0   \n",
       "990854   2745308130000000000   4286261       90000      21000            0   \n",
       "990857   2998565242499999744   4286261        2300          0            0   \n",
       "...                      ...       ...         ...        ...          ...   \n",
       "1002029  2652242330000000000   4306819      121001      21000            0   \n",
       "1001943  2605210300000000000   4306819      125000      21051            0   \n",
       "1001711  2270172413790000128   4306822        2300          0            0   \n",
       "1001591  2323649830000000000   4306824       35000      30981            0   \n",
       "1001539  2605210300000000000   4306824        2300          0            0   \n",
       "1001478  2323649830000000000   4306824        2300          0            0   \n",
       "1001157  2757850000000000000   4306826       63500      21000            0   \n",
       "1001119  2100000000000000000   4306827      100000      21000            0   \n",
       "1001111  2502367046720000000   4306827       21000      21000            0   \n",
       "1001076  2131710000000000000   4306827       90000      21000            0   \n",
       "1001065  2008242030000000000   4306827      135546      34470            0   \n",
       "1001055  2008242030000000000   4306827        2300          0            0   \n",
       "1000979  2500000000000000000   4306828       21000      21000            0   \n",
       "1000944  2194275000000000000   4306828       21000      21000            0   \n",
       "1000613  2470578180000000000   4306829       90000      21000            0   \n",
       "1000760  2500609080000000000   4306831      135546      34470            0   \n",
       "1000766  2500609080000000000   4306831        2300          0            0   \n",
       "1003283  2469005370000000000   4306832       40000      21000            0   \n",
       "1003284  2510000000000000000   4306832       90000      21000            0   \n",
       "1003323  2987613000000000000   4306832      150000      21000            0   \n",
       "1003335  2500000000000000000   4306832      200000      83873            0   \n",
       "1003192  2600000000000000000   4306833      250000      29493            0   \n",
       "1003221  2473530720000000000   4306833      125000      21000            0   \n",
       "1003160  2970000000000000000   4306834       21000      21000            0   \n",
       "1003178  2606900110000000000   4306834       90000      21000            0   \n",
       "1003082  2722500000000000000   4306835        2300          0            0   \n",
       "1003008  2075815340000000000   4306836      121001      21000            0   \n",
       "1003022  2505000000000000000   4306836      121001      21000            0   \n",
       "1002903  2950000000000000000   4306839       21000      21000            0   \n",
       "1002745  2181431601800000000   4306841       21000      21000            0   \n",
       "\n",
       "               price              time_t  txIndex    ...      \\\n",
       "992252   50000000000 2017-09-18 04:16:31      NaN    ...       \n",
       "992247   36000000000 2017-09-18 04:16:31      NaN    ...       \n",
       "992259   50000000000 2017-09-18 04:16:31      NaN    ...       \n",
       "992436   50000000000 2017-09-18 04:16:31      NaN    ...       \n",
       "992428   50000000000 2017-09-18 04:16:31      NaN    ...       \n",
       "992367   49500000000 2017-09-18 04:16:31      NaN    ...       \n",
       "992358   50000000000 2017-09-18 04:16:31      NaN    ...       \n",
       "992321   50000000000 2017-09-18 04:16:31      NaN    ...       \n",
       "992291   50000000000 2017-09-18 04:16:31      NaN    ...       \n",
       "992194   30000000000 2017-09-18 04:17:20      NaN    ...       \n",
       "992146   30000000000 2017-09-18 04:17:20      1.0    ...       \n",
       "991593   30000000000 2017-09-18 04:18:30      NaN    ...       \n",
       "991580   30000000000 2017-09-18 04:18:30      NaN    ...       \n",
       "991550   50000000000 2017-09-18 04:18:30      NaN    ...       \n",
       "991537   30000000000 2017-09-18 04:18:30      NaN    ...       \n",
       "991523   30000000000 2017-09-18 04:18:30      NaN    ...       \n",
       "991487   30000000000 2017-09-18 04:18:30      NaN    ...       \n",
       "991348   50000000000 2017-09-18 04:19:04      NaN    ...       \n",
       "991216   25000000000 2017-09-18 04:19:09      NaN    ...       \n",
       "991111   60400000000 2017-09-18 04:19:31      NaN    ...       \n",
       "991175   35000000000 2017-09-18 04:19:31      NaN    ...       \n",
       "991077   29616441098 2017-09-18 04:19:56      NaN    ...       \n",
       "990992   50000000000 2017-09-18 04:19:56      NaN    ...       \n",
       "990988    4000000000 2017-09-18 04:19:56      NaN    ...       \n",
       "990725   50000000000 2017-09-18 04:20:23      NaN    ...       \n",
       "990707   50000000000 2017-09-18 04:20:23      NaN    ...       \n",
       "990681   50000000000 2017-09-18 04:20:23      NaN    ...       \n",
       "990841   49500000000 2017-09-18 04:20:23      NaN    ...       \n",
       "990854   55000000000 2017-09-18 04:20:23      NaN    ...       \n",
       "990857   49500000000 2017-09-18 04:20:23      1.0    ...       \n",
       "...              ...                 ...      ...    ...       \n",
       "1002029  51000000000 2017-09-24 07:03:31      NaN    ...       \n",
       "1001943  42000000000 2017-09-24 07:03:31      NaN    ...       \n",
       "1001711  20000000000 2017-09-24 07:04:25      3.0    ...       \n",
       "1001591  25000000000 2017-09-24 07:05:35      NaN    ...       \n",
       "1001539  51000000000 2017-09-24 07:05:35      6.0    ...       \n",
       "1001478  25000000000 2017-09-24 07:05:35      1.0    ...       \n",
       "1001157  20000000000 2017-09-24 07:07:06      NaN    ...       \n",
       "1001119  25000000000 2017-09-24 07:07:25      NaN    ...       \n",
       "1001111  26000000000 2017-09-24 07:07:25      NaN    ...       \n",
       "1001076  30000000000 2017-09-24 07:07:25      NaN    ...       \n",
       "1001065  51000000000 2017-09-24 07:07:25      NaN    ...       \n",
       "1001055  51000000000 2017-09-24 07:07:25      2.0    ...       \n",
       "1000979   1000000000 2017-09-24 07:07:30      NaN    ...       \n",
       "1000944  25000000000 2017-09-24 07:07:30      NaN    ...       \n",
       "1000613  25000000000 2017-09-24 07:08:04      NaN    ...       \n",
       "1000760  51000000000 2017-09-24 07:10:40      NaN    ...       \n",
       "1000766  51000000000 2017-09-24 07:10:40      2.0    ...       \n",
       "1003283   5000000000 2017-09-24 07:10:43      NaN    ...       \n",
       "1003284  40000000000 2017-09-24 07:10:43      NaN    ...       \n",
       "1003323  35000000000 2017-09-24 07:10:43      NaN    ...       \n",
       "1003335  21000000000 2017-09-24 07:10:43      NaN    ...       \n",
       "1003192   4000000000 2017-09-24 07:10:46      NaN    ...       \n",
       "1003221  42000000000 2017-09-24 07:10:46      NaN    ...       \n",
       "1003160  25000000000 2017-09-24 07:11:18      NaN    ...       \n",
       "1003178  25000000000 2017-09-24 07:11:18      NaN    ...       \n",
       "1003082  20000000000 2017-09-24 07:11:33      3.0    ...       \n",
       "1003008  51000000000 2017-09-24 07:11:51      NaN    ...       \n",
       "1003022  51000000000 2017-09-24 07:11:51      NaN    ...       \n",
       "1002903  21000000000 2017-09-24 07:12:44      NaN    ...       \n",
       "1002745  25000000000 2017-09-24 07:13:04      NaN    ...       \n",
       "\n",
       "                   totalFee  tx_count  uncle_count  amount_binary  price_gwei  \\\n",
       "992252   302278670637532540       289            0              1   50.000000   \n",
       "992247   302278670637532540       289            0              1   36.000000   \n",
       "992259   302278670637532540       289            0              1   50.000000   \n",
       "992436   302278670637532540       289            0              1   50.000000   \n",
       "992428   302278670637532540       289            0              1   50.000000   \n",
       "992367   302278670637532540       289            0              1   49.500000   \n",
       "992358   302278670637532540       289            0              1   50.000000   \n",
       "992321   302278670637532540       289            0              1   50.000000   \n",
       "992291   302278670637532540       289            0              1   50.000000   \n",
       "992194   235138217876085000       239            0              1   30.000000   \n",
       "992146   235138217876085000       239            0              1   30.000000   \n",
       "991593   316960348939077900       271            0              1   30.000000   \n",
       "991580   316960348939077900       271            0              1   30.000000   \n",
       "991550   316960348939077900       271            0              1   50.000000   \n",
       "991537   316960348939077900       271            0              1   30.000000   \n",
       "991523   316960348939077900       271            0              1   30.000000   \n",
       "991487   316960348939077900       271            0              1   30.000000   \n",
       "991348   219473535840494750       308            0              1   50.000000   \n",
       "991216    88763172757996340       128            1              1   25.000000   \n",
       "991111   113624377551398900       165            0              1   60.400000   \n",
       "991175   113624377551398900       165            0              1   35.000000   \n",
       "991077   110049102179082000       121            0              1   29.616441   \n",
       "990992   110049102179082000       121            0              1   50.000000   \n",
       "990988   110049102179082000       121            0              1    4.000000   \n",
       "990725   228076570620177820       269            0              1   50.000000   \n",
       "990707   228076570620177820       269            0              1   50.000000   \n",
       "990681   228076570620177820       269            0              1   50.000000   \n",
       "990841   228076570620177820       269            0              1   49.500000   \n",
       "990854   228076570620177820       269            0              1   55.000000   \n",
       "990857   228076570620177820       269            0              1   49.500000   \n",
       "...                     ...       ...          ...            ...         ...   \n",
       "1002029  175540695898136000       173            0              1   51.000000   \n",
       "1001943  175540695898136000       173            0              1   42.000000   \n",
       "1001711   66652892086318420        86            0              1   20.000000   \n",
       "1001591  460915281460705540       120            0              1   25.000000   \n",
       "1001539  460915281460705540       120            0              1   51.000000   \n",
       "1001478  460915281460705540       120            0              1   25.000000   \n",
       "1001157  154789124408918880       148            0              1   20.000000   \n",
       "1001119  107842907649568700        95            0              1   25.000000   \n",
       "1001111  107842907649568700        95            0              1   26.000000   \n",
       "1001076  107842907649568700        95            0              1   30.000000   \n",
       "1001065  107842907649568700        95            0              1   51.000000   \n",
       "1001055  107842907649568700        95            0              1   51.000000   \n",
       "1000979   44693407843621224       148            0              1    1.000000   \n",
       "1000944   44693407843621224       148            0              1   25.000000   \n",
       "1000613  277010952319734900        93            0              1   25.000000   \n",
       "1000760  218291092513687300       129            0              1   51.000000   \n",
       "1000766  218291092513687300       129            0              1   51.000000   \n",
       "1003283  122240667656112720       127            0              1    5.000000   \n",
       "1003284  122240667656112720       127            0              1   40.000000   \n",
       "1003323  122240667656112720       127            0              1   35.000000   \n",
       "1003335  122240667656112720       127            0              1   21.000000   \n",
       "1003192  153160826073180320        48            0              1    4.000000   \n",
       "1003221  153160826073180320        48            0              1   42.000000   \n",
       "1003160   99157978062278140        86            0              1   25.000000   \n",
       "1003178   99157978062278140        86            0              1   25.000000   \n",
       "1003082   92448500000066320        49            0              1   20.000000   \n",
       "1003008   93664148876342320        75            0              1   51.000000   \n",
       "1003022   93664148876342320        75            0              1   51.000000   \n",
       "1002903   72094175205848660        89            0              1   21.000000   \n",
       "1002745  543085366727227316        39            1              1   25.000000   \n",
       "\n",
       "         day  hour minute  second  dayofweek  \n",
       "992252    18     4     16      31          0  \n",
       "992247    18     4     16      31          0  \n",
       "992259    18     4     16      31          0  \n",
       "992436    18     4     16      31          0  \n",
       "992428    18     4     16      31          0  \n",
       "992367    18     4     16      31          0  \n",
       "992358    18     4     16      31          0  \n",
       "992321    18     4     16      31          0  \n",
       "992291    18     4     16      31          0  \n",
       "992194    18     4     17      20          0  \n",
       "992146    18     4     17      20          0  \n",
       "991593    18     4     18      30          0  \n",
       "991580    18     4     18      30          0  \n",
       "991550    18     4     18      30          0  \n",
       "991537    18     4     18      30          0  \n",
       "991523    18     4     18      30          0  \n",
       "991487    18     4     18      30          0  \n",
       "991348    18     4     19       4          0  \n",
       "991216    18     4     19       9          0  \n",
       "991111    18     4     19      31          0  \n",
       "991175    18     4     19      31          0  \n",
       "991077    18     4     19      56          0  \n",
       "990992    18     4     19      56          0  \n",
       "990988    18     4     19      56          0  \n",
       "990725    18     4     20      23          0  \n",
       "990707    18     4     20      23          0  \n",
       "990681    18     4     20      23          0  \n",
       "990841    18     4     20      23          0  \n",
       "990854    18     4     20      23          0  \n",
       "990857    18     4     20      23          0  \n",
       "...      ...   ...    ...     ...        ...  \n",
       "1002029   24     7      3      31          6  \n",
       "1001943   24     7      3      31          6  \n",
       "1001711   24     7      4      25          6  \n",
       "1001591   24     7      5      35          6  \n",
       "1001539   24     7      5      35          6  \n",
       "1001478   24     7      5      35          6  \n",
       "1001157   24     7      7       6          6  \n",
       "1001119   24     7      7      25          6  \n",
       "1001111   24     7      7      25          6  \n",
       "1001076   24     7      7      25          6  \n",
       "1001065   24     7      7      25          6  \n",
       "1001055   24     7      7      25          6  \n",
       "1000979   24     7      7      30          6  \n",
       "1000944   24     7      7      30          6  \n",
       "1000613   24     7      8       4          6  \n",
       "1000760   24     7     10      40          6  \n",
       "1000766   24     7     10      40          6  \n",
       "1003283   24     7     10      43          6  \n",
       "1003284   24     7     10      43          6  \n",
       "1003323   24     7     10      43          6  \n",
       "1003335   24     7     10      43          6  \n",
       "1003192   24     7     10      46          6  \n",
       "1003221   24     7     10      46          6  \n",
       "1003160   24     7     11      18          6  \n",
       "1003178   24     7     11      18          6  \n",
       "1003082   24     7     11      33          6  \n",
       "1003008   24     7     11      51          6  \n",
       "1003022   24     7     11      51          6  \n",
       "1002903   24     7     12      44          6  \n",
       "1002745   24     7     13       4          6  \n",
       "\n",
       "[21491 rows x 28 columns]"
      ]
     },
     "execution_count": 831,
     "metadata": {},
     "output_type": "execute_result"
    }
   ],
   "source": [
    "df[(df['amount'] > 2000000000000000000) & (df['amount'] < 3000000000000000000)].sort_values('time_t')"
   ]
  },
  {
   "cell_type": "code",
   "execution_count": 832,
   "metadata": {
    "collapsed": false
   },
   "outputs": [
    {
     "data": {
      "text/plain": [
       "(0, 100)"
      ]
     },
     "execution_count": 832,
     "metadata": {},
     "output_type": "execute_result"
    },
    {
     "data": {
      "image/png": "[encoded data removed]",
      "text/plain": [
       "<matplotlib.figure.Figure at 0x1d4adc450>"
      ]
     },
     "metadata": {},
     "output_type": "display_data"
    }
   ],
   "source": [
    "plt.scatter(df['amount'][df['amount'] > 0], df['price_gwei'][df['amount'] > 0])\n",
    "plt.ylim(0,100)"
   ]
  },
  {
   "cell_type": "markdown",
   "metadata": {},
   "source": [
    "#Conversions"
   ]
  },
  {
   "cell_type": "markdown",
   "metadata": {},
   "source": [
    "### Conversion from Gwei to ETH\n",
    "1 Gwei = 0.000000001 ETH"
   ]
  },
  {
   "cell_type": "markdown",
   "metadata": {},
   "source": [
    "### Amount \n",
    "- amount is ~ to 10^-18 ETH"
   ]
  },
  {
   "cell_type": "markdown",
   "metadata": {},
   "source": [
    "###Convert amount to ETH"
   ]
  },
  {
   "cell_type": "code",
   "execution_count": 833,
   "metadata": {
    "collapsed": false
   },
   "outputs": [],
   "source": [
    "df['amount_eth'] = df['amount'].map(lambda x: float(x) / 1000000000000000000)"
   ]
  },
  {
   "cell_type": "code",
   "execution_count": 834,
   "metadata": {
    "collapsed": false
   },
   "outputs": [
    {
     "data": {
      "text/plain": [
       "0    0.499093\n",
       "1    0.149222\n",
       "2    0.099608\n",
       "3    0.199005\n",
       "4    1.000289\n",
       "Name: amount_eth, dtype: float64"
      ]
     },
     "execution_count": 834,
     "metadata": {},
     "output_type": "execute_result"
    }
   ],
   "source": [
    "df['amount_eth'].head()"
   ]
  },
  {
   "cell_type": "code",
   "execution_count": 835,
   "metadata": {
    "collapsed": false
   },
   "outputs": [
    {
     "data": {
      "text/html": [
       "<div>\n",
       "<style>\n",
       "    .dataframe thead tr:only-child th {\n",
       "        text-align: right;\n",
       "    }\n",
       "\n",
       "    .dataframe thead th {\n",
       "        text-align: left;\n",
       "    }\n",
       "\n",
       "    .dataframe tbody tr th {\n",
       "        vertical-align: top;\n",
       "    }\n",
       "</style>\n",
       "<table border=\"1\" class=\"dataframe\">\n",
       "  <thead>\n",
       "    <tr style=\"text-align: right;\">\n",
       "      <th></th>\n",
       "      <th>amount_eth</th>\n",
       "      <th>type</th>\n",
       "      <th>newContract</th>\n",
       "      <th>price_gwei</th>\n",
       "      <th>block_id</th>\n",
       "    </tr>\n",
       "  </thead>\n",
       "  <tbody>\n",
       "    <tr>\n",
       "      <th>0</th>\n",
       "      <td>0.499093</td>\n",
       "      <td>tx</td>\n",
       "      <td>0</td>\n",
       "      <td>21.0</td>\n",
       "      <td>4295887</td>\n",
       "    </tr>\n",
       "    <tr>\n",
       "      <th>1</th>\n",
       "      <td>0.149222</td>\n",
       "      <td>call</td>\n",
       "      <td>0</td>\n",
       "      <td>21.0</td>\n",
       "      <td>4295887</td>\n",
       "    </tr>\n",
       "    <tr>\n",
       "      <th>2</th>\n",
       "      <td>0.099608</td>\n",
       "      <td>tx</td>\n",
       "      <td>0</td>\n",
       "      <td>21.0</td>\n",
       "      <td>4295887</td>\n",
       "    </tr>\n",
       "    <tr>\n",
       "      <th>3</th>\n",
       "      <td>0.199005</td>\n",
       "      <td>tx</td>\n",
       "      <td>0</td>\n",
       "      <td>21.0</td>\n",
       "      <td>4295887</td>\n",
       "    </tr>\n",
       "    <tr>\n",
       "      <th>4</th>\n",
       "      <td>1.000289</td>\n",
       "      <td>tx</td>\n",
       "      <td>0</td>\n",
       "      <td>21.0</td>\n",
       "      <td>4295887</td>\n",
       "    </tr>\n",
       "  </tbody>\n",
       "</table>\n",
       "</div>"
      ],
      "text/plain": [
       "   amount_eth  type  newContract  price_gwei  block_id\n",
       "0    0.499093    tx            0        21.0   4295887\n",
       "1    0.149222  call            0        21.0   4295887\n",
       "2    0.099608    tx            0        21.0   4295887\n",
       "3    0.199005    tx            0        21.0   4295887\n",
       "4    1.000289    tx            0        21.0   4295887"
      ]
     },
     "execution_count": 835,
     "metadata": {},
     "output_type": "execute_result"
    }
   ],
   "source": [
    "df[['amount_eth', 'type', 'newContract', 'price_gwei', 'block_id']].head()"
   ]
  },
  {
   "cell_type": "code",
   "execution_count": 836,
   "metadata": {
    "collapsed": false
   },
   "outputs": [
    {
     "data": {
      "text/plain": [
       "0    1489351\n",
       "1       4928\n",
       "Name: newContract, dtype: int64"
      ]
     },
     "execution_count": 836,
     "metadata": {},
     "output_type": "execute_result"
    }
   ],
   "source": [
    "df['newContract'].value_counts()"
   ]
  },
  {
   "cell_type": "code",
   "execution_count": 837,
   "metadata": {
    "collapsed": false
   },
   "outputs": [
    {
     "data": {
      "text/plain": [
       "0"
      ]
     },
     "execution_count": 837,
     "metadata": {},
     "output_type": "execute_result"
    }
   ],
   "source": [
    "df['newContract'].isnull().sum()"
   ]
  },
  {
   "cell_type": "code",
   "execution_count": 838,
   "metadata": {
    "collapsed": false
   },
   "outputs": [
    {
     "data": {
      "text/plain": [
       "count    1.494279e+06\n",
       "mean     2.910570e+01\n",
       "std      1.341286e+02\n",
       "min      1.000000e-09\n",
       "25%      2.000000e+01\n",
       "50%      2.100000e+01\n",
       "75%      4.200000e+01\n",
       "max      3.730453e+04\n",
       "Name: price_gwei, dtype: float64"
      ]
     },
     "execution_count": 838,
     "metadata": {},
     "output_type": "execute_result"
    }
   ],
   "source": [
    "df['price_gwei'].describe()"
   ]
  },
  {
   "cell_type": "markdown",
   "metadata": {},
   "source": [
    "##Encode the type column"
   ]
  },
  {
   "cell_type": "code",
   "execution_count": 839,
   "metadata": {
    "collapsed": true
   },
   "outputs": [],
   "source": [
    "from sklearn import preprocessing\n",
    "le = preprocessing.LabelEncoder()\n",
    "df['type_enc'] = le.fit_transform(df['type'])"
   ]
  },
  {
   "cell_type": "code",
   "execution_count": 840,
   "metadata": {
    "collapsed": false
   },
   "outputs": [
    {
     "data": {
      "text/plain": [
       "3    973640\n",
       "0    492595\n",
       "1     27726\n",
       "2       318\n",
       "Name: type_enc, dtype: int64"
      ]
     },
     "execution_count": 840,
     "metadata": {},
     "output_type": "execute_result"
    }
   ],
   "source": [
    "df['type_enc'].value_counts()"
   ]
  },
  {
   "cell_type": "markdown",
   "metadata": {},
   "source": [
    "#Filter data \n",
    "- only monetary transactions (amount > 0)\n",
    "- only gas price > 0"
   ]
  },
  {
   "cell_type": "code",
   "execution_count": 841,
   "metadata": {
    "collapsed": true
   },
   "outputs": [],
   "source": [
    "df_filtered = df[(df['amount_eth'] > 0) & (df['price_gwei'] > 0)]"
   ]
  },
  {
   "cell_type": "code",
   "execution_count": 842,
   "metadata": {
    "collapsed": false
   },
   "outputs": [
    {
     "name": "stdout",
     "output_type": "stream",
     "text": [
      "deleted 747566 rows having 0 amounts\n"
     ]
    }
   ],
   "source": [
    "print('deleted {} rows having 0 amounts'.format(df[df['amount_eth'] == 0].values.shape[0]))"
   ]
  },
  {
   "cell_type": "code",
   "execution_count": 843,
   "metadata": {
    "collapsed": false
   },
   "outputs": [
    {
     "name": "stdout",
     "output_type": "stream",
     "text": [
      "deleted 0 rows having 0 gas price\n"
     ]
    }
   ],
   "source": [
    "print('deleted {} rows having 0 gas price'.format(df[df['price_gwei'] == 0].values.shape[0]))"
   ]
  },
  {
   "cell_type": "code",
   "execution_count": 844,
   "metadata": {
    "collapsed": false
   },
   "outputs": [
    {
     "data": {
      "text/plain": [
       "<matplotlib.text.Text at 0x1c79739d0>"
      ]
     },
     "execution_count": 844,
     "metadata": {},
     "output_type": "execute_result"
    },
    {
     "data": {
      "image/png": "[encoded data removed]",
      "text/plain": [
       "<matplotlib.figure.Figure at 0x1f6729f50>"
      ]
     },
     "metadata": {},
     "output_type": "display_data"
    }
   ],
   "source": [
    "df_filtered['amount_eth'].hist()\n",
    "plt.xlabel('Amount')"
   ]
  },
  {
   "cell_type": "code",
   "execution_count": 845,
   "metadata": {
    "collapsed": false
   },
   "outputs": [
    {
     "data": {
      "text/plain": [
       "<matplotlib.text.Text at 0x199186c10>"
      ]
     },
     "execution_count": 845,
     "metadata": {},
     "output_type": "execute_result"
    },
    {
     "data": {
      "image/png": "[encoded data removed]",
      "text/plain": [
       "<matplotlib.figure.Figure at 0x195a2bdd0>"
      ]
     },
     "metadata": {},
     "output_type": "display_data"
    }
   ],
   "source": [
    "df_filtered['price_gwei'].hist(bins=2000)\n",
    "plt.xlim(0,100)\n",
    "plt.xlabel('Gas Price')"
   ]
  },
  {
   "cell_type": "code",
   "execution_count": 846,
   "metadata": {
    "collapsed": false
   },
   "outputs": [],
   "source": [
    "gas_log = np.log(df_filtered['price_gwei'].values)"
   ]
  },
  {
   "cell_type": "code",
   "execution_count": 847,
   "metadata": {
    "collapsed": false
   },
   "outputs": [
    {
     "data": {
      "text/plain": [
       "<matplotlib.text.Text at 0x1862ab110>"
      ]
     },
     "execution_count": 847,
     "metadata": {},
     "output_type": "execute_result"
    },
    {
     "data": {
      "image/png": "[encoded data removed]",
      "text/plain": [
       "<matplotlib.figure.Figure at 0x185e65fd0>"
      ]
     },
     "metadata": {},
     "output_type": "display_data"
    }
   ],
   "source": [
    "plt.scatter(df_filtered['amount_eth'], df_filtered['price_gwei'])\n",
    "plt.xlabel('Amount')\n",
    "plt.ylabel('Gas Price')"
   ]
  },
  {
   "cell_type": "code",
   "execution_count": 848,
   "metadata": {
    "collapsed": false
   },
   "outputs": [
    {
     "data": {
      "text/plain": [
       "count    1.494279e+06\n",
       "mean     2.018310e+00\n",
       "std      1.702585e+00\n",
       "min      0.000000e+00\n",
       "25%      1.000000e+00\n",
       "50%      2.000000e+00\n",
       "75%      3.000000e+00\n",
       "max      6.000000e+00\n",
       "Name: dayofweek, dtype: float64"
      ]
     },
     "execution_count": 848,
     "metadata": {},
     "output_type": "execute_result"
    }
   ],
   "source": [
    "df['dayofweek'].describe()"
   ]
  },
  {
   "cell_type": "code",
   "execution_count": 849,
   "metadata": {
    "collapsed": false
   },
   "outputs": [
    {
     "data": {
      "text/plain": [
       "<matplotlib.text.Text at 0x1991d6990>"
      ]
     },
     "execution_count": 849,
     "metadata": {},
     "output_type": "execute_result"
    },
    {
     "data": {
      "image/png": "[encoded data removed]",
      "text/plain": [
       "<matplotlib.figure.Figure at 0x1862c8110>"
      ]
     },
     "metadata": {},
     "output_type": "display_data"
    }
   ],
   "source": [
    "df_filtered['dayofweek'].hist(bins=7)\n",
    "plt.xlabel(\"Day of Week (Mon-Sun)\")"
   ]
  },
  {
   "cell_type": "code",
   "execution_count": 850,
   "metadata": {
    "collapsed": false
   },
   "outputs": [
    {
     "data": {
      "text/plain": [
       "count    631783.000000\n",
       "mean         10.468607\n",
       "std           6.591704\n",
       "min           0.000000\n",
       "25%           4.000000\n",
       "50%          10.000000\n",
       "75%          16.000000\n",
       "max          23.000000\n",
       "Name: hour, dtype: float64"
      ]
     },
     "execution_count": 850,
     "metadata": {},
     "output_type": "execute_result"
    }
   ],
   "source": [
    "df_filtered['hour'].describe()"
   ]
  },
  {
   "cell_type": "code",
   "execution_count": 851,
   "metadata": {
    "collapsed": false
   },
   "outputs": [
    {
     "data": {
      "text/plain": [
       "<matplotlib.text.Text at 0x1862b5a10>"
      ]
     },
     "execution_count": 851,
     "metadata": {},
     "output_type": "execute_result"
    },
    {
     "data": {
      "image/png": "[encoded data removed]",
      "text/plain": [
       "<matplotlib.figure.Figure at 0x1991d6950>"
      ]
     },
     "metadata": {},
     "output_type": "display_data"
    }
   ],
   "source": [
    "df_filtered['hour'].hist(bins=24)\n",
    "plt.xlim(0,23)\n",
    "plt.xlabel('Hour')"
   ]
  },
  {
   "cell_type": "code",
   "execution_count": 852,
   "metadata": {
    "collapsed": false
   },
   "outputs": [
    {
     "data": {
      "text/plain": [
       "type\n",
       "call         2995.598818\n",
       "create     340235.204340\n",
       "suicide         0.000000\n",
       "tx          29458.468473\n",
       "Name: gasUsed_t, dtype: float64"
      ]
     },
     "execution_count": 852,
     "metadata": {},
     "output_type": "execute_result"
    }
   ],
   "source": [
    "df_filtered.groupby('type')['gasUsed_t'].mean()"
   ]
  },
  {
   "cell_type": "markdown",
   "metadata": {},
   "source": [
    "#Obtain averages over previous blocks for each block id to generate new features\n",
    "- difficulty \n",
    "- blocktime\n",
    "- transactions/second\n",
    "- uncle rate\n",
    "- gasused by transaction\n",
    "- gasused by block\n",
    "- gasprice"
   ]
  },
  {
   "cell_type": "code",
   "execution_count": 853,
   "metadata": {
    "collapsed": false
   },
   "outputs": [
    {
     "name": "stdout",
     "output_type": "stream",
     "text": [
      "No blocks: 14473\n"
     ]
    }
   ],
   "source": [
    "print('No blocks: {}'.format(np.unique(df_filtered['block_id'].values).shape[0]))"
   ]
  },
  {
   "cell_type": "markdown",
   "metadata": {},
   "source": [
    "### Add column with txs per second for each block"
   ]
  },
  {
   "cell_type": "code",
   "execution_count": 854,
   "metadata": {
    "collapsed": false
   },
   "outputs": [
    {
     "name": "stderr",
     "output_type": "stream",
     "text": [
      "/anaconda/lib/python2.7/site-packages/IPython/kernel/__main__.py:1: SettingWithCopyWarning: \n",
      "A value is trying to be set on a copy of a slice from a DataFrame.\n",
      "Try using .loc[row_indexer,col_indexer] = value instead\n",
      "\n",
      "See the caveats in the documentation: http://pandas.pydata.org/pandas-docs/stable/indexing.html#indexing-view-versus-copy\n",
      "  if __name__ == '__main__':\n"
     ]
    }
   ],
   "source": [
    "df_filtered['txcnt_second'] = df_filtered['tx_count'].values / df_filtered['blockTime'].values"
   ]
  },
  {
   "cell_type": "code",
   "execution_count": 855,
   "metadata": {
    "collapsed": false
   },
   "outputs": [
    {
     "data": {
      "text/plain": [
       "(19, 30)"
      ]
     },
     "execution_count": 855,
     "metadata": {},
     "output_type": "execute_result"
    }
   ],
   "source": [
    "block_0.shape"
   ]
  },
  {
   "cell_type": "markdown",
   "metadata": {},
   "source": [
    "### Add column with avg gasUsed and avg price per transaction for each block"
   ]
  },
  {
   "cell_type": "code",
   "execution_count": 856,
   "metadata": {
    "collapsed": false
   },
   "outputs": [
    {
     "name": "stderr",
     "output_type": "stream",
     "text": [
      "/anaconda/lib/python2.7/site-packages/IPython/kernel/__main__.py:1: SettingWithCopyWarning: \n",
      "A value is trying to be set on a copy of a slice from a DataFrame.\n",
      "Try using .loc[row_indexer,col_indexer] = value instead\n",
      "\n",
      "See the caveats in the documentation: http://pandas.pydata.org/pandas-docs/stable/indexing.html#indexing-view-versus-copy\n",
      "  if __name__ == '__main__':\n"
     ]
    }
   ],
   "source": [
    "df_filtered['avg_gasUsed_t_perblock'] = df_filtered.groupby('block_id')['gasUsed_t'].transform('mean')"
   ]
  },
  {
   "cell_type": "code",
   "execution_count": 857,
   "metadata": {
    "collapsed": false
   },
   "outputs": [
    {
     "name": "stderr",
     "output_type": "stream",
     "text": [
      "/anaconda/lib/python2.7/site-packages/IPython/kernel/__main__.py:1: SettingWithCopyWarning: \n",
      "A value is trying to be set on a copy of a slice from a DataFrame.\n",
      "Try using .loc[row_indexer,col_indexer] = value instead\n",
      "\n",
      "See the caveats in the documentation: http://pandas.pydata.org/pandas-docs/stable/indexing.html#indexing-view-versus-copy\n",
      "  if __name__ == '__main__':\n"
     ]
    }
   ],
   "source": [
    "df_filtered['avg_price_perblock'] = df_filtered.groupby('block_id')['price_gwei'].transform('mean')"
   ]
  },
  {
   "cell_type": "code",
   "execution_count": 858,
   "metadata": {
    "collapsed": false
   },
   "outputs": [],
   "source": [
    "df_filtered.to_csv('./../data/data_filtered.csv')"
   ]
  },
  {
   "cell_type": "markdown",
   "metadata": {},
   "source": [
    "### Calculate the rolling average over given number of windows"
   ]
  },
  {
   "cell_type": "code",
   "execution_count": 859,
   "metadata": {
    "collapsed": true
   },
   "outputs": [],
   "source": [
    "def rolling_avg(window_size):\n",
    "    \n",
    "    price = df_filtered[['block_id', 'avg_price_perblock']].drop_duplicates().sort_values('block_id', \n",
    "                                                                                 ascending=True)\n",
    "    gasUsed_t = df_filtered[['block_id', 'avg_gasUsed_t_perblock']].drop_duplicates().sort_values('block_id', \n",
    "                                                                                         ascending=True)\n",
    "    txcnt_second = df_filtered[['block_id', 'txcnt_second']].drop_duplicates().sort_values('block_id',\n",
    "                                                                                     ascending=True)\n",
    "    tx_count = df_filtered[['block_id', 'tx_count']].drop_duplicates().sort_values('block_id',\n",
    "                                                                                     ascending=True)\n",
    "    gasUsed_b = df_filtered[['block_id', 'gasUsed_b']].drop_duplicates().sort_values('block_id',\n",
    "                                                                                     ascending=True)\n",
    "    uncle_count = df_filtered[['block_id', 'uncle_count']].drop_duplicates().sort_values('block_id', \n",
    "                                                                                         ascending=True)\n",
    "    difficulty = df_filtered[['block_id', 'difficulty']].drop_duplicates().sort_values('block_id', \n",
    "                                                                                       ascending=True)\n",
    "    blocktime = df_filtered[['block_id', 'blockTime']].drop_duplicates().sort_values('block_id', \n",
    "                                                                                     ascending=True)\n",
    "    # create new pandas dataframe with average values\n",
    "    rolling_avg = pd.DataFrame()\n",
    "    \n",
    "    # calculate rolling averages \n",
    "    rolling_avg['avg_blocktime'] = blocktime['blockTime'].rolling(window=window_size).mean()\n",
    "    rolling_avg['avg_gasUsed_b'] = gasUsed_b['gasUsed_b'].rolling(window=window_size).mean()\n",
    "    rolling_avg['avg_tx_count'] = tx_count['tx_count'].rolling(window=window_size).mean()\n",
    "    rolling_avg['avg_uncle_count'] = uncle_count['uncle_count'].rolling(window=window_size).mean()\n",
    "    rolling_avg['avg_difficulty'] = difficulty['difficulty'].rolling(window=window_size).mean()\n",
    "    rolling_avg['avg_txcnt_second'] = txcnt_second['txcnt_second'].rolling(window=window_size).mean()\n",
    "    rolling_avg['avg_gasUsed_t'] = gasUsed_t['avg_gasUsed_t_perblock'].rolling(window=window_size).mean()\n",
    "    rolling_avg['avg_price'] = price['avg_price_perblock'].rolling(window=window_size).mean()\n",
    "    \n",
    "    # insert blockids to merge on\n",
    "    rolling_avg['blockids'] = df_filtered['block_id'].drop_duplicates().sort_values(ascending=True)\n",
    "    \n",
    "    return rolling_avg"
   ]
  },
  {
   "cell_type": "markdown",
   "metadata": {},
   "source": [
    "There are between 1400 and 3500 blocks in a given day"
   ]
  },
  {
   "cell_type": "markdown",
   "metadata": {},
   "source": [
    "###Create csv files for each regime"
   ]
  },
  {
   "cell_type": "code",
   "execution_count": 860,
   "metadata": {
    "collapsed": false
   },
   "outputs": [],
   "source": [
    "num_blocks = [5, 10, 25, 50, 100, 1000, 2000, 3000, 4000]\n",
    "for num in num_blocks:\n",
    "    df_rolling_avg = rolling_avg(num)\n",
    "    df_rolling_avg.to_csv('./../data/block_avg_{}.csv'.format(num))"
   ]
  }
 ],
 "metadata": {
  "kernelspec": {
   "display_name": "Python 2",
   "language": "python",
   "name": "python2"
  },
  "language_info": {
   "codemirror_mode": {
    "name": "ipython",
    "version": 2
   },
   "file_extension": ".py",
   "mimetype": "text/x-python",
   "name": "python",
   "nbconvert_exporter": "python",
   "pygments_lexer": "ipython2",
   "version": "2.7.13"
  }
 },
 "nbformat": 4,
 "nbformat_minor": 0
}
