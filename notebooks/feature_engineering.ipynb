{
 "cells": [
  {
   "cell_type": "code",
   "execution_count": 265,
   "metadata": {
    "collapsed": false
   },
   "outputs": [],
   "source": [
    "from __future__ import print_function\n",
    "import pandas as pd\n",
    "import numpy as np\n",
    "import matplotlib.pyplot as plt\n",
    "import seaborn as sns\n",
    "import scipy.stats as sp\n",
    "from scipy.stats import norm\n",
    "from scipy.stats import gamma\n",
    "%matplotlib inline"
   ]
  },
  {
   "cell_type": "code",
   "execution_count": 266,
   "metadata": {
    "collapsed": true
   },
   "outputs": [],
   "source": [
    "df = pd.read_csv('./../data/clean_data.csv')"
   ]
  },
  {
   "cell_type": "code",
   "execution_count": 267,
   "metadata": {
    "collapsed": true
   },
   "outputs": [],
   "source": [
    "df.drop('Unnamed: 0', axis=1, inplace=True)"
   ]
  },
  {
   "cell_type": "code",
   "execution_count": 268,
   "metadata": {
    "collapsed": false
   },
   "outputs": [
    {
     "data": {
      "text/plain": [
       "tx         973640\n",
       "call       492595\n",
       "create      27726\n",
       "suicide       318\n",
       "Name: type, dtype: int64"
      ]
     },
     "execution_count": 268,
     "metadata": {},
     "output_type": "execute_result"
    }
   ],
   "source": [
    "df['type'].value_counts()"
   ]
  },
  {
   "cell_type": "code",
   "execution_count": 269,
   "metadata": {
    "collapsed": false
   },
   "outputs": [
    {
     "data": {
      "text/plain": [
       "0    1489351\n",
       "1       4928\n",
       "Name: newContract, dtype: int64"
      ]
     },
     "execution_count": 269,
     "metadata": {},
     "output_type": "execute_result"
    }
   ],
   "source": [
    "df['newContract'].value_counts()"
   ]
  },
  {
   "cell_type": "code",
   "execution_count": 270,
   "metadata": {
    "collapsed": false
   },
   "outputs": [
    {
     "name": "stdout",
     "output_type": "stream",
     "text": [
      "_id_t 0\n",
      "accountNonce 0\n",
      "amount 0\n",
      "blockHash 0\n",
      "block_id 0\n",
      "gasLimit_t 0\n",
      "gasUsed_t 0\n",
      "hash_t 0\n",
      "newContract 0\n",
      "parentHash_t 0\n",
      "price 0\n",
      "recipient 0\n",
      "sender 0\n",
      "time_t 0\n",
      "type 0\n",
      "_id_b 0\n",
      "blockTime 0\n",
      "coinbase 0\n",
      "difficulty 0\n",
      "extra 0\n",
      "gasLimit_b 0\n",
      "gasUsed_b 0\n",
      "hash_b 0\n",
      "mixDigest 1494279\n",
      "nonce 0\n",
      "number 0\n",
      "parentHash_b 0\n",
      "reward 0\n",
      "root 0\n",
      "size 0\n",
      "time_b 0\n",
      "totalFee 0\n",
      "txHash 0\n",
      "tx_count 0\n",
      "uncleHash 0\n",
      "uncle_count 0\n",
      "price_gwei 0\n",
      "amount_gwei 0\n",
      "gasShare 0\n",
      "gweiPaid 0\n",
      "gweiPaid_b 0\n",
      "gweiShare 2\n",
      "free_t 0\n",
      "day 0\n",
      "hour 0\n",
      "dayofweek 0\n"
     ]
    }
   ],
   "source": [
    "for col in df.columns:\n",
    "    print(col, df[col].isnull().sum())"
   ]
  },
  {
   "cell_type": "code",
   "execution_count": 271,
   "metadata": {
    "collapsed": true
   },
   "outputs": [],
   "source": [
    "df.drop('mixDigest', axis=1, inplace=True)"
   ]
  },
  {
   "cell_type": "code",
   "execution_count": 272,
   "metadata": {
    "collapsed": false
   },
   "outputs": [],
   "source": [
    "df.dropna(inplace=True)"
   ]
  },
  {
   "cell_type": "markdown",
   "metadata": {},
   "source": [
    "## Generate new columns"
   ]
  },
  {
   "cell_type": "code",
   "execution_count": 273,
   "metadata": {
    "collapsed": true
   },
   "outputs": [],
   "source": [
    "df['txcnt_second'] = df['tx_count'].values / df['blockTime'].values\n",
    "df['avg_gasUsed_t_perblock'] = df.groupby('block_id')['gasUsed_t'].transform('mean')\n",
    "df['avg_price_perblock'] = df.groupby('block_id')['price_gwei'].transform('mean')"
   ]
  },
  {
   "cell_type": "code",
   "execution_count": 274,
   "metadata": {
    "collapsed": true
   },
   "outputs": [],
   "source": [
    "def rolling_avg(window_size):\n",
    "    \n",
    "    price = df[['block_id', 'avg_price_perblock']].drop_duplicates().sort_values(\n",
    "                        'block_id', ascending=True)\n",
    "    \n",
    "    gasUsed_t = df[['block_id', 'avg_gasUsed_t_perblock']].drop_duplicates().sort_values(\n",
    "                            'block_id', ascending=True)\n",
    "    \n",
    "    txcnt_second = df[['block_id', 'txcnt_second']].drop_duplicates().sort_values(\n",
    "                                'block_id', ascending=True)\n",
    "    \n",
    "    tx_count = df[['block_id', 'tx_count']].drop_duplicates().sort_values(\n",
    "                            'block_id', ascending=True)\n",
    "    \n",
    "    gasUsed_b = df[['block_id', 'gasUsed_b']].drop_duplicates().sort_values(\n",
    "                            'block_id', ascending=True)\n",
    "    \n",
    "    uncle_count = df[['block_id', 'uncle_count']].drop_duplicates().sort_values(\n",
    "                                'block_id', ascending=True)\n",
    "    \n",
    "    difficulty = df[['block_id', 'difficulty']].drop_duplicates().sort_values(\n",
    "                                'block_id', ascending=True)\n",
    "    \n",
    "    blocktime = df[['block_id', 'blockTime']].drop_duplicates().sort_values(\n",
    "                             'block_id', ascending=True)\n",
    "    \n",
    "    # create new pandas dataframe with average values\n",
    "    rolling_avg = pd.DataFrame()\n",
    "    \n",
    "    # calculate rolling averages \n",
    "    rolling_avg['avg_blocktime'] = blocktime['blockTime'].rolling(window=window_size).mean()\n",
    "    rolling_avg['avg_gasUsed_b'] = gasUsed_b['gasUsed_b'].rolling(window=window_size).mean()\n",
    "    rolling_avg['avg_tx_count'] = tx_count['tx_count'].rolling(window=window_size).mean()\n",
    "    rolling_avg['avg_uncle_count'] = uncle_count['uncle_count'].rolling(window=window_size).mean()\n",
    "    rolling_avg['avg_difficulty'] = difficulty['difficulty'].rolling(window=window_size).mean()\n",
    "    rolling_avg['avg_txcnt_second'] = txcnt_second['txcnt_second'].rolling(window=window_size).mean()\n",
    "    rolling_avg['avg_gasUsed_t'] = gasUsed_t['avg_gasUsed_t_perblock'].rolling(window=window_size).mean()\n",
    "    rolling_avg['avg_price'] = price['avg_price_perblock'].rolling(window=window_size).mean()\n",
    "    \n",
    "    # insert blockids to merge on\n",
    "    rolling_avg['blockids'] = df['block_id'].drop_duplicates().sort_values(ascending=True)\n",
    "    \n",
    "    return rolling_avg"
   ]
  },
  {
   "cell_type": "markdown",
   "metadata": {},
   "source": [
    "## Take average values over two time horizons\n",
    "- 6 blocks (~1 min) -> represents the current state (short frequency view)\n",
    "- 60 blocks (~10 min) -> represents the long term view"
   ]
  },
  {
   "cell_type": "code",
   "execution_count": 275,
   "metadata": {
    "collapsed": false
   },
   "outputs": [],
   "source": [
    "num_blocks = [6, 60]\n",
    "for num in num_blocks:\n",
    "    df_rolling_avg = rolling_avg(num)\n",
    "    df_rolling_avg.to_csv('./../data/block_avg_{}.csv'.format(num))"
   ]
  },
  {
   "cell_type": "code",
   "execution_count": 276,
   "metadata": {
    "collapsed": false
   },
   "outputs": [],
   "source": [
    "df_rolling_avg_6 = rolling_avg(6)"
   ]
  },
  {
   "cell_type": "code",
   "execution_count": 277,
   "metadata": {
    "collapsed": true
   },
   "outputs": [],
   "source": [
    "df_rolling_avg_60 = rolling_avg(60)"
   ]
  },
  {
   "cell_type": "markdown",
   "metadata": {},
   "source": [
    "## Merge data with new columns"
   ]
  },
  {
   "cell_type": "code",
   "execution_count": 278,
   "metadata": {
    "collapsed": true
   },
   "outputs": [],
   "source": [
    "merged1 = pd.merge(df, df_rolling_avg_6, left_on='block_id', right_on='blockids')"
   ]
  },
  {
   "cell_type": "code",
   "execution_count": 279,
   "metadata": {
    "collapsed": true
   },
   "outputs": [],
   "source": [
    "merged2 = pd.merge(merged1, df_rolling_avg_60, left_on='block_id', right_on='blockids', suffixes=('_6', '_60'))"
   ]
  },
  {
   "cell_type": "code",
   "execution_count": 280,
   "metadata": {
    "collapsed": false
   },
   "outputs": [
    {
     "data": {
      "text/plain": [
       "Index([u'_id_t', u'accountNonce', u'amount', u'blockHash', u'block_id',\n",
       "       u'gasLimit_t', u'gasUsed_t', u'hash_t', u'newContract', u'parentHash_t',\n",
       "       u'price', u'recipient', u'sender', u'time_t', u'type', u'_id_b',\n",
       "       u'blockTime', u'coinbase', u'difficulty', u'extra', u'gasLimit_b',\n",
       "       u'gasUsed_b', u'hash_b', u'nonce', u'number', u'parentHash_b',\n",
       "       u'reward', u'root', u'size', u'time_b', u'totalFee', u'txHash',\n",
       "       u'tx_count', u'uncleHash', u'uncle_count', u'price_gwei',\n",
       "       u'amount_gwei', u'gasShare', u'gweiPaid', u'gweiPaid_b', u'gweiShare',\n",
       "       u'free_t', u'day', u'hour', u'dayofweek', u'txcnt_second',\n",
       "       u'avg_gasUsed_t_perblock', u'avg_price_perblock', u'avg_blocktime_6',\n",
       "       u'avg_gasUsed_b_6', u'avg_tx_count_6', u'avg_uncle_count_6',\n",
       "       u'avg_difficulty_6', u'avg_txcnt_second_6', u'avg_gasUsed_t_6',\n",
       "       u'avg_price_6', u'blockids_6', u'avg_blocktime_60', u'avg_gasUsed_b_60',\n",
       "       u'avg_tx_count_60', u'avg_uncle_count_60', u'avg_difficulty_60',\n",
       "       u'avg_txcnt_second_60', u'avg_gasUsed_t_60', u'avg_price_60',\n",
       "       u'blockids_60'],\n",
       "      dtype='object')"
      ]
     },
     "execution_count": 280,
     "metadata": {},
     "output_type": "execute_result"
    }
   ],
   "source": [
    "merged2.columns"
   ]
  },
  {
   "cell_type": "markdown",
   "metadata": {},
   "source": [
    "# Create a label\n",
    "- What are we predicting? \n",
    "- A hindsight estimate of what the price should be, given knowledge about previous blocks\n",
    "- Develop a summary statistic about the distribution of prices over previous blocks\n",
    "- Our target: the 25th percentile of the distribution (gweiShare / gasShare)\n",
    "\n",
    "## Definitions\n",
    "- gasUsed_t -> the amount of gas consumed on a transation\n",
    "- gasUsed_b -> the amount of gas consumed in an entire block\n",
    "- price_gwei -> the price per unit gas \n",
    "- gweiPaid -> the total amount paid (Gwei) for a transaction (= gasUsed_t x price_gwei)\n",
    "- gweiPaid_b -> the total amount paid in a block \n",
    "- gweiShare -> the fraction of gwei paid w.r.t. the entire block\n",
    "- gasShare -> the fraction of gas consumed w.r.t. the entire block\n",
    "\n",
    "## Define \"miner value\" – mu\n",
    "- a measure of how likely a transaction is to be \"picked up\" by a miner for completion (risk factor)\n",
    "- mu = c x gweiShare / gasShare\n",
    "- our target/goal is for mu to be the 25th percentile of gweiShare / gasShare\n",
    "- c can serve as a tuning parameter to increase or decrease our desired percentile \n",
    "- it is a pre-emptive statistical calculation based on our hindsight knowledge\n",
    "\n",
    "## The \"price\" predicted with hindsight \n",
    "- knowing mu, how do we obtain our hindsight recommendation?\n",
    "- using our definition of mu, we solve equation to obtain p (price)\n",
    "- p = (mu x gweiPaid_b) / gasUsed_b\n",
    "- this will serve as our label and thus recommendation for how much to pay per unit gas for a transation to successfully commence "
   ]
  },
  {
   "cell_type": "markdown",
   "metadata": {},
   "source": [
    "## Calculate mu for our dataset\n",
    "- given a distribution of mu for a given block, fit a statistical model to the data\n",
    "- use this fit model to compute the 25th percentile of the distribution"
   ]
  },
  {
   "cell_type": "code",
   "execution_count": 281,
   "metadata": {
    "collapsed": false
   },
   "outputs": [
    {
     "data": {
      "text/plain": [
       "0    0.051115\n",
       "1    0.022919\n",
       "2    0.051115\n",
       "3    0.051115\n",
       "4    0.051115\n",
       "Name: gweiShare, dtype: float64"
      ]
     },
     "execution_count": 281,
     "metadata": {},
     "output_type": "execute_result"
    }
   ],
   "source": [
    "merged2['gweiShare'].head()"
   ]
  },
  {
   "cell_type": "code",
   "execution_count": 282,
   "metadata": {
    "collapsed": false
   },
   "outputs": [
    {
     "data": {
      "text/plain": [
       "0    0.054830\n",
       "1    0.024585\n",
       "2    0.054830\n",
       "3    0.054830\n",
       "4    0.054830\n",
       "5    0.103163\n",
       "6    0.080889\n",
       "7    0.054830\n",
       "8    0.000000\n",
       "9    0.103163\n",
       "Name: gasShare, dtype: float64"
      ]
     },
     "execution_count": 282,
     "metadata": {},
     "output_type": "execute_result"
    }
   ],
   "source": [
    "merged2['gasShare'].head(10)"
   ]
  },
  {
   "cell_type": "code",
   "execution_count": 283,
   "metadata": {
    "collapsed": false
   },
   "outputs": [
    {
     "data": {
      "text/html": [
       "<div>\n",
       "<style>\n",
       "    .dataframe thead tr:only-child th {\n",
       "        text-align: right;\n",
       "    }\n",
       "\n",
       "    .dataframe thead th {\n",
       "        text-align: left;\n",
       "    }\n",
       "\n",
       "    .dataframe tbody tr th {\n",
       "        vertical-align: top;\n",
       "    }\n",
       "</style>\n",
       "<table border=\"1\" class=\"dataframe\">\n",
       "  <thead>\n",
       "    <tr style=\"text-align: right;\">\n",
       "      <th></th>\n",
       "      <th>block_id</th>\n",
       "      <th>price_gwei</th>\n",
       "      <th>gasUsed_t</th>\n",
       "      <th>gasUsed_b</th>\n",
       "      <th>gweiShare</th>\n",
       "      <th>gasShare</th>\n",
       "    </tr>\n",
       "  </thead>\n",
       "  <tbody>\n",
       "    <tr>\n",
       "      <th>0</th>\n",
       "      <td>4295887</td>\n",
       "      <td>21.0</td>\n",
       "      <td>21000</td>\n",
       "      <td>383005</td>\n",
       "      <td>0.051115</td>\n",
       "      <td>0.054830</td>\n",
       "    </tr>\n",
       "    <tr>\n",
       "      <th>1</th>\n",
       "      <td>4295887</td>\n",
       "      <td>21.0</td>\n",
       "      <td>9416</td>\n",
       "      <td>383005</td>\n",
       "      <td>0.022919</td>\n",
       "      <td>0.024585</td>\n",
       "    </tr>\n",
       "    <tr>\n",
       "      <th>2</th>\n",
       "      <td>4295887</td>\n",
       "      <td>21.0</td>\n",
       "      <td>21000</td>\n",
       "      <td>383005</td>\n",
       "      <td>0.051115</td>\n",
       "      <td>0.054830</td>\n",
       "    </tr>\n",
       "    <tr>\n",
       "      <th>3</th>\n",
       "      <td>4295887</td>\n",
       "      <td>21.0</td>\n",
       "      <td>21000</td>\n",
       "      <td>383005</td>\n",
       "      <td>0.051115</td>\n",
       "      <td>0.054830</td>\n",
       "    </tr>\n",
       "    <tr>\n",
       "      <th>4</th>\n",
       "      <td>4295887</td>\n",
       "      <td>21.0</td>\n",
       "      <td>21000</td>\n",
       "      <td>383005</td>\n",
       "      <td>0.051115</td>\n",
       "      <td>0.054830</td>\n",
       "    </tr>\n",
       "    <tr>\n",
       "      <th>5</th>\n",
       "      <td>4295887</td>\n",
       "      <td>21.0</td>\n",
       "      <td>39512</td>\n",
       "      <td>383005</td>\n",
       "      <td>0.096174</td>\n",
       "      <td>0.103163</td>\n",
       "    </tr>\n",
       "    <tr>\n",
       "      <th>6</th>\n",
       "      <td>4295887</td>\n",
       "      <td>21.0</td>\n",
       "      <td>30981</td>\n",
       "      <td>383005</td>\n",
       "      <td>0.075409</td>\n",
       "      <td>0.080889</td>\n",
       "    </tr>\n",
       "    <tr>\n",
       "      <th>7</th>\n",
       "      <td>4295887</td>\n",
       "      <td>21.0</td>\n",
       "      <td>21000</td>\n",
       "      <td>383005</td>\n",
       "      <td>0.051115</td>\n",
       "      <td>0.054830</td>\n",
       "    </tr>\n",
       "    <tr>\n",
       "      <th>8</th>\n",
       "      <td>4295887</td>\n",
       "      <td>21.0</td>\n",
       "      <td>0</td>\n",
       "      <td>383005</td>\n",
       "      <td>0.000000</td>\n",
       "      <td>0.000000</td>\n",
       "    </tr>\n",
       "    <tr>\n",
       "      <th>9</th>\n",
       "      <td>4295887</td>\n",
       "      <td>21.0</td>\n",
       "      <td>39512</td>\n",
       "      <td>383005</td>\n",
       "      <td>0.096174</td>\n",
       "      <td>0.103163</td>\n",
       "    </tr>\n",
       "  </tbody>\n",
       "</table>\n",
       "</div>"
      ],
      "text/plain": [
       "   block_id  price_gwei  gasUsed_t  gasUsed_b  gweiShare  gasShare\n",
       "0   4295887        21.0      21000     383005   0.051115  0.054830\n",
       "1   4295887        21.0       9416     383005   0.022919  0.024585\n",
       "2   4295887        21.0      21000     383005   0.051115  0.054830\n",
       "3   4295887        21.0      21000     383005   0.051115  0.054830\n",
       "4   4295887        21.0      21000     383005   0.051115  0.054830\n",
       "5   4295887        21.0      39512     383005   0.096174  0.103163\n",
       "6   4295887        21.0      30981     383005   0.075409  0.080889\n",
       "7   4295887        21.0      21000     383005   0.051115  0.054830\n",
       "8   4295887        21.0          0     383005   0.000000  0.000000\n",
       "9   4295887        21.0      39512     383005   0.096174  0.103163"
      ]
     },
     "execution_count": 283,
     "metadata": {},
     "output_type": "execute_result"
    }
   ],
   "source": [
    "merged2[['block_id','price_gwei','gasUsed_t', 'gasUsed_b', 'gweiShare', 'gasShare']].head(10)"
   ]
  },
  {
   "cell_type": "code",
   "execution_count": 284,
   "metadata": {
    "collapsed": true
   },
   "outputs": [],
   "source": [
    "merged2['mu'] = merged2.gweiShare / merged2.gasShare"
   ]
  },
  {
   "cell_type": "code",
   "execution_count": 285,
   "metadata": {
    "collapsed": false
   },
   "outputs": [],
   "source": [
    "merged2['mu'].fillna(value=0, inplace=True)"
   ]
  },
  {
   "cell_type": "code",
   "execution_count": 286,
   "metadata": {
    "collapsed": false
   },
   "outputs": [
    {
     "data": {
      "text/plain": [
       "0"
      ]
     },
     "execution_count": 286,
     "metadata": {},
     "output_type": "execute_result"
    }
   ],
   "source": [
    "merged2['mu'].isnull().sum()"
   ]
  },
  {
   "cell_type": "code",
   "execution_count": 287,
   "metadata": {
    "collapsed": false
   },
   "outputs": [
    {
     "data": {
      "text/plain": [
       "count    1.494277e+06\n",
       "mean     1.533342e+00\n",
       "std      4.397501e+00\n",
       "min      0.000000e+00\n",
       "25%      6.311163e-01\n",
       "50%      1.114737e+00\n",
       "75%      1.842494e+00\n",
       "max      4.233297e+03\n",
       "Name: mu, dtype: float64"
      ]
     },
     "execution_count": 287,
     "metadata": {},
     "output_type": "execute_result"
    }
   ],
   "source": [
    "merged2['mu'].describe()"
   ]
  },
  {
   "cell_type": "code",
   "execution_count": 288,
   "metadata": {
    "collapsed": false
   },
   "outputs": [
    {
     "data": {
      "text/plain": [
       "block_id\n",
       "4286251    262\n",
       "4286252    247\n",
       "4286253    209\n",
       "4286254    111\n",
       "4286255    200\n",
       "Name: mu, dtype: int64"
      ]
     },
     "execution_count": 288,
     "metadata": {},
     "output_type": "execute_result"
    }
   ],
   "source": [
    "merged2.groupby('block_id')['mu'].count().head()"
   ]
  },
  {
   "cell_type": "code",
   "execution_count": 289,
   "metadata": {
    "collapsed": false
   },
   "outputs": [
    {
     "data": {
      "text/plain": [
       "102.47407762995473"
      ]
     },
     "execution_count": 289,
     "metadata": {},
     "output_type": "execute_result"
    }
   ],
   "source": [
    "merged2.groupby('block_id')['mu'].count().mean()"
   ]
  },
  {
   "cell_type": "markdown",
   "metadata": {},
   "source": [
    "There are only on average 102 samples in each block"
   ]
  },
  {
   "cell_type": "code",
   "execution_count": 290,
   "metadata": {
    "collapsed": false
   },
   "outputs": [
    {
     "data": {
      "text/plain": [
       "558"
      ]
     },
     "execution_count": 290,
     "metadata": {},
     "output_type": "execute_result"
    }
   ],
   "source": [
    "merged2.groupby('block_id')['mu'].count().max()"
   ]
  },
  {
   "cell_type": "code",
   "execution_count": 291,
   "metadata": {
    "collapsed": true
   },
   "outputs": [],
   "source": [
    "cnt = list(merged2.groupby('block_id')['mu'].count())"
   ]
  },
  {
   "cell_type": "code",
   "execution_count": 292,
   "metadata": {
    "collapsed": false
   },
   "outputs": [],
   "source": [
    "blk = merged2.groupby('block_id')['block_id'].mean()"
   ]
  },
  {
   "cell_type": "code",
   "execution_count": 293,
   "metadata": {
    "collapsed": true
   },
   "outputs": [],
   "source": [
    "cntdf = pd.DataFrame({'block': blk, 'count': cnt})"
   ]
  },
  {
   "cell_type": "code",
   "execution_count": 294,
   "metadata": {
    "collapsed": false
   },
   "outputs": [
    {
     "data": {
      "text/html": [
       "<div>\n",
       "<style>\n",
       "    .dataframe thead tr:only-child th {\n",
       "        text-align: right;\n",
       "    }\n",
       "\n",
       "    .dataframe thead th {\n",
       "        text-align: left;\n",
       "    }\n",
       "\n",
       "    .dataframe tbody tr th {\n",
       "        vertical-align: top;\n",
       "    }\n",
       "</style>\n",
       "<table border=\"1\" class=\"dataframe\">\n",
       "  <thead>\n",
       "    <tr style=\"text-align: right;\">\n",
       "      <th></th>\n",
       "      <th>block</th>\n",
       "      <th>count</th>\n",
       "    </tr>\n",
       "    <tr>\n",
       "      <th>block_id</th>\n",
       "      <th></th>\n",
       "      <th></th>\n",
       "    </tr>\n",
       "  </thead>\n",
       "  <tbody>\n",
       "    <tr>\n",
       "      <th>4293346</th>\n",
       "      <td>4293346</td>\n",
       "      <td>558</td>\n",
       "    </tr>\n",
       "  </tbody>\n",
       "</table>\n",
       "</div>"
      ],
      "text/plain": [
       "            block  count\n",
       "block_id                \n",
       "4293346   4293346    558"
      ]
     },
     "execution_count": 294,
     "metadata": {},
     "output_type": "execute_result"
    }
   ],
   "source": [
    "cntdf[cntdf['count'] == 558]"
   ]
  },
  {
   "cell_type": "markdown",
   "metadata": {},
   "source": [
    "### Fit statistical model for one case"
   ]
  },
  {
   "cell_type": "code",
   "execution_count": 295,
   "metadata": {
    "collapsed": false
   },
   "outputs": [
    {
     "data": {
      "text/plain": [
       "count    558.000000\n",
       "mean       0.835670\n",
       "std        0.326579\n",
       "min        0.000000\n",
       "25%        0.946618\n",
       "50%        0.946618\n",
       "75%        0.946618\n",
       "max        1.856114\n",
       "Name: mu, dtype: float64"
      ]
     },
     "execution_count": 295,
     "metadata": {},
     "output_type": "execute_result"
    }
   ],
   "source": [
    "merged2[merged2['block_id'] == 4293346]['mu'].describe()"
   ]
  },
  {
   "cell_type": "code",
   "execution_count": 296,
   "metadata": {
    "collapsed": false
   },
   "outputs": [
    {
     "data": {
      "text/plain": [
       "<matplotlib.axes._subplots.AxesSubplot at 0x10b107950>"
      ]
     },
     "execution_count": 296,
     "metadata": {},
     "output_type": "execute_result"
    },
    {
     "data": {
      "image/png": "[encoded data removed]",
      "text/plain": [
       "<matplotlib.figure.Figure at 0x18a571050>"
      ]
     },
     "metadata": {},
     "output_type": "display_data"
    }
   ],
   "source": [
    "merged2[merged2['block_id'] == 4293346]['mu'].hist()"
   ]
  },
  {
   "cell_type": "code",
   "execution_count": 297,
   "metadata": {
    "collapsed": true
   },
   "outputs": [],
   "source": [
    "samples = merged2[merged2['block_id'] == 4293346]['mu']"
   ]
  },
  {
   "cell_type": "code",
   "execution_count": 298,
   "metadata": {
    "collapsed": false
   },
   "outputs": [
    {
     "name": "stdout",
     "output_type": "stream",
     "text": [
      "Sample Mean: 0.836\n",
      "Sample Variance: 0.106\n",
      "Sample Standard Dev: 0.326\n"
     ]
    }
   ],
   "source": [
    "# compute mean, variance, standard deviation\n",
    "mu_hat = np.mean(samples)\n",
    "sigma_sq_hat = np.var(samples)\n",
    "sigma_hat = np.std(samples)\n",
    "print(\"Sample Mean: {0:1.3f}\".format(mu_hat))\n",
    "print(\"Sample Variance: {0:1.3f}\".format(sigma_sq_hat))\n",
    "print(\"Sample Standard Dev: {0:1.3f}\".format(sigma_hat))"
   ]
  },
  {
   "cell_type": "code",
   "execution_count": 299,
   "metadata": {
    "collapsed": false
   },
   "outputs": [
    {
     "data": {
      "text/plain": [
       "(0, 2)"
      ]
     },
     "execution_count": 299,
     "metadata": {},
     "output_type": "execute_result"
    },
    {
     "data": {
      "image/png": "[encoded data removed]",
      "text/plain": [
       "<matplotlib.figure.Figure at 0x10abd0f50>"
      ]
     },
     "metadata": {},
     "output_type": "display_data"
    }
   ],
   "source": [
    "x = np.linspace(-3, 3, num=250)\n",
    "fig, ax = plt.subplots(1, 1, figsize=(14, 4))\n",
    "\n",
    "ax.hist(samples, bins=25, normed=True, histtype='stepfilled')\n",
    "ax.plot(x, norm.pdf(x, mu_hat,sigma_hat), 'r-', lw=3, label='Normal MOM')\n",
    "ax.set_xlim(0,2)"
   ]
  },
  {
   "cell_type": "code",
   "execution_count": 300,
   "metadata": {
    "collapsed": false
   },
   "outputs": [
    {
     "data": {
      "text/plain": [
       "1.1925699753656414e-103"
      ]
     },
     "execution_count": 300,
     "metadata": {},
     "output_type": "execute_result"
    }
   ],
   "source": [
    "# compute 25th percentile\n",
    "np.percentile(sp.norm.pdf(x, mu_hat, sigma_sq_hat), 25.0)"
   ]
  },
  {
   "cell_type": "markdown",
   "metadata": {},
   "source": [
    "### Use bootstrap sampling to increase number of samples"
   ]
  },
  {
   "cell_type": "code",
   "execution_count": 301,
   "metadata": {
    "collapsed": true
   },
   "outputs": [],
   "source": [
    "# take bootstrap samples with replacement\n",
    "def bootstraper(a, num):\n",
    "    \n",
    "    arr_flat = a.flatten()\n",
    "    boot_a = np.random.choice(arr_flat, num, replace=True)\n",
    "\n",
    "    return boot_a"
   ]
  },
  {
   "cell_type": "code",
   "execution_count": 302,
   "metadata": {
    "collapsed": false
   },
   "outputs": [],
   "source": [
    "boot_samples = bootstraper(samples.values, 100000)"
   ]
  },
  {
   "cell_type": "code",
   "execution_count": 303,
   "metadata": {
    "collapsed": false
   },
   "outputs": [
    {
     "name": "stdout",
     "output_type": "stream",
     "text": [
      "Bootstrapped Sample Mean: 0.834\n",
      "Bootstrapped Sample Variance: 0.107\n",
      "Bootstrapped Sample Standard Dev: 0.327\n"
     ]
    }
   ],
   "source": [
    "# compute mean, variance, standard deviation\n",
    "mu_hat_b = np.mean(boot_samples)\n",
    "sigma_sq_hat_b = np.var(boot_samples)\n",
    "sigma_hat_b = np.std(boot_samples)\n",
    "print(\"Bootstrapped Sample Mean: {0:1.3f}\".format(mu_hat_b))\n",
    "print(\"Bootstrapped Sample Variance: {0:1.3f}\".format(sigma_sq_hat_b))\n",
    "print(\"Bootstrapped Sample Standard Dev: {0:1.3f}\".format(sigma_hat_b))"
   ]
  },
  {
   "cell_type": "code",
   "execution_count": 304,
   "metadata": {
    "collapsed": false
   },
   "outputs": [
    {
     "data": {
      "text/plain": [
       "(100000,)"
      ]
     },
     "execution_count": 304,
     "metadata": {},
     "output_type": "execute_result"
    }
   ],
   "source": [
    "boot_samples.shape"
   ]
  },
  {
   "cell_type": "code",
   "execution_count": 305,
   "metadata": {
    "collapsed": false
   },
   "outputs": [
    {
     "data": {
      "text/plain": [
       "(0, 2)"
      ]
     },
     "execution_count": 305,
     "metadata": {},
     "output_type": "execute_result"
    },
    {
     "data": {
      "image/png": "[encoded data removed]",
      "text/plain": [
       "<matplotlib.figure.Figure at 0x10abdadd0>"
      ]
     },
     "metadata": {},
     "output_type": "display_data"
    }
   ],
   "source": [
    "x = np.linspace(-3, 3, num=250)\n",
    "fig, ax = plt.subplots(1, 1, figsize=(14, 4))\n",
    "\n",
    "ax.hist(boot_samples, bins=25, normed=True, histtype='stepfilled')\n",
    "ax.plot(x, norm.pdf(x, mu_hat_b,sigma_hat_b), 'r-', lw=3, label='Normal MOM')\n",
    "ax.set_xlim(0,2)"
   ]
  },
  {
   "cell_type": "code",
   "execution_count": 306,
   "metadata": {
    "collapsed": false
   },
   "outputs": [
    {
     "data": {
      "text/plain": [
       "3.8547157235204009e-102"
      ]
     },
     "execution_count": 306,
     "metadata": {},
     "output_type": "execute_result"
    }
   ],
   "source": [
    "# compute 25th percentile\n",
    "np.percentile(sp.norm.pdf(x, mu_hat_b, sigma_sq_hat_b), 25.0)"
   ]
  },
  {
   "cell_type": "markdown",
   "metadata": {},
   "source": [
    "The value for mu is very small"
   ]
  },
  {
   "cell_type": "code",
   "execution_count": null,
   "metadata": {
    "collapsed": true
   },
   "outputs": [],
   "source": []
  }
 ],
 "metadata": {
  "kernelspec": {
   "display_name": "Python 2",
   "language": "python",
   "name": "python2"
  },
  "language_info": {
   "codemirror_mode": {
    "name": "ipython",
    "version": 2
   },
   "file_extension": ".py",
   "mimetype": "text/x-python",
   "name": "python",
   "nbconvert_exporter": "python",
   "pygments_lexer": "ipython2",
   "version": "2.7.13"
  }
 },
 "nbformat": 4,
 "nbformat_minor": 0
}
