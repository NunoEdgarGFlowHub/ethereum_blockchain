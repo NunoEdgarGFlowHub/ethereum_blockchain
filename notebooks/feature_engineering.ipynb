{
 "cells": [
  {
   "cell_type": "code",
   "execution_count": 224,
   "metadata": {
    "collapsed": false
   },
   "outputs": [],
   "source": [
    "from __future__ import print_function\n",
    "import pandas as pd\n",
    "import numpy as np\n",
    "import matplotlib.pyplot as plt\n",
    "import seaborn as sns\n",
    "import scipy.stats as sp\n",
    "from scipy.stats import norm\n",
    "from scipy.stats import gamma\n",
    "%matplotlib inline"
   ]
  },
  {
   "cell_type": "code",
   "execution_count": 225,
   "metadata": {
    "collapsed": true
   },
   "outputs": [],
   "source": [
    "df = pd.read_csv('./../data/clean_data.csv')"
   ]
  },
  {
   "cell_type": "code",
   "execution_count": 226,
   "metadata": {
    "collapsed": true
   },
   "outputs": [],
   "source": [
    "df.drop('Unnamed: 0', axis=1, inplace=True)"
   ]
  },
  {
   "cell_type": "code",
   "execution_count": 227,
   "metadata": {
    "collapsed": false
   },
   "outputs": [
    {
     "data": {
      "text/plain": [
       "tx         973640\n",
       "call       492595\n",
       "create      27726\n",
       "suicide       318\n",
       "Name: type, dtype: int64"
      ]
     },
     "execution_count": 227,
     "metadata": {},
     "output_type": "execute_result"
    }
   ],
   "source": [
    "df['type'].value_counts()"
   ]
  },
  {
   "cell_type": "code",
   "execution_count": 228,
   "metadata": {
    "collapsed": false
   },
   "outputs": [
    {
     "data": {
      "text/plain": [
       "0    1489351\n",
       "1       4928\n",
       "Name: newContract, dtype: int64"
      ]
     },
     "execution_count": 228,
     "metadata": {},
     "output_type": "execute_result"
    }
   ],
   "source": [
    "df['newContract'].value_counts()"
   ]
  },
  {
   "cell_type": "code",
   "execution_count": 229,
   "metadata": {
    "collapsed": false
   },
   "outputs": [
    {
     "name": "stdout",
     "output_type": "stream",
     "text": [
      "_id_t 0\n",
      "accountNonce 0\n",
      "amount 0\n",
      "blockHash 0\n",
      "block_id 0\n",
      "gasLimit_t 0\n",
      "gasUsed_t 0\n",
      "hash_t 0\n",
      "newContract 0\n",
      "parentHash_t 0\n",
      "price 0\n",
      "recipient 0\n",
      "sender 0\n",
      "time_t 0\n",
      "type 0\n",
      "_id_b 0\n",
      "blockTime 0\n",
      "coinbase 0\n",
      "difficulty 0\n",
      "extra 0\n",
      "gasLimit_b 0\n",
      "gasUsed_b 0\n",
      "hash_b 0\n",
      "mixDigest 1494279\n",
      "nonce 0\n",
      "number 0\n",
      "parentHash_b 0\n",
      "reward 0\n",
      "root 0\n",
      "size 0\n",
      "time_b 0\n",
      "totalFee 0\n",
      "txHash 0\n",
      "tx_count 0\n",
      "uncleHash 0\n",
      "uncle_count 0\n",
      "price_gwei 0\n",
      "amount_gwei 0\n",
      "gasShare 0\n",
      "gweiPaid 0\n",
      "gweiPaid_b 0\n",
      "gweiShare 2\n",
      "free_t 0\n",
      "day 0\n",
      "hour 0\n",
      "dayofweek 0\n"
     ]
    }
   ],
   "source": [
    "for col in df.columns:\n",
    "    print(col, df[col].isnull().sum())"
   ]
  },
  {
   "cell_type": "code",
   "execution_count": 230,
   "metadata": {
    "collapsed": true
   },
   "outputs": [],
   "source": [
    "df.drop('mixDigest', axis=1, inplace=True)"
   ]
  },
  {
   "cell_type": "code",
   "execution_count": 231,
   "metadata": {
    "collapsed": false
   },
   "outputs": [],
   "source": [
    "df.dropna(inplace=True)"
   ]
  },
  {
   "cell_type": "code",
   "execution_count": 232,
   "metadata": {
    "collapsed": false
   },
   "outputs": [
    {
     "data": {
      "text/plain": [
       "(1494277, 45)"
      ]
     },
     "execution_count": 232,
     "metadata": {},
     "output_type": "execute_result"
    }
   ],
   "source": [
    "df.shape"
   ]
  },
  {
   "cell_type": "code",
   "execution_count": 233,
   "metadata": {
    "collapsed": false
   },
   "outputs": [
    {
     "name": "stdout",
     "output_type": "stream",
     "text": [
      "exclude 89799 rows with zero gas used\n"
     ]
    }
   ],
   "source": [
    "# drop cases where gasUsed_t is zero since no gas was used\n",
    "print('exclude {} rows with zero gas used'.format(df[df['gasUsed_t'] == 0].values.shape[0]))"
   ]
  },
  {
   "cell_type": "code",
   "execution_count": 234,
   "metadata": {
    "collapsed": false
   },
   "outputs": [],
   "source": [
    "df = df[df['gasUsed_t'] != 0]"
   ]
  },
  {
   "cell_type": "markdown",
   "metadata": {},
   "source": [
    "## Generate new columns with average block info\n",
    "### Take average values over two time horizons\n",
    "- 6 blocks (~1 min) -> represents the current state (short frequency view)\n",
    "- 60 blocks (~10 min) -> represents the long term view"
   ]
  },
  {
   "cell_type": "code",
   "execution_count": 235,
   "metadata": {
    "collapsed": true
   },
   "outputs": [],
   "source": [
    "df['txcnt_second'] = df['tx_count'].values / df['blockTime'].values\n",
    "df['avg_gasUsed_t_perblock'] = df.groupby('block_id')['gasUsed_t'].transform('mean')\n",
    "df['avg_price_perblock'] = df.groupby('block_id')['price_gwei'].transform('mean')"
   ]
  },
  {
   "cell_type": "code",
   "execution_count": 236,
   "metadata": {
    "collapsed": true
   },
   "outputs": [],
   "source": [
    "def rolling_avg(window_size):\n",
    "    \n",
    "    price = df[['block_id', 'avg_price_perblock']].drop_duplicates().sort_values(\n",
    "                        'block_id', ascending=True)\n",
    "    \n",
    "    gasUsed_t = df[['block_id', 'avg_gasUsed_t_perblock']].drop_duplicates().sort_values(\n",
    "                            'block_id', ascending=True)\n",
    "    \n",
    "    txcnt_second = df[['block_id', 'txcnt_second']].drop_duplicates().sort_values(\n",
    "                                'block_id', ascending=True)\n",
    "    \n",
    "    tx_count = df[['block_id', 'tx_count']].drop_duplicates().sort_values(\n",
    "                            'block_id', ascending=True)\n",
    "    \n",
    "    gasUsed_b = df[['block_id', 'gasUsed_b']].drop_duplicates().sort_values(\n",
    "                            'block_id', ascending=True)\n",
    "    \n",
    "    uncle_count = df[['block_id', 'uncle_count']].drop_duplicates().sort_values(\n",
    "                                'block_id', ascending=True)\n",
    "    \n",
    "    difficulty = df[['block_id', 'difficulty']].drop_duplicates().sort_values(\n",
    "                                'block_id', ascending=True)\n",
    "    \n",
    "    blocktime = df[['block_id', 'blockTime']].drop_duplicates().sort_values(\n",
    "                             'block_id', ascending=True)\n",
    "    \n",
    "    # create new pandas dataframe with average values\n",
    "    rolling_avg = pd.DataFrame()\n",
    "    \n",
    "    # calculate rolling averages \n",
    "    rolling_avg['avg_blocktime'] = blocktime['blockTime'].rolling(window=window_size).mean()\n",
    "    rolling_avg['avg_gasUsed_b'] = gasUsed_b['gasUsed_b'].rolling(window=window_size).mean()\n",
    "    rolling_avg['avg_tx_count'] = tx_count['tx_count'].rolling(window=window_size).mean()\n",
    "    rolling_avg['avg_uncle_count'] = uncle_count['uncle_count'].rolling(window=window_size).mean()\n",
    "    rolling_avg['avg_difficulty'] = difficulty['difficulty'].rolling(window=window_size).mean()\n",
    "    rolling_avg['avg_txcnt_second'] = txcnt_second['txcnt_second'].rolling(window=window_size).mean()\n",
    "    rolling_avg['avg_gasUsed_t'] = gasUsed_t['avg_gasUsed_t_perblock'].rolling(window=window_size).mean()\n",
    "    rolling_avg['avg_price'] = price['avg_price_perblock'].rolling(window=window_size).mean()\n",
    "    \n",
    "    # insert blockids to merge on\n",
    "    rolling_avg['blockids'] = df['block_id'].drop_duplicates().sort_values(ascending=True)\n",
    "    \n",
    "    return rolling_avg"
   ]
  },
  {
   "cell_type": "code",
   "execution_count": 237,
   "metadata": {
    "collapsed": false
   },
   "outputs": [],
   "source": [
    "num_blocks = [6, 60]\n",
    "for num in num_blocks:\n",
    "    df_rolling_avg = rolling_avg(num)\n",
    "    df_rolling_avg.to_csv('./../data/block_avg_{}.csv'.format(num))"
   ]
  },
  {
   "cell_type": "code",
   "execution_count": 238,
   "metadata": {
    "collapsed": false
   },
   "outputs": [],
   "source": [
    "df_rolling_avg_6 = rolling_avg(6)"
   ]
  },
  {
   "cell_type": "code",
   "execution_count": 239,
   "metadata": {
    "collapsed": true
   },
   "outputs": [],
   "source": [
    "df_rolling_avg_60 = rolling_avg(60)"
   ]
  },
  {
   "cell_type": "markdown",
   "metadata": {},
   "source": [
    "## Merge data with new columns"
   ]
  },
  {
   "cell_type": "code",
   "execution_count": 240,
   "metadata": {
    "collapsed": true
   },
   "outputs": [],
   "source": [
    "merged1 = pd.merge(df, df_rolling_avg_6, left_on='block_id', right_on='blockids')"
   ]
  },
  {
   "cell_type": "code",
   "execution_count": 241,
   "metadata": {
    "collapsed": true
   },
   "outputs": [],
   "source": [
    "merged2 = pd.merge(merged1, df_rolling_avg_60, left_on='block_id', right_on='blockids', suffixes=('_6', '_60'))"
   ]
  },
  {
   "cell_type": "code",
   "execution_count": 242,
   "metadata": {
    "collapsed": false
   },
   "outputs": [
    {
     "data": {
      "text/plain": [
       "Index([u'_id_t', u'accountNonce', u'amount', u'blockHash', u'block_id',\n",
       "       u'gasLimit_t', u'gasUsed_t', u'hash_t', u'newContract', u'parentHash_t',\n",
       "       u'price', u'recipient', u'sender', u'time_t', u'type', u'_id_b',\n",
       "       u'blockTime', u'coinbase', u'difficulty', u'extra', u'gasLimit_b',\n",
       "       u'gasUsed_b', u'hash_b', u'nonce', u'number', u'parentHash_b',\n",
       "       u'reward', u'root', u'size', u'time_b', u'totalFee', u'txHash',\n",
       "       u'tx_count', u'uncleHash', u'uncle_count', u'price_gwei',\n",
       "       u'amount_gwei', u'gasShare', u'gweiPaid', u'gweiPaid_b', u'gweiShare',\n",
       "       u'free_t', u'day', u'hour', u'dayofweek', u'txcnt_second',\n",
       "       u'avg_gasUsed_t_perblock', u'avg_price_perblock', u'avg_blocktime_6',\n",
       "       u'avg_gasUsed_b_6', u'avg_tx_count_6', u'avg_uncle_count_6',\n",
       "       u'avg_difficulty_6', u'avg_txcnt_second_6', u'avg_gasUsed_t_6',\n",
       "       u'avg_price_6', u'blockids_6', u'avg_blocktime_60', u'avg_gasUsed_b_60',\n",
       "       u'avg_tx_count_60', u'avg_uncle_count_60', u'avg_difficulty_60',\n",
       "       u'avg_txcnt_second_60', u'avg_gasUsed_t_60', u'avg_price_60',\n",
       "       u'blockids_60'],\n",
       "      dtype='object')"
      ]
     },
     "execution_count": 242,
     "metadata": {},
     "output_type": "execute_result"
    }
   ],
   "source": [
    "merged2.columns"
   ]
  },
  {
   "cell_type": "code",
   "execution_count": null,
   "metadata": {
    "collapsed": true
   },
   "outputs": [],
   "source": [
    "## L"
   ]
  },
  {
   "cell_type": "markdown",
   "metadata": {},
   "source": [
    "# Create a label\n",
    "- What are we predicting? \n",
    "- A hindsight estimate of what the price should be, given knowledge about previous blocks\n",
    "- Develop a summary statistic about the distribution of prices over previous blocks\n",
    "- Our target: the 25th percentile of the distribution (gweiShare / gasShare)\n",
    "\n",
    "## Definitions\n",
    "- gasUsed_t -> the amount of gas consumed on a transation\n",
    "- gasUsed_b -> the amount of gas consumed in an entire block\n",
    "- gweiPaid -> the total amount paid (Gwei) for a transaction (= gasUsed_t x price_gwei)\n",
    "- gweiPaid_b -> the total amount paid in a block \n",
    "- gweiShare -> the fraction of gwei paid w.r.t. the entire block\n",
    "- gasShare -> the fraction of gas consumed w.r.t. the entire block\n",
    "\n",
    "## Define \"miner value\" – mv\n",
    "- the fraction of prices per block and gas per block\n",
    "- mv = gweiShare / gasShare \n",
    "- local parameter (per transaction)\n",
    "\n",
    "## Define mu\n",
    "- mu is a summary statistic of mv (global parameter)\n",
    "- a measure of how likely a transaction is to be \"picked up\" by a miner for completion (risk factor)\n",
    "- our target/goal is for mu to be the 25th percentile of mv (gweiShare / gasShare)\n",
    "- mu = percentile(mv, 25) over the entire distribution of mv values\n",
    "- we can tune this parameter to increase or decrease the desired percentile \n",
    "- it is a pre-emptive statistical calculation based on our hindsight knowledge\n",
    "\n",
    "## The \"price\" predicted with hindsight \n",
    "- knowing mu, how do we obtain our hindsight recommendation?\n",
    "- using our definition of mu, we solve an equation to obtain p (price)\n",
    "- p = (mu x gweiPaid_b) / gasUsed_b\n",
    "- this will serve as our label and thus recommendation for how much to pay per unit gas for a transation to successfully commence \n",
    "- it tells us what price we need to set in order to force mv for that bid to be mu"
   ]
  },
  {
   "cell_type": "markdown",
   "metadata": {},
   "source": [
    "## Calculate miner value (mv) for every datapoint in our dataset\n",
    "- price / gas or gweiShare / gasShare"
   ]
  },
  {
   "cell_type": "code",
   "execution_count": 243,
   "metadata": {
    "collapsed": true
   },
   "outputs": [],
   "source": [
    "merged2['mv'] = merged2.gweiShare / merged2.gasShare"
   ]
  },
  {
   "cell_type": "code",
   "execution_count": 244,
   "metadata": {
    "collapsed": false
   },
   "outputs": [
    {
     "data": {
      "text/plain": [
       "0"
      ]
     },
     "execution_count": 244,
     "metadata": {},
     "output_type": "execute_result"
    }
   ],
   "source": [
    "merged2['mv'].isnull().sum()"
   ]
  },
  {
   "cell_type": "code",
   "execution_count": 245,
   "metadata": {
    "collapsed": false
   },
   "outputs": [
    {
     "data": {
      "text/plain": [
       "count    1.404478e+06\n",
       "mean     1.631380e+00\n",
       "std      4.518241e+00\n",
       "min      5.990722e-11\n",
       "25%      7.329693e-01\n",
       "50%      1.181439e+00\n",
       "75%      1.911525e+00\n",
       "max      4.233297e+03\n",
       "Name: mv, dtype: float64"
      ]
     },
     "execution_count": 245,
     "metadata": {},
     "output_type": "execute_result"
    }
   ],
   "source": [
    "merged2['mv'].describe()"
   ]
  },
  {
   "cell_type": "markdown",
   "metadata": {},
   "source": [
    "There are no zero values, but many values close to zero"
   ]
  },
  {
   "cell_type": "code",
   "execution_count": 246,
   "metadata": {
    "collapsed": false
   },
   "outputs": [
    {
     "data": {
      "text/plain": [
       "block_id\n",
       "4286251    258\n",
       "4286252    241\n",
       "4286253    208\n",
       "4286254    107\n",
       "4286255    189\n",
       "4286256    192\n",
       "Name: mv, dtype: int64"
      ]
     },
     "execution_count": 246,
     "metadata": {},
     "output_type": "execute_result"
    }
   ],
   "source": [
    "merged2.groupby('block_id')['mv'].count().head(6)"
   ]
  },
  {
   "cell_type": "code",
   "execution_count": 247,
   "metadata": {
    "collapsed": false
   },
   "outputs": [
    {
     "data": {
      "text/plain": [
       "96.3158688794404"
      ]
     },
     "execution_count": 247,
     "metadata": {},
     "output_type": "execute_result"
    }
   ],
   "source": [
    "merged2.groupby('block_id')['mv'].count().mean()"
   ]
  },
  {
   "cell_type": "markdown",
   "metadata": {},
   "source": [
    "There are only on average 96 samples in each block"
   ]
  },
  {
   "cell_type": "code",
   "execution_count": 248,
   "metadata": {
    "collapsed": false
   },
   "outputs": [
    {
     "name": "stdout",
     "output_type": "stream",
     "text": [
      "max tx in block: 504, min tx in block: 1\n"
     ]
    }
   ],
   "source": [
    "print('max tx in block: {}, min tx in block: {}'.format(\n",
    "       merged2.groupby('block_id')['mv'].count().max(),\n",
    "       merged2.groupby('block_id')['mv'].count().min()))"
   ]
  },
  {
   "cell_type": "markdown",
   "metadata": {},
   "source": [
    "So we create groupings of 6 blocks to increase sample size"
   ]
  },
  {
   "cell_type": "markdown",
   "metadata": {},
   "source": [
    "## Compute the summary statistic mu\n",
    "- given the distribution of mv values, fit a statistical model to the data\n",
    "- use this fit model to compute the 25th percentile of the distribution"
   ]
  },
  {
   "cell_type": "code",
   "execution_count": 249,
   "metadata": {
    "collapsed": false
   },
   "outputs": [
    {
     "data": {
      "text/plain": [
       "<matplotlib.legend.Legend at 0x1321bcad0>"
      ]
     },
     "execution_count": 249,
     "metadata": {},
     "output_type": "execute_result"
    },
    {
     "data": {
      "image/png": "[encoded data removed]",
      "text/plain": [
       "<matplotlib.figure.Figure at 0x138e082d0>"
      ]
     },
     "metadata": {},
     "output_type": "display_data"
    }
   ],
   "source": [
    "merged2['mv'].hist(bins=10000, label='Miner Values', histtype='stepfilled')\n",
    "plt.xlim(-2, 10)\n",
    "plt.xlabel('Miner Value')\n",
    "plt.legend()"
   ]
  },
  {
   "cell_type": "code",
   "execution_count": 250,
   "metadata": {
    "collapsed": false
   },
   "outputs": [
    {
     "name": "stdout",
     "output_type": "stream",
     "text": [
      "Sample Mean: 1.631\n",
      "Sample Variance: 20.414\n",
      "Sample Standard Dev: 4.518\n"
     ]
    }
   ],
   "source": [
    "# compute mean, variance, standard deviation\n",
    "mu_hat = np.mean(merged2['mv'])\n",
    "sigma_sq_hat = np.var(merged2['mv'])\n",
    "sigma_hat = np.std(merged2['mv'])\n",
    "print(\"Sample Mean: {0:1.3f}\".format(mu_hat))\n",
    "print(\"Sample Variance: {0:1.3f}\".format(sigma_sq_hat))\n",
    "print(\"Sample Standard Dev: {0:1.3f}\".format(sigma_hat))"
   ]
  },
  {
   "cell_type": "markdown",
   "metadata": {},
   "source": [
    "### Trying a Gaussian distribution"
   ]
  },
  {
   "cell_type": "code",
   "execution_count": 321,
   "metadata": {
    "collapsed": false
   },
   "outputs": [
    {
     "data": {
      "text/plain": [
       "<matplotlib.legend.Legend at 0x15b792d50>"
      ]
     },
     "execution_count": 321,
     "metadata": {},
     "output_type": "execute_result"
    },
    {
     "data": {
      "image/png": "[encoded data removed]",
      "text/plain": [
       "<matplotlib.figure.Figure at 0x1414bb7d0>"
      ]
     },
     "metadata": {},
     "output_type": "display_data"
    }
   ],
   "source": [
    "x = np.linspace(-10, 15, num=1000)\n",
    "fig, ax = plt.subplots(1, 1, figsize=(8, 5))\n",
    "\n",
    "ax.hist(merged2['mv'], normed=True, bins=10000, histtype='stepfilled', label='Samples')\n",
    "ax.plot(x, norm.pdf(x, mu_hat,sigma_hat), 'r-', lw=3, label='PDF')\n",
    "ax.axvline(x=np.percentile(norm.pdf(x, mu_hat,sigma_hat), 25), linestyle='--', label='25th percentile')\n",
    "ax.set_xlim(-5,10)\n",
    "ax.set_xlabel('Miner Values')\n",
    "ax.legend()"
   ]
  },
  {
   "cell_type": "code",
   "execution_count": 322,
   "metadata": {
    "collapsed": false
   },
   "outputs": [
    {
     "data": {
      "text/plain": [
       "5.0170797135435324e-17"
      ]
     },
     "execution_count": 322,
     "metadata": {},
     "output_type": "execute_result"
    }
   ],
   "source": [
    "# compute 25th percentile\n",
    "np.percentile(norm.pdf(x, mu_hat,sigma_hat), 25)"
   ]
  },
  {
   "cell_type": "markdown",
   "metadata": {},
   "source": [
    "Set this value to mu"
   ]
  },
  {
   "cell_type": "code",
   "execution_count": 323,
   "metadata": {
    "collapsed": true
   },
   "outputs": [],
   "source": [
    "mu_normal = np.percentile(norm.pdf(x, mu_hat,sigma_hat), 25)"
   ]
  },
  {
   "cell_type": "markdown",
   "metadata": {},
   "source": [
    "### Trying a Gamma distribution"
   ]
  },
  {
   "cell_type": "code",
   "execution_count": 324,
   "metadata": {
    "collapsed": false
   },
   "outputs": [
    {
     "data": {
      "text/plain": [
       "<matplotlib.legend.Legend at 0x13aea1110>"
      ]
     },
     "execution_count": 324,
     "metadata": {},
     "output_type": "execute_result"
    },
    {
     "data": {
      "image/png": "[encoded data removed]",
      "text/plain": [
       "<matplotlib.figure.Figure at 0x15c7f9190>"
      ]
     },
     "metadata": {},
     "output_type": "display_data"
    }
   ],
   "source": [
    "alpha = float(mu_hat ** 2) / sigma_sq_hat\n",
    "beta = float(mu_hat) / sigma_sq_hat\n",
    "\n",
    "x = np.linspace(-5, 10, num=1000)\n",
    "fig, ax = plt.subplots(1, 1, figsize=(8, 5))\n",
    "\n",
    "ax.hist(merged2['mv'], normed=True, bins=10000, histtype='stepfilled', label='Samples')\n",
    "ax.plot(x, gamma.pdf(x, alpha), 'g-', lw=3, label='Gamma PDF')\n",
    "ax.axvline(x=np.percentile(gamma.pdf(x, alpha), 25), linestyle='--', label='25th percentile')\n",
    "ax.set_xlim(-5,10)\n",
    "ax.set_xlabel('Miner Values')\n",
    "ax.legend()"
   ]
  },
  {
   "cell_type": "code",
   "execution_count": 325,
   "metadata": {
    "collapsed": false
   },
   "outputs": [
    {
     "data": {
      "text/plain": [
       "0.0"
      ]
     },
     "execution_count": 325,
     "metadata": {},
     "output_type": "execute_result"
    }
   ],
   "source": [
    "# compute 25th percentile\n",
    "np.percentile(gamma.pdf(x, alpha), 25)"
   ]
  },
  {
   "cell_type": "markdown",
   "metadata": {},
   "source": [
    "The gamma distribution appears to fit the empirical data better but we get zero for the 25th percentile"
   ]
  },
  {
   "cell_type": "markdown",
   "metadata": {},
   "source": [
    "# Compute the label, p, given mu\n",
    "- knowing mu, how do we obtain our hindsight recommendation?\n",
    "- using our definition of mu, we solve an equation to obtain p (price)\n",
    "- p = (mu x gweiPaid_b) / gasUsed_b\n",
    "- this will serve as our label and thus recommendation for how much to pay per unit gas for a transation to successfully commence \n",
    "- it tells us what price we need to set in order to force mv for that bid to be mu"
   ]
  },
  {
   "cell_type": "code",
   "execution_count": 336,
   "metadata": {
    "collapsed": false
   },
   "outputs": [
    {
     "data": {
      "text/plain": [
       "5.0170797135435324e-17"
      ]
     },
     "execution_count": 336,
     "metadata": {},
     "output_type": "execute_result"
    }
   ],
   "source": [
    "mu_normal"
   ]
  },
  {
   "cell_type": "code",
   "execution_count": 337,
   "metadata": {
    "collapsed": false
   },
   "outputs": [],
   "source": [
    "merged2['p_label'] = mu_normal * (merged2.gweiPaid_b / merged2.gasUsed_b)"
   ]
  },
  {
   "cell_type": "code",
   "execution_count": 338,
   "metadata": {
    "collapsed": false
   },
   "outputs": [
    {
     "data": {
      "text/plain": [
       "(-0.1, 1)"
      ]
     },
     "execution_count": 338,
     "metadata": {},
     "output_type": "execute_result"
    },
    {
     "data": {
      "image/png": "[encoded data removed]",
      "text/plain": [
       "<matplotlib.figure.Figure at 0x154d18dd0>"
      ]
     },
     "metadata": {},
     "output_type": "display_data"
    }
   ],
   "source": [
    "merged2['p_label'].hist(bins=3000)\n",
    "plt.xlim(-0.1,1)"
   ]
  },
  {
   "cell_type": "markdown",
   "metadata": {},
   "source": [
    "If mu is higher around 0.01 we get a normal distribution"
   ]
  },
  {
   "cell_type": "markdown",
   "metadata": {},
   "source": [
    "## Write training set and labels to a csv file for modeling"
   ]
  },
  {
   "cell_type": "code",
   "execution_count": 333,
   "metadata": {
    "collapsed": false
   },
   "outputs": [
    {
     "data": {
      "text/plain": [
       "Index([u'_id_t', u'accountNonce', u'amount', u'blockHash', u'block_id',\n",
       "       u'gasLimit_t', u'gasUsed_t', u'hash_t', u'newContract', u'parentHash_t',\n",
       "       u'price', u'recipient', u'sender', u'time_t', u'type', u'_id_b',\n",
       "       u'blockTime', u'coinbase', u'difficulty', u'extra', u'gasLimit_b',\n",
       "       u'gasUsed_b', u'hash_b', u'nonce', u'number', u'parentHash_b',\n",
       "       u'reward', u'root', u'size', u'time_b', u'totalFee', u'txHash',\n",
       "       u'tx_count', u'uncleHash', u'uncle_count', u'price_gwei',\n",
       "       u'amount_gwei', u'gasShare', u'gweiPaid', u'gweiPaid_b', u'gweiShare',\n",
       "       u'free_t', u'day', u'hour', u'dayofweek', u'txcnt_second',\n",
       "       u'avg_gasUsed_t_perblock', u'avg_price_perblock', u'avg_blocktime_6',\n",
       "       u'avg_gasUsed_b_6', u'avg_tx_count_6', u'avg_uncle_count_6',\n",
       "       u'avg_difficulty_6', u'avg_txcnt_second_6', u'avg_gasUsed_t_6',\n",
       "       u'avg_price_6', u'blockids_6', u'avg_blocktime_60', u'avg_gasUsed_b_60',\n",
       "       u'avg_tx_count_60', u'avg_uncle_count_60', u'avg_difficulty_60',\n",
       "       u'avg_txcnt_second_60', u'avg_gasUsed_t_60', u'avg_price_60',\n",
       "       u'blockids_60', u'mv', u'p_label'],\n",
       "      dtype='object')"
      ]
     },
     "execution_count": 333,
     "metadata": {},
     "output_type": "execute_result"
    }
   ],
   "source": [
    "merged2.columns"
   ]
  },
  {
   "cell_type": "code",
   "execution_count": 334,
   "metadata": {
    "collapsed": true
   },
   "outputs": [],
   "source": [
    "# select candidate features for modeling\n",
    "sel_cols = ['gasLimit_t',\n",
    "           'gasUsed_t',\n",
    "           'newContract',\n",
    "           'blockTime',\n",
    "           'difficulty',\n",
    "           'gasLimit_b',\n",
    "           'gasUsed_b',\n",
    "           'reward',\n",
    "           'size',\n",
    "           'totalFee',\n",
    "           'amount_gwei',\n",
    "           'gasShare',\n",
    "           'gweiPaid',\n",
    "           'gweiPaid_b',\n",
    "           'gweiShare',\n",
    "           'free_t',\n",
    "           'day',\n",
    "           'hour',\n",
    "           'dayofweek',\n",
    "           'txcnt_second',\n",
    "           'avg_blocktime_6',\n",
    "           'avg_gasUsed_b_6',\n",
    "           'avg_tx_count_6', \n",
    "           'avg_uncle_count_6',\n",
    "           'avg_difficulty_6',\n",
    "           'avg_txcnt_second_6',\n",
    "           'avg_gasUsed_t_6',\n",
    "           'avg_price_6', \n",
    "           'avg_blocktime_60',\n",
    "           'avg_gasUsed_b_60',\n",
    "           'avg_tx_count_60',\n",
    "           'avg_uncle_count_60',\n",
    "           'avg_difficulty_60',\n",
    "           'avg_txcnt_second_60',\n",
    "           'avg_gasUsed_t_60',\n",
    "           'avg_price_60',\n",
    "           'mv']"
   ]
  },
  {
   "cell_type": "code",
   "execution_count": 287,
   "metadata": {
    "collapsed": false
   },
   "outputs": [],
   "source": [
    "features = merged2[sel_cols]"
   ]
  },
  {
   "cell_type": "code",
   "execution_count": 288,
   "metadata": {
    "collapsed": false
   },
   "outputs": [],
   "source": [
    "features.to_csv('./../data/training.csv')"
   ]
  },
  {
   "cell_type": "code",
   "execution_count": 289,
   "metadata": {
    "collapsed": true
   },
   "outputs": [],
   "source": [
    "labels = merged2['p_label']"
   ]
  },
  {
   "cell_type": "code",
   "execution_count": 290,
   "metadata": {
    "collapsed": false
   },
   "outputs": [],
   "source": [
    "labels.to_csv('./../data/labels.csv')"
   ]
  },
  {
   "cell_type": "markdown",
   "metadata": {},
   "source": [
    "### Model for first group of 6"
   ]
  },
  {
   "cell_type": "code",
   "execution_count": 291,
   "metadata": {
    "collapsed": false
   },
   "outputs": [
    {
     "name": "stdout",
     "output_type": "stream",
     "text": [
      "Sample Mean: 1.535\n",
      "Sample Variance: 1.206\n",
      "Sample Standard Dev: 1.098\n"
     ]
    }
   ],
   "source": [
    "# compute mean, variance, standard deviation\n",
    "mu_hat = np.mean(samples)\n",
    "sigma_sq_hat = np.var(samples)\n",
    "sigma_hat = np.std(samples)\n",
    "print(\"Sample Mean: {0:1.3f}\".format(mu_hat))\n",
    "print(\"Sample Variance: {0:1.3f}\".format(sigma_sq_hat))\n",
    "print(\"Sample Standard Dev: {0:1.3f}\".format(sigma_hat))"
   ]
  },
  {
   "cell_type": "code",
   "execution_count": 292,
   "metadata": {
    "collapsed": false
   },
   "outputs": [
    {
     "data": {
      "text/plain": [
       "<matplotlib.legend.Legend at 0x154970f10>"
      ]
     },
     "execution_count": 292,
     "metadata": {},
     "output_type": "execute_result"
    },
    {
     "data": {
      "image/png": "[encoded data removed]",
      "text/plain": [
       "<matplotlib.figure.Figure at 0x154831950>"
      ]
     },
     "metadata": {},
     "output_type": "display_data"
    }
   ],
   "source": [
    "x = np.linspace(-5, 8, num=250)\n",
    "fig, ax = plt.subplots(1, 1, figsize=(8, 5))\n",
    "\n",
    "ax.hist(samples, normed=True, bins=25, histtype='stepfilled', label='Samples')\n",
    "ax.plot(x, norm.pdf(x, mu_hat,sigma_hat), 'r-', lw=3, label='PDF')\n",
    "ax.axvline(x=np.percentile(norm.pdf(x, mu_hat,sigma_hat), 25), linestyle='--', label='25th percentile')\n",
    "ax.set_xlim(-2,6)\n",
    "ax.set_xlabel('Miner Values')\n",
    "ax.legend()"
   ]
  },
  {
   "cell_type": "code",
   "execution_count": 293,
   "metadata": {
    "collapsed": false
   },
   "outputs": [
    {
     "data": {
      "text/plain": [
       "1.7948041111385629e-05"
      ]
     },
     "execution_count": 293,
     "metadata": {},
     "output_type": "execute_result"
    }
   ],
   "source": [
    "# compute 25th percentile\n",
    "np.percentile(norm.pdf(x, mu_hat,sigma_hat), 25)"
   ]
  },
  {
   "cell_type": "code",
   "execution_count": null,
   "metadata": {
    "collapsed": true
   },
   "outputs": [],
   "source": []
  }
 ],
 "metadata": {
  "kernelspec": {
   "display_name": "Python 2",
   "language": "python",
   "name": "python2"
  },
  "language_info": {
   "codemirror_mode": {
    "name": "ipython",
    "version": 2
   },
   "file_extension": ".py",
   "mimetype": "text/x-python",
   "name": "python",
   "nbconvert_exporter": "python",
   "pygments_lexer": "ipython2",
   "version": "2.7.13"
  }
 },
 "nbformat": 4,
 "nbformat_minor": 0
}
